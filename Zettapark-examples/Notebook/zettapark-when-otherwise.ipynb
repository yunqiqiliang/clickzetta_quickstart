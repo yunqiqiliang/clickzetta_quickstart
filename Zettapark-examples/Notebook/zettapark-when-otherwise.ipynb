{
 "cells": [
  {
   "cell_type": "code",
   "execution_count": 1,
   "id": "03157d66-dfef-4f69-9459-36199352f982",
   "metadata": {},
   "outputs": [],
   "source": [
    "from clickzetta.zettapark.session import Session"
   ]
  },
  {
   "cell_type": "code",
   "execution_count": 2,
   "id": "e1cbdb73-be2f-44b5-b42a-c4b6e7c2dd60",
   "metadata": {},
   "outputs": [],
   "source": [
    "import json\n",
    "# 从配置文件中读取参数\n",
    "with open('security/config-uat.json', 'r') as config_file:\n",
    "    config = json.load(config_file)\n",
    "\n",
    "# 创建会话\n",
    "session = Session.builder.configs(config).create()"
   ]
  },
  {
   "cell_type": "code",
   "execution_count": 4,
   "id": "c97074c0-fa3c-436a-b3d6-9d1e6d5e159f",
   "metadata": {},
   "outputs": [
    {
     "name": "stdout",
     "output_type": "stream",
     "text": [
      "root\n",
      " |-- `first_name`: StringType() (nullable = False)\n",
      " |-- `middle_name`: StringType() (nullable = False)\n",
      " |-- `last_name`: StringType() (nullable = False)\n",
      " |-- `dob`: StringType() (nullable = False)\n",
      " |-- `gender`: StringType() (nullable = False)\n",
      " |-- `salary`: IntegerType() (nullable = False)\n",
      "------------------------------------------------------------------\n",
      "|first_name  |middle_name  |last_name  |dob    |gender  |salary  |\n",
      "------------------------------------------------------------------\n",
      "|James       |             |Smith      |36636  |M       |60000   |\n",
      "|Michael     |Rose         |           |40288  |M       |70000   |\n",
      "|Robert      |             |Williams   |42114  |        |400000  |\n",
      "|Maria       |Anne         |Jones      |39192  |F       |500000  |\n",
      "|Jen         |Mary         |Brown      |       |F       |0       |\n",
      "------------------------------------------------------------------\n",
      "\n"
     ]
    }
   ],
   "source": [
    "data = [(\"James\",\"\",\"Smith\",\"36636\",\"M\",60000),\n",
    "        (\"Michael\",\"Rose\",\"\",\"40288\",\"M\",70000),\n",
    "        (\"Robert\",\"\",\"Williams\",\"42114\",\"\",400000),\n",
    "        (\"Maria\",\"Anne\",\"Jones\",\"39192\",\"F\",500000),\n",
    "        (\"Jen\",\"Mary\",\"Brown\",\"\",\"F\",0)]\n",
    "\n",
    "columns = [\"first_name\",\"middle_name\",\"last_name\",\"dob\",\"gender\",\"salary\"]\n",
    "df = session.createDataFrame(data = data, schema = columns)\n",
    "df.printSchema()\n",
    "df.show()"
   ]
  },
  {
   "cell_type": "code",
   "execution_count": 5,
   "id": "2aa3fda0-cfd9-4d7a-92d3-f7dc5349bda0",
   "metadata": {},
   "outputs": [
    {
     "name": "stdout",
     "output_type": "stream",
     "text": [
      "-------------------------------------------------------------------------------\n",
      "|first_name  |middle_name  |last_name  |dob    |gender  |salary  |new_gender  |\n",
      "-------------------------------------------------------------------------------\n",
      "|James       |             |Smith      |36636  |M       |60000   |Male        |\n",
      "|Michael     |Rose         |           |40288  |M       |70000   |Male        |\n",
      "|Robert      |             |Williams   |42114  |        |400000  |Unknown     |\n",
      "|Maria       |Anne         |Jones      |39192  |F       |500000  |Female      |\n",
      "|Jen         |Mary         |Brown      |       |F       |0       |Female      |\n",
      "-------------------------------------------------------------------------------\n",
      "\n",
      "-------------------------------------------------------------------------------\n",
      "|first_name  |middle_name  |last_name  |dob    |gender  |salary  |new_gender  |\n",
      "-------------------------------------------------------------------------------\n",
      "|James       |             |Smith      |36636  |M       |60000   |Male        |\n",
      "|Michael     |Rose         |           |40288  |M       |70000   |Male        |\n",
      "|Robert      |             |Williams   |42114  |        |400000  |Unknown     |\n",
      "|Maria       |Anne         |Jones      |39192  |F       |500000  |Female      |\n",
      "|Jen         |Mary         |Brown      |       |F       |0       |Female      |\n",
      "-------------------------------------------------------------------------------\n",
      "\n"
     ]
    }
   ],
   "source": [
    "# Using when otherwise\n",
    "from clickzetta.zettapark.functions import col, when\n",
    "df2 = df.withColumn(\"new_gender\", when(col(\"gender\") == \"M\",\"Male\")\n",
    "                                 .when(col(\"gender\") == \"F\",\"Female\")\n",
    "                                 .otherwise(\"Unknown\"))\n",
    "df2.show()\n",
    "\n",
    "df22=df.select(col(\"*\"), when(col(\"gender\") == \"M\",\"Male\")\n",
    "      .when(col(\"gender\") == \"F\",\"Female\")\n",
    "      .otherwise(\"Unknown\").alias(\"new_gender\")).show()\n",
    "\n"
   ]
  },
  {
   "cell_type": "code",
   "execution_count": 6,
   "id": "6d958953-881d-4864-80d3-863acd567039",
   "metadata": {},
   "outputs": [
    {
     "name": "stdout",
     "output_type": "stream",
     "text": [
      "-------------------------------------------------------------------------------\n",
      "|first_name  |middle_name  |last_name  |dob    |gender  |salary  |new_gender  |\n",
      "-------------------------------------------------------------------------------\n",
      "|James       |             |Smith      |36636  |M       |60000   |Male        |\n",
      "|Michael     |Rose         |           |40288  |M       |70000   |Male        |\n",
      "|Robert      |             |Williams   |42114  |        |400000  |Unknown     |\n",
      "|Maria       |Anne         |Jones      |39192  |F       |500000  |Female      |\n",
      "|Jen         |Mary         |Brown      |       |F       |0       |Female      |\n",
      "-------------------------------------------------------------------------------\n",
      "\n"
     ]
    }
   ],
   "source": [
    "# Using case when\n",
    "from clickzetta.zettapark.functions import expr\n",
    "df3 = df.withColumn(\"new_gender\", expr(\"case when gender = 'M' then 'Male' \" + \n",
    "                       \"when gender = 'F' then 'Female' \" +\n",
    "                       \"else 'Unknown' end\"))\n",
    "df3.show()\n",
    "\n"
   ]
  },
  {
   "cell_type": "code",
   "execution_count": 7,
   "id": "2e6fbb41-b840-40b6-9eb2-c1e6bff3b362",
   "metadata": {},
   "outputs": [
    {
     "name": "stdout",
     "output_type": "stream",
     "text": [
      "-------------------------------------------------------------------------------\n",
      "|first_name  |middle_name  |last_name  |dob    |gender  |salary  |new_gender  |\n",
      "-------------------------------------------------------------------------------\n",
      "|James       |             |Smith      |36636  |M       |60000   |Male        |\n",
      "|Michael     |Rose         |           |40288  |M       |70000   |Male        |\n",
      "|Robert      |             |Williams   |42114  |        |400000  |Unknown     |\n",
      "|Maria       |Anne         |Jones      |39192  |F       |500000  |Female      |\n",
      "|Jen         |Mary         |Brown      |       |F       |0       |Female      |\n",
      "-------------------------------------------------------------------------------\n",
      "\n",
      "root\n",
      " |-- `id`: IntegerType() (nullable = False)\n",
      " |-- `code`: StringType() (nullable = False)\n",
      " |-- `amt`: StringType() (nullable = False)\n",
      " |-- `new_column`: StringType() (nullable = False)\n",
      "--------------------------------\n",
      "|id  |code  |amt  |new_column  |\n",
      "--------------------------------\n",
      "|66  |a     |4    |A           |\n",
      "|67  |a     |0    |A           |\n",
      "|70  |b     |4    |B           |\n",
      "|71  |d     |4    |A           |\n",
      "--------------------------------\n",
      "\n"
     ]
    }
   ],
   "source": [
    "#Using case when\n",
    "df4 = df.select(col(\"*\"), expr(\"case when gender = 'M' then 'Male' \" +\n",
    "                       \"when gender = 'F' then 'Female' \" +\n",
    "                       \"else 'Unknown' end\").alias(\"new_gender\"))\n",
    "df4.show()\n",
    "\n",
    "data2 = [(66, \"a\", \"4\"), (67, \"a\", \"0\"), (70, \"b\", \"4\"), (71, \"d\", \"4\")]\n",
    "# 创建 DataFrame \n",
    "df5 = session.createDataFrame(data=data2, schema=[\"id\", \"code\", \"amt\"]) \n",
    "# 添加新列 new_column \n",
    "df5 = df5.withColumn( \"new_column\", when((col(\"code\") == \"a\") | (col(\"code\") == \"d\"), \"A\") .when((col(\"code\") == \"b\") & (col(\"amt\") == \"4\"), \"B\") .otherwise(\"A1\") ) \n",
    "# 显示结果 \n",
    "df5.printSchema() \n",
    "df5.show()"
   ]
  },
  {
   "cell_type": "code",
   "execution_count": 8,
   "id": "0e679341-6a8d-4784-9d54-e6e041216fb7",
   "metadata": {},
   "outputs": [],
   "source": [
    "session.close()"
   ]
  },
  {
   "cell_type": "code",
   "execution_count": null,
   "id": "9e58dead-f432-46bf-9b33-db1a3a8f1351",
   "metadata": {},
   "outputs": [],
   "source": []
  }
 ],
 "metadata": {
  "kernelspec": {
   "display_name": "Python 3 (ipykernel)",
   "language": "python",
   "name": "python3"
  },
  "language_info": {
   "codemirror_mode": {
    "name": "ipython",
    "version": 3
   },
   "file_extension": ".py",
   "mimetype": "text/x-python",
   "name": "python",
   "nbconvert_exporter": "python",
   "pygments_lexer": "ipython3",
   "version": "3.11.9"
  }
 },
 "nbformat": 4,
 "nbformat_minor": 5
}
