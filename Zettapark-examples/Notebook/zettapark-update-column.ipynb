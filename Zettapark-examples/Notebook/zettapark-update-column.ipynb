{
 "cells": [
  {
   "cell_type": "code",
   "execution_count": 1,
   "id": "03157d66-dfef-4f69-9459-36199352f982",
   "metadata": {},
   "outputs": [],
   "source": [
    "from clickzetta.zettapark.session import Session"
   ]
  },
  {
   "cell_type": "code",
   "execution_count": 2,
   "id": "e1cbdb73-be2f-44b5-b42a-c4b6e7c2dd60",
   "metadata": {},
   "outputs": [],
   "source": [
    "import json\n",
    "# 从配置文件中读取参数\n",
    "with open('security/config-uat.json', 'r') as config_file:\n",
    "    config = json.load(config_file)\n",
    "\n",
    "# 创建会话\n",
    "session = Session.builder.configs(config).create()"
   ]
  },
  {
   "cell_type": "code",
   "execution_count": 4,
   "id": "c97074c0-fa3c-436a-b3d6-9d1e6d5e159f",
   "metadata": {},
   "outputs": [
    {
     "name": "stdout",
     "output_type": "stream",
     "text": [
      "------------------------------------------\n",
      "|firstname  |lastname  |gender  |salary  |\n",
      "------------------------------------------\n",
      "|James      |Smith     |M       |3000    |\n",
      "|Anna       |Rose      |F       |4100    |\n",
      "|Robert     |Williams  |NA      |6200    |\n",
      "|NULL       |Rob       |F       |6200    |\n",
      "------------------------------------------\n",
      "\n"
     ]
    }
   ],
   "source": [
    "data = [('James','Smith','M',3000),('Anna','Rose','F',4100),\n",
    "  ('Robert','Williams','NA',6200),(None,'Rob','F',6200)\n",
    "  \n",
    "]\n",
    "\n",
    "columns = [\"firstname\",\"lastname\",\"gender\",\"salary\"]\n",
    "df = session.createDataFrame(data=data, schema = columns)\n",
    "df.show()"
   ]
  },
  {
   "cell_type": "code",
   "execution_count": 5,
   "id": "2aa3fda0-cfd9-4d7a-92d3-f7dc5349bda0",
   "metadata": {},
   "outputs": [
    {
     "name": "stdout",
     "output_type": "stream",
     "text": [
      "------------------------------------------\n",
      "|firstname  |lastname  |gender  |salary  |\n",
      "------------------------------------------\n",
      "|James      |Smith     |M       |9000    |\n",
      "|Anna       |Rose      |F       |12300   |\n",
      "|Robert     |Williams  |NA      |18600   |\n",
      "|NULL       |Rob       |F       |18600   |\n",
      "------------------------------------------\n",
      "\n"
     ]
    }
   ],
   "source": [
    "df2=df.withColumn(\"salary\", df.salary*3)\n",
    "df2.show()"
   ]
  },
  {
   "cell_type": "code",
   "execution_count": 6,
   "id": "6d958953-881d-4864-80d3-863acd567039",
   "metadata": {},
   "outputs": [
    {
     "name": "stdout",
     "output_type": "stream",
     "text": [
      "------------------------------------------\n",
      "|firstname  |lastname  |salary  |gender  |\n",
      "------------------------------------------\n",
      "|James      |Smith     |3000    |Male    |\n",
      "|Anna       |Rose      |4100    |Female  |\n",
      "|Robert     |Williams  |6200    |NA      |\n",
      "|NULL       |Rob       |6200    |Female  |\n",
      "------------------------------------------\n",
      "\n",
      "root\n",
      " |-- `firstname`: StringType() (nullable = True)\n",
      " |-- `lastname`: StringType() (nullable = False)\n",
      " |-- `gender`: StringType() (nullable = False)\n",
      " |-- `salary`: StringType() (nullable = False)\n",
      "-------------------------------\n",
      "|firstname  |gender  |salary  |\n",
      "-------------------------------\n",
      "|James      |M       |9000    |\n",
      "|Anna       |F       |12300   |\n",
      "|Robert     |NA      |18600   |\n",
      "|NULL       |F       |18600   |\n",
      "-------------------------------\n",
      "\n"
     ]
    }
   ],
   "source": [
    "from clickzetta.zettapark.functions import when\n",
    "df3 = df.withColumn(\"gender\", when(df.gender == \"M\",\"Male\") \\\n",
    "      .when(df.gender == \"F\",\"Female\") \\\n",
    "      .otherwise(df.gender))\n",
    "df3.show()\n",
    "\n",
    "df4=df.withColumn(\"salary\",df.salary.cast(\"String\"))\n",
    "df4.printSchema()\n",
    "\n",
    "df.createOrReplaceTempView(\"PER\")\n",
    "df5=session.sql(\"select firstname,gender,salary*3 as salary from PER\")\n",
    "df5.show()"
   ]
  },
  {
   "cell_type": "code",
   "execution_count": 7,
   "id": "0e679341-6a8d-4784-9d54-e6e041216fb7",
   "metadata": {},
   "outputs": [],
   "source": [
    "session.close()"
   ]
  },
  {
   "cell_type": "code",
   "execution_count": null,
   "id": "9e58dead-f432-46bf-9b33-db1a3a8f1351",
   "metadata": {},
   "outputs": [],
   "source": []
  }
 ],
 "metadata": {
  "kernelspec": {
   "display_name": "Python 3 (ipykernel)",
   "language": "python",
   "name": "python3"
  },
  "language_info": {
   "codemirror_mode": {
    "name": "ipython",
    "version": 3
   },
   "file_extension": ".py",
   "mimetype": "text/x-python",
   "name": "python",
   "nbconvert_exporter": "python",
   "pygments_lexer": "ipython3",
   "version": "3.11.9"
  }
 },
 "nbformat": 4,
 "nbformat_minor": 5
}
