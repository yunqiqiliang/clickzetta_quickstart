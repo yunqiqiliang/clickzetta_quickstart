{
 "cells": [
  {
   "cell_type": "code",
   "execution_count": 1,
   "id": "03157d66-dfef-4f69-9459-36199352f982",
   "metadata": {},
   "outputs": [],
   "source": [
    "from clickzetta.zettapark.session import Session,Row\n",
    "from clickzetta.zettapark.functions import *"
   ]
  },
  {
   "cell_type": "code",
   "execution_count": 2,
   "id": "e1cbdb73-be2f-44b5-b42a-c4b6e7c2dd60",
   "metadata": {},
   "outputs": [],
   "source": [
    "import json\n",
    "# 从配置文件中读取参数\n",
    "with open('security/config-uat.json', 'r') as config_file:\n",
    "    config = json.load(config_file)\n",
    "\n",
    "# 创建会话\n",
    "session = Session.builder.configs(config).create()"
   ]
  },
  {
   "cell_type": "code",
   "execution_count": 3,
   "id": "6109b7e3-a43f-403a-9086-9e3d509e2aa9",
   "metadata": {},
   "outputs": [],
   "source": [
    "data = [(\"1\",\"2019-07-01\"),(\"2\",\"2019-06-24\"),(\"3\",\"2019-08-24\")]"
   ]
  },
  {
   "cell_type": "code",
   "execution_count": 4,
   "id": "1e2a52aa-d4d1-408b-b3c7-d93d64584bdd",
   "metadata": {},
   "outputs": [
    {
     "name": "stdout",
     "output_type": "stream",
     "text": [
      "-------------------\n",
      "|id  |date        |\n",
      "-------------------\n",
      "|1   |2019-07-01  |\n",
      "|2   |2019-06-24  |\n",
      "|3   |2019-08-24  |\n",
      "-------------------\n",
      "\n"
     ]
    }
   ],
   "source": [
    "df = session.createDataFrame(data=data,schema=[\"id\",\"date\"])\n",
    "df.show()"
   ]
  },
  {
   "cell_type": "code",
   "execution_count": 5,
   "id": "359582d3-f78d-449d-a3fa-8af99a9f744a",
   "metadata": {},
   "outputs": [
    {
     "name": "stdout",
     "output_type": "stream",
     "text": [
      "----------------------------------------\n",
      "|date        |current_date  |datediff  |\n",
      "----------------------------------------\n",
      "|2019-07-01  |2024-12-26    |2005      |\n",
      "|2019-06-24  |2024-12-26    |2012      |\n",
      "|2019-08-24  |2024-12-26    |1951      |\n",
      "----------------------------------------\n",
      "\n"
     ]
    }
   ],
   "source": [
    "from clickzetta.zettapark import functions as F\n",
    "df.select(\n",
    "    F.col(\"date\"),\n",
    "    F.current_date().alias(\"current_date\"),\n",
    "    F.datediff(\"day\", F.col(\"date\"), F.current_date()).alias(\"datediff\")\n",
    ").show()"
   ]
  },
  {
   "cell_type": "code",
   "execution_count": 6,
   "id": "b48ec7e4-f855-492c-8b02-4f68c6923680",
   "metadata": {},
   "outputs": [
    {
     "name": "stdout",
     "output_type": "stream",
     "text": [
      "------------------------------------------------------------------------------------------------------\n",
      "|id  |date        |datesdiff  |monthsdiff  |monthsdiff_round  |yearsdiff           |yearsdiff_round  |\n",
      "------------------------------------------------------------------------------------------------------\n",
      "|1   |2019-07-01  |-2005      |-65         |-65               |-5.416666666666667  |-5.42            |\n",
      "|2   |2019-06-24  |-2012      |-66         |-66               |-5.5                |-5.5             |\n",
      "|3   |2019-08-24  |-1951      |-64         |-64               |-5.333333333333333  |-5.33            |\n",
      "------------------------------------------------------------------------------------------------------\n",
      "\n"
     ]
    }
   ],
   "source": [
    "df.withColumn(\"datesDiff\", F.datediff(\"day\", F.current_date(), F.col(\"date\"))) \\\n",
    "  .withColumn(\"monthsDiff\", F.months_between(F.current_date(), F.col(\"date\"))) \\\n",
    "  .withColumn(\"monthsDiff_round\", F.round(F.months_between(F.current_date(), F.col(\"date\")), 2)) \\\n",
    "  .withColumn(\"yearsDiff\", F.months_between(F.current_date(), F.col(\"date\")) / F.lit(12)) \\\n",
    "  .withColumn(\"yearsDiff_round\", F.round(F.months_between(F.current_date(), F.col(\"date\")) / F.lit(12), 2)) \\\n",
    "  .show()"
   ]
  },
  {
   "cell_type": "code",
   "execution_count": 7,
   "id": "139041dc-6320-4dd2-9e6a-27c40e292e90",
   "metadata": {},
   "outputs": [
    {
     "name": "stdout",
     "output_type": "stream",
     "text": [
      "--------------\n",
      "|years_diff  |\n",
      "--------------\n",
      "|5.49        |\n",
      "--------------\n",
      "\n"
     ]
    }
   ],
   "source": [
    "data2 = [(\"1\",\"07-01-2019\"),(\"2\",\"06-24-2019\"),(\"3\",\"08-24-2019\")]  \n",
    "df2=session.createDataFrame(data=data2,schema=[\"id\",\"date\"])\n",
    "df2.select(\n",
    "    to_date(col(\"date\"),\"MM-dd-yyyy\").alias(\"date\"),\n",
    "    current_date().alias(\"endDate\")\n",
    "    )\n",
    "\n",
    "#SQL\n",
    "\n",
    "session.sql(\"\"\"\n",
    "SELECT \n",
    "    ROUND(DATEDIFF(CURRENT_DATE(), '2019-07-01') / 365, 2) AS years_diff\n",
    "\"\"\").show()\n"
   ]
  },
  {
   "cell_type": "code",
   "execution_count": 8,
   "id": "0e679341-6a8d-4784-9d54-e6e041216fb7",
   "metadata": {},
   "outputs": [],
   "source": [
    "session.close()"
   ]
  },
  {
   "cell_type": "code",
   "execution_count": null,
   "id": "9e58dead-f432-46bf-9b33-db1a3a8f1351",
   "metadata": {},
   "outputs": [],
   "source": []
  }
 ],
 "metadata": {
  "kernelspec": {
   "display_name": "Python 3 (ipykernel)",
   "language": "python",
   "name": "python3"
  },
  "language_info": {
   "codemirror_mode": {
    "name": "ipython",
    "version": 3
   },
   "file_extension": ".py",
   "mimetype": "text/x-python",
   "name": "python",
   "nbconvert_exporter": "python",
   "pygments_lexer": "ipython3",
   "version": "3.11.9"
  }
 },
 "nbformat": 4,
 "nbformat_minor": 5
}
