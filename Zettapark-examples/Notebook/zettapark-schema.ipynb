{
 "cells": [
  {
   "cell_type": "code",
   "execution_count": 1,
   "id": "03157d66-dfef-4f69-9459-36199352f982",
   "metadata": {},
   "outputs": [],
   "source": [
    "from clickzetta.zettapark.session import Session\n",
    "from clickzetta.zettapark.functions import col, to_timestamp\n",
    "from clickzetta.zettapark.types import StructType, StructField, StringType, IntegerType,DateType"
   ]
  },
  {
   "cell_type": "code",
   "execution_count": 2,
   "id": "e1cbdb73-be2f-44b5-b42a-c4b6e7c2dd60",
   "metadata": {},
   "outputs": [],
   "source": [
    "import json\n",
    "# 从配置文件中读取参数\n",
    "with open('security/config-uat.json', 'r') as config_file:\n",
    "    config = json.load(config_file)\n",
    "\n",
    "# 创建会话\n",
    "session = Session.builder.configs(config).create()"
   ]
  },
  {
   "cell_type": "code",
   "execution_count": 4,
   "id": "c97074c0-fa3c-436a-b3d6-9d1e6d5e159f",
   "metadata": {},
   "outputs": [
    {
     "name": "stdout",
     "output_type": "stream",
     "text": [
      "---------------------------------------------\n",
      "|city             |dates       |population  |\n",
      "---------------------------------------------\n",
      "|Caracas          |1991-02-25  |37800000    |\n",
      "|Ccs              |1998-05-10  |19795791    |\n",
      "|   São Paulo     |1993/03/15  |12341418    |\n",
      "|~Madrid          |1992/07/17  |6489162     |\n",
      "---------------------------------------------\n",
      "\n"
     ]
    }
   ],
   "source": [
    "schema = StructType([\n",
    "            StructField(\"city\", StringType(), True),\n",
    "            StructField(\"dates\", StringType(), True),\n",
    "            StructField(\"population\", IntegerType(), True)])\n",
    "\n",
    "dates = [\"1991-02-25\",\"1998-05-10\", \"1993/03/15\", \"1992/07/17\"]\n",
    "cities = ['Caracas', 'Ccs', '   São Paulo   ', '~Madrid']\n",
    "population = [37800000, 19795791, 12341418, 6489162]\n",
    "\n",
    "        # Dataframe:\n",
    "df = session.createDataFrame(list(zip(cities, dates, population)), schema=schema)\n",
    "\n",
    "df.show()"
   ]
  },
  {
   "cell_type": "code",
   "execution_count": 5,
   "id": "0e679341-6a8d-4784-9d54-e6e041216fb7",
   "metadata": {},
   "outputs": [],
   "source": [
    "session.close()"
   ]
  },
  {
   "cell_type": "code",
   "execution_count": null,
   "id": "9e58dead-f432-46bf-9b33-db1a3a8f1351",
   "metadata": {},
   "outputs": [],
   "source": []
  }
 ],
 "metadata": {
  "kernelspec": {
   "display_name": "Python 3 (ipykernel)",
   "language": "python",
   "name": "python3"
  },
  "language_info": {
   "codemirror_mode": {
    "name": "ipython",
    "version": 3
   },
   "file_extension": ".py",
   "mimetype": "text/x-python",
   "name": "python",
   "nbconvert_exporter": "python",
   "pygments_lexer": "ipython3",
   "version": "3.11.9"
  }
 },
 "nbformat": 4,
 "nbformat_minor": 5
}
