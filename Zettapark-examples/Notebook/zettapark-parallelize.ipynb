{
 "cells": [
  {
   "cell_type": "code",
   "execution_count": 1,
   "id": "03157d66-dfef-4f69-9459-36199352f982",
   "metadata": {},
   "outputs": [],
   "source": [
    "from clickzetta.zettapark.session import Session\n",
    "from clickzetta.zettapark.functions import col, asc,desc"
   ]
  },
  {
   "cell_type": "code",
   "execution_count": 2,
   "id": "e1cbdb73-be2f-44b5-b42a-c4b6e7c2dd60",
   "metadata": {},
   "outputs": [],
   "source": [
    "import json\n",
    "# 从配置文件中读取参数\n",
    "with open('security/config-uat.json', 'r') as config_file:\n",
    "    config = json.load(config_file)\n",
    "\n",
    "# 创建会话\n",
    "session = Session.builder.configs(config).create()"
   ]
  },
  {
   "cell_type": "code",
   "execution_count": 4,
   "id": "1e2a52aa-d4d1-408b-b3c7-d93d64584bdd",
   "metadata": {},
   "outputs": [],
   "source": [
    "# rdd=session.sparkContext.parallelize([1,2,3,4,5])\n",
    "\n",
    "# rddCollect = rdd.collect()\n",
    "# print(\"Number of Partitions: \"+str(rdd.getNumPartitions()))\n",
    "# print(\"Action: First element: \"+str(rdd.first()))\n",
    "# print(rddCollect)\n",
    "\n",
    "# emptyRDD = session.sparkContext.emptyRDD()\n",
    "# emptyRDD2 = rdd=spark.sparkContext.parallelize([])\n",
    "\n",
    "# print(\"\"+str(emptyRDD2.isEmpty()))"
   ]
  },
  {
   "cell_type": "code",
   "execution_count": 5,
   "id": "36e041d4-d805-40e6-9d23-54a31a5e3e1c",
   "metadata": {},
   "outputs": [],
   "source": [
    "# 把以上RDD代码改成Dataframe的"
   ]
  },
  {
   "cell_type": "code",
   "execution_count": 6,
   "id": "4a4db5bb-66d0-4dca-b516-f372c04c1367",
   "metadata": {},
   "outputs": [
    {
     "name": "stdout",
     "output_type": "stream",
     "text": [
      "Number of Partitions: 1\n",
      "Action: First element: 1\n",
      "[1, 2, 3, 4, 5]\n",
      "Empty DataFrame 2 is empty: True\n"
     ]
    }
   ],
   "source": [
    "import pandas as pd\n",
    "\n",
    "# 创建 DataFrame\n",
    "data = [1, 2, 3, 4, 5]\n",
    "df = pd.DataFrame(data, columns=[\"value\"])\n",
    "\n",
    "# 收集数据\n",
    "df_collect = df[\"value\"].tolist()\n",
    "print(\"Number of Partitions: 1\")  # Pandas DataFrame 没有分区概念，因此默认为 1\n",
    "print(\"Action: First element: \" + str(df[\"value\"].iloc[0]))\n",
    "print(df_collect)\n",
    "\n",
    "# 创建空的 DataFrame\n",
    "empty_df = pd.DataFrame(columns=[\"value\"])\n",
    "empty_df2 = pd.DataFrame([])\n",
    "\n",
    "print(\"Empty DataFrame 2 is empty: \" + str(empty_df2.empty))\n"
   ]
  },
  {
   "cell_type": "code",
   "execution_count": 7,
   "id": "0e679341-6a8d-4784-9d54-e6e041216fb7",
   "metadata": {},
   "outputs": [],
   "source": [
    "session.close()"
   ]
  },
  {
   "cell_type": "code",
   "execution_count": null,
   "id": "9e58dead-f432-46bf-9b33-db1a3a8f1351",
   "metadata": {},
   "outputs": [],
   "source": []
  }
 ],
 "metadata": {
  "kernelspec": {
   "display_name": "Python 3 (ipykernel)",
   "language": "python",
   "name": "python3"
  },
  "language_info": {
   "codemirror_mode": {
    "name": "ipython",
    "version": 3
   },
   "file_extension": ".py",
   "mimetype": "text/x-python",
   "name": "python",
   "nbconvert_exporter": "python",
   "pygments_lexer": "ipython3",
   "version": "3.11.9"
  }
 },
 "nbformat": 4,
 "nbformat_minor": 5
}
