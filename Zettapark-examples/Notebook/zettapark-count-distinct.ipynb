{
 "cells": [
  {
   "cell_type": "code",
   "execution_count": 1,
   "id": "e1cbdb73-be2f-44b5-b42a-c4b6e7c2dd60",
   "metadata": {},
   "outputs": [],
   "source": [
    "import json\n",
    "from clickzetta.zettapark.session import Session\n",
    "# 从配置文件中读取参数\n",
    "with open('security/config-uat.json', 'r') as config_file:\n",
    "    config = json.load(config_file)\n",
    "\n",
    "# 创建会话\n",
    "session = Session.builder.configs(config).create()"
   ]
  },
  {
   "cell_type": "code",
   "execution_count": 2,
   "id": "6109b7e3-a43f-403a-9086-9e3d509e2aa9",
   "metadata": {},
   "outputs": [],
   "source": [
    "data = [(\"James\", \"Sales\", 3000),\n",
    "    (\"Michael\", \"Sales\", 4600),\n",
    "    (\"Robert\", \"Sales\", 4100),\n",
    "    (\"Maria\", \"Finance\", 3000),\n",
    "    (\"James\", \"Sales\", 3000),\n",
    "    (\"Scott\", \"Finance\", 3300),\n",
    "    (\"Jen\", \"Finance\", 3900),\n",
    "    (\"Jeff\", \"Marketing\", 3000),\n",
    "    (\"Kumar\", \"Marketing\", 2000),\n",
    "    (\"Saif\", \"Sales\", 4100)\n",
    "  ]\n",
    "columns = [\"Name\",\"Dept\",\"Salary\"]"
   ]
  },
  {
   "cell_type": "code",
   "execution_count": 3,
   "id": "1e2a52aa-d4d1-408b-b3c7-d93d64584bdd",
   "metadata": {},
   "outputs": [
    {
     "name": "stdout",
     "output_type": "stream",
     "text": [
      "--------------------------------\n",
      "|name     |dept       |salary  |\n",
      "--------------------------------\n",
      "|Michael  |Sales      |4600    |\n",
      "|Robert   |Sales      |4100    |\n",
      "|Maria    |Finance    |3000    |\n",
      "|James    |Sales      |3000    |\n",
      "|Scott    |Finance    |3300    |\n",
      "|Jen      |Finance    |3900    |\n",
      "|Jeff     |Marketing  |3000    |\n",
      "|Kumar    |Marketing  |2000    |\n",
      "|Saif     |Sales      |4100    |\n",
      "--------------------------------\n",
      "\n",
      "Distinct Count: 9\n"
     ]
    }
   ],
   "source": [
    "df = session.createDataFrame(data=data,schema=columns)\n",
    "df.distinct().show()\n",
    "print(\"Distinct Count: \" + str(df.distinct().count()))"
   ]
  },
  {
   "cell_type": "code",
   "execution_count": 4,
   "id": "f5f70210-6b60-4dc5-b48a-5d3c22c2ebb0",
   "metadata": {},
   "outputs": [
    {
     "name": "stdout",
     "output_type": "stream",
     "text": [
      "----------------------------------\n",
      "|`count`(distinct dept, salary)  |\n",
      "----------------------------------\n",
      "|8                               |\n",
      "----------------------------------\n",
      "\n",
      "Distinct Count of Department &amp; Salary: 8\n",
      "--------------\n",
      "|`count`(*)  |\n",
      "--------------\n",
      "|10          |\n",
      "--------------\n",
      "\n"
     ]
    }
   ],
   "source": [
    "# Using countDistrinct()\n",
    "from clickzetta.zettapark.functions import countDistinct\n",
    "df2=df.select(countDistinct(\"Dept\",\"Salary\"))\n",
    "df2.show()\n",
    "\n",
    "print(\"Distinct Count of Department &amp; Salary: \"+ str(df2.collect()[0][0]))\n",
    "\n",
    "df.createOrReplaceTempView(\"PERSON\")\n",
    "session.sql(\"select distinct(count(*)) from PERSON\").show()"
   ]
  },
  {
   "cell_type": "code",
   "execution_count": 5,
   "id": "0e679341-6a8d-4784-9d54-e6e041216fb7",
   "metadata": {},
   "outputs": [],
   "source": [
    "session.close()"
   ]
  },
  {
   "cell_type": "code",
   "execution_count": null,
   "id": "9e58dead-f432-46bf-9b33-db1a3a8f1351",
   "metadata": {},
   "outputs": [],
   "source": []
  }
 ],
 "metadata": {
  "kernelspec": {
   "display_name": "Python 3 (ipykernel)",
   "language": "python",
   "name": "python3"
  },
  "language_info": {
   "codemirror_mode": {
    "name": "ipython",
    "version": 3
   },
   "file_extension": ".py",
   "mimetype": "text/x-python",
   "name": "python",
   "nbconvert_exporter": "python",
   "pygments_lexer": "ipython3",
   "version": "3.11.9"
  }
 },
 "nbformat": 4,
 "nbformat_minor": 5
}
