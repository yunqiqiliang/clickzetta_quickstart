{
 "cells": [
  {
   "cell_type": "code",
   "execution_count": 1,
   "id": "e1cbdb73-be2f-44b5-b42a-c4b6e7c2dd60",
   "metadata": {},
   "outputs": [],
   "source": [
    "import json\n",
    "from clickzetta.zettapark.session import Session\n",
    "# 从配置文件中读取参数\n",
    "with open('security/config-uat.json', 'r') as config_file:\n",
    "    config = json.load(config_file)\n",
    "\n",
    "# 创建会话\n",
    "session = Session.builder.configs(config).create()"
   ]
  },
  {
   "cell_type": "code",
   "execution_count": 2,
   "id": "6109b7e3-a43f-403a-9086-9e3d509e2aa9",
   "metadata": {},
   "outputs": [],
   "source": [
    "from clickzetta.zettapark.types import StructType,StructField, StringType, IntegerType\n",
    "data = [ (\"36636\",\"Finance\",3000,\"USA\"), \n",
    "    (\"40288\",\"Finance\",5000,\"IND\"), \n",
    "    (\"42114\",\"Sales\",3900,\"USA\"), \n",
    "    (\"39192\",\"Marketing\",2500,\"CAN\"), \n",
    "    (\"34534\",\"Sales\",6500,\"USA\") ]\n",
    "schema = StructType([\n",
    "     StructField('id', StringType(), True),\n",
    "     StructField('dept', StringType(), True),\n",
    "     StructField('salary', IntegerType(), True),\n",
    "     StructField('location', StringType(), True)\n",
    "     ])"
   ]
  },
  {
   "cell_type": "code",
   "execution_count": 3,
   "id": "1e2a52aa-d4d1-408b-b3c7-d93d64584bdd",
   "metadata": {},
   "outputs": [
    {
     "name": "stdout",
     "output_type": "stream",
     "text": [
      "root\n",
      " |-- `id`: StringType() (nullable = True)\n",
      " |-- `dept`: StringType() (nullable = True)\n",
      " |-- `salary`: IntegerType() (nullable = True)\n",
      " |-- `location`: StringType() (nullable = True)\n",
      "-----------------------------------------\n",
      "|id     |dept       |salary  |location  |\n",
      "-----------------------------------------\n",
      "|36636  |Finance    |3000    |USA       |\n",
      "|40288  |Finance    |5000    |IND       |\n",
      "|42114  |Sales      |3900    |USA       |\n",
      "|39192  |Marketing  |2500    |CAN       |\n",
      "|34534  |Sales      |6500    |USA       |\n",
      "-----------------------------------------\n",
      "\n",
      "root\n",
      " |-- `id`: StringType() (nullable = True)\n",
      " |-- `dept`: StringType() (nullable = True)\n",
      " |-- `propertiesmap`: MapType(StringType(), LongType()) (nullable = True)\n",
      "--------------------------------------------------------------\n",
      "|id     |dept       |propertiesmap                           |\n",
      "--------------------------------------------------------------\n",
      "|36636  |Finance    |[('salary', 3000), ('location', None)]  |\n",
      "|40288  |Finance    |[('salary', 5000), ('location', None)]  |\n",
      "|42114  |Sales      |[('salary', 3900), ('location', None)]  |\n",
      "|39192  |Marketing  |[('salary', 2500), ('location', None)]  |\n",
      "|34534  |Sales      |[('salary', 6500), ('location', None)]  |\n",
      "--------------------------------------------------------------\n",
      "\n"
     ]
    }
   ],
   "source": [
    "df = session.createDataFrame(data=data,schema=schema)\n",
    "df.printSchema()\n",
    "# df.show(truncate=False)\n",
    "df.show()\n",
    "#Convert scolumns to Map\n",
    "from clickzetta.zettapark.functions import col,lit,create_map\n",
    "df = df.withColumn(\"propertiesMap\",create_map(\n",
    "        lit(\"salary\"),col(\"salary\"),\n",
    "        lit(\"location\"),col(\"location\")\n",
    "        )).drop(\"salary\",\"location\")\n",
    "df.printSchema()\n",
    "# df.show(truncate=False)\n",
    "df.show()"
   ]
  },
  {
   "cell_type": "code",
   "execution_count": 4,
   "id": "0e679341-6a8d-4784-9d54-e6e041216fb7",
   "metadata": {},
   "outputs": [],
   "source": [
    "session.close()"
   ]
  },
  {
   "cell_type": "code",
   "execution_count": null,
   "id": "9e58dead-f432-46bf-9b33-db1a3a8f1351",
   "metadata": {},
   "outputs": [],
   "source": []
  }
 ],
 "metadata": {
  "kernelspec": {
   "display_name": "Python 3 (ipykernel)",
   "language": "python",
   "name": "python3"
  },
  "language_info": {
   "codemirror_mode": {
    "name": "ipython",
    "version": 3
   },
   "file_extension": ".py",
   "mimetype": "text/x-python",
   "name": "python",
   "nbconvert_exporter": "python",
   "pygments_lexer": "ipython3",
   "version": "3.11.9"
  }
 },
 "nbformat": 4,
 "nbformat_minor": 5
}
