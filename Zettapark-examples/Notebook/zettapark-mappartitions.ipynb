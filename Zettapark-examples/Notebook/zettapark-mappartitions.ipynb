{
 "cells": [
  {
   "cell_type": "code",
   "execution_count": 1,
   "id": "03157d66-dfef-4f69-9459-36199352f982",
   "metadata": {},
   "outputs": [],
   "source": [
    "from clickzetta.zettapark.session import Session"
   ]
  },
  {
   "cell_type": "code",
   "execution_count": 2,
   "id": "e1cbdb73-be2f-44b5-b42a-c4b6e7c2dd60",
   "metadata": {},
   "outputs": [],
   "source": [
    "import json\n",
    "# 从配置文件中读取参数\n",
    "with open('security/config-uat.json', 'r') as config_file:\n",
    "    config = json.load(config_file)\n",
    "\n",
    "# 创建会话\n",
    "session = Session.builder.configs(config).create()"
   ]
  },
  {
   "cell_type": "code",
   "execution_count": 4,
   "id": "1e2a52aa-d4d1-408b-b3c7-d93d64584bdd",
   "metadata": {},
   "outputs": [
    {
     "name": "stdout",
     "output_type": "stream",
     "text": [
      "------------------------------------------\n",
      "|firstname  |lastname  |gender  |salary  |\n",
      "------------------------------------------\n",
      "|James      |Smith     |M       |3000    |\n",
      "|Anna       |Rose      |F       |4100    |\n",
      "|Robert     |Williams  |M       |6200    |\n",
      "------------------------------------------\n",
      "\n"
     ]
    }
   ],
   "source": [
    "data = [('James','Smith','M',3000),\n",
    "  ('Anna','Rose','F',4100),\n",
    "  ('Robert','Williams','M',6200), \n",
    "]\n",
    "\n",
    "columns = [\"firstname\",\"lastname\",\"gender\",\"salary\"]\n",
    "df = session.createDataFrame(data=data, schema = columns)\n",
    "df.show()\n"
   ]
  },
  {
   "cell_type": "code",
   "execution_count": 5,
   "id": "f5f70210-6b60-4dc5-b48a-5d3c22c2ebb0",
   "metadata": {},
   "outputs": [],
   "source": [
    "# #Example 1 mapPartitions()\n",
    "# def reformat(partitionData):\n",
    "#     for row in partitionData:\n",
    "#         yield [row.firstname+\",\"+row.lastname,row.salary*10/100]\n",
    "# df.rdd.mapPartitions(reformat).toDF().show()\n",
    "\n",
    "# #Example 2 mapPartitions()\n",
    "# def reformat2(partitionData):\n",
    "#   updatedData = []\n",
    "#   for row in partitionData:\n",
    "#     name=row.firstname+\",\"+row.lastname\n",
    "#     bonus=row.salary*10/100\n",
    "#     updatedData.append([name,bonus])\n",
    "#   return iter(updatedData)\n",
    "\n",
    "# df2=df.rdd.mapPartitions(reformat2).toDF(\"name\",\"bonus\")\n",
    "# df2.show()\n"
   ]
  },
  {
   "cell_type": "code",
   "execution_count": 6,
   "id": "caeb5e8d-6297-442b-9d31-84402fac15b9",
   "metadata": {},
   "outputs": [
    {
     "name": "stdout",
     "output_type": "stream",
     "text": [
      "---------------------------\n",
      "|name             |bonus  |\n",
      "---------------------------\n",
      "|James,Smith      |300.0  |\n",
      "|Anna,Rose        |410.0  |\n",
      "|Robert,Williams  |620.0  |\n",
      "---------------------------\n",
      "\n"
     ]
    }
   ],
   "source": [
    "from clickzetta.zettapark.functions import concat_ws, col, lit\n",
    "\n",
    "# Example 1: 使用 DataFrame API 代替 mapPartitions\n",
    "df2 = df.select(\n",
    "    concat_ws(lit(\",\"), col(\"firstname\"), col(\"lastname\")).alias(\"name\"),\n",
    "    (col(\"salary\") * 10 / 100).alias(\"bonus\")\n",
    ")\n",
    "\n",
    "# 显示 DataFrame\n",
    "df2.show()"
   ]
  },
  {
   "cell_type": "code",
   "execution_count": 7,
   "id": "3e80f2c6-4bff-4608-a8a1-e477048aebc3",
   "metadata": {},
   "outputs": [
    {
     "name": "stdout",
     "output_type": "stream",
     "text": [
      "---------------------------\n",
      "|name             |bonus  |\n",
      "---------------------------\n",
      "|James,Smith      |300.0  |\n",
      "|Anna,Rose        |410.0  |\n",
      "|Robert,Williams  |620.0  |\n",
      "---------------------------\n",
      "\n",
      "---------------------------\n",
      "|name             |bonus  |\n",
      "---------------------------\n",
      "|James,Smith      |300.0  |\n",
      "|Anna,Rose        |410.0  |\n",
      "|Robert,Williams  |620.0  |\n",
      "---------------------------\n",
      "\n"
     ]
    }
   ],
   "source": [
    "from clickzetta.zettapark.functions import col, concat_ws, lit\n",
    "\n",
    "# 使用 DataFrame API 代替 mapPartitions\n",
    "df2 = df.select(\n",
    "    concat_ws(lit(\",\"), col(\"firstname\"), col(\"lastname\")).alias(\"name\"),\n",
    "    (col(\"salary\") * 10 / 100).alias(\"bonus\")\n",
    ")\n",
    "\n",
    "# 显示结果\n",
    "df2.show()\n",
    "\n",
    "# 第二个示例不需要转换为 Pandas\n",
    "def reformat2(df):\n",
    "    return df.select(\n",
    "        concat_ws(lit(\",\"), col(\"firstname\"), col(\"lastname\")).alias(\"name\"),\n",
    "        (col(\"salary\") * 10 / 100).alias(\"bonus\")\n",
    "    )\n",
    "\n",
    "# 调用 reformat2 函数并显示结果\n",
    "df2 = reformat2(df)\n",
    "df2.show()\n"
   ]
  },
  {
   "cell_type": "code",
   "execution_count": 8,
   "id": "0e679341-6a8d-4784-9d54-e6e041216fb7",
   "metadata": {},
   "outputs": [],
   "source": [
    "session.close()"
   ]
  },
  {
   "cell_type": "code",
   "execution_count": null,
   "id": "9e58dead-f432-46bf-9b33-db1a3a8f1351",
   "metadata": {},
   "outputs": [],
   "source": []
  }
 ],
 "metadata": {
  "kernelspec": {
   "display_name": "Python 3 (ipykernel)",
   "language": "python",
   "name": "python3"
  },
  "language_info": {
   "codemirror_mode": {
    "name": "ipython",
    "version": 3
   },
   "file_extension": ".py",
   "mimetype": "text/x-python",
   "name": "python",
   "nbconvert_exporter": "python",
   "pygments_lexer": "ipython3",
   "version": "3.11.9"
  }
 },
 "nbformat": 4,
 "nbformat_minor": 5
}
