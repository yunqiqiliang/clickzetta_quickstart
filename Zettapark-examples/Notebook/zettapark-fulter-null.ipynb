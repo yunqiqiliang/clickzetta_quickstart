{
 "cells": [
  {
   "cell_type": "code",
   "execution_count": 1,
   "id": "03157d66-dfef-4f69-9459-36199352f982",
   "metadata": {},
   "outputs": [],
   "source": [
    "from clickzetta.zettapark.session import Session\n",
    "from clickzetta.zettapark.functions import col"
   ]
  },
  {
   "cell_type": "code",
   "execution_count": 2,
   "id": "e1cbdb73-be2f-44b5-b42a-c4b6e7c2dd60",
   "metadata": {},
   "outputs": [],
   "source": [
    "import json\n",
    "# 从配置文件中读取参数\n",
    "with open('security/config-uat.json', 'r') as config_file:\n",
    "    config = json.load(config_file)\n",
    "\n",
    "# 创建会话\n",
    "session = Session.builder.configs(config).create()"
   ]
  },
  {
   "cell_type": "code",
   "execution_count": 3,
   "id": "1e2a52aa-d4d1-408b-b3c7-d93d64584bdd",
   "metadata": {},
   "outputs": [],
   "source": [
    "data = [\n",
    "    (\"James\",None,\"M\"),\n",
    "    (\"Anna\",\"NY\",\"F\"),\n",
    "    (\"Julia\",None,None)\n",
    "  ]"
   ]
  },
  {
   "cell_type": "code",
   "execution_count": 4,
   "id": "f5f70210-6b60-4dc5-b48a-5d3c22c2ebb0",
   "metadata": {},
   "outputs": [
    {
     "name": "stdout",
     "output_type": "stream",
     "text": [
      "--------------------------\n",
      "|name   |state  |gender  |\n",
      "--------------------------\n",
      "|James  |NULL   |M       |\n",
      "|Anna   |NY     |F       |\n",
      "|Julia  |NULL   |NULL    |\n",
      "--------------------------\n",
      "\n",
      "--------------------------\n",
      "|name   |state  |gender  |\n",
      "--------------------------\n",
      "|James  |NULL   |M       |\n",
      "|Julia  |NULL   |NULL    |\n",
      "--------------------------\n",
      "\n",
      "--------------------------\n",
      "|name   |state  |gender  |\n",
      "--------------------------\n",
      "|James  |NULL   |M       |\n",
      "|Julia  |NULL   |NULL    |\n",
      "--------------------------\n",
      "\n",
      "--------------------------\n",
      "|name   |state  |gender  |\n",
      "--------------------------\n",
      "|James  |NULL   |M       |\n",
      "|Julia  |NULL   |NULL    |\n",
      "--------------------------\n",
      "\n"
     ]
    }
   ],
   "source": [
    "columns = [\"name\",\"state\",\"gender\"]\n",
    "df = session.createDataFrame(data,columns)\n",
    "df.show()\n",
    "\n",
    "df.filter(\"state is NULL\").show()\n",
    "df.filter(df.state.isNull()).show()\n",
    "df.filter(col(\"state\").isNull()).show() \n",
    "\n",
    "# df.na.drop(\"state\").show()"
   ]
  },
  {
   "cell_type": "code",
   "execution_count": 5,
   "id": "0e679341-6a8d-4784-9d54-e6e041216fb7",
   "metadata": {},
   "outputs": [],
   "source": [
    "session.close()"
   ]
  },
  {
   "cell_type": "code",
   "execution_count": null,
   "id": "9e58dead-f432-46bf-9b33-db1a3a8f1351",
   "metadata": {},
   "outputs": [],
   "source": []
  }
 ],
 "metadata": {
  "kernelspec": {
   "display_name": "Python 3 (ipykernel)",
   "language": "python",
   "name": "python3"
  },
  "language_info": {
   "codemirror_mode": {
    "name": "ipython",
    "version": 3
   },
   "file_extension": ".py",
   "mimetype": "text/x-python",
   "name": "python",
   "nbconvert_exporter": "python",
   "pygments_lexer": "ipython3",
   "version": "3.11.9"
  }
 },
 "nbformat": 4,
 "nbformat_minor": 5
}
