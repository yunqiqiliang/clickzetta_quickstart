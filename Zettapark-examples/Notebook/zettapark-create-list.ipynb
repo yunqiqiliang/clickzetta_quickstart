{
 "cells": [
  {
   "cell_type": "code",
   "execution_count": 1,
   "id": "03157d66-dfef-4f69-9459-36199352f982",
   "metadata": {},
   "outputs": [],
   "source": [
    "from clickzetta.zettapark.session import Row\n",
    "from clickzetta.zettapark.types import StructType,StructField, StringType"
   ]
  },
  {
   "cell_type": "code",
   "execution_count": 2,
   "id": "e1cbdb73-be2f-44b5-b42a-c4b6e7c2dd60",
   "metadata": {},
   "outputs": [],
   "source": [
    "import json\n",
    "from clickzetta.zettapark.session import Session\n",
    "# 从配置文件中读取参数\n",
    "with open('security/config-uat.json', 'r') as config_file:\n",
    "    config = json.load(config_file)\n",
    "\n",
    "# 创建会话\n",
    "session = Session.builder.configs(config).create()"
   ]
  },
  {
   "cell_type": "code",
   "execution_count": 3,
   "id": "6109b7e3-a43f-403a-9086-9e3d509e2aa9",
   "metadata": {},
   "outputs": [],
   "source": [
    "#Using List\n",
    "dept = [(\"Finance\",10), \n",
    "        (\"Marketing\",20), \n",
    "        (\"Sales\",30), \n",
    "        (\"IT\",40) \n",
    "      ]\n",
    "\n",
    "deptColumns = [\"dept_name\",\"dept_id\"]"
   ]
  },
  {
   "cell_type": "code",
   "execution_count": 4,
   "id": "1e2a52aa-d4d1-408b-b3c7-d93d64584bdd",
   "metadata": {},
   "outputs": [
    {
     "name": "stdout",
     "output_type": "stream",
     "text": [
      "root\n",
      " |-- `dept_name`: StringType() (nullable = False)\n",
      " |-- `dept_id`: IntegerType() (nullable = False)\n",
      "-----------------------\n",
      "|dept_name  |dept_id  |\n",
      "-----------------------\n",
      "|Finance    |10       |\n",
      "|Marketing  |20       |\n",
      "|Sales      |30       |\n",
      "|IT         |40       |\n",
      "-----------------------\n",
      "\n"
     ]
    }
   ],
   "source": [
    "deptDF = session.createDataFrame(data=dept, schema = deptColumns)\n",
    "deptDF.printSchema()\n",
    "deptDF.show()"
   ]
  },
  {
   "cell_type": "code",
   "execution_count": 5,
   "id": "359582d3-f78d-449d-a3fa-8af99a9f744a",
   "metadata": {},
   "outputs": [
    {
     "name": "stdout",
     "output_type": "stream",
     "text": [
      "root\n",
      " |-- `firstname`: StringType() (nullable = True)\n",
      " |-- `middlename`: StringType() (nullable = True)\n",
      " |-- `lastname`: StringType() (nullable = True)\n",
      "-------------------------------------\n",
      "|firstname  |middlename  |lastname  |\n",
      "-------------------------------------\n",
      "|zhang      |san         |zs        |\n",
      "|wang       |wu          |ww        |\n",
      "|li         |si          |ls        |\n",
      "|zhao       |liu         |zl        |\n",
      "-------------------------------------\n",
      "\n"
     ]
    }
   ],
   "source": [
    "dept = [(\"zhang\",\"san\",\"zs\"), \n",
    "        (\"wang\",\"wu\",\"ww\"), \n",
    "        (\"li\",\"si\",\"ls\"), \n",
    "        (\"zhao\",\"liu\",\"zl\") \n",
    "      ]\n",
    "deptSchema = StructType([       \n",
    "    StructField('firstname', StringType(), True),\n",
    "    StructField('middlename', StringType(), True),\n",
    "    StructField('lastname', StringType(), True)\n",
    "])\n",
    "\n",
    "deptDF1 = session.createDataFrame(data=dept, schema = deptSchema)\n",
    "deptDF1.printSchema()\n",
    "deptDF1.show()"
   ]
  },
  {
   "cell_type": "code",
   "execution_count": 6,
   "id": "72d4764c-1f40-4974-b475-05d19913738f",
   "metadata": {},
   "outputs": [
    {
     "name": "stdout",
     "output_type": "stream",
     "text": [
      "root\n",
      " |-- `dept_name`: StringType() (nullable = False)\n",
      " |-- `dept_id`: IntegerType() (nullable = False)\n",
      "-----------------------\n",
      "|dept_name  |dept_id  |\n",
      "-----------------------\n",
      "|Finance    |10       |\n",
      "|Marketing  |20       |\n",
      "|Sales      |30       |\n",
      "|IT         |40       |\n",
      "-----------------------\n",
      "\n"
     ]
    }
   ],
   "source": [
    "# Using list of Row type\n",
    "dept2 = [Row(\"Finance\",10), \n",
    "        Row(\"Marketing\",20), \n",
    "        Row(\"Sales\",30), \n",
    "        Row(\"IT\",40) \n",
    "      ]\n",
    "\n",
    "deptDF2 = session.createDataFrame(data=dept2, schema = deptColumns)\n",
    "deptDF2.printSchema()\n",
    "deptDF2.show()"
   ]
  },
  {
   "cell_type": "code",
   "execution_count": 7,
   "id": "0e679341-6a8d-4784-9d54-e6e041216fb7",
   "metadata": {},
   "outputs": [],
   "source": [
    "session.close()"
   ]
  },
  {
   "cell_type": "code",
   "execution_count": null,
   "id": "9e58dead-f432-46bf-9b33-db1a3a8f1351",
   "metadata": {},
   "outputs": [],
   "source": []
  }
 ],
 "metadata": {
  "kernelspec": {
   "display_name": "Python 3 (ipykernel)",
   "language": "python",
   "name": "python3"
  },
  "language_info": {
   "codemirror_mode": {
    "name": "ipython",
    "version": 3
   },
   "file_extension": ".py",
   "mimetype": "text/x-python",
   "name": "python",
   "nbconvert_exporter": "python",
   "pygments_lexer": "ipython3",
   "version": "3.11.9"
  }
 },
 "nbformat": 4,
 "nbformat_minor": 5
}
