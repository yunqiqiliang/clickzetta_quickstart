{
 "cells": [
  {
   "cell_type": "code",
   "execution_count": 1,
   "id": "e1cbdb73-be2f-44b5-b42a-c4b6e7c2dd60",
   "metadata": {},
   "outputs": [],
   "source": [
    "import json\n",
    "from clickzetta.zettapark.session import Session\n",
    "# 从配置文件中读取参数\n",
    "with open('security/config-uat.json', 'r') as config_file:\n",
    "    config = json.load(config_file)\n",
    "\n",
    "# 创建会话\n",
    "session = Session.builder.configs(config).create()"
   ]
  },
  {
   "cell_type": "code",
   "execution_count": 2,
   "id": "6109b7e3-a43f-403a-9086-9e3d509e2aa9",
   "metadata": {},
   "outputs": [
    {
     "name": "stdout",
     "output_type": "stream",
     "text": [
      "root\n",
      " |-- `name`: StringType() (nullable = False)\n",
      " |-- `properties`: StringType() (nullable = False)\n",
      "--------------------------------------------------\n",
      "|name        |properties                         |\n",
      "--------------------------------------------------\n",
      "|James       |{\"hair\": \"black\", \"eye\": \"brown\"}  |\n",
      "|Michael     |{\"hair\": \"brown\", \"eye\": null}     |\n",
      "|Robert      |{\"hair\": \"red\", \"eye\": \"black\"}    |\n",
      "|Washington  |{\"hair\": \"grey\", \"eye\": \"grey\"}    |\n",
      "|Jefferson   |{\"hair\": \"brown\", \"eye\": \"\"}       |\n",
      "--------------------------------------------------\n",
      "\n"
     ]
    }
   ],
   "source": [
    "import json\n",
    "dataDictionary = [\n",
    "    ('James', json.dumps({'hair':'black','eye':'brown'})),\n",
    "    ('Michael', json.dumps({'hair':'brown','eye':None})),\n",
    "    ('Robert', json.dumps({'hair':'red','eye':'black'})),\n",
    "    ('Washington', json.dumps({'hair':'grey','eye':'grey'})),\n",
    "    ('Jefferson', json.dumps({'hair':'brown','eye':''}))\n",
    "]\n",
    "columns = ['name','properties']\n",
    "df = session.createDataFrame(data=dataDictionary, schema = columns)\n",
    "df.printSchema()\n",
    "df.show()"
   ]
  },
  {
   "cell_type": "code",
   "execution_count": 3,
   "id": "0e679341-6a8d-4784-9d54-e6e041216fb7",
   "metadata": {},
   "outputs": [],
   "source": [
    "session.close()"
   ]
  },
  {
   "cell_type": "code",
   "execution_count": null,
   "id": "9e58dead-f432-46bf-9b33-db1a3a8f1351",
   "metadata": {},
   "outputs": [],
   "source": []
  }
 ],
 "metadata": {
  "kernelspec": {
   "display_name": "Python 3 (ipykernel)",
   "language": "python",
   "name": "python3"
  },
  "language_info": {
   "codemirror_mode": {
    "name": "ipython",
    "version": 3
   },
   "file_extension": ".py",
   "mimetype": "text/x-python",
   "name": "python",
   "nbconvert_exporter": "python",
   "pygments_lexer": "ipython3",
   "version": "3.11.9"
  }
 },
 "nbformat": 4,
 "nbformat_minor": 5
}
