{
 "cells": [
  {
   "cell_type": "code",
   "execution_count": 1,
   "id": "03157d66-dfef-4f69-9459-36199352f982",
   "metadata": {},
   "outputs": [],
   "source": [
    "from clickzetta.zettapark.session import Session"
   ]
  },
  {
   "cell_type": "code",
   "execution_count": 2,
   "id": "e1cbdb73-be2f-44b5-b42a-c4b6e7c2dd60",
   "metadata": {},
   "outputs": [],
   "source": [
    "import json\n",
    "# 从配置文件中读取参数\n",
    "with open('security/config-uat.json', 'r') as config_file:\n",
    "    config = json.load(config_file)\n",
    "\n",
    "# 创建会话\n",
    "session = Session.builder.configs(config).create()"
   ]
  },
  {
   "cell_type": "code",
   "execution_count": 4,
   "id": "c97074c0-fa3c-436a-b3d6-9d1e6d5e159f",
   "metadata": {},
   "outputs": [],
   "source": [
    "dates = [(\"1\",\"2019-07-01 12:01:19.111\"),\n",
    "    (\"2\",\"2019-06-24 12:01:19.222\"),\n",
    "    (\"3\",\"2019-11-16 16:44:55.406\"),\n",
    "    (\"4\",\"2019-11-16 16:50:59.406\")\n",
    "    ]\n",
    "\n",
    "df = session.createDataFrame(data=dates, schema=[\"id\",\"from_timestamp\"])"
   ]
  },
  {
   "cell_type": "code",
   "execution_count": 5,
   "id": "2aa3fda0-cfd9-4d7a-92d3-f7dc5349bda0",
   "metadata": {},
   "outputs": [
    {
     "name": "stdout",
     "output_type": "stream",
     "text": [
      "--------------------------------------------------------------------------------------------\n",
      "|id  |from_timestamp                    |end_timestamp                     |diffinseconds  |\n",
      "--------------------------------------------------------------------------------------------\n",
      "|1   |2019-07-01 12:01:19.111000+08:00  |2024-12-24 15:37:10.099166+08:00  |173072151      |\n",
      "|2   |2019-06-24 12:01:19.222000+08:00  |2024-12-24 15:37:10.099166+08:00  |173676951      |\n",
      "|3   |2019-11-16 16:44:55.406000+08:00  |2024-12-24 15:37:10.099166+08:00  |161131935      |\n",
      "|4   |2019-11-16 16:50:59.406000+08:00  |2024-12-24 15:37:10.099166+08:00  |161131571      |\n",
      "--------------------------------------------------------------------------------------------\n",
      "\n",
      "--------------------------------------------------------------------------------------------\n",
      "|id  |from_timestamp                    |end_timestamp                     |diffinseconds  |\n",
      "--------------------------------------------------------------------------------------------\n",
      "|1   |2019-07-01 12:01:19.111000+08:00  |2024-12-24 15:37:10.330543+08:00  |173072151      |\n",
      "|2   |2019-06-24 12:01:19.222000+08:00  |2024-12-24 15:37:10.330543+08:00  |173676951      |\n",
      "|3   |2019-11-16 16:44:55.406000+08:00  |2024-12-24 15:37:10.330543+08:00  |161131935      |\n",
      "|4   |2019-11-16 16:50:59.406000+08:00  |2024-12-24 15:37:10.330543+08:00  |161131571      |\n",
      "--------------------------------------------------------------------------------------------\n",
      "\n",
      "------------------------------------------------------------------------------------------------------------\n",
      "|id  |from_timestamp                    |end_timestamp                     |diffinseconds  |diffinminutes  |\n",
      "------------------------------------------------------------------------------------------------------------\n",
      "|1   |2019-07-01 12:01:19.111000+08:00  |2024-12-24 15:37:10.523326+08:00  |173072151      |2884536.0      |\n",
      "|2   |2019-06-24 12:01:19.222000+08:00  |2024-12-24 15:37:10.523326+08:00  |173676951      |2894616.0      |\n",
      "|3   |2019-11-16 16:44:55.406000+08:00  |2024-12-24 15:37:10.523326+08:00  |161131935      |2685532.0      |\n",
      "|4   |2019-11-16 16:50:59.406000+08:00  |2024-12-24 15:37:10.523326+08:00  |161131571      |2685526.0      |\n",
      "------------------------------------------------------------------------------------------------------------\n",
      "\n",
      "----------------------------------------------------------------------------------------------------------\n",
      "|id  |from_timestamp                    |end_timestamp                     |diffinseconds  |diffinhours  |\n",
      "----------------------------------------------------------------------------------------------------------\n",
      "|1   |2019-07-01 12:01:19.111000+08:00  |2024-12-24 15:37:10.715296+08:00  |173072151      |48076.0      |\n",
      "|2   |2019-06-24 12:01:19.222000+08:00  |2024-12-24 15:37:10.715296+08:00  |173676951      |48244.0      |\n",
      "|3   |2019-11-16 16:44:55.406000+08:00  |2024-12-24 15:37:10.715296+08:00  |161131935      |44759.0      |\n",
      "|4   |2019-11-16 16:50:59.406000+08:00  |2024-12-24 15:37:10.715296+08:00  |161131571      |44759.0      |\n",
      "----------------------------------------------------------------------------------------------------------\n",
      "\n"
     ]
    }
   ],
   "source": [
    "from clickzetta.zettapark.functions import *\n",
    "df2=df.withColumn('from_timestamp',to_timestamp(col('from_timestamp')))\\\n",
    "  .withColumn('end_timestamp', current_timestamp())\\\n",
    "  .withColumn('DiffInSeconds',col(\"end_timestamp\").cast(\"long\") - col('from_timestamp').cast(\"long\"))\n",
    "df2.show()\n",
    "\n",
    "df.withColumn('from_timestamp',to_timestamp(col('from_timestamp')))\\\n",
    "  .withColumn('end_timestamp', current_timestamp())\\\n",
    "  .withColumn('DiffInSeconds',unix_timestamp(\"end_timestamp\") - unix_timestamp('from_timestamp')) \\\n",
    "  .show()\n",
    "\n",
    "df2.withColumn('DiffInMinutes',round(col('DiffInSeconds')/60))\\\n",
    "  .show()\n",
    "  \n",
    "df2.withColumn('DiffInHours',round(col('DiffInSeconds')/3600))\\\n",
    "  .show()"
   ]
  },
  {
   "cell_type": "code",
   "execution_count": 6,
   "id": "6d958953-881d-4864-80d3-863acd567039",
   "metadata": {},
   "outputs": [
    {
     "name": "stdout",
     "output_type": "stream",
     "text": [
      "---------------------------------------------------------------------------------------------------------------------\n",
      "|from_timestamp                    |to_timestamp                      |diffinseconds  |diffinminutes  |diffinhours  |\n",
      "---------------------------------------------------------------------------------------------------------------------\n",
      "|1970-01-01 12:01:19+08:00         |1970-01-01 13:01:19+08:00         |-3600          |-60.0          |-1.0         |\n",
      "|1970-01-01 12:01:19+08:00         |1970-01-01 12:02:19+08:00         |-60            |-1.0           |0.0          |\n",
      "|1970-01-01 16:44:55.406000+08:00  |1970-01-01 17:44:55.406000+08:00  |-3600          |-60.0          |-1.0         |\n",
      "|1970-01-01 16:50:59.406000+08:00  |1970-01-01 16:44:59.406000+08:00  |360            |6.0            |0.0          |\n",
      "---------------------------------------------------------------------------------------------------------------------\n",
      "\n"
     ]
    }
   ],
   "source": [
    "#Difference between two timestamps when input has just timestamp\n",
    "\n",
    "data= [(\"12:01:19.000\",\"13:01:19.000\"),\n",
    "    (\"12:01:19.000\",\"12:02:19.000\"),\n",
    "    (\"16:44:55.406\",\"17:44:55.406\"),\n",
    "    (\"16:50:59.406\",\"16:44:59.406\")]\n",
    "df3 = session.createDataFrame(data=data, schema=[\"from_timestamp\",\"to_timestamp\"])\n",
    "\n",
    "df3.withColumn(\"from_timestamp\",to_timestamp(col(\"from_timestamp\"),\"HH:mm:ss.SSS\")) \\\n",
    "   .withColumn(\"to_timestamp\",to_timestamp(col(\"to_timestamp\"),\"HH:mm:ss.SSS\")) \\\n",
    "   .withColumn(\"DiffInSeconds\", col(\"from_timestamp\").cast(\"long\") - col(\"to_timestamp\").cast(\"long\")) \\\n",
    "   .withColumn(\"DiffInMinutes\",round(col(\"DiffInSeconds\")/60)) \\\n",
    "   .withColumn(\"DiffInHours\",round(col(\"DiffInSeconds\")/3600)) \\\n",
    "   .show()"
   ]
  },
  {
   "cell_type": "code",
   "execution_count": 7,
   "id": "2dcf3e08-0e3d-4cba-bbe3-d6afc110a306",
   "metadata": {},
   "outputs": [
    {
     "name": "stdout",
     "output_type": "stream",
     "text": [
      "---------------------------------------------------------------------------------------------------------------------------------------\n",
      "|id  |input_timestamp                   |current_timestamp                 |diffinseconds  |diffinminutes  |diffinhours  |diffindays  |\n",
      "---------------------------------------------------------------------------------------------------------------------------------------\n",
      "|1   |2019-07-01 12:01:19.406000+08:00  |2024-12-24 15:37:11.451376+08:00  |173072152      |2884536.0      |48076.0      |2003.0      |\n",
      "---------------------------------------------------------------------------------------------------------------------------------------\n",
      "\n"
     ]
    }
   ],
   "source": [
    "# 创建 DataFrame\n",
    "df3 = session.createDataFrame(\n",
    "    data=[(\"1\", \"07-01-2019 12:01:19.406\")],\n",
    "    schema=[\"id\", \"input_timestamp\"]\n",
    ")\n",
    "\n",
    "# 转换时间戳并计算差异\n",
    "df3 = df3.withColumn(\"input_timestamp\", to_timestamp(col(\"input_timestamp\"), \"MM-dd-yyyy HH:mm:ss.SSS\")) \\\n",
    "         .withColumn(\"current_timestamp\", current_timestamp()) \\\n",
    "         .withColumn(\"DiffInSeconds\", (col(\"current_timestamp\").cast(\"long\") - col(\"input_timestamp\").cast(\"long\"))) \\\n",
    "         .withColumn(\"DiffInMinutes\", round(col(\"DiffInSeconds\") / 60)) \\\n",
    "         .withColumn(\"DiffInHours\", round(col(\"DiffInSeconds\") / 3600)) \\\n",
    "         .withColumn(\"DiffInDays\", round(col(\"DiffInSeconds\") / (24 * 3600)))\n",
    "\n",
    "# 显示结果\n",
    "df3.show()\n"
   ]
  },
  {
   "cell_type": "code",
   "execution_count": 8,
   "id": "c656cb8d-527a-4789-80d0-58e666d1ffda",
   "metadata": {},
   "outputs": [
    {
     "name": "stdout",
     "output_type": "stream",
     "text": [
      "-----------------\n",
      "|diffinseconds  |\n",
      "-----------------\n",
      "|86400          |\n",
      "-----------------\n",
      "\n",
      "-----------------\n",
      "|diffinminutes  |\n",
      "-----------------\n",
      "|1440.0         |\n",
      "-----------------\n",
      "\n",
      "---------------\n",
      "|diffinhours  |\n",
      "---------------\n",
      "|24.0         |\n",
      "---------------\n",
      "\n"
     ]
    }
   ],
   "source": [
    "#SQL\n",
    "\n",
    "session.sql(\"select unix_timestamp('2019-07-02 12:01:19') - unix_timestamp('2019-07-01 12:01:19') DiffInSeconds\").show()\n",
    "session.sql(\"select (unix_timestamp('2019-07-02 12:01:19') - unix_timestamp('2019-07-01 12:01:19'))/60 DiffInMinutes\").show()\n",
    "session.sql(\"select (unix_timestamp('2019-07-02 12:01:19') - unix_timestamp('2019-07-01 12:01:19'))/3600 DiffInHours\").show()"
   ]
  },
  {
   "cell_type": "code",
   "execution_count": 9,
   "id": "0e679341-6a8d-4784-9d54-e6e041216fb7",
   "metadata": {},
   "outputs": [],
   "source": [
    "session.close()"
   ]
  },
  {
   "cell_type": "code",
   "execution_count": null,
   "id": "9e58dead-f432-46bf-9b33-db1a3a8f1351",
   "metadata": {},
   "outputs": [],
   "source": []
  }
 ],
 "metadata": {
  "kernelspec": {
   "display_name": "Python 3 (ipykernel)",
   "language": "python",
   "name": "python3"
  },
  "language_info": {
   "codemirror_mode": {
    "name": "ipython",
    "version": 3
   },
   "file_extension": ".py",
   "mimetype": "text/x-python",
   "name": "python",
   "nbconvert_exporter": "python",
   "pygments_lexer": "ipython3",
   "version": "3.11.9"
  }
 },
 "nbformat": 4,
 "nbformat_minor": 5
}
