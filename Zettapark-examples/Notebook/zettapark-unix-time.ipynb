{
 "cells": [
  {
   "cell_type": "code",
   "execution_count": 1,
   "id": "03157d66-dfef-4f69-9459-36199352f982",
   "metadata": {},
   "outputs": [],
   "source": [
    "from clickzetta.zettapark.session import Session\n",
    "from clickzetta.zettapark.functions import unix_timestamp, col, current_timestamp, from_unixtime"
   ]
  },
  {
   "cell_type": "code",
   "execution_count": 2,
   "id": "e1cbdb73-be2f-44b5-b42a-c4b6e7c2dd60",
   "metadata": {},
   "outputs": [],
   "source": [
    "import json\n",
    "# 从配置文件中读取参数\n",
    "with open('security/config-uat.json', 'r') as config_file:\n",
    "    config = json.load(config_file)\n",
    "\n",
    "# 创建会话\n",
    "session = Session.builder.configs(config).create()"
   ]
  },
  {
   "cell_type": "code",
   "execution_count": 4,
   "id": "c97074c0-fa3c-436a-b3d6-9d1e6d5e159f",
   "metadata": {},
   "outputs": [
    {
     "name": "stdout",
     "output_type": "stream",
     "text": [
      "root\n",
      " |-- `timestamp_1`: StringType() (nullable = False)\n",
      " |-- `timestamp_2`: StringType() (nullable = False)\n",
      " |-- `timestamp_3`: StringType() (nullable = False)\n",
      "-----------------------------------------------------------\n",
      "|timestamp_1          |timestamp_2          |timestamp_3  |\n",
      "-----------------------------------------------------------\n",
      "|2019-07-01 12:01:19  |07-01-2019 12:01:19  |07-01-2019   |\n",
      "-----------------------------------------------------------\n",
      "\n"
     ]
    }
   ],
   "source": [
    "inputData = [(\"2019-07-01 12:01:19\",\n",
    "            \"07-01-2019 12:01:19\", \n",
    "            \"07-01-2019\")]\n",
    "columns=[\"timestamp_1\",\"timestamp_2\",\"timestamp_3\"]\n",
    "df=session.createDataFrame(\n",
    "        data = inputData,\n",
    "        schema = columns)\n",
    "df.printSchema()\n",
    "df.show()"
   ]
  },
  {
   "cell_type": "code",
   "execution_count": 5,
   "id": "2aa3fda0-cfd9-4d7a-92d3-f7dc5349bda0",
   "metadata": {},
   "outputs": [
    {
     "name": "stdout",
     "output_type": "stream",
     "text": [
      "root\n",
      " |-- `timestamp_1`: LongType() (nullable = True)\n",
      " |-- `timestamp_2`: LongType() (nullable = True)\n",
      " |-- `timestamp_3`: LongType() (nullable = True)\n",
      " |-- `timestamp_4`: LongType() (nullable = True)\n",
      "---------------------------------------------------------\n",
      "|timestamp_1  |timestamp_2  |timestamp_3  |timestamp_4  |\n",
      "---------------------------------------------------------\n",
      "|1561953679   |1561953679   |1561910400   |1735025999   |\n",
      "---------------------------------------------------------\n",
      "\n",
      "root\n",
      " |-- `timestamp_1`: TimestampType(tz=ltz) (nullable = True)\n",
      " |-- `timestamp_2`: TimestampType(tz=ltz) (nullable = True)\n",
      " |-- `timestamp_3`: TimestampType(tz=ltz) (nullable = True)\n",
      " |-- `timestamp_4`: TimestampType(tz=ltz) (nullable = True)\n",
      "-------------------------------------------------------------------------------------\n",
      "|timestamp_1                |timestamp_2  |timestamp_3  |timestamp_4                |\n",
      "-------------------------------------------------------------------------------------\n",
      "|2019-07-01 12:01:19+08:00  |NULL         |NULL         |2024-12-24 15:40:00+08:00  |\n",
      "-------------------------------------------------------------------------------------\n",
      "\n"
     ]
    }
   ],
   "source": [
    "df2 = df.select( \n",
    "      unix_timestamp(col(\"timestamp_1\")).alias(\"timestamp_1\"), \n",
    "      unix_timestamp(col(\"timestamp_2\"),\"MM-dd-yyyy HH:mm:ss\").alias(\"timestamp_2\"), \n",
    "      unix_timestamp(col(\"timestamp_3\"),\"MM-dd-yyyy\").alias(\"timestamp_3\"), \n",
    "      unix_timestamp(current_timestamp()).alias(\"timestamp_4\") # 使用当前时间的 Unix 时间戳\n",
    "   )\n",
    "df2.printSchema()\n",
    "df2.show()\n",
    "\n",
    "df3=df2.select(\n",
    "    from_unixtime(col(\"timestamp_1\")).alias(\"timestamp_1\"),\n",
    "    from_unixtime(col(\"timestamp_2\"),\"MM-dd-yyyy HH:mm:ss\").alias(\"timestamp_2\"),\n",
    "    from_unixtime(col(\"timestamp_3\"),\"MM-dd-yyyy\").alias(\"timestamp_3\"),\n",
    "    from_unixtime(col(\"timestamp_4\")).alias(\"timestamp_4\")\n",
    "  )\n",
    "df3.printSchema()\n",
    "df3.show()"
   ]
  },
  {
   "cell_type": "code",
   "execution_count": 6,
   "id": "0e679341-6a8d-4784-9d54-e6e041216fb7",
   "metadata": {},
   "outputs": [],
   "source": [
    "session.close()"
   ]
  },
  {
   "cell_type": "code",
   "execution_count": null,
   "id": "9e58dead-f432-46bf-9b33-db1a3a8f1351",
   "metadata": {},
   "outputs": [],
   "source": []
  }
 ],
 "metadata": {
  "kernelspec": {
   "display_name": "Python 3 (ipykernel)",
   "language": "python",
   "name": "python3"
  },
  "language_info": {
   "codemirror_mode": {
    "name": "ipython",
    "version": 3
   },
   "file_extension": ".py",
   "mimetype": "text/x-python",
   "name": "python",
   "nbconvert_exporter": "python",
   "pygments_lexer": "ipython3",
   "version": "3.11.9"
  }
 },
 "nbformat": 4,
 "nbformat_minor": 5
}
