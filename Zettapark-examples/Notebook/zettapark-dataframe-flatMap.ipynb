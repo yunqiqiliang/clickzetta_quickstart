{
 "cells": [
  {
   "cell_type": "code",
   "execution_count": 1,
   "id": "e1cbdb73-be2f-44b5-b42a-c4b6e7c2dd60",
   "metadata": {},
   "outputs": [],
   "source": [
    "import json\n",
    "from clickzetta.zettapark.session import Session\n",
    "from clickzetta.zettapark.types import StructType, StructField, StringType, ArrayType\n",
    "# 从配置文件中读取参数\n",
    "with open('security/config-uat.json', 'r') as config_file:\n",
    "    config = json.load(config_file)\n",
    "\n",
    "# 创建会话\n",
    "session = Session.builder.configs(config).create()"
   ]
  },
  {
   "cell_type": "code",
   "execution_count": 2,
   "id": "6109b7e3-a43f-403a-9086-9e3d509e2aa9",
   "metadata": {},
   "outputs": [],
   "source": [
    "# Define schema\n",
    "schema = StructType([\n",
    "    StructField(\"name\", StringType(), True),\n",
    "    StructField(\"languagesAtSchool\", ArrayType(StringType()), True),\n",
    "    StructField(\"currentState\", StringType(), True)\n",
    "])\n",
    "# Clean data\n",
    "data = [(\"James, Smith\", [\"Java\", \"Scala\", \"C++\"], \"CA\"),\n",
    "        (\"Michael Rose\", [\"Spark\", \"Java\", \"C++\"], \"NJ\"),\n",
    "        (\"Robert, Williams\", [\"CSharp\", \"VB\"], \"NV\")]"
   ]
  },
  {
   "cell_type": "code",
   "execution_count": 3,
   "id": "1e2a52aa-d4d1-408b-b3c7-d93d64584bdd",
   "metadata": {},
   "outputs": [
    {
     "name": "stdout",
     "output_type": "stream",
     "text": [
      "root\n",
      " |-- `name`: StringType() (nullable = True)\n",
      " |-- `languagesatschool`: ArrayType(StringType()) (nullable = True)\n",
      " |-- `currentstate`: StringType() (nullable = True)\n",
      "--------------------------------------------------------------\n",
      "|name              |languagesatschool         |currentstate  |\n",
      "--------------------------------------------------------------\n",
      "|James, Smith      |['Java', 'Scala', 'C++']  |CA            |\n",
      "|Michael Rose      |['Spark', 'Java', 'C++']  |NJ            |\n",
      "|Robert, Williams  |['CSharp', 'VB']          |NV            |\n",
      "--------------------------------------------------------------\n",
      "\n"
     ]
    }
   ],
   "source": [
    "df = session.createDataFrame(data=data,schema=schema)\n",
    "df.printSchema()\n",
    "df.show()"
   ]
  },
  {
   "cell_type": "code",
   "execution_count": 4,
   "id": "0e679341-6a8d-4784-9d54-e6e041216fb7",
   "metadata": {},
   "outputs": [],
   "source": [
    "session.close()"
   ]
  },
  {
   "cell_type": "code",
   "execution_count": null,
   "id": "9e58dead-f432-46bf-9b33-db1a3a8f1351",
   "metadata": {},
   "outputs": [],
   "source": []
  }
 ],
 "metadata": {
  "kernelspec": {
   "display_name": "Python 3 (ipykernel)",
   "language": "python",
   "name": "python3"
  },
  "language_info": {
   "codemirror_mode": {
    "name": "ipython",
    "version": 3
   },
   "file_extension": ".py",
   "mimetype": "text/x-python",
   "name": "python",
   "nbconvert_exporter": "python",
   "pygments_lexer": "ipython3",
   "version": "3.11.9"
  }
 },
 "nbformat": 4,
 "nbformat_minor": 5
}
