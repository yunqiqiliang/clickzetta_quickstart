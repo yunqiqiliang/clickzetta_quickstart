{
 "cells": [
  {
   "cell_type": "code",
   "execution_count": 1,
   "id": "03157d66-dfef-4f69-9459-36199352f982",
   "metadata": {},
   "outputs": [],
   "source": [
    "from clickzetta.zettapark.session import Session\n",
    "from clickzetta.zettapark.functions import col,sum,avg,max"
   ]
  },
  {
   "cell_type": "code",
   "execution_count": 2,
   "id": "e1cbdb73-be2f-44b5-b42a-c4b6e7c2dd60",
   "metadata": {},
   "outputs": [],
   "source": [
    "import json\n",
    "# 从配置文件中读取参数\n",
    "with open('security/config-uat.json', 'r') as config_file:\n",
    "    config = json.load(config_file)\n",
    "\n",
    "# 创建会话\n",
    "session = Session.builder.configs(config).create()"
   ]
  },
  {
   "cell_type": "code",
   "execution_count": 3,
   "id": "1e2a52aa-d4d1-408b-b3c7-d93d64584bdd",
   "metadata": {},
   "outputs": [],
   "source": [
    "simpleData = [(\"James\",\"Sales\",\"NY\",90000,34,10000),\n",
    "    (\"Michael\",\"Sales\",\"NY\",86000,56,20000),\n",
    "    (\"Robert\",\"Sales\",\"CA\",81000,30,23000),\n",
    "    (\"Maria\",\"Finance\",\"CA\",90000,24,23000),\n",
    "    (\"Raman\",\"Finance\",\"CA\",99000,40,24000),\n",
    "    (\"Scott\",\"Finance\",\"NY\",83000,36,19000),\n",
    "    (\"Jen\",\"Finance\",\"NY\",79000,53,15000),\n",
    "    (\"Jeff\",\"Marketing\",\"CA\",80000,25,18000),\n",
    "    (\"Kumar\",\"Marketing\",\"NY\",91000,50,21000)\n",
    "  ]\n"
   ]
  },
  {
   "cell_type": "code",
   "execution_count": 4,
   "id": "f5f70210-6b60-4dc5-b48a-5d3c22c2ebb0",
   "metadata": {},
   "outputs": [
    {
     "name": "stdout",
     "output_type": "stream",
     "text": [
      "root\n",
      " |-- `employee_name`: StringType() (nullable = False)\n",
      " |-- `department`: StringType() (nullable = False)\n",
      " |-- `state`: StringType() (nullable = False)\n",
      " |-- `salary`: IntegerType() (nullable = False)\n",
      " |-- `age`: IntegerType() (nullable = False)\n",
      " |-- `bonus`: IntegerType() (nullable = False)\n",
      "-------------------------------------------------------------\n",
      "|employee_name  |department  |state  |salary  |age  |bonus  |\n",
      "-------------------------------------------------------------\n",
      "|James          |Sales       |NY     |90000   |34   |10000  |\n",
      "|Michael        |Sales       |NY     |86000   |56   |20000  |\n",
      "|Robert         |Sales       |CA     |81000   |30   |23000  |\n",
      "|Maria          |Finance     |CA     |90000   |24   |23000  |\n",
      "|Raman          |Finance     |CA     |99000   |40   |24000  |\n",
      "|Scott          |Finance     |NY     |83000   |36   |19000  |\n",
      "|Jen            |Finance     |NY     |79000   |53   |15000  |\n",
      "|Jeff           |Marketing   |CA     |80000   |25   |18000  |\n",
      "|Kumar          |Marketing   |NY     |91000   |50   |21000  |\n",
      "-------------------------------------------------------------\n",
      "\n",
      "------------------------------\n",
      "|department  |`sum`(salary)  |\n",
      "------------------------------\n",
      "|Sales       |257000         |\n",
      "|Finance     |351000         |\n",
      "|Marketing   |171000         |\n",
      "------------------------------\n",
      "\n",
      "----------------------\n",
      "|department  |count  |\n",
      "----------------------\n",
      "|Sales       |3      |\n",
      "|Finance     |4      |\n",
      "|Marketing   |2      |\n",
      "----------------------\n",
      "\n",
      "-----------------------------------------------------\n",
      "|department  |state  |`sum`(salary)  |`sum`(bonus)  |\n",
      "-----------------------------------------------------\n",
      "|Sales       |NY     |176000         |30000         |\n",
      "|Sales       |CA     |81000          |23000         |\n",
      "|Finance     |CA     |189000         |47000         |\n",
      "|Finance     |NY     |162000         |34000         |\n",
      "|Marketing   |CA     |80000          |18000         |\n",
      "|Marketing   |NY     |91000          |21000         |\n",
      "-----------------------------------------------------\n",
      "\n",
      "-----------------------------------------------------------------------\n",
      "|department  |sum_salary  |avg_salary         |sum_bonus  |max_bonus  |\n",
      "-----------------------------------------------------------------------\n",
      "|Sales       |257000      |85666.66666666667  |53000      |23000      |\n",
      "|Finance     |351000      |87750.0            |81000      |24000      |\n",
      "|Marketing   |171000      |85500.0            |39000      |21000      |\n",
      "-----------------------------------------------------------------------\n",
      "\n",
      "-----------------------------------------------------------------------\n",
      "|department  |sum_salary  |avg_salary         |sum_bonus  |max_bonus  |\n",
      "-----------------------------------------------------------------------\n",
      "|Sales       |257000      |85666.66666666667  |53000      |23000      |\n",
      "|Finance     |351000      |87750.0            |81000      |24000      |\n",
      "-----------------------------------------------------------------------\n",
      "\n"
     ]
    }
   ],
   "source": [
    "schema = [\"employee_name\",\"department\",\"state\",\"salary\",\"age\",\"bonus\"]\n",
    "df = session.createDataFrame(data=simpleData, schema = schema)\n",
    "df.printSchema()\n",
    "df.show()\n",
    "\n",
    "df.groupBy(\"department\").sum(\"salary\").show()\n",
    "\n",
    "df.groupBy(\"department\").count().show()\n",
    "\n",
    "\n",
    "df.groupBy(\"department\",\"state\") \\\n",
    "    .sum(\"salary\",\"bonus\") \\\n",
    "   .show()\n",
    "\n",
    "df.groupBy(\"department\") \\\n",
    "    .agg(sum(\"salary\").alias(\"sum_salary\"), \\\n",
    "         avg(\"salary\").alias(\"avg_salary\"), \\\n",
    "         sum(\"bonus\").alias(\"sum_bonus\"), \\\n",
    "         max(\"bonus\").alias(\"max_bonus\") \\\n",
    "     ) \\\n",
    "    .show()\n",
    "    \n",
    "df.groupBy(\"department\") \\\n",
    "    .agg(sum(\"salary\").alias(\"sum_salary\"), \\\n",
    "      avg(\"salary\").alias(\"avg_salary\"), \\\n",
    "      sum(\"bonus\").alias(\"sum_bonus\"), \\\n",
    "      max(\"bonus\").alias(\"max_bonus\")) \\\n",
    "    .where(col(\"sum_bonus\") >= 50000) \\\n",
    "    .show()"
   ]
  },
  {
   "cell_type": "code",
   "execution_count": 5,
   "id": "0e679341-6a8d-4784-9d54-e6e041216fb7",
   "metadata": {},
   "outputs": [],
   "source": [
    "session.close()"
   ]
  },
  {
   "cell_type": "code",
   "execution_count": null,
   "id": "9e58dead-f432-46bf-9b33-db1a3a8f1351",
   "metadata": {},
   "outputs": [],
   "source": []
  }
 ],
 "metadata": {
  "kernelspec": {
   "display_name": "Python 3 (ipykernel)",
   "language": "python",
   "name": "python3"
  },
  "language_info": {
   "codemirror_mode": {
    "name": "ipython",
    "version": 3
   },
   "file_extension": ".py",
   "mimetype": "text/x-python",
   "name": "python",
   "nbconvert_exporter": "python",
   "pygments_lexer": "ipython3",
   "version": "3.11.9"
  }
 },
 "nbformat": 4,
 "nbformat_minor": 5
}
