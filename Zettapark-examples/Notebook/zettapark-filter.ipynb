{
 "cells": [
  {
   "cell_type": "code",
   "execution_count": 1,
   "id": "03157d66-dfef-4f69-9459-36199352f982",
   "metadata": {},
   "outputs": [],
   "source": [
    "from clickzetta.zettapark.session import Session\n",
    "from clickzetta.zettapark.functions import col,array_contains\n",
    "from clickzetta.zettapark.types import StructType,StructField, StringType, IntegerType, ArrayType"
   ]
  },
  {
   "cell_type": "code",
   "execution_count": 2,
   "id": "e1cbdb73-be2f-44b5-b42a-c4b6e7c2dd60",
   "metadata": {},
   "outputs": [],
   "source": [
    "import json\n",
    "# 从配置文件中读取参数\n",
    "with open('security/config-uat.json', 'r') as config_file:\n",
    "    config = json.load(config_file)\n",
    "\n",
    "# 创建会话\n",
    "session = Session.builder.configs(config).create()"
   ]
  },
  {
   "cell_type": "code",
   "execution_count": 3,
   "id": "1e2a52aa-d4d1-408b-b3c7-d93d64584bdd",
   "metadata": {},
   "outputs": [],
   "source": [
    "data = [(\"James\", \"Sales\", 3000),\n",
    "    (\"Michael\", \"Sales\", 4600),\n",
    "    (\"Robert\", \"Sales\", 4100),\n",
    "    (\"Maria\", \"Finance\", 3000),\n",
    "    (\"James\", \"Sales\", 3000),\n",
    "    (\"Scott\", \"Finance\", 3300),\n",
    "    (\"Jen\", \"Finance\", 3900),\n",
    "    (\"Jeff\", \"Marketing\", 3000),\n",
    "    (\"Kumar\", \"Marketing\", 2000),\n",
    "    (\"Saif\", \"Sales\", 4100)\n",
    "  ]\n",
    "columns = [\"Name\",\"Dept\",\"Salary\"]"
   ]
  },
  {
   "cell_type": "code",
   "execution_count": 4,
   "id": "f5f70210-6b60-4dc5-b48a-5d3c22c2ebb0",
   "metadata": {},
   "outputs": [
    {
     "name": "stdout",
     "output_type": "stream",
     "text": [
      "root\n",
      " |-- `name`: StringType() (nullable = False)\n",
      " |-- `dept`: StringType() (nullable = False)\n",
      " |-- `salary`: IntegerType() (nullable = False)\n",
      "--------------------------------\n",
      "|name     |dept       |salary  |\n",
      "--------------------------------\n",
      "|James    |Sales      |3000    |\n",
      "|Michael  |Sales      |4600    |\n",
      "|Robert   |Sales      |4100    |\n",
      "|Maria    |Finance    |3000    |\n",
      "|James    |Sales      |3000    |\n",
      "|Scott    |Finance    |3300    |\n",
      "|Jen      |Finance    |3900    |\n",
      "|Jeff     |Marketing  |3000    |\n",
      "|Kumar    |Marketing  |2000    |\n",
      "|Saif     |Sales      |4100    |\n",
      "--------------------------------\n",
      "\n"
     ]
    }
   ],
   "source": [
    "df = session.createDataFrame(data = data, schema = columns)\n",
    "df.printSchema()\n",
    "df.show()"
   ]
  },
  {
   "cell_type": "code",
   "execution_count": 5,
   "id": "d27ceef2-20d4-48c0-bb09-0e611e1f38e6",
   "metadata": {},
   "outputs": [
    {
     "name": "stdout",
     "output_type": "stream",
     "text": [
      "----------------------------\n",
      "|name     |dept   |salary  |\n",
      "----------------------------\n",
      "|James    |Sales  |3000    |\n",
      "|Michael  |Sales  |4600    |\n",
      "|Robert   |Sales  |4100    |\n",
      "|James    |Sales  |3000    |\n",
      "|Saif     |Sales  |4100    |\n",
      "----------------------------\n",
      "\n",
      "------------------------------\n",
      "|name   |dept       |salary  |\n",
      "------------------------------\n",
      "|Maria  |Finance    |3000    |\n",
      "|Scott  |Finance    |3300    |\n",
      "|Jen    |Finance    |3900    |\n",
      "|Jeff   |Marketing  |3000    |\n",
      "|Kumar  |Marketing  |2000    |\n",
      "------------------------------\n",
      "\n",
      "------------------------------\n",
      "|name   |dept       |salary  |\n",
      "------------------------------\n",
      "|Maria  |Finance    |3000    |\n",
      "|Scott  |Finance    |3300    |\n",
      "|Jen    |Finance    |3900    |\n",
      "|Jeff   |Marketing  |3000    |\n",
      "|Kumar  |Marketing  |2000    |\n",
      "------------------------------\n",
      "\n",
      "----------------------------\n",
      "|name     |dept   |salary  |\n",
      "----------------------------\n",
      "|James    |Sales  |3000    |\n",
      "|Michael  |Sales  |4600    |\n",
      "|Robert   |Sales  |4100    |\n",
      "|James    |Sales  |3000    |\n",
      "|Saif     |Sales  |4100    |\n",
      "----------------------------\n",
      "\n",
      "------------------------------\n",
      "|name   |dept       |salary  |\n",
      "------------------------------\n",
      "|James  |Sales      |3000    |\n",
      "|Maria  |Finance    |3000    |\n",
      "|James  |Sales      |3000    |\n",
      "|Jeff   |Marketing  |3000    |\n",
      "------------------------------\n",
      "\n",
      "--------------------------------\n",
      "|name     |dept       |salary  |\n",
      "--------------------------------\n",
      "|Michael  |Sales      |4600    |\n",
      "|Robert   |Sales      |4100    |\n",
      "|Scott    |Finance    |3300    |\n",
      "|Jen      |Finance    |3900    |\n",
      "|Kumar    |Marketing  |2000    |\n",
      "|Saif     |Sales      |4100    |\n",
      "--------------------------------\n",
      "\n"
     ]
    }
   ],
   "source": [
    "#Equals\n",
    "df.filter(df.Dept == \"Sales\") \\\n",
    "    .show()\n",
    "\n",
    "#Not equals\n",
    "df.filter(~(df.Dept == \"Sales\")) \\\n",
    "    .show()\n",
    "df.filter(df.Dept != \"Sales\") \\\n",
    "    .show()    \n",
    "    \n",
    "df.filter(col(\"Dept\") == \"Sales\") \\\n",
    "    .show()    \n",
    "    \n",
    "df.filter(\"Salary  == 3000\") \\\n",
    "    .show()    \n",
    "\n",
    "df.filter(\"Salary  <> 3000\") \\\n",
    "    .show()    "
   ]
  },
  {
   "cell_type": "code",
   "execution_count": 6,
   "id": "1a61886c-73f9-4768-9d45-5565eeed337d",
   "metadata": {},
   "outputs": [
    {
     "name": "stdout",
     "output_type": "stream",
     "text": [
      "--------------------------------\n",
      "|name     |dept       |salary  |\n",
      "--------------------------------\n",
      "|James    |Sales      |3000    |\n",
      "|Michael  |Sales      |4600    |\n",
      "|Robert   |Sales      |4100    |\n",
      "|James    |Sales      |3000    |\n",
      "|Jeff     |Marketing  |3000    |\n",
      "|Kumar    |Marketing  |2000    |\n",
      "|Saif     |Sales      |4100    |\n",
      "--------------------------------\n",
      "\n",
      "----------------------------\n",
      "|name   |dept     |salary  |\n",
      "----------------------------\n",
      "|Maria  |Finance  |3000    |\n",
      "|Scott  |Finance  |3300    |\n",
      "|Jen    |Finance  |3900    |\n",
      "----------------------------\n",
      "\n",
      "--------------------------\n",
      "|name   |dept   |salary  |\n",
      "--------------------------\n",
      "|James  |Sales  |3000    |\n",
      "|James  |Sales  |3000    |\n",
      "--------------------------\n",
      "\n",
      "------------------------------\n",
      "|name   |dept       |salary  |\n",
      "------------------------------\n",
      "|James  |Sales      |3000    |\n",
      "|James  |Sales      |3000    |\n",
      "|Jen    |Finance    |3900    |\n",
      "|Jeff   |Marketing  |3000    |\n",
      "------------------------------\n",
      "\n",
      "-----------------------------\n",
      "|name  |dept       |salary  |\n",
      "-----------------------------\n",
      "|Jeff  |Marketing  |3000    |\n",
      "|Saif  |Sales      |4100    |\n",
      "-----------------------------\n",
      "\n",
      "------------------------------\n",
      "|name     |dept     |salary  |\n",
      "------------------------------\n",
      "|Michael  |Sales    |4600    |\n",
      "|Maria    |Finance  |3000    |\n",
      "------------------------------\n",
      "\n"
     ]
    }
   ],
   "source": [
    "#IS IN\n",
    "li=[\"Sales\",\"Marketing\"]\n",
    "df.filter(df.Dept.isin(li)).show()\n",
    "#IS NOT IN\n",
    "df.filter(~df.Dept.isin(li)).show()\n",
    "\n",
    "df.filter( (df.Dept  == \"Sales\") & (df.Salary  == 3000) ) \\\n",
    "    .show()            \n",
    "\n",
    "\n",
    "df.filter(df.Name.startswith(\"J\")).show()\n",
    "df.filter(df.Name.endswith(\"f\")).show()\n",
    "df.filter(df.Name.like(\"M%\")).show()"
   ]
  },
  {
   "cell_type": "code",
   "execution_count": 7,
   "id": "0e679341-6a8d-4784-9d54-e6e041216fb7",
   "metadata": {},
   "outputs": [],
   "source": [
    "session.close()"
   ]
  },
  {
   "cell_type": "code",
   "execution_count": null,
   "id": "9e58dead-f432-46bf-9b33-db1a3a8f1351",
   "metadata": {},
   "outputs": [],
   "source": []
  }
 ],
 "metadata": {
  "kernelspec": {
   "display_name": "Python 3 (ipykernel)",
   "language": "python",
   "name": "python3"
  },
  "language_info": {
   "codemirror_mode": {
    "name": "ipython",
    "version": 3
   },
   "file_extension": ".py",
   "mimetype": "text/x-python",
   "name": "python",
   "nbconvert_exporter": "python",
   "pygments_lexer": "ipython3",
   "version": "3.11.9"
  }
 },
 "nbformat": 4,
 "nbformat_minor": 5
}
