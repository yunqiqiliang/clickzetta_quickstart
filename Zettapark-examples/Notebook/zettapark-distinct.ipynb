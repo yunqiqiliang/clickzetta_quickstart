{
 "cells": [
  {
   "cell_type": "code",
   "execution_count": 1,
   "id": "03157d66-dfef-4f69-9459-36199352f982",
   "metadata": {},
   "outputs": [],
   "source": [
    "from clickzetta.zettapark.session import Session\n",
    "from clickzetta.zettapark.functions import expr"
   ]
  },
  {
   "cell_type": "code",
   "execution_count": 2,
   "id": "e1cbdb73-be2f-44b5-b42a-c4b6e7c2dd60",
   "metadata": {},
   "outputs": [],
   "source": [
    "import json\n",
    "# 从配置文件中读取参数\n",
    "with open('security/config-uat.json', 'r') as config_file:\n",
    "    config = json.load(config_file)\n",
    "\n",
    "# 创建会话\n",
    "session = Session.builder.configs(config).create()"
   ]
  },
  {
   "cell_type": "code",
   "execution_count": 3,
   "id": "6109b7e3-a43f-403a-9086-9e3d509e2aa9",
   "metadata": {},
   "outputs": [],
   "source": [
    "data = [(\"James\", \"Sales\", 3000), \\\n",
    "    (\"Michael\", \"Sales\", 4600), \\\n",
    "    (\"Robert\", \"Sales\", 4100), \\\n",
    "    (\"Maria\", \"Finance\", 3000), \\\n",
    "    (\"James\", \"Sales\", 3000), \\\n",
    "    (\"Scott\", \"Finance\", 3300), \\\n",
    "    (\"Jen\", \"Finance\", 3900), \\\n",
    "    (\"Jeff\", \"Marketing\", 3000), \\\n",
    "    (\"Kumar\", \"Marketing\", 2000), \\\n",
    "    (\"Saif\", \"Sales\", 4100) \\\n",
    "  ]\n",
    "columns= [\"employee_name\", \"department\", \"salary\"]"
   ]
  },
  {
   "cell_type": "code",
   "execution_count": 4,
   "id": "1e2a52aa-d4d1-408b-b3c7-d93d64584bdd",
   "metadata": {},
   "outputs": [
    {
     "name": "stdout",
     "output_type": "stream",
     "text": [
      "root\n",
      " |-- `employee_name`: StringType() (nullable = False)\n",
      " |-- `department`: StringType() (nullable = False)\n",
      " |-- `salary`: IntegerType() (nullable = False)\n",
      "---------------------------------------\n",
      "|employee_name  |department  |salary  |\n",
      "---------------------------------------\n",
      "|James          |Sales       |3000    |\n",
      "|Michael        |Sales       |4600    |\n",
      "|Robert         |Sales       |4100    |\n",
      "|Maria          |Finance     |3000    |\n",
      "|James          |Sales       |3000    |\n",
      "|Scott          |Finance     |3300    |\n",
      "|Jen            |Finance     |3900    |\n",
      "|Jeff           |Marketing   |3000    |\n",
      "|Kumar          |Marketing   |2000    |\n",
      "|Saif           |Sales       |4100    |\n",
      "---------------------------------------\n",
      "\n"
     ]
    }
   ],
   "source": [
    "df = session.createDataFrame(data=data,schema=columns)\n",
    "df.printSchema()\n",
    "df.show()"
   ]
  },
  {
   "cell_type": "code",
   "execution_count": 5,
   "id": "f5f70210-6b60-4dc5-b48a-5d3c22c2ebb0",
   "metadata": {},
   "outputs": [
    {
     "name": "stdout",
     "output_type": "stream",
     "text": [
      "Distinct count: 9\n",
      "---------------------------------------\n",
      "|employee_name  |department  |salary  |\n",
      "---------------------------------------\n",
      "|Michael        |Sales       |4600    |\n",
      "|Robert         |Sales       |4100    |\n",
      "|Maria          |Finance     |3000    |\n",
      "|James          |Sales       |3000    |\n",
      "|Scott          |Finance     |3300    |\n",
      "|Jen            |Finance     |3900    |\n",
      "|Jeff           |Marketing   |3000    |\n",
      "|Kumar          |Marketing   |2000    |\n",
      "|Saif           |Sales       |4100    |\n",
      "---------------------------------------\n",
      "\n",
      "Distinct count: 9\n",
      "---------------------------------------\n",
      "|employee_name  |department  |salary  |\n",
      "---------------------------------------\n",
      "|Michael        |Sales       |4600    |\n",
      "|Robert         |Sales       |4100    |\n",
      "|Maria          |Finance     |3000    |\n",
      "|James          |Sales       |3000    |\n",
      "|Scott          |Finance     |3300    |\n",
      "|Jen            |Finance     |3900    |\n",
      "|Jeff           |Marketing   |3000    |\n",
      "|Kumar          |Marketing   |2000    |\n",
      "|Saif           |Sales       |4100    |\n",
      "---------------------------------------\n",
      "\n",
      "Distinct count of department salary : 8\n",
      "---------------------------------------\n",
      "|employee_name  |department  |salary  |\n",
      "---------------------------------------\n",
      "|Maria          |Finance     |3000    |\n",
      "|Scott          |Finance     |3300    |\n",
      "|Jen            |Finance     |3900    |\n",
      "|Kumar          |Marketing   |2000    |\n",
      "|Jeff           |Marketing   |3000    |\n",
      "|James          |Sales       |3000    |\n",
      "|Robert         |Sales       |4100    |\n",
      "|Michael        |Sales       |4600    |\n",
      "---------------------------------------\n",
      "\n"
     ]
    }
   ],
   "source": [
    "distinctDF = df.distinct()\n",
    "print(\"Distinct count: \"+str(distinctDF.count()))\n",
    "distinctDF.show()\n",
    "\n",
    "df2 = df.dropDuplicates()\n",
    "print(\"Distinct count: \"+str(df2.count()))\n",
    "df2.show()\n",
    "\n",
    "dropDisDF = df.dropDuplicates([\"department\",\"salary\"])\n",
    "print(\"Distinct count of department salary : \"+str(dropDisDF.count()))\n",
    "dropDisDF.show()"
   ]
  },
  {
   "cell_type": "code",
   "execution_count": 6,
   "id": "0e679341-6a8d-4784-9d54-e6e041216fb7",
   "metadata": {},
   "outputs": [],
   "source": [
    "session.close()"
   ]
  },
  {
   "cell_type": "code",
   "execution_count": null,
   "id": "9e58dead-f432-46bf-9b33-db1a3a8f1351",
   "metadata": {},
   "outputs": [],
   "source": []
  }
 ],
 "metadata": {
  "kernelspec": {
   "display_name": "Python 3 (ipykernel)",
   "language": "python",
   "name": "python3"
  },
  "language_info": {
   "codemirror_mode": {
    "name": "ipython",
    "version": 3
   },
   "file_extension": ".py",
   "mimetype": "text/x-python",
   "name": "python",
   "nbconvert_exporter": "python",
   "pygments_lexer": "ipython3",
   "version": "3.11.9"
  }
 },
 "nbformat": 4,
 "nbformat_minor": 5
}
