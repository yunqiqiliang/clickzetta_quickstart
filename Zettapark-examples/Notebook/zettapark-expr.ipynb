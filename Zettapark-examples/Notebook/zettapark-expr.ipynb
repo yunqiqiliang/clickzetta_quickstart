{
 "cells": [
  {
   "cell_type": "code",
   "execution_count": 1,
   "id": "03157d66-dfef-4f69-9459-36199352f982",
   "metadata": {},
   "outputs": [],
   "source": [
    "from clickzetta.zettapark.session import Session\n",
    "from clickzetta.zettapark.functions import expr"
   ]
  },
  {
   "cell_type": "code",
   "execution_count": 2,
   "id": "e1cbdb73-be2f-44b5-b42a-c4b6e7c2dd60",
   "metadata": {},
   "outputs": [],
   "source": [
    "import json\n",
    "# 从配置文件中读取参数\n",
    "with open('security/config-uat.json', 'r') as config_file:\n",
    "    config = json.load(config_file)\n",
    "\n",
    "# 创建会话\n",
    "session = Session.builder.configs(config).create()"
   ]
  },
  {
   "cell_type": "code",
   "execution_count": 3,
   "id": "1e2a52aa-d4d1-408b-b3c7-d93d64584bdd",
   "metadata": {},
   "outputs": [
    {
     "name": "stdout",
     "output_type": "stream",
     "text": [
      "-------------------------------\n",
      "|col1   |col2   |name         |\n",
      "-------------------------------\n",
      "|James  |Bond   |James,Bond   |\n",
      "|Scott  |Varsa  |Scott,Varsa  |\n",
      "-------------------------------\n",
      "\n"
     ]
    }
   ],
   "source": [
    "#Concatenate columns\n",
    "data=[(\"James\",\"Bond\"),(\"Scott\",\"Varsa\")] \n",
    "df=session.createDataFrame(data).toDF(\"col1\",\"col2\") \n",
    "df.withColumn(\"Name\",expr(\" col1 ||','|| col2\")).show()"
   ]
  },
  {
   "cell_type": "code",
   "execution_count": 4,
   "id": "f5f70210-6b60-4dc5-b48a-5d3c22c2ebb0",
   "metadata": {},
   "outputs": [
    {
     "name": "stdout",
     "output_type": "stream",
     "text": [
      "---------------------\n",
      "|name     |gender   |\n",
      "---------------------\n",
      "|James    |Male     |\n",
      "|Michael  |Female   |\n",
      "|Jen      |unknown  |\n",
      "---------------------\n",
      "\n"
     ]
    }
   ],
   "source": [
    "#Using CASE WHEN sql expression\n",
    "data = [(\"James\",\"M\"),(\"Michael\",\"F\"),(\"Jen\",\"\")]\n",
    "columns = [\"name\",\"gender\"]\n",
    "df = session.createDataFrame(data = data, schema = columns)\n",
    "df2 = df.withColumn(\"gender\", expr(\"CASE WHEN gender = 'M' THEN 'Male' \" +\n",
    "           \"WHEN gender = 'F' THEN 'Female' ELSE 'unknown' END\"))\n",
    "df2.show()"
   ]
  },
  {
   "cell_type": "code",
   "execution_count": 5,
   "id": "d27ceef2-20d4-48c0-bb09-0e611e1f38e6",
   "metadata": {},
   "outputs": [
    {
     "name": "stdout",
     "output_type": "stream",
     "text": [
      "---------------------------------------\n",
      "|date        |increment  |inc_date    |\n",
      "---------------------------------------\n",
      "|2019-01-23  |1          |2019-02-23  |\n",
      "|2019-06-24  |2          |2019-08-24  |\n",
      "|2019-09-20  |3          |2019-12-20  |\n",
      "---------------------------------------\n",
      "\n",
      "---------------------------------------\n",
      "|date        |increment  |inc_date    |\n",
      "---------------------------------------\n",
      "|2019-01-23  |1          |2019-02-23  |\n",
      "|2019-06-24  |2          |2019-08-24  |\n",
      "|2019-09-20  |3          |2019-12-20  |\n",
      "---------------------------------------\n",
      "\n"
     ]
    }
   ],
   "source": [
    "#Add months from a value of another column\n",
    "data=[(\"2019-01-23\",1),(\"2019-06-24\",2),(\"2019-09-20\",3)] \n",
    "df=session.createDataFrame(data).toDF(\"date\",\"increment\") \n",
    "df.select(df.date,df.increment,\n",
    "     expr(\"add_months(date,increment)\")\n",
    "  .alias(\"inc_date\")).show()\n",
    "\n",
    "# Providing alias using 'as'\n",
    "df.select(df.date,df.increment,\n",
    "     expr(\"\"\"add_months(date,increment) as inc_date\"\"\")\n",
    "  ).show()"
   ]
  },
  {
   "cell_type": "code",
   "execution_count": 6,
   "id": "1a61886c-73f9-4768-9d45-5565eeed337d",
   "metadata": {},
   "outputs": [
    {
     "name": "stdout",
     "output_type": "stream",
     "text": [
      "------------------------------------------\n",
      "|date        |increment  |new_increment  |\n",
      "------------------------------------------\n",
      "|2019-01-23  |1          |6              |\n",
      "|2019-06-24  |2          |7              |\n",
      "|2019-09-20  |3          |8              |\n",
      "------------------------------------------\n",
      "\n",
      "root\n",
      " |-- `increment`: IntegerType() (nullable = False)\n",
      " |-- `str_increment`: StringType() (nullable = False)\n",
      "---------------\n",
      "|col1  |col2  |\n",
      "---------------\n",
      "|500   |500   |\n",
      "---------------\n",
      "\n"
     ]
    }
   ],
   "source": [
    "# Add\n",
    "df.select(df.date,df.increment,\n",
    "     expr(\"increment + 5 as new_increment\")\n",
    "  ).show()\n",
    "\n",
    "df.select(\"increment\",expr(\"cast(increment as string) as str_increment\")) \\\n",
    "  .printSchema()\n",
    "#Use expr()  to filter the rows\n",
    "data=[(100,2),(200,3000),(500,500)] \n",
    "df=session.createDataFrame(data).toDF(\"col1\",\"col2\") \n",
    "df.filter(expr(\"col1 == col2\")).show()"
   ]
  },
  {
   "cell_type": "code",
   "execution_count": 7,
   "id": "0e679341-6a8d-4784-9d54-e6e041216fb7",
   "metadata": {},
   "outputs": [],
   "source": [
    "session.close()"
   ]
  },
  {
   "cell_type": "code",
   "execution_count": null,
   "id": "9e58dead-f432-46bf-9b33-db1a3a8f1351",
   "metadata": {},
   "outputs": [],
   "source": []
  }
 ],
 "metadata": {
  "kernelspec": {
   "display_name": "Python 3 (ipykernel)",
   "language": "python",
   "name": "python3"
  },
  "language_info": {
   "codemirror_mode": {
    "name": "ipython",
    "version": 3
   },
   "file_extension": ".py",
   "mimetype": "text/x-python",
   "name": "python",
   "nbconvert_exporter": "python",
   "pygments_lexer": "ipython3",
   "version": "3.11.9"
  }
 },
 "nbformat": 4,
 "nbformat_minor": 5
}
