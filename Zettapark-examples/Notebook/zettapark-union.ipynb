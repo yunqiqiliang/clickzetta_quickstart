{
 "cells": [
  {
   "cell_type": "code",
   "execution_count": 1,
   "id": "03157d66-dfef-4f69-9459-36199352f982",
   "metadata": {},
   "outputs": [],
   "source": [
    "from clickzetta.zettapark.session import Session"
   ]
  },
  {
   "cell_type": "code",
   "execution_count": 2,
   "id": "e1cbdb73-be2f-44b5-b42a-c4b6e7c2dd60",
   "metadata": {},
   "outputs": [],
   "source": [
    "import json\n",
    "# 从配置文件中读取参数\n",
    "with open('security/config-uat.json', 'r') as config_file:\n",
    "    config = json.load(config_file)\n",
    "\n",
    "# 创建会话\n",
    "session = Session.builder.configs(config).create()"
   ]
  },
  {
   "cell_type": "code",
   "execution_count": 4,
   "id": "c97074c0-fa3c-436a-b3d6-9d1e6d5e159f",
   "metadata": {},
   "outputs": [
    {
     "name": "stdout",
     "output_type": "stream",
     "text": [
      "root\n",
      " |-- `employee_name`: StringType() (nullable = False)\n",
      " |-- `department`: StringType() (nullable = False)\n",
      " |-- `state`: StringType() (nullable = False)\n",
      " |-- `salary`: IntegerType() (nullable = False)\n",
      " |-- `age`: IntegerType() (nullable = False)\n",
      " |-- `bonus`: IntegerType() (nullable = False)\n",
      "-------------------------------------------------------------\n",
      "|employee_name  |department  |state  |salary  |age  |bonus  |\n",
      "-------------------------------------------------------------\n",
      "|James          |Sales       |NY     |90000   |34   |10000  |\n",
      "|Michael        |Sales       |NY     |86000   |56   |20000  |\n",
      "|Robert         |Sales       |CA     |81000   |30   |23000  |\n",
      "|Maria          |Finance     |CA     |90000   |24   |23000  |\n",
      "-------------------------------------------------------------\n",
      "\n"
     ]
    }
   ],
   "source": [
    "simpleData = [(\"James\",\"Sales\",\"NY\",90000,34,10000), \\\n",
    "    (\"Michael\",\"Sales\",\"NY\",86000,56,20000), \\\n",
    "    (\"Robert\",\"Sales\",\"CA\",81000,30,23000), \\\n",
    "    (\"Maria\",\"Finance\",\"CA\",90000,24,23000) \\\n",
    "  ]\n",
    "\n",
    "columns= [\"employee_name\",\"department\",\"state\",\"salary\",\"age\",\"bonus\"]\n",
    "df = session.createDataFrame(data = simpleData, schema = columns)\n",
    "df.printSchema()\n",
    "df.show()"
   ]
  },
  {
   "cell_type": "code",
   "execution_count": 5,
   "id": "2aa3fda0-cfd9-4d7a-92d3-f7dc5349bda0",
   "metadata": {},
   "outputs": [
    {
     "name": "stdout",
     "output_type": "stream",
     "text": [
      "root\n",
      " |-- `employee_name`: StringType() (nullable = False)\n",
      " |-- `department`: StringType() (nullable = False)\n",
      " |-- `state`: StringType() (nullable = False)\n",
      " |-- `salary`: IntegerType() (nullable = False)\n",
      " |-- `age`: IntegerType() (nullable = False)\n",
      " |-- `bonus`: IntegerType() (nullable = False)\n",
      "-------------------------------------------------------------\n",
      "|employee_name  |department  |state  |salary  |age  |bonus  |\n",
      "-------------------------------------------------------------\n",
      "|James          |Sales       |NY     |90000   |34   |10000  |\n",
      "|Maria          |Finance     |CA     |90000   |24   |23000  |\n",
      "|Jen            |Finance     |NY     |79000   |53   |15000  |\n",
      "|Jeff           |Marketing   |CA     |80000   |25   |18000  |\n",
      "|Kumar          |Marketing   |NY     |91000   |50   |21000  |\n",
      "-------------------------------------------------------------\n",
      "\n"
     ]
    }
   ],
   "source": [
    "simpleData2 = [(\"James\",\"Sales\",\"NY\",90000,34,10000), \\\n",
    "    (\"Maria\",\"Finance\",\"CA\",90000,24,23000), \\\n",
    "    (\"Jen\",\"Finance\",\"NY\",79000,53,15000), \\\n",
    "    (\"Jeff\",\"Marketing\",\"CA\",80000,25,18000), \\\n",
    "    (\"Kumar\",\"Marketing\",\"NY\",91000,50,21000) \\\n",
    "  ]\n",
    "columns2= [\"employee_name\",\"department\",\"state\",\"salary\",\"age\",\"bonus\"]\n",
    "\n",
    "df2 = session.createDataFrame(data = simpleData2, schema = columns2)\n",
    "\n",
    "df2.printSchema()\n",
    "df2.show()"
   ]
  },
  {
   "cell_type": "code",
   "execution_count": 6,
   "id": "6d958953-881d-4864-80d3-863acd567039",
   "metadata": {},
   "outputs": [
    {
     "name": "stdout",
     "output_type": "stream",
     "text": [
      "-------------------------------------------------------------\n",
      "|employee_name  |department  |state  |salary  |age  |bonus  |\n",
      "-------------------------------------------------------------\n",
      "|Kumar          |Marketing   |NY     |91000   |50   |21000  |\n",
      "|Jeff           |Marketing   |CA     |80000   |25   |18000  |\n",
      "|Maria          |Finance     |CA     |90000   |24   |23000  |\n",
      "|Michael        |Sales       |NY     |86000   |56   |20000  |\n",
      "|Jen            |Finance     |NY     |79000   |53   |15000  |\n",
      "|James          |Sales       |NY     |90000   |34   |10000  |\n",
      "|Robert         |Sales       |CA     |81000   |30   |23000  |\n",
      "-------------------------------------------------------------\n",
      "\n",
      "-------------------------------------------------------------\n",
      "|employee_name  |department  |state  |salary  |age  |bonus  |\n",
      "-------------------------------------------------------------\n",
      "|Robert         |Sales       |CA     |81000   |30   |23000  |\n",
      "|James          |Sales       |NY     |90000   |34   |10000  |\n",
      "|Jen            |Finance     |NY     |79000   |53   |15000  |\n",
      "|Kumar          |Marketing   |NY     |91000   |50   |21000  |\n",
      "|Jeff           |Marketing   |CA     |80000   |25   |18000  |\n",
      "|Maria          |Finance     |CA     |90000   |24   |23000  |\n",
      "|Michael        |Sales       |NY     |86000   |56   |20000  |\n",
      "-------------------------------------------------------------\n",
      "\n"
     ]
    }
   ],
   "source": [
    "unionDF = df.union(df2)\n",
    "unionDF.show()\n",
    "disDF = df.union(df2).distinct()\n",
    "disDF.show()"
   ]
  },
  {
   "cell_type": "code",
   "execution_count": 7,
   "id": "20b61d29-5a8f-4489-965f-250832b786f7",
   "metadata": {},
   "outputs": [
    {
     "name": "stdout",
     "output_type": "stream",
     "text": [
      "-------------------------------------------------------------\n",
      "|employee_name  |department  |state  |salary  |age  |bonus  |\n",
      "-------------------------------------------------------------\n",
      "|James          |Sales       |NY     |90000   |34   |10000  |\n",
      "|Michael        |Sales       |NY     |86000   |56   |20000  |\n",
      "|Robert         |Sales       |CA     |81000   |30   |23000  |\n",
      "|Maria          |Finance     |CA     |90000   |24   |23000  |\n",
      "|James          |Sales       |NY     |90000   |34   |10000  |\n",
      "|Maria          |Finance     |CA     |90000   |24   |23000  |\n",
      "|Jen            |Finance     |NY     |79000   |53   |15000  |\n",
      "|Jeff           |Marketing   |CA     |80000   |25   |18000  |\n",
      "|Kumar          |Marketing   |NY     |91000   |50   |21000  |\n",
      "-------------------------------------------------------------\n",
      "\n"
     ]
    }
   ],
   "source": [
    "unionAllDF = df.unionAll(df2)\n",
    "unionAllDF.show()"
   ]
  },
  {
   "cell_type": "code",
   "execution_count": 8,
   "id": "0e679341-6a8d-4784-9d54-e6e041216fb7",
   "metadata": {},
   "outputs": [],
   "source": [
    "session.close()"
   ]
  },
  {
   "cell_type": "code",
   "execution_count": null,
   "id": "9e58dead-f432-46bf-9b33-db1a3a8f1351",
   "metadata": {},
   "outputs": [],
   "source": []
  }
 ],
 "metadata": {
  "kernelspec": {
   "display_name": "Python 3 (ipykernel)",
   "language": "python",
   "name": "python3"
  },
  "language_info": {
   "codemirror_mode": {
    "name": "ipython",
    "version": 3
   },
   "file_extension": ".py",
   "mimetype": "text/x-python",
   "name": "python",
   "nbconvert_exporter": "python",
   "pygments_lexer": "ipython3",
   "version": "3.11.9"
  }
 },
 "nbformat": 4,
 "nbformat_minor": 5
}
