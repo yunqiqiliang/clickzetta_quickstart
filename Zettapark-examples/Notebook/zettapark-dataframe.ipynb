{
 "cells": [
  {
   "cell_type": "code",
   "execution_count": 1,
   "id": "e1cbdb73-be2f-44b5-b42a-c4b6e7c2dd60",
   "metadata": {},
   "outputs": [],
   "source": [
    "import json\n",
    "from clickzetta.zettapark.session import Session\n",
    "# 从配置文件中读取参数\n",
    "with open('security/config-uat.json', 'r') as config_file:\n",
    "    config = json.load(config_file)\n",
    "\n",
    "# 创建会话\n",
    "session = Session.builder.configs(config).create()"
   ]
  },
  {
   "cell_type": "code",
   "execution_count": 2,
   "id": "c8932d8b-3f91-4d22-9f15-4558bb1fb8f8",
   "metadata": {},
   "outputs": [
    {
     "name": "stdout",
     "output_type": "stream",
     "text": [
      "------------------------------------------\n",
      "|firstname  |lastname  |country  |state  |\n",
      "------------------------------------------\n",
      "|James      |Smith     |USA      |CA     |\n",
      "|Michael    |Rose      |USA      |NY     |\n",
      "|Robert     |Williams  |USA      |CA     |\n",
      "|Maria      |Jones     |USA      |FL     |\n",
      "------------------------------------------\n",
      "\n"
     ]
    }
   ],
   "source": [
    "data = [(\"James\",\"Smith\",\"USA\",\"CA\"),\n",
    "    (\"Michael\",\"Rose\",\"USA\",\"NY\"),\n",
    "    (\"Robert\",\"Williams\",\"USA\",\"CA\"),\n",
    "    (\"Maria\",\"Jones\",\"USA\",\"FL\")\n",
    "  ]\n",
    "\n",
    "columns = [\"firstname\",\"lastname\",\"country\",\"state\"]\n",
    "df = session.createDataFrame(data = data, schema = columns)\n",
    "df.show()"
   ]
  },
  {
   "cell_type": "code",
   "execution_count": 3,
   "id": "c6f0c52b-9855-4421-870f-9a419588efe2",
   "metadata": {},
   "outputs": [
    {
     "name": "stdout",
     "output_type": "stream",
     "text": [
      "root\n",
      " |-- `first name`: StringType() (nullable = True)\n",
      " |-- `last name`: StringType() (nullable = True)\n",
      " |-- `country`: StringType() (nullable = True)\n",
      " |-- `state`: StringType() (nullable = True)\n",
      "--------------------------------------------\n",
      "|first name  |last name  |country  |state  |\n",
      "--------------------------------------------\n",
      "|James       |Smith      |USA      |CA     |\n",
      "|Michael     |Rose       |USA      |NY     |\n",
      "|Robert      |Williams   |USA      |CA     |\n",
      "|Maria       |Jones      |USA      |FL     |\n",
      "--------------------------------------------\n",
      "\n"
     ]
    }
   ],
   "source": [
    "#sparkDF=spark.createDataFrame(pandasDF.astype(str)) \n",
    "from clickzetta.zettapark.types import StructType,StructField, StringType, IntegerType\n",
    "mySchema = StructType([ StructField(\"First Name\", StringType(), True)\\\n",
    "                       ,StructField(\"Last Name\", StringType(), True)\\\n",
    "                       ,StructField(\"Country\", StringType(), True)\\\n",
    "                       ,StructField(\"State\", StringType(), True)])\n",
    "\n",
    "sparkDF2 = session.createDataFrame(data,schema=mySchema)\n",
    "sparkDF2.printSchema()\n",
    "sparkDF2.show()"
   ]
  },
  {
   "cell_type": "code",
   "execution_count": 4,
   "id": "0fbc14f4-3932-4ce8-ac76-fe83cb0182b6",
   "metadata": {},
   "outputs": [
    {
     "name": "stdout",
     "output_type": "stream",
     "text": [
      "--------------------------------------------\n",
      "|first name  |last name  |country  |state  |\n",
      "--------------------------------------------\n",
      "|James       |Smith      |USA      |CA     |\n",
      "|Michael     |Rose       |USA      |NY     |\n",
      "|Robert      |Williams   |USA      |CA     |\n",
      "|Maria       |Jones      |USA      |FL     |\n",
      "--------------------------------------------\n",
      "\n"
     ]
    }
   ],
   "source": [
    "# session.conf.set(\"spark.sql.execution.arrow.enabled\",\"true\")\n",
    "# session.conf.set(\"spark.sql.execution.arrow.pyspark.fallback.enabled\",\"true\")\n",
    "\n",
    "pandasDF2=sparkDF2.select(\"*\").toPandas\n",
    "sparkDF2.show()"
   ]
  },
  {
   "cell_type": "code",
   "execution_count": 5,
   "id": "0e679341-6a8d-4784-9d54-e6e041216fb7",
   "metadata": {},
   "outputs": [],
   "source": [
    "session.close()"
   ]
  },
  {
   "cell_type": "code",
   "execution_count": null,
   "id": "813da2c5-7f28-45b5-b3cd-ec169e325a0f",
   "metadata": {},
   "outputs": [],
   "source": []
  }
 ],
 "metadata": {
  "kernelspec": {
   "display_name": "Python 3 (ipykernel)",
   "language": "python",
   "name": "python3"
  },
  "language_info": {
   "codemirror_mode": {
    "name": "ipython",
    "version": 3
   },
   "file_extension": ".py",
   "mimetype": "text/x-python",
   "name": "python",
   "nbconvert_exporter": "python",
   "pygments_lexer": "ipython3",
   "version": "3.11.9"
  }
 },
 "nbformat": 4,
 "nbformat_minor": 5
}
