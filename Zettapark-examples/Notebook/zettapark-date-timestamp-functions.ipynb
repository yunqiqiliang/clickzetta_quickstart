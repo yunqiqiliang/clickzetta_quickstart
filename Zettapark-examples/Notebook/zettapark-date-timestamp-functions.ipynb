{
 "cells": [
  {
   "cell_type": "code",
   "execution_count": 1,
   "id": "03157d66-dfef-4f69-9459-36199352f982",
   "metadata": {},
   "outputs": [],
   "source": [
    "from clickzetta.zettapark.session import Session\n",
    "from clickzetta.zettapark.functions import *\n",
    "from clickzetta.zettapark import functions as F"
   ]
  },
  {
   "cell_type": "code",
   "execution_count": 2,
   "id": "e1cbdb73-be2f-44b5-b42a-c4b6e7c2dd60",
   "metadata": {},
   "outputs": [],
   "source": [
    "import json\n",
    "# 从配置文件中读取参数\n",
    "with open('security/config-uat.json', 'r') as config_file:\n",
    "    config = json.load(config_file)\n",
    "\n",
    "# 创建会话\n",
    "session = Session.builder.configs(config).create()"
   ]
  },
  {
   "cell_type": "code",
   "execution_count": 3,
   "id": "1857bd3b-9481-46af-90ce-fc6c3bd13656",
   "metadata": {},
   "outputs": [],
   "source": [
    "data=[[\"1\",\"2020-02-01\"],[\"2\",\"2019-03-01\"],[\"3\",\"2021-03-01\"]]"
   ]
  },
  {
   "cell_type": "code",
   "execution_count": 4,
   "id": "1e2a52aa-d4d1-408b-b3c7-d93d64584bdd",
   "metadata": {},
   "outputs": [
    {
     "name": "stdout",
     "output_type": "stream",
     "text": [
      "-------------------\n",
      "|id  |input       |\n",
      "-------------------\n",
      "|1   |2020-02-01  |\n",
      "|2   |2019-03-01  |\n",
      "|3   |2021-03-01  |\n",
      "-------------------\n",
      "\n"
     ]
    }
   ],
   "source": [
    "df = session.createDataFrame(data,[\"id\",\"input\"])\n",
    "df.show()"
   ]
  },
  {
   "cell_type": "code",
   "execution_count": 5,
   "id": "eb73ba8d-8fb5-4d76-a67d-33e50226e730",
   "metadata": {},
   "outputs": [
    {
     "name": "stdout",
     "output_type": "stream",
     "text": [
      "----------------\n",
      "|current_date  |\n",
      "----------------\n",
      "|2024-12-26    |\n",
      "----------------\n",
      "\n"
     ]
    }
   ],
   "source": [
    "#current_date()\n",
    "df.select(current_date().alias(\"current_date\")\n",
    "  ).show(1)"
   ]
  },
  {
   "cell_type": "code",
   "execution_count": 6,
   "id": "fc97e72c-33c0-4f4a-8e99-f809f8fd2ef9",
   "metadata": {},
   "outputs": [
    {
     "name": "stdout",
     "output_type": "stream",
     "text": [
      "-----------------------------\n",
      "|input       |date_format_  |\n",
      "-----------------------------\n",
      "|2020-02-01  |02-01-2020    |\n",
      "|2019-03-01  |03-01-2019    |\n",
      "|2021-03-01  |03-01-2021    |\n",
      "-----------------------------\n",
      "\n"
     ]
    }
   ],
   "source": [
    "#date_format()\n",
    "df.select(col(\"input\"), \n",
    "    date_format(col(\"input\"), \"MM-dd-yyyy\").alias(\"date_format_\") \n",
    "  ).show()"
   ]
  },
  {
   "cell_type": "code",
   "execution_count": 7,
   "id": "5501b5fe-41e1-4056-98e3-b89109918587",
   "metadata": {},
   "outputs": [
    {
     "name": "stdout",
     "output_type": "stream",
     "text": [
      "---------------------------\n",
      "|input       |to_date     |\n",
      "---------------------------\n",
      "|2020-02-01  |2020-02-01  |\n",
      "|2019-03-01  |2019-03-01  |\n",
      "|2021-03-01  |2021-03-01  |\n",
      "---------------------------\n",
      "\n"
     ]
    }
   ],
   "source": [
    "#to_date()\n",
    "df.select(col(\"input\"), \n",
    "    to_date(col(\"input\"), \"yyy-MM-dd\").alias(\"to_date\") \n",
    "  ).show()"
   ]
  },
  {
   "cell_type": "code",
   "execution_count": 8,
   "id": "a06f47ce-1ca9-4b01-8ff0-8eea8e15756b",
   "metadata": {},
   "outputs": [
    {
     "name": "stdout",
     "output_type": "stream",
     "text": [
      "-------------------------------\n",
      "|input       |months_between  |\n",
      "-------------------------------\n",
      "|2020-02-01  |-58             |\n",
      "|2019-03-01  |-69             |\n",
      "|2021-03-01  |-45             |\n",
      "-------------------------------\n",
      "\n"
     ]
    }
   ],
   "source": [
    "#months_between()\n",
    "df.select(col(\"input\"), \n",
    "    months_between(current_date(),col(\"input\")).alias(\"months_between\")  \n",
    "  ).show()"
   ]
  },
  {
   "cell_type": "code",
   "execution_count": 9,
   "id": "052eec30-0cf3-46e5-b5d3-58f278cba30d",
   "metadata": {},
   "outputs": [
    {
     "name": "stdout",
     "output_type": "stream",
     "text": [
      "-----------------------------------------------------\n",
      "|input       |month_trunc  |month_year  |day_trunc  |\n",
      "-----------------------------------------------------\n",
      "|2020-02-01  |2020-02-01   |2020-01-01  |NULL       |\n",
      "|2019-03-01  |2019-03-01   |2019-01-01  |NULL       |\n",
      "|2021-03-01  |2021-03-01   |2021-01-01  |NULL       |\n",
      "-----------------------------------------------------\n",
      "\n"
     ]
    }
   ],
   "source": [
    "#trunc()\n",
    "df.select(F.col(\"input\"), \n",
    "    F.trunc(F.col(\"input\"), lit(\"MONTH\")).alias(\"Month_Trunc\"), \n",
    "    F.trunc(F.col(\"input\"), lit(\"YEAR\")).alias(\"Month_Year\"), \n",
    "    F.trunc(F.col(\"input\"), lit(\"DAY\")).alias(\"Day_Trunc\")\n",
    ").show()\n"
   ]
  },
  {
   "cell_type": "code",
   "execution_count": 10,
   "id": "68bdc479-e098-4473-ab5b-7ede522e2ed9",
   "metadata": {},
   "outputs": [
    {
     "name": "stdout",
     "output_type": "stream",
     "text": [
      "------------------------------------------------------------------\n",
      "|input       |add_months  |sub_months  |date_add    |date_sub    |\n",
      "------------------------------------------------------------------\n",
      "|2020-02-01  |2020-05-01  |2019-11-01  |2020-02-05  |2020-01-28  |\n",
      "|2019-03-01  |2019-06-01  |2018-12-01  |2019-03-05  |2019-02-25  |\n",
      "|2021-03-01  |2021-06-01  |2020-12-01  |2021-03-05  |2021-02-25  |\n",
      "------------------------------------------------------------------\n",
      "\n"
     ]
    }
   ],
   "source": [
    "#add_months() , date_add(), date_sub()\n",
    "\n",
    "df.select(col(\"input\"), \n",
    "    add_months(col(\"input\"),3).alias(\"add_months\"), \n",
    "    add_months(col(\"input\"),-3).alias(\"sub_months\"), \n",
    "    date_add(col(\"input\"),4).alias(\"date_add\"), \n",
    "    date_sub(col(\"input\"),4).alias(\"date_sub\") \n",
    "  ).show()"
   ]
  },
  {
   "cell_type": "code",
   "execution_count": 11,
   "id": "bbc9dc9b-dc39-4a19-b493-c3121d7b5c8c",
   "metadata": {},
   "outputs": [
    {
     "name": "stdout",
     "output_type": "stream",
     "text": [
      "------------------------------------------\n",
      "|input       |year  |month  |weekofyear  |\n",
      "------------------------------------------\n",
      "|2020-02-01  |2020  |2      |5           |\n",
      "|2019-03-01  |2019  |3      |9           |\n",
      "|2021-03-01  |2021  |3      |9           |\n",
      "------------------------------------------\n",
      "\n"
     ]
    }
   ],
   "source": [
    "df.select(col(\"input\"), \n",
    "     year(col(\"input\")).alias(\"year\"), \n",
    "     month(col(\"input\")).alias(\"month\"), \n",
    "     # next_day(col(\"input\"),\"Sunday\").alias(\"next_day\"), \n",
    "     weekofyear(col(\"input\")).alias(\"weekofyear\") \n",
    "  ).show()"
   ]
  },
  {
   "cell_type": "code",
   "execution_count": 12,
   "id": "d47889b7-a9cf-4b58-9030-a0dea6e70401",
   "metadata": {},
   "outputs": [
    {
     "name": "stdout",
     "output_type": "stream",
     "text": [
      "---------------------------------------------------\n",
      "|input       |dayofweek  |dayofmonth  |dayofyear  |\n",
      "---------------------------------------------------\n",
      "|2020-02-01  |7          |1           |32         |\n",
      "|2019-03-01  |6          |1           |60         |\n",
      "|2021-03-01  |2          |1           |60         |\n",
      "---------------------------------------------------\n",
      "\n"
     ]
    }
   ],
   "source": [
    "df.select(col(\"input\"),  \n",
    "     dayofweek(col(\"input\")).alias(\"dayofweek\"), \n",
    "     dayofmonth(col(\"input\")).alias(\"dayofmonth\"), \n",
    "     dayofyear(col(\"input\")).alias(\"dayofyear\"), \n",
    "  ).show()"
   ]
  },
  {
   "cell_type": "code",
   "execution_count": 13,
   "id": "ae28a0ab-c9c6-479e-9595-97d00a76c89e",
   "metadata": {},
   "outputs": [
    {
     "name": "stdout",
     "output_type": "stream",
     "text": [
      "--------------------------------\n",
      "|id  |input                    |\n",
      "--------------------------------\n",
      "|1   |02-01-2020 11 01 19 06   |\n",
      "|2   |03-01-2019 12 01 19 406  |\n",
      "|3   |03-01-2021 12 01 19 406  |\n",
      "--------------------------------\n",
      "\n"
     ]
    }
   ],
   "source": [
    "data=[[\"1\",\"02-01-2020 11 01 19 06\"],[\"2\",\"03-01-2019 12 01 19 406\"],[\"3\",\"03-01-2021 12 01 19 406\"]]\n",
    "df2=session.createDataFrame(data,[\"id\",\"input\"])\n",
    "df2.show()"
   ]
  },
  {
   "cell_type": "code",
   "execution_count": 14,
   "id": "e5c57b97-a5ba-424e-9647-70a491f6c31b",
   "metadata": {},
   "outputs": [
    {
     "name": "stdout",
     "output_type": "stream",
     "text": [
      "------------------------------------\n",
      "|current_timestamp                 |\n",
      "------------------------------------\n",
      "|2024-12-26 11:52:40.629325+08:00  |\n",
      "------------------------------------\n",
      "\n",
      "--------------------------------------------------------------\n",
      "|input                    |to_timestamp                      |\n",
      "--------------------------------------------------------------\n",
      "|02-01-2020 11 01 19 06   |2020-02-01 11:01:19.060000+08:00  |\n",
      "|03-01-2019 12 01 19 406  |2019-03-01 12:01:19.406000+08:00  |\n",
      "|03-01-2021 12 01 19 406  |2021-03-01 12:01:19.406000+08:00  |\n",
      "--------------------------------------------------------------\n",
      "\n"
     ]
    }
   ],
   "source": [
    "#current_timestamp()\n",
    "df2.select(current_timestamp().alias(\"current_timestamp\")\n",
    "  ).show(1)\n",
    "\n",
    "#to_timestamp()\n",
    "df2.select(col(\"input\"), \n",
    "    to_timestamp(col(\"input\"), \"MM-dd-yyyy HH mm ss SSS\").alias(\"to_timestamp\") \n",
    "  ).show()"
   ]
  },
  {
   "cell_type": "code",
   "execution_count": 15,
   "id": "818ff10c-b582-4569-9a4e-8777c44b2448",
   "metadata": {},
   "outputs": [
    {
     "name": "stdout",
     "output_type": "stream",
     "text": [
      "----------------------------------------------------\n",
      "|input                    |hour  |minute  |second  |\n",
      "----------------------------------------------------\n",
      "|2020-02-01 11:01:19.06   |11    |1       |19      |\n",
      "|2019-03-01 12:01:19.406  |12    |1       |19      |\n",
      "|2021-03-01 12:01:19.406  |12    |1       |19      |\n",
      "----------------------------------------------------\n",
      "\n"
     ]
    }
   ],
   "source": [
    "#hour, minute,second\n",
    "data=[[\"1\",\"2020-02-01 11:01:19.06\"],[\"2\",\"2019-03-01 12:01:19.406\"],[\"3\",\"2021-03-01 12:01:19.406\"]]\n",
    "df3=session.createDataFrame(data,[\"id\",\"input\"])\n",
    "\n",
    "df3.select(col(\"input\"), \n",
    "    hour(col(\"input\")).alias(\"hour\"), \n",
    "    minute(col(\"input\")).alias(\"minute\"),\n",
    "    second(col(\"input\")).alias(\"second\") \n",
    "  ).show()"
   ]
  },
  {
   "cell_type": "code",
   "execution_count": 16,
   "id": "0e679341-6a8d-4784-9d54-e6e041216fb7",
   "metadata": {},
   "outputs": [],
   "source": [
    "session.close()"
   ]
  },
  {
   "cell_type": "code",
   "execution_count": null,
   "id": "9e58dead-f432-46bf-9b33-db1a3a8f1351",
   "metadata": {},
   "outputs": [],
   "source": []
  }
 ],
 "metadata": {
  "kernelspec": {
   "display_name": "Python 3 (ipykernel)",
   "language": "python",
   "name": "python3"
  },
  "language_info": {
   "codemirror_mode": {
    "name": "ipython",
    "version": 3
   },
   "file_extension": ".py",
   "mimetype": "text/x-python",
   "name": "python",
   "nbconvert_exporter": "python",
   "pygments_lexer": "ipython3",
   "version": "3.11.9"
  }
 },
 "nbformat": 4,
 "nbformat_minor": 5
}
