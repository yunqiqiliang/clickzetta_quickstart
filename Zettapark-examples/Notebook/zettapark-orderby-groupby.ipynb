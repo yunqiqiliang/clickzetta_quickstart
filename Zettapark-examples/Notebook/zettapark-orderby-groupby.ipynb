{
 "cells": [
  {
   "cell_type": "code",
   "execution_count": 1,
   "id": "ae8baa73-b50a-4053-ba14-e8ea8af546b8",
   "metadata": {},
   "outputs": [],
   "source": [
    "# !pip install -U clickzetta-zettapark-python -i https://pypi.tuna.tsinghua.edu.cn/simple"
   ]
  },
  {
   "cell_type": "code",
   "execution_count": 2,
   "id": "08517c72-519b-45da-9945-a978e7d40e4d",
   "metadata": {},
   "outputs": [],
   "source": [
    "# !pip uninstall -y clickzetta_zettapark_python-1.13.0-py3-none-any.whl"
   ]
  },
  {
   "cell_type": "code",
   "execution_count": 3,
   "id": "03157d66-dfef-4f69-9459-36199352f982",
   "metadata": {},
   "outputs": [],
   "source": [
    "from clickzetta.zettapark.session import Session"
   ]
  },
  {
   "cell_type": "code",
   "execution_count": 4,
   "id": "e1cbdb73-be2f-44b5-b42a-c4b6e7c2dd60",
   "metadata": {},
   "outputs": [],
   "source": [
    "import json\n",
    "# 从配置文件中读取参数\n",
    "with open('security/config-uat.json', 'r') as config_file:\n",
    "    config = json.load(config_file)\n",
    "\n",
    "# 创建会话\n",
    "session = Session.builder.configs(config).create()"
   ]
  },
  {
   "cell_type": "code",
   "execution_count": 6,
   "id": "1e2a52aa-d4d1-408b-b3c7-d93d64584bdd",
   "metadata": {},
   "outputs": [],
   "source": [
    "simpleData = [(\"James\",\"Sales\",\"NY\",90000,34,10000),\n",
    "    (\"Michael\",\"Sales\",\"NV\",86000,56,20000),\n",
    "    (\"Robert\",\"Sales\",\"CA\",81000,30,23000),\n",
    "    (\"Maria\",\"Finance\",\"CA\",90000,24,23000),\n",
    "    (\"Raman\",\"Finance\",\"DE\",99000,40,24000),\n",
    "    (\"Scott\",\"Finance\",\"NY\",83000,36,19000),\n",
    "    (\"Jen\",\"Finance\",\"NY\",79000,53,15000),\n",
    "    (\"Jeff\",\"Marketing\",\"NV\",80000,25,18000),\n",
    "    (\"Kumar\",\"Marketing\",\"NJ\",91000,50,21000)\n",
    "  ]\n",
    "schema = [\"employee_name\",\"department\",\"state\",\"salary\",\"age\",\"bonus\"]"
   ]
  },
  {
   "cell_type": "code",
   "execution_count": 7,
   "id": "f5f70210-6b60-4dc5-b48a-5d3c22c2ebb0",
   "metadata": {},
   "outputs": [
    {
     "name": "stdout",
     "output_type": "stream",
     "text": [
      "root\n",
      " |-- `employee_name`: StringType() (nullable = False)\n",
      " |-- `department`: StringType() (nullable = False)\n",
      " |-- `state`: StringType() (nullable = False)\n",
      " |-- `salary`: IntegerType() (nullable = False)\n",
      " |-- `age`: IntegerType() (nullable = False)\n",
      " |-- `bonus`: IntegerType() (nullable = False)\n",
      "-------------------------------------------------------------\n",
      "|employee_name  |department  |state  |salary  |age  |bonus  |\n",
      "-------------------------------------------------------------\n",
      "|James          |Sales       |NY     |90000   |34   |10000  |\n",
      "|Michael        |Sales       |NV     |86000   |56   |20000  |\n",
      "|Robert         |Sales       |CA     |81000   |30   |23000  |\n",
      "|Maria          |Finance     |CA     |90000   |24   |23000  |\n",
      "|Raman          |Finance     |DE     |99000   |40   |24000  |\n",
      "|Scott          |Finance     |NY     |83000   |36   |19000  |\n",
      "|Jen            |Finance     |NY     |79000   |53   |15000  |\n",
      "|Jeff           |Marketing   |NV     |80000   |25   |18000  |\n",
      "|Kumar          |Marketing   |NJ     |91000   |50   |21000  |\n",
      "-------------------------------------------------------------\n",
      "\n",
      "------------------------\n",
      "|state  |total_salary  |\n",
      "------------------------\n",
      "|CA     |171000        |\n",
      "|DE     |99000         |\n",
      "|NY     |252000        |\n",
      "|NV     |166000        |\n",
      "|NJ     |91000         |\n",
      "------------------------\n",
      "\n"
     ]
    }
   ],
   "source": [
    "from clickzetta.zettapark.functions import sum\n",
    "df = session.createDataFrame(data=simpleData, schema = schema)\n",
    "df.printSchema()\n",
    "df.show()\n",
    "\n",
    "dfSort = df.sort(df.state, df.salary).groupBy(df.state).agg(sum(df.salary).alias('total_salary'))\n",
    "dfSort.show()"
   ]
  },
  {
   "cell_type": "code",
   "execution_count": 8,
   "id": "0e679341-6a8d-4784-9d54-e6e041216fb7",
   "metadata": {},
   "outputs": [],
   "source": [
    "session.close()"
   ]
  },
  {
   "cell_type": "code",
   "execution_count": null,
   "id": "9e58dead-f432-46bf-9b33-db1a3a8f1351",
   "metadata": {},
   "outputs": [],
   "source": []
  }
 ],
 "metadata": {
  "kernelspec": {
   "display_name": "Python 3 (ipykernel)",
   "language": "python",
   "name": "python3"
  },
  "language_info": {
   "codemirror_mode": {
    "name": "ipython",
    "version": 3
   },
   "file_extension": ".py",
   "mimetype": "text/x-python",
   "name": "python",
   "nbconvert_exporter": "python",
   "pygments_lexer": "ipython3",
   "version": "3.11.9"
  }
 },
 "nbformat": 4,
 "nbformat_minor": 5
}
