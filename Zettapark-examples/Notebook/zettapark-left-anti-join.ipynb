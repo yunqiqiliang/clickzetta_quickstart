{
 "cells": [
  {
   "cell_type": "code",
   "execution_count": 1,
   "id": "03157d66-dfef-4f69-9459-36199352f982",
   "metadata": {},
   "outputs": [],
   "source": [
    "from clickzetta.zettapark.session import Session"
   ]
  },
  {
   "cell_type": "code",
   "execution_count": 2,
   "id": "e1cbdb73-be2f-44b5-b42a-c4b6e7c2dd60",
   "metadata": {},
   "outputs": [],
   "source": [
    "import json\n",
    "# 从配置文件中读取参数\n",
    "with open('security/config-uat.json', 'r') as config_file:\n",
    "    config = json.load(config_file)\n",
    "\n",
    "# 创建会话\n",
    "session = Session.builder.configs(config).create()"
   ]
  },
  {
   "cell_type": "code",
   "execution_count": 3,
   "id": "1e2a52aa-d4d1-408b-b3c7-d93d64584bdd",
   "metadata": {},
   "outputs": [],
   "source": [
    "emp = [(1,\"Smith\",-1,\"2018\",\"10\",\"M\",3000), \\\n",
    "    (2,\"Rose\",1,\"2010\",\"20\",\"M\",4000), \\\n",
    "    (3,\"Williams\",1,\"2010\",\"10\",\"M\",1000), \\\n",
    "    (4,\"Jones\",2,\"2005\",\"10\",\"F\",2000), \\\n",
    "    (5,\"Brown\",2,\"2010\",\"40\",\"\",-1), \\\n",
    "      (6,\"Brown\",2,\"2010\",\"50\",\"\",-1) \\\n",
    "  ]\n",
    "empColumns = [\"emp_id\",\"name\",\"superior_emp_id\",\"year_joined\", \\\n",
    "       \"emp_dept_id\",\"gender\",\"salary\"]"
   ]
  },
  {
   "cell_type": "code",
   "execution_count": 4,
   "id": "d770ec33-d078-49e6-a6dd-1009336ce0e5",
   "metadata": {},
   "outputs": [
    {
     "name": "stdout",
     "output_type": "stream",
     "text": [
      "root\n",
      " |-- `emp_id`: IntegerType() (nullable = False)\n",
      " |-- `name`: StringType() (nullable = False)\n",
      " |-- `superior_emp_id`: IntegerType() (nullable = False)\n",
      " |-- `year_joined`: StringType() (nullable = False)\n",
      " |-- `emp_dept_id`: StringType() (nullable = False)\n",
      " |-- `gender`: StringType() (nullable = False)\n",
      " |-- `salary`: IntegerType() (nullable = False)\n",
      "-------------------------------------------------------------------------------------\n",
      "|emp_id  |name      |superior_emp_id  |year_joined  |emp_dept_id  |gender  |salary  |\n",
      "-------------------------------------------------------------------------------------\n",
      "|1       |Smith     |-1               |2018         |10           |M       |3000    |\n",
      "|2       |Rose      |1                |2010         |20           |M       |4000    |\n",
      "|3       |Williams  |1                |2010         |10           |M       |1000    |\n",
      "|4       |Jones     |2                |2005         |10           |F       |2000    |\n",
      "|5       |Brown     |2                |2010         |40           |        |-1      |\n",
      "|6       |Brown     |2                |2010         |50           |        |-1      |\n",
      "-------------------------------------------------------------------------------------\n",
      "\n",
      "root\n",
      " |-- `dept_name`: StringType() (nullable = False)\n",
      " |-- `dept_id`: IntegerType() (nullable = False)\n",
      "-----------------------\n",
      "|dept_name  |dept_id  |\n",
      "-----------------------\n",
      "|Finance    |10       |\n",
      "|Marketing  |20       |\n",
      "|Sales      |30       |\n",
      "|IT         |40       |\n",
      "-----------------------\n",
      "\n",
      "-----------------------------------------------------------------------------------------------------------\n",
      "|emp_id  |name      |superior_emp_id  |year_joined  |emp_dept_id  |gender  |salary  |dept_name  |dept_id  |\n",
      "-----------------------------------------------------------------------------------------------------------\n",
      "|1       |Smith     |-1               |2018         |10           |M       |3000    |Finance    |10       |\n",
      "|2       |Rose      |1                |2010         |20           |M       |4000    |Marketing  |20       |\n",
      "|3       |Williams  |1                |2010         |10           |M       |1000    |Finance    |10       |\n",
      "|4       |Jones     |2                |2005         |10           |F       |2000    |Finance    |10       |\n",
      "|5       |Brown     |2                |2010         |40           |        |-1      |IT         |40       |\n",
      "|6       |Brown     |2                |2010         |50           |        |-1      |NULL       |NULL     |\n",
      "-----------------------------------------------------------------------------------------------------------\n",
      "\n",
      "-----------------------------------------------------------------------------------------------------------\n",
      "|emp_id  |name      |superior_emp_id  |year_joined  |emp_dept_id  |gender  |salary  |dept_name  |dept_id  |\n",
      "-----------------------------------------------------------------------------------------------------------\n",
      "|1       |Smith     |-1               |2018         |10           |M       |3000    |Finance    |10       |\n",
      "|2       |Rose      |1                |2010         |20           |M       |4000    |Marketing  |20       |\n",
      "|3       |Williams  |1                |2010         |10           |M       |1000    |Finance    |10       |\n",
      "|4       |Jones     |2                |2005         |10           |F       |2000    |Finance    |10       |\n",
      "|5       |Brown     |2                |2010         |40           |        |-1      |IT         |40       |\n",
      "|6       |Brown     |2                |2010         |50           |        |-1      |NULL       |NULL     |\n",
      "-----------------------------------------------------------------------------------------------------------\n",
      "\n",
      "----------------------------------------------------------------------------------\n",
      "|emp_id  |name   |superior_emp_id  |year_joined  |emp_dept_id  |gender  |salary  |\n",
      "----------------------------------------------------------------------------------\n",
      "|6       |Brown  |2                |2010         |50           |        |-1      |\n",
      "----------------------------------------------------------------------------------\n",
      "\n"
     ]
    }
   ],
   "source": [
    "empDF = session.createDataFrame(data=emp, schema = empColumns)\n",
    "empDF.printSchema()\n",
    "empDF.show()\n",
    "\n",
    "dept = [(\"Finance\",10), \\\n",
    "    (\"Marketing\",20), \\\n",
    "    (\"Sales\",30), \\\n",
    "    (\"IT\",40) \\\n",
    "  ]\n",
    "deptColumns = [\"dept_name\",\"dept_id\"]\n",
    "deptDF = session.createDataFrame(data=dept, schema = deptColumns)\n",
    "deptDF.printSchema()\n",
    "deptDF.show()\n",
    "\n",
    "empDF.join(deptDF,empDF.emp_dept_id ==  deptDF.dept_id,\"left\").show()\n",
    "empDF.join(deptDF,empDF.emp_dept_id ==  deptDF.dept_id,\"leftouter\").show()\n",
    "\n",
    "empDF.createOrReplaceTempView(\"EMP\")\n",
    "deptDF.createOrReplaceTempView(\"DEPT\")\n",
    "\n",
    "joinDF2 = session.sql(\"SELECT e.* FROM EMP e LEFT ANTI JOIN DEPT d ON e.emp_dept_id == d.dept_id\") \\\n",
    "  .show()    "
   ]
  },
  {
   "cell_type": "code",
   "execution_count": 5,
   "id": "0e679341-6a8d-4784-9d54-e6e041216fb7",
   "metadata": {},
   "outputs": [],
   "source": [
    "session.close()"
   ]
  },
  {
   "cell_type": "code",
   "execution_count": null,
   "id": "9e58dead-f432-46bf-9b33-db1a3a8f1351",
   "metadata": {},
   "outputs": [],
   "source": []
  }
 ],
 "metadata": {
  "kernelspec": {
   "display_name": "Python 3 (ipykernel)",
   "language": "python",
   "name": "python3"
  },
  "language_info": {
   "codemirror_mode": {
    "name": "ipython",
    "version": 3
   },
   "file_extension": ".py",
   "mimetype": "text/x-python",
   "name": "python",
   "nbconvert_exporter": "python",
   "pygments_lexer": "ipython3",
   "version": "3.11.9"
  }
 },
 "nbformat": 4,
 "nbformat_minor": 5
}
