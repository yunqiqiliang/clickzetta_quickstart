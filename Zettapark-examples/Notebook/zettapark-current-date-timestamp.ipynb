{
 "cells": [
  {
   "cell_type": "code",
   "execution_count": 1,
   "id": "e1cbdb73-be2f-44b5-b42a-c4b6e7c2dd60",
   "metadata": {},
   "outputs": [],
   "source": [
    "import json\n",
    "from clickzetta.zettapark.session import Session\n",
    "from clickzetta.zettapark.functions import current_date, current_timestamp,date_format,to_timestamp\n",
    "# 从配置文件中读取参数\n",
    "with open('security/config-uat.json', 'r') as config_file:\n",
    "    config = json.load(config_file)\n",
    "\n",
    "# 创建会话\n",
    "session = Session.builder.configs(config).create()"
   ]
  },
  {
   "cell_type": "code",
   "execution_count": 2,
   "id": "6109b7e3-a43f-403a-9086-9e3d509e2aa9",
   "metadata": {},
   "outputs": [],
   "source": [
    "data=[[\"1\"]]\n",
    "df=session.createDataFrame(data,[\"id\"])"
   ]
  },
  {
   "cell_type": "code",
   "execution_count": 3,
   "id": "fe69f2bb-7238-41b5-9fb7-989329aadbf9",
   "metadata": {},
   "outputs": [
    {
     "name": "stdout",
     "output_type": "stream",
     "text": [
      "--------------------------------------------------------\n",
      "|id  |current_date  |current_timestamp                 |\n",
      "--------------------------------------------------------\n",
      "|1   |2024-12-26    |2024-12-26 11:51:34.598197+08:00  |\n",
      "--------------------------------------------------------\n",
      "\n",
      "-------------------------------------------------------\n",
      "|`current_date`()  |`current_timestamp`()             |\n",
      "-------------------------------------------------------\n",
      "|2024-12-26        |2024-12-26 11:51:34.922825+08:00  |\n",
      "-------------------------------------------------------\n",
      "\n"
     ]
    }
   ],
   "source": [
    "#current_date() & current_timestamp()\n",
    "df.withColumn(\"current_date\",current_date()) \\\n",
    "  .withColumn(\"current_timestamp\",current_timestamp()) \\\n",
    "  .show()\n",
    "\n",
    "#SQL\n",
    "session.sql(\"select current_date(), current_timestamp()\") \\\n",
    "     .show()"
   ]
  },
  {
   "cell_type": "code",
   "execution_count": 4,
   "id": "f0b902a2-132f-404c-b403-c02460957fea",
   "metadata": {},
   "outputs": [
    {
     "name": "stdout",
     "output_type": "stream",
     "text": [
      "-----------------------------------\n",
      "|id  |date_format  |to_timestamp  |\n",
      "-----------------------------------\n",
      "|1   |12-26-2024   |NULL          |\n",
      "-----------------------------------\n",
      "\n"
     ]
    }
   ],
   "source": [
    "# Date & Timestamp into custom format\n",
    "df.withColumn(\"date_format\",date_format(current_date(),\"MM-dd-yyyy\")) \\\n",
    "  .withColumn(\"to_timestamp\",to_timestamp(current_timestamp(),\"MM-dd-yyyy HH mm ss SSS\")) \\\n",
    "  .show()"
   ]
  },
  {
   "cell_type": "code",
   "execution_count": 5,
   "id": "30648b59-8a85-4b22-974a-2b9596d0a96a",
   "metadata": {},
   "outputs": [
    {
     "name": "stdout",
     "output_type": "stream",
     "text": [
      "--------------------------------------------------\n",
      "|date_format  |to_timestamp                      |\n",
      "--------------------------------------------------\n",
      "|12-26-2024   |2024-12-26 11:51:35.488000+08:00  |\n",
      "--------------------------------------------------\n",
      "\n"
     ]
    }
   ],
   "source": [
    "session.sql(\"SELECT date_format(current_date(), 'MM-dd-yyyy') AS date_format, \" +\n",
    "            \"to_timestamp(date_format(current_timestamp(), 'yyyy-MM-dd HH:mm:ss.SSS')) AS to_timestamp\") \\\n",
    "       .show()"
   ]
  },
  {
   "cell_type": "code",
   "execution_count": 6,
   "id": "0e679341-6a8d-4784-9d54-e6e041216fb7",
   "metadata": {},
   "outputs": [],
   "source": [
    "session.close()"
   ]
  },
  {
   "cell_type": "code",
   "execution_count": null,
   "id": "9e58dead-f432-46bf-9b33-db1a3a8f1351",
   "metadata": {},
   "outputs": [],
   "source": []
  }
 ],
 "metadata": {
  "kernelspec": {
   "display_name": "Python 3 (ipykernel)",
   "language": "python",
   "name": "python3"
  },
  "language_info": {
   "codemirror_mode": {
    "name": "ipython",
    "version": 3
   },
   "file_extension": ".py",
   "mimetype": "text/x-python",
   "name": "python",
   "nbconvert_exporter": "python",
   "pygments_lexer": "ipython3",
   "version": "3.11.9"
  }
 },
 "nbformat": 4,
 "nbformat_minor": 5
}
