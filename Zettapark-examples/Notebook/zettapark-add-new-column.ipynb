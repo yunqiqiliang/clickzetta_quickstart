{
 "cells": [
  {
   "cell_type": "code",
   "execution_count": 1,
   "id": "e1cbdb73-be2f-44b5-b42a-c4b6e7c2dd60",
   "metadata": {},
   "outputs": [],
   "source": [
    "import json\n",
    "from clickzetta.zettapark.session import Session\n",
    "# 从配置文件中读取参数\n",
    "with open('security/config-uat.json', 'r') as config_file:\n",
    "    config = json.load(config_file)\n",
    "\n",
    "# 创建会话\n",
    "session = Session.builder.configs(config).create()"
   ]
  },
  {
   "cell_type": "code",
   "execution_count": 2,
   "id": "ddfe82ea-9b4c-4160-9f3d-8d3b7c25c89d",
   "metadata": {},
   "outputs": [
    {
     "name": "stdout",
     "output_type": "stream",
     "text": [
      "------------------------------------------\n",
      "|firstname  |lastname  |gender  |salary  |\n",
      "------------------------------------------\n",
      "|James      |Smith     |M       |3000    |\n",
      "|Anna       |Rose      |F       |4100    |\n",
      "|Robert     |Williams  |M       |6200    |\n",
      "------------------------------------------\n",
      "\n",
      "aa\n"
     ]
    }
   ],
   "source": [
    "data = [('James','Smith','M',3000),\n",
    "  ('Anna','Rose','F',4100),\n",
    "  ('Robert','Williams','M',6200), \n",
    "]\n",
    "\n",
    "columns = [\"firstname\",\"lastname\",\"gender\",\"salary\"]\n",
    "df = session.createDataFrame(data=data, schema = columns)\n",
    "df.show()\n",
    "\n",
    "\n",
    "if 'salary1' not in df.columns:\n",
    "    print(\"aa\")"
   ]
  },
  {
   "cell_type": "code",
   "execution_count": 3,
   "id": "92160b5f-0897-40ab-9ed5-cb6e3a4d4dbb",
   "metadata": {},
   "outputs": [
    {
     "name": "stdout",
     "output_type": "stream",
     "text": [
      "----------------------------------------------------------------\n",
      "|firstname  |lastname  |gender  |salary  |bonus_percent        |\n",
      "----------------------------------------------------------------\n",
      "|James      |Smith     |M       |3000    |0.30000001192092896  |\n",
      "|Anna       |Rose      |F       |4100    |0.30000001192092896  |\n",
      "|Robert     |Williams  |M       |6200    |0.30000001192092896  |\n",
      "----------------------------------------------------------------\n",
      "\n"
     ]
    }
   ],
   "source": [
    "# Add new constanct column\n",
    "from clickzetta.zettapark.functions import lit\n",
    "df.withColumn(\"bonus_percent\", lit(0.3)) \\\n",
    "  .show()"
   ]
  },
  {
   "cell_type": "code",
   "execution_count": 4,
   "id": "c815b4d7-c456-45e5-bca0-874b998d0235",
   "metadata": {},
   "outputs": [
    {
     "name": "stdout",
     "output_type": "stream",
     "text": [
      "---------------------------------------------------------------\n",
      "|firstname  |lastname  |gender  |salary  |bonus_amount        |\n",
      "---------------------------------------------------------------\n",
      "|James      |Smith     |M       |3000    |900.0000357627869   |\n",
      "|Anna       |Rose      |F       |4100    |1230.0000488758087  |\n",
      "|Robert     |Williams  |M       |6200    |1860.0000739097595  |\n",
      "---------------------------------------------------------------\n",
      "\n"
     ]
    }
   ],
   "source": [
    "#Add column from existing column\n",
    "df.withColumn(\"bonus_amount\", df.salary*0.3) \\\n",
    "  .show()"
   ]
  },
  {
   "cell_type": "code",
   "execution_count": 5,
   "id": "aee89389-3ff5-45d6-b892-f4bb35b3c28c",
   "metadata": {},
   "outputs": [
    {
     "name": "stdout",
     "output_type": "stream",
     "text": [
      "-----------------------------------------------------\n",
      "|firstname  |lastname  |gender  |salary  |name      |\n",
      "-----------------------------------------------------\n",
      "|James      |Smith     |M       |3000    |Smith     |\n",
      "|Anna       |Rose      |F       |4100    |Rose      |\n",
      "|Robert     |Williams  |M       |6200    |Williams  |\n",
      "-----------------------------------------------------\n",
      "\n"
     ]
    }
   ],
   "source": [
    "#Add column by concatinating existing columns\n",
    "from clickzetta.zettapark.functions import concat_ws\n",
    "df.withColumn(\"name\", concat_ws(\"firstname\",'lastname')) \\\n",
    "  .show()"
   ]
  },
  {
   "cell_type": "code",
   "execution_count": 6,
   "id": "ea23a6b9-2ae0-42b1-93c6-81c3354d0d1d",
   "metadata": {},
   "outputs": [
    {
     "name": "stdout",
     "output_type": "stream",
     "text": [
      "---------------------------------------------------------\n",
      "|firstname  |lastname  |gender  |salary  |current_date  |\n",
      "---------------------------------------------------------\n",
      "|James      |Smith     |M       |3000    |2024-12-26    |\n",
      "|Anna       |Rose      |F       |4100    |2024-12-26    |\n",
      "|Robert     |Williams  |M       |6200    |2024-12-26    |\n",
      "---------------------------------------------------------\n",
      "\n"
     ]
    }
   ],
   "source": [
    "#Add current date\n",
    "from clickzetta.zettapark.functions import current_date\n",
    "df.withColumn(\"current_date\", current_date()) \\\n",
    "  .show()"
   ]
  },
  {
   "cell_type": "code",
   "execution_count": 7,
   "id": "1806217e-8302-4d56-838e-78385a67c54a",
   "metadata": {},
   "outputs": [
    {
     "name": "stdout",
     "output_type": "stream",
     "text": [
      "--------------------------------------------------\n",
      "|firstname  |lastname  |gender  |salary  |grade  |\n",
      "--------------------------------------------------\n",
      "|James      |Smith     |M       |3000    |A      |\n",
      "|Anna       |Rose      |F       |4100    |B      |\n",
      "|Robert     |Williams  |M       |6200    |C      |\n",
      "--------------------------------------------------\n",
      "\n",
      "--------------------------------------------\n",
      "|firstname  |salary  |bonus                |\n",
      "--------------------------------------------\n",
      "|James      |3000    |0.30000001192092896  |\n",
      "|Anna       |4100    |0.30000001192092896  |\n",
      "|Robert     |6200    |0.30000001192092896  |\n",
      "--------------------------------------------\n",
      "\n",
      "-------------------------------------------\n",
      "|firstname  |salary  |bonus_amount        |\n",
      "-------------------------------------------\n",
      "|James      |3000    |900.0000357627869   |\n",
      "|Anna       |4100    |1230.0000488758087  |\n",
      "|Robert     |6200    |1860.0000739097595  |\n",
      "-------------------------------------------\n",
      "\n",
      "-----------------------------------\n",
      "|firstname  |salary  |today_date  |\n",
      "-----------------------------------\n",
      "|James      |3000    |2024-12-26  |\n",
      "|Anna       |4100    |2024-12-26  |\n",
      "|Robert     |6200    |2024-12-26  |\n",
      "-----------------------------------\n",
      "\n",
      "------------------------------\n",
      "|firstname  |salary  |bonus  |\n",
      "------------------------------\n",
      "|James      |3000    |0.3    |\n",
      "|Anna       |4100    |0.3    |\n",
      "|Robert     |6200    |0.3    |\n",
      "------------------------------\n",
      "\n",
      "-------------------------------------\n",
      "|firstname  |salary  |bonus_amount  |\n",
      "-------------------------------------\n",
      "|James      |3000    |900.0         |\n",
      "|Anna       |4100    |1230.0        |\n",
      "|Robert     |6200    |1860.0        |\n",
      "-------------------------------------\n",
      "\n",
      "-----------------------------------\n",
      "|firstname  |salary  |today_date  |\n",
      "-----------------------------------\n",
      "|James      |3000    |2024-12-26  |\n",
      "|Anna       |4100    |2024-12-26  |\n",
      "|Robert     |6200    |2024-12-26  |\n",
      "-----------------------------------\n",
      "\n"
     ]
    }
   ],
   "source": [
    "from clickzetta.zettapark.functions import when\n",
    "df.withColumn(\"grade\", \\\n",
    "   when((df.salary < 4000), lit(\"A\")) \\\n",
    "     .when((df.salary >= 4000) & (df.salary <= 5000), lit(\"B\")) \\\n",
    "     .otherwise(lit(\"C\")) \\\n",
    "  ).show()\n",
    "    \n",
    "# Add column using select\n",
    "df.select(\"firstname\",\"salary\", lit(0.3).alias(\"bonus\")).show()\n",
    "df.select(\"firstname\",\"salary\", lit(df.salary * 0.3).alias(\"bonus_amount\")).show()\n",
    "df.select(\"firstname\",\"salary\", current_date().alias(\"today_date\")).show()\n",
    "\n",
    "#Add columns using SQL\n",
    "df.createOrReplaceTempView(\"PER\")\n",
    "session.sql(\"select firstname,salary, '0.3' as bonus from PER\").show()\n",
    "session.sql(\"select firstname,salary, salary * 0.3 as bonus_amount from PER\").show()\n",
    "session.sql(\"select firstname,salary, current_date() as today_date from PER\").show()"
   ]
  },
  {
   "cell_type": "code",
   "execution_count": 8,
   "id": "0b3b6828-b492-4138-9d79-368d5ae6c3d0",
   "metadata": {},
   "outputs": [
    {
     "name": "stdout",
     "output_type": "stream",
     "text": [
      "------------------------------\n",
      "|firstname  |salary  |grade  |\n",
      "------------------------------\n",
      "|James      |3000    |A      |\n",
      "|Anna       |4100    |B      |\n",
      "|Robert     |6200    |B      |\n",
      "------------------------------\n",
      "\n"
     ]
    }
   ],
   "source": [
    "session.sql(\"select firstname,salary, \" +\n",
    "          \"case  when salary < 4000 then 'A' \"+\n",
    "          \"else 'B' END as grade from PER\").show()"
   ]
  },
  {
   "cell_type": "code",
   "execution_count": 9,
   "id": "0e679341-6a8d-4784-9d54-e6e041216fb7",
   "metadata": {},
   "outputs": [],
   "source": [
    "session.close()"
   ]
  }
 ],
 "metadata": {
  "kernelspec": {
   "display_name": "Python 3 (ipykernel)",
   "language": "python",
   "name": "python3"
  },
  "language_info": {
   "codemirror_mode": {
    "name": "ipython",
    "version": 3
   },
   "file_extension": ".py",
   "mimetype": "text/x-python",
   "name": "python",
   "nbconvert_exporter": "python",
   "pygments_lexer": "ipython3",
   "version": "3.11.9"
  }
 },
 "nbformat": 4,
 "nbformat_minor": 5
}
