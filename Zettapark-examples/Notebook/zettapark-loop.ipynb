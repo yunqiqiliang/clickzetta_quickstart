{
 "cells": [
  {
   "cell_type": "code",
   "execution_count": 1,
   "id": "03157d66-dfef-4f69-9459-36199352f982",
   "metadata": {},
   "outputs": [],
   "source": [
    "from clickzetta.zettapark.session import Session"
   ]
  },
  {
   "cell_type": "code",
   "execution_count": 2,
   "id": "e1cbdb73-be2f-44b5-b42a-c4b6e7c2dd60",
   "metadata": {},
   "outputs": [],
   "source": [
    "import json\n",
    "# 从配置文件中读取参数\n",
    "with open('security/config-uat.json', 'r') as config_file:\n",
    "    config = json.load(config_file)\n",
    "\n",
    "# 创建会话\n",
    "session = Session.builder.configs(config).create()"
   ]
  },
  {
   "cell_type": "code",
   "execution_count": 4,
   "id": "1e2a52aa-d4d1-408b-b3c7-d93d64584bdd",
   "metadata": {},
   "outputs": [
    {
     "name": "stdout",
     "output_type": "stream",
     "text": [
      "------------------------------------------\n",
      "|firstname  |lastname  |gender  |salary  |\n",
      "------------------------------------------\n",
      "|James      |Smith     |M       |30      |\n",
      "|Anna       |Rose      |F       |41      |\n",
      "|Robert     |Williams  |M       |62      |\n",
      "------------------------------------------\n",
      "\n"
     ]
    }
   ],
   "source": [
    "data = [('James','Smith','M',30),\n",
    "  ('Anna','Rose','F',41),\n",
    "  ('Robert','Williams','M',62), \n",
    "]\n",
    "\n",
    "columns = [\"firstname\",\"lastname\",\"gender\",\"salary\"]\n",
    "df = session.createDataFrame(data=data, schema = columns)\n",
    "df.show()\n"
   ]
  },
  {
   "cell_type": "code",
   "execution_count": 5,
   "id": "f5f70210-6b60-4dc5-b48a-5d3c22c2ebb0",
   "metadata": {},
   "outputs": [],
   "source": [
    "# from clickzetta.zettapark.functions import concat_ws,col,lit\n",
    "# df.select(concat_ws(\",\",df.firstname,df.lastname).alias(\"name\"), \\\n",
    "#           df.gender,lit(df.salary*2).alias(\"new_salary\")).show()\n",
    "\n",
    "# print(df.collect())\n",
    "# rdd=df.rdd.map(lambda x: \n",
    "#     (x[0]+\",\"+x[1],x[2],x[3]*2)\n",
    "#     )  \n",
    "# df2=rdd.toDF([\"name\",\"gender\",\"new_salary\"]   )\n",
    "# df2.show()\n"
   ]
  },
  {
   "cell_type": "code",
   "execution_count": 6,
   "id": "60fa158d-b7da-4c02-b679-e8d1311e5126",
   "metadata": {},
   "outputs": [
    {
     "name": "stdout",
     "output_type": "stream",
     "text": [
      "-----------------------------------------\n",
      "|name             |gender  |new_salary  |\n",
      "-----------------------------------------\n",
      "|James,Smith      |M       |60          |\n",
      "|Anna,Rose        |F       |82          |\n",
      "|Robert,Williams  |M       |124         |\n",
      "-----------------------------------------\n",
      "\n",
      "[Row(name='James,Smith', gender='M', new_salary=60), Row(name='Anna,Rose', gender='F', new_salary=82), Row(name='Robert,Williams', gender='M', new_salary=124)]\n"
     ]
    }
   ],
   "source": [
    "from clickzetta.zettapark.functions import concat_ws, col, lit\n",
    "\n",
    "# 直接使用 DataFrame 操作\n",
    "df2 = df.select(\n",
    "    concat_ws(lit(\",\"), df.firstname, df.lastname).alias(\"name\"),\n",
    "    df.gender,\n",
    "    (df.salary * 2).alias(\"new_salary\")\n",
    ")\n",
    "\n",
    "# 显示 DataFrame\n",
    "df2.show()\n",
    "\n",
    "# 如果你需要收集数据到本地并打印\n",
    "print(df2.collect())\n"
   ]
  },
  {
   "cell_type": "code",
   "execution_count": 7,
   "id": "ffc6e668-3c61-4620-87ed-6a1f043f38d6",
   "metadata": {},
   "outputs": [],
   "source": [
    "# #Referring Column Names\n",
    "# rdd2=df.rdd.map(lambda x: \n",
    "#     (x[\"firstname\"]+\",\"+x[\"lastname\"],x[\"gender\"],x[\"salary\"]*2)\n",
    "#     ) \n",
    "\n",
    "\n",
    "# #Referring Column Names\n",
    "# rdd2=df.rdd.map(lambda x: \n",
    "#     (x.firstname+\",\"+x.lastname,x.gender,x.salary*2)\n",
    "#     ) \n",
    "\n",
    "\n",
    "# def func1(x):\n",
    "#     firstName=x.firstname\n",
    "#     lastName=x.lastName\n",
    "#     name=firstName+\",\"+lastName\n",
    "#     gender=x.gender.lower()\n",
    "#     salary=x.salary*2\n",
    "#     return (name,gender,salary)\n",
    "\n",
    "# rdd2=df.rdd.map(lambda x: func1(x))\n",
    "\n",
    "# #Foeeach example\n",
    "# def f(x): print(x)\n",
    "# df.rdd.foreach(f)\n",
    "\n",
    "# df.rdd.foreach(lambda x: \n",
    "#     print(\"Data ==>\"+x[\"firstname\"]+\",\"+x[\"lastname\"]+\",\"+x[\"gender\"]+\",\"+str(x[\"salary\"]*2))\n",
    "#     ) \n",
    "    \n",
    "# #Iterate collected data\n",
    "# dataCollect = df.collect()\n",
    "# for row in dataCollect:\n",
    "#     print(row['firstname'] + \",\" +row['lastname'])\n",
    "    \n",
    "# #Convert to Pandas and Iterate\n",
    "\n",
    "# dataCollect=df.rdd.toLocalIterator()\n",
    "# for row in dataCollect:\n",
    "#     print(row['firstname'] + \",\" +row['lastname'])\n",
    "\n",
    "# import pandas as pd\n",
    "# pandasDF = df.toPandas()\n",
    "# for index, row in pandasDF.iterrows():\n",
    "#     print(row['firstname'], row['gender'])"
   ]
  },
  {
   "cell_type": "code",
   "execution_count": 8,
   "id": "0897c1d8-5fb4-404e-bccb-a5895016c5d9",
   "metadata": {},
   "outputs": [],
   "source": [
    "# 将RDD代码改为DF方式"
   ]
  },
  {
   "cell_type": "code",
   "execution_count": 10,
   "id": "30c1f71b-f995-4514-b458-8dc7c531255d",
   "metadata": {},
   "outputs": [
    {
     "name": "stdout",
     "output_type": "stream",
     "text": [
      "-----------------------------------------\n",
      "|name             |gender  |new_salary  |\n",
      "-----------------------------------------\n",
      "|James,Smith      |M       |60          |\n",
      "|Anna,Rose        |F       |82          |\n",
      "|Robert,Williams  |M       |124         |\n",
      "-----------------------------------------\n",
      "\n",
      "-----------------------------------------\n",
      "|name             |gender  |new_salary  |\n",
      "-----------------------------------------\n",
      "|James,Smith      |M       |60          |\n",
      "|Anna,Rose        |F       |82          |\n",
      "|Robert,Williams  |M       |124         |\n",
      "-----------------------------------------\n",
      "\n",
      "Row(firstname='James', lastname='Smith', gender='M', salary=30)\n",
      "Row(firstname='Anna', lastname='Rose', gender='F', salary=41)\n",
      "Row(firstname='Robert', lastname='Williams', gender='M', salary=62)\n",
      "Data ==> James,Smith,M,60\n",
      "Data ==> Anna,Rose,F,82\n",
      "Data ==> Robert,Williams,M,124\n",
      "James,Smith\n",
      "Anna,Rose\n",
      "Robert,Williams\n"
     ]
    }
   ],
   "source": [
    "from clickzetta.zettapark.functions import concat_ws, col, lower\n",
    "\n",
    "# Referring Column Names without RDD\n",
    "df2 = df.select(\n",
    "    concat_ws(lit(\",\"), col(\"firstname\"), col(\"lastname\")).alias(\"name\"),\n",
    "    col(\"gender\"),\n",
    "    (col(\"salary\") * 2).alias(\"new_salary\")\n",
    ")\n",
    "df2.show()\n",
    "\n",
    "# 使用 DataFrame API 而不是 RDD\n",
    "df2 = df.select(\n",
    "    concat_ws(lit(\",\"), df[\"firstname\"], df[\"lastname\"]).alias(\"name\"),\n",
    "    df[\"gender\"],\n",
    "    (df[\"salary\"] * 2).alias(\"new_salary\")\n",
    ")\n",
    "df2.show()\n",
    "\n",
    "# Foreach example without RDD\n",
    "def f(row):\n",
    "    print(row)\n",
    "\n",
    "# 使用 collect 方法获取所有行，并用 for 循环处理\n",
    "dataCollect = df.collect()\n",
    "for row in dataCollect:\n",
    "    f(row)\n",
    "\n",
    "for row in dataCollect:\n",
    "    print(\n",
    "        \"Data ==> \" + row[\"firstname\"] + \",\" + row[\"lastname\"] + \",\" + row[\"gender\"] + \",\" + str(row[\"salary\"] * 2)\n",
    "    )\n",
    "\n",
    "# Iterate collected data without RDD\n",
    "for row in dataCollect:\n",
    "    print(row['firstname'] + \",\" + row['lastname'])\n"
   ]
  },
  {
   "cell_type": "code",
   "execution_count": 12,
   "id": "206ab0dc-2af7-4432-8217-551af9f9a7e4",
   "metadata": {},
   "outputs": [
    {
     "name": "stdout",
     "output_type": "stream",
     "text": [
      "James M\n",
      "Anna F\n",
      "Robert M\n"
     ]
    }
   ],
   "source": [
    "import pandas as pd\n",
    "from clickzetta.zettapark.functions import col\n",
    "\n",
    "# 收集数据并转换为 Pandas DataFrame\n",
    "data = df.collect()\n",
    "pandasDF = pd.DataFrame(data, columns=df.columns)\n",
    "\n",
    "# 迭代并打印数据\n",
    "for index, row in pandasDF.iterrows():\n",
    "    print(row['firstname'], row['gender'])\n"
   ]
  },
  {
   "cell_type": "code",
   "execution_count": 13,
   "id": "0e679341-6a8d-4784-9d54-e6e041216fb7",
   "metadata": {},
   "outputs": [],
   "source": [
    "session.close()"
   ]
  },
  {
   "cell_type": "code",
   "execution_count": null,
   "id": "9e58dead-f432-46bf-9b33-db1a3a8f1351",
   "metadata": {},
   "outputs": [],
   "source": []
  }
 ],
 "metadata": {
  "kernelspec": {
   "display_name": "Python 3 (ipykernel)",
   "language": "python",
   "name": "python3"
  },
  "language_info": {
   "codemirror_mode": {
    "name": "ipython",
    "version": 3
   },
   "file_extension": ".py",
   "mimetype": "text/x-python",
   "name": "python",
   "nbconvert_exporter": "python",
   "pygments_lexer": "ipython3",
   "version": "3.11.9"
  }
 },
 "nbformat": 4,
 "nbformat_minor": 5
}
