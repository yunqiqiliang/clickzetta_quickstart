{
 "cells": [
  {
   "cell_type": "code",
   "execution_count": 1,
   "id": "03157d66-dfef-4f69-9459-36199352f982",
   "metadata": {},
   "outputs": [],
   "source": [
    "import clickzetta.zettapark\n",
    "from clickzetta.zettapark.session import Session\n",
    "from clickzetta.zettapark.functions import split, col, lit"
   ]
  },
  {
   "cell_type": "code",
   "execution_count": 2,
   "id": "e1cbdb73-be2f-44b5-b42a-c4b6e7c2dd60",
   "metadata": {},
   "outputs": [],
   "source": [
    "import json\n",
    "# 从配置文件中读取参数\n",
    "with open('security/config-uat.json', 'r') as config_file:\n",
    "    config = json.load(config_file)\n",
    "\n",
    "# 创建会话\n",
    "session = Session.builder.configs(config).create()"
   ]
  },
  {
   "cell_type": "code",
   "execution_count": 4,
   "id": "c97074c0-fa3c-436a-b3d6-9d1e6d5e159f",
   "metadata": {},
   "outputs": [
    {
     "name": "stdout",
     "output_type": "stream",
     "text": [
      "root\n",
      " |-- `firstname`: StringType() (nullable = False)\n",
      " |-- `middlename`: StringType() (nullable = False)\n",
      " |-- `lastname`: StringType() (nullable = False)\n",
      " |-- `dob`: StringType() (nullable = False)\n",
      "--------------------------------------------------\n",
      "|firstname  |middlename  |lastname  |dob         |\n",
      "--------------------------------------------------\n",
      "|James      |            |Smith     |1991-04-01  |\n",
      "|Michael    |Rose        |          |2000-05-19  |\n",
      "|Robert     |            |Williams  |1978-09-05  |\n",
      "|Maria      |Anne        |Jones     |1967-12-01  |\n",
      "|Jen        |Mary        |Brown     |1980-02-17  |\n",
      "--------------------------------------------------\n",
      "\n"
     ]
    }
   ],
   "source": [
    "data=data = [('James','','Smith','1991-04-01'),\n",
    "  ('Michael','Rose','','2000-05-19'),\n",
    "  ('Robert','','Williams','1978-09-05'),\n",
    "  ('Maria','Anne','Jones','1967-12-01'),\n",
    "  ('Jen','Mary','Brown','1980-02-17')\n",
    "]\n",
    "\n",
    "columns=[\"firstname\",\"middlename\",\"lastname\",\"dob\"]\n",
    "df=session.createDataFrame(data,columns)\n",
    "df.printSchema()\n",
    "df.show()"
   ]
  },
  {
   "cell_type": "code",
   "execution_count": 5,
   "id": "2aa3fda0-cfd9-4d7a-92d3-f7dc5349bda0",
   "metadata": {},
   "outputs": [
    {
     "name": "stdout",
     "output_type": "stream",
     "text": [
      "root\n",
      " |-- `firstname`: StringType() (nullable = False)\n",
      " |-- `middlename`: StringType() (nullable = False)\n",
      " |-- `lastname`: StringType() (nullable = False)\n",
      " |-- `dob`: StringType() (nullable = False)\n",
      " |-- `year`: StringType() (nullable = True)\n",
      " |-- `month`: StringType() (nullable = True)\n",
      " |-- `day`: StringType() (nullable = True)\n",
      "-----------------------------------------------------------------------\n",
      "|firstname  |middlename  |lastname  |dob         |year  |month  |day  |\n",
      "-----------------------------------------------------------------------\n",
      "|James      |            |Smith     |1991-04-01  |1991  |04     |01   |\n",
      "|Michael    |Rose        |          |2000-05-19  |2000  |05     |19   |\n",
      "|Robert     |            |Williams  |1978-09-05  |1978  |09     |05   |\n",
      "|Maria      |Anne        |Jones     |1967-12-01  |1967  |12     |01   |\n",
      "|Jen        |Mary        |Brown     |1980-02-17  |1980  |02     |17   |\n",
      "-----------------------------------------------------------------------\n",
      "\n"
     ]
    }
   ],
   "source": [
    "df1 = df.withColumn('year', split(df['dob'], lit('-')).getItem(0)) \\\n",
    "       .withColumn('month', split(df['dob'], lit('-')).getItem(1)) \\\n",
    "       .withColumn('day', split(df['dob'], lit('-')).getItem(2))\n",
    "df1.printSchema()\n",
    "df1.show()"
   ]
  },
  {
   "cell_type": "code",
   "execution_count": 6,
   "id": "6d958953-881d-4864-80d3-863acd567039",
   "metadata": {},
   "outputs": [
    {
     "name": "stdout",
     "output_type": "stream",
     "text": [
      "-----------------------------------------------------------------------\n",
      "|firstname  |middlename  |lastname  |dob         |year  |month  |day  |\n",
      "-----------------------------------------------------------------------\n",
      "|James      |            |Smith     |1991-04-01  |1991  |04     |01   |\n",
      "|Michael    |Rose        |          |2000-05-19  |2000  |05     |19   |\n",
      "|Robert     |            |Williams  |1978-09-05  |1978  |09     |05   |\n",
      "|Maria      |Anne        |Jones     |1967-12-01  |1967  |12     |01   |\n",
      "|Jen        |Mary        |Brown     |1980-02-17  |1980  |02     |17   |\n",
      "-----------------------------------------------------------------------\n",
      "\n",
      "-----------------------------------------------------------------------\n",
      "|firstname  |middlename  |lastname  |dob         |year  |month  |day  |\n",
      "-----------------------------------------------------------------------\n",
      "|James      |            |Smith     |1991-04-01  |1991  |04     |01   |\n",
      "|Michael    |Rose        |          |2000-05-19  |2000  |05     |19   |\n",
      "|Robert     |            |Williams  |1978-09-05  |1978  |09     |05   |\n",
      "|Maria      |Anne        |Jones     |1967-12-01  |1967  |12     |01   |\n",
      "|Jen        |Mary        |Brown     |1980-02-17  |1980  |02     |17   |\n",
      "-----------------------------------------------------------------------\n",
      "\n"
     ]
    }
   ],
   "source": [
    "# Alternatively we can do like below      \n",
    "split_col = clickzetta.zettapark.functions.split(df['dob'], lit('-'))\n",
    "df2 = df.withColumn('year', split_col.getItem(0)) \\\n",
    "       .withColumn('month', split_col.getItem(1)) \\\n",
    "       .withColumn('day', split_col.getItem(2))\n",
    "df2.show()      \n",
    "\n",
    "# Using split() function of Column class\n",
    "split_col =clickzetta.zettapark.functions.split(df['dob'], lit('-'))\n",
    "df3 = df.select(\"firstname\",\"middlename\",\"lastname\",\"dob\", split_col.getItem(0).alias('year'),split_col.getItem(1).alias('month'),split_col.getItem(2).alias('day'))   \n",
    "df3.show()"
   ]
  },
  {
   "cell_type": "code",
   "execution_count": 7,
   "id": "1f81f431-3db1-46c2-95fe-581e27a74a9e",
   "metadata": {},
   "outputs": [
    {
     "name": "stdout",
     "output_type": "stream",
     "text": [
      "---------------------------\n",
      "|str                      |\n",
      "---------------------------\n",
      "|['one', 'two', 'three']  |\n",
      "---------------------------\n",
      "\n"
     ]
    }
   ],
   "source": [
    "\"\"\"\n",
    "df4=session.createDataFrame([(\"20-13-2012-monday\",)], ['date',])\n",
    "\n",
    "df4.select(split(df4.date,'^([\\d]+-[\\d]+-[\\d])').alias('date'),\n",
    "    regexp_replace(split(df4.date,'^([\\d]+-[\\d]+-[\\d]+)').getItem(1),'-','').alias('day')).show()\n",
    "    \"\"\"\n",
    "df4 = session.createDataFrame([('oneAtwoBthree',)], ['str',])\n",
    "df4.select(split(df4.str, lit('[AB]')).alias('str')).show()\n"
   ]
  },
  {
   "cell_type": "code",
   "execution_count": 8,
   "id": "0e679341-6a8d-4784-9d54-e6e041216fb7",
   "metadata": {},
   "outputs": [],
   "source": [
    "session.close()"
   ]
  },
  {
   "cell_type": "code",
   "execution_count": null,
   "id": "9e58dead-f432-46bf-9b33-db1a3a8f1351",
   "metadata": {},
   "outputs": [],
   "source": []
  }
 ],
 "metadata": {
  "kernelspec": {
   "display_name": "Python 3 (ipykernel)",
   "language": "python",
   "name": "python3"
  },
  "language_info": {
   "codemirror_mode": {
    "name": "ipython",
    "version": 3
   },
   "file_extension": ".py",
   "mimetype": "text/x-python",
   "name": "python",
   "nbconvert_exporter": "python",
   "pygments_lexer": "ipython3",
   "version": "3.11.9"
  }
 },
 "nbformat": 4,
 "nbformat_minor": 5
}
