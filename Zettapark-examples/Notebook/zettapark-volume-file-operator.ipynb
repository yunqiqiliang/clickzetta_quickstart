{
 "cells": [
  {
   "cell_type": "code",
   "execution_count": 4,
   "metadata": {},
   "outputs": [],
   "source": [
    "# !pip install -q --upgrade clickzetta_zettapark_python -i https://pypi.tuna.tsinghua.edu.cn/simple"
   ]
  },
  {
   "cell_type": "code",
   "execution_count": 1,
   "metadata": {},
   "outputs": [],
   "source": [
    "from clickzetta.zettapark.session import Session\n",
    "import json\n",
    "# 从配置文件中读取参数\n",
    "with open('security/config-uat.json', 'r') as config_file:\n",
    "    config = json.load(config_file)\n",
    "\n",
    "# 创建会话\n",
    "session = Session.builder.configs(config).create()"
   ]
  },
  {
   "cell_type": "code",
   "execution_count": 2,
   "metadata": {},
   "outputs": [
    {
     "name": "stdout",
     "output_type": "stream",
     "text": [
      "---------------------\n",
      "|result_message     |\n",
      "---------------------\n",
      "|OPERATION SUCCEED  |\n",
      "---------------------\n",
      "\n"
     ]
    }
   ],
   "source": [
    "session.sql(\"delete volume zettapark_dev_20240529171730 subdirectory '/'\").show()"
   ]
  },
  {
   "cell_type": "code",
   "execution_count": 3,
   "metadata": {},
   "outputs": [
    {
     "name": "stdout",
     "output_type": "stream",
     "text": [
      "---------\n",
      "|a  |b  |\n",
      "---------\n",
      "|1  |2  |\n",
      "|3  |4  |\n",
      "---------\n",
      "\n"
     ]
    }
   ],
   "source": [
    "df1 = session.create_dataframe([[1,2],[3,4]], schema=[\"a\", \"b\"])\n",
    "df1.show()"
   ]
  },
  {
   "cell_type": "code",
   "execution_count": 4,
   "metadata": {},
   "outputs": [
    {
     "data": {
      "text/plain": [
       "[Row(result_message='OPERATION SUCCEED')]"
      ]
     },
     "execution_count": 4,
     "metadata": {},
     "output_type": "execute_result"
    }
   ],
   "source": [
    "unload_path = \"volume://zettapark_dev_20240529171730/unload_0606/\"\n",
    "df1.write.copy_into_volume(unload_path, file_format_type=\"csv\")"
   ]
  },
  {
   "cell_type": "code",
   "execution_count": 5,
   "metadata": {},
   "outputs": [
    {
     "name": "stdout",
     "output_type": "stream",
     "text": [
      "---------------------------------------------------------------------------------------------------------------------\n",
      "|relative_path              |url                                                 |size  |last_modified_time         |\n",
      "---------------------------------------------------------------------------------------------------------------------\n",
      "|unload_0606/part00001.csv  |oss://czsampledatahz/zettapark_dev_202405291717...  |8     |2024-12-24 15:46:22+08:00  |\n",
      "---------------------------------------------------------------------------------------------------------------------\n",
      "\n"
     ]
    }
   ],
   "source": [
    "session.sql(\"show volume directory zettapark_dev_20240529171730\").show()"
   ]
  },
  {
   "cell_type": "code",
   "execution_count": 6,
   "metadata": {},
   "outputs": [
    {
     "name": "stdout",
     "output_type": "stream",
     "text": [
      "---------\n",
      "|x  |y  |\n",
      "---------\n",
      "|1  |2  |\n",
      "|3  |4  |\n",
      "---------\n",
      "\n"
     ]
    }
   ],
   "source": [
    "from clickzetta.zettapark.types import StructType, StructField, LongType, StringType\n",
    "schema = StructType([StructField(\"x\", LongType()), StructField(\"y\", StringType())])\n",
    "path = \"volume://zettapark_dev_20240529171730/unload_0606/\"\n",
    "csv_loaded = session.read.option(\"FORMAT_NAME\", \"csv\").schema(schema).csv(path)\n",
    "csv_loaded.show()"
   ]
  },
  {
   "cell_type": "code",
   "execution_count": 7,
   "metadata": {},
   "outputs": [],
   "source": [
    "session.close()"
   ]
  },
  {
   "cell_type": "code",
   "execution_count": null,
   "metadata": {},
   "outputs": [],
   "source": []
  }
 ],
 "metadata": {
  "kernelspec": {
   "display_name": "Python 3 (ipykernel)",
   "language": "python",
   "name": "python3"
  },
  "language_info": {
   "codemirror_mode": {
    "name": "ipython",
    "version": 3
   },
   "file_extension": ".py",
   "mimetype": "text/x-python",
   "name": "python",
   "nbconvert_exporter": "python",
   "pygments_lexer": "ipython3",
   "version": "3.11.9"
  }
 },
 "nbformat": 4,
 "nbformat_minor": 4
}
