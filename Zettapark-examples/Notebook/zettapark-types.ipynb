{
 "cells": [
  {
   "cell_type": "code",
   "execution_count": 1,
   "id": "e1cbdb73-be2f-44b5-b42a-c4b6e7c2dd60",
   "metadata": {},
   "outputs": [],
   "source": [
    "import json\n",
    "from clickzetta.zettapark.session import Session\n",
    "from clickzetta.zettapark.types import DataType\n",
    "from clickzetta.zettapark.types import StructType, StructField, StringType, ArrayType, IntegerType\n",
    "# 从配置文件中读取参数\n",
    "with open('security/config-uat.json', 'r') as config_file:\n",
    "    config = json.load(config_file)\n",
    "\n",
    "# 创建会话\n",
    "session = Session.builder.configs(config).create()"
   ]
  },
  {
   "cell_type": "code",
   "execution_count": 3,
   "id": "c97074c0-fa3c-436a-b3d6-9d1e6d5e159f",
   "metadata": {},
   "outputs": [],
   "source": [
    "from clickzetta.zettapark.types import ArrayType,IntegerType\n",
    "# arrayType = ArrayType(IntegerType(),False)\n",
    "# print(arrayType.jsonValue()) \n",
    "# print(arrayType.simpleString())\n",
    "# print(arrayType.typeName()) "
   ]
  },
  {
   "cell_type": "code",
   "execution_count": 4,
   "id": "2aa3fda0-cfd9-4d7a-92d3-f7dc5349bda0",
   "metadata": {},
   "outputs": [
    {
     "name": "stdout",
     "output_type": "stream",
     "text": [
      "root\n",
      " |-- `firstname`: StringType() (nullable = True)\n",
      " |-- `middlename`: StringType() (nullable = True)\n",
      " |-- `lastname`: StringType() (nullable = True)\n",
      " |-- `age`: StringType() (nullable = True)\n",
      " |-- `gender`: StringType() (nullable = True)\n",
      " |-- `salary`: IntegerType() (nullable = True)\n",
      "-------------------------------------------------------------\n",
      "|firstname  |middlename  |lastname  |age  |gender  |salary  |\n",
      "-------------------------------------------------------------\n",
      "|James      |            |Smith     |36   |M       |3000    |\n",
      "|Michael    |Rose        |          |40   |M       |4000    |\n",
      "|Robert     |            |Williams  |42   |M       |4000    |\n",
      "|Maria      |Anne        |Jones     |39   |F       |4000    |\n",
      "|Jen        |Mary        |Brown     |     |F       |-1      |\n",
      "-------------------------------------------------------------\n",
      "\n"
     ]
    }
   ],
   "source": [
    "data = [(\"James\",\"\",\"Smith\",\"36\",\"M\",3000),\n",
    "    (\"Michael\",\"Rose\",\"\",\"40\",\"M\",4000),\n",
    "    (\"Robert\",\"\",\"Williams\",\"42\",\"M\",4000),\n",
    "    (\"Maria\",\"Anne\",\"Jones\",\"39\",\"F\",4000),\n",
    "    (\"Jen\",\"Mary\",\"Brown\",\"\",\"F\",-1)\n",
    "  ]\n",
    "\n",
    "schema = StructType([ \n",
    "    StructField(\"firstname\",StringType(),True), \n",
    "    StructField(\"middlename\",StringType(),True), \n",
    "    StructField(\"lastname\",StringType(),True), \n",
    "    StructField(\"age\", StringType(), True), \n",
    "    StructField(\"gender\", StringType(), True), \n",
    "    StructField(\"salary\", IntegerType(), True) \n",
    "  ])\n",
    "\n",
    "\n",
    "df = session.createDataFrame(data=data,schema=schema)\n",
    "df.printSchema()\n",
    "df.show()"
   ]
  },
  {
   "cell_type": "code",
   "execution_count": 5,
   "id": "0e679341-6a8d-4784-9d54-e6e041216fb7",
   "metadata": {},
   "outputs": [],
   "source": [
    "session.close()"
   ]
  }
 ],
 "metadata": {
  "kernelspec": {
   "display_name": "Python 3 (ipykernel)",
   "language": "python",
   "name": "python3"
  },
  "language_info": {
   "codemirror_mode": {
    "name": "ipython",
    "version": 3
   },
   "file_extension": ".py",
   "mimetype": "text/x-python",
   "name": "python",
   "nbconvert_exporter": "python",
   "pygments_lexer": "ipython3",
   "version": "3.11.9"
  }
 },
 "nbformat": 4,
 "nbformat_minor": 5
}
