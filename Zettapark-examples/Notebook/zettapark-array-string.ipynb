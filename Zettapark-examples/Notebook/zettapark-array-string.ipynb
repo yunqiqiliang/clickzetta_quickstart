{
 "cells": [
  {
   "cell_type": "code",
   "execution_count": 1,
   "id": "eec2eed1-49e0-49b8-bef7-35abbec3bf24",
   "metadata": {},
   "outputs": [],
   "source": [
    "# !pip install --upgrade clickzetta-zettapark-python -i https://pypi.tuna.tsinghua.edu.cn/simple"
   ]
  },
  {
   "cell_type": "code",
   "execution_count": 2,
   "id": "e1cbdb73-be2f-44b5-b42a-c4b6e7c2dd60",
   "metadata": {},
   "outputs": [],
   "source": [
    "import json\n",
    "from clickzetta.zettapark.session import Session\n",
    "# 从配置文件中读取参数\n",
    "with open('security/config-uat.json', 'r') as config_file:\n",
    "    config = json.load(config_file)\n",
    "\n",
    "# 创建会话\n",
    "session = Session.builder.configs(config).create()"
   ]
  },
  {
   "cell_type": "code",
   "execution_count": 3,
   "id": "f498e5cc-9dd3-4c69-9a65-4c9d954135ef",
   "metadata": {},
   "outputs": [
    {
     "data": {
      "text/plain": [
       "'\\nCreated on 09,20,2024\\n\\n@author: qiliang\\n'"
      ]
     },
     "execution_count": 3,
     "metadata": {},
     "output_type": "execute_result"
    }
   ],
   "source": [
    "# -*- coding: utf-8 -*-\n",
    "\"\"\"\n",
    "Created on 09,20,2024\n",
    "\n",
    "@author: qiliang\n",
    "\"\"\""
   ]
  },
  {
   "cell_type": "code",
   "execution_count": 4,
   "id": "aacf6cc9-837d-4097-be80-fd5b80c2a665",
   "metadata": {},
   "outputs": [
    {
     "name": "stdout",
     "output_type": "stream",
     "text": [
      "root\n",
      " |-- `name`: StringType() (nullable = True)\n",
      " |-- `languagesatschool`: ArrayType(StringType()) (nullable = True)\n",
      " |-- `currentstate`: StringType() (nullable = True)\n",
      "--------------------------------------------------------------\n",
      "|name              |languagesatschool         |currentstate  |\n",
      "--------------------------------------------------------------\n",
      "|James,,Smith      |['Java', 'Scala', 'C++']  |CA            |\n",
      "|Michael,Rose,     |['Spark', 'Java', 'C++']  |NJ            |\n",
      "|Robert,,Williams  |['CSharp', 'VB']          |NV            |\n",
      "--------------------------------------------------------------\n",
      "\n"
     ]
    }
   ],
   "source": [
    "from clickzetta.zettapark.types import StructType, StructField, StringType, ArrayType\n",
    "# columns = [\"name\",\"languagesAtSchool\",\"currentState\"]\n",
    "schema = StructType(\n",
    "    [\n",
    "        StructField(\"name\", StringType(), True),\n",
    "        StructField(\"languagesAtSchool\", ArrayType(StringType()), True),\n",
    "        StructField(\"currentState\", StringType(), True),\n",
    "    ]\n",
    ")\n",
    "\n",
    "data = [\n",
    "    (\"James,,Smith\", [\"Java\", \"Scala\", \"C++\"], \"CA\"),\n",
    "    (\"Michael,Rose,\", [\"Spark\", \"Java\", \"C++\"], \"NJ\"),\n",
    "    (\"Robert,,Williams\", [\"CSharp\", \"VB\"], \"NV\"),\n",
    "]\n",
    "\n",
    "df = session.createDataFrame(data=data, schema=schema)\n",
    "df.printSchema()\n",
    "df.show()"
   ]
  },
  {
   "cell_type": "code",
   "execution_count": 5,
   "id": "34c51501-77ae-4ffb-a0d3-655b87da19d0",
   "metadata": {},
   "outputs": [
    {
     "name": "stdout",
     "output_type": "stream",
     "text": [
      "root\n",
      " |-- `name`: StringType() (nullable = True)\n",
      " |-- `currentstate`: StringType() (nullable = True)\n",
      " |-- `languagesatschool`: StringType() (nullable = True)\n",
      "-------------------------------------------------------\n",
      "|name              |currentstate  |languagesatschool  |\n",
      "-------------------------------------------------------\n",
      "|James,,Smith      |CA            |Java,Scala,C++     |\n",
      "|Michael,Rose,     |NJ            |Spark,Java,C++     |\n",
      "|Robert,,Williams  |NV            |CSharp,VB          |\n",
      "-------------------------------------------------------\n",
      "\n"
     ]
    }
   ],
   "source": [
    "from clickzetta.zettapark.functions import col, concat_ws, lit\n",
    "df2 = df.withColumn(\"languagesAtSchool\",\n",
    "   concat_ws(lit(\",\"),col(\"languagesAtSchool\")))\n",
    "df2.printSchema()\n",
    "df2.show()"
   ]
  },
  {
   "cell_type": "code",
   "execution_count": 6,
   "id": "3980c715-61c9-45c8-bdfa-8737a903e056",
   "metadata": {},
   "outputs": [],
   "source": [
    "# df.createOrReplaceTempView(\"ARRAY_STRING\")\n",
    "# session.sql(\"select name, WM_CONCAT(',',languagesAtSchool) as languagesAtSchool,currentState from ARRAY_STRING\").show()"
   ]
  },
  {
   "cell_type": "code",
   "execution_count": 7,
   "id": "0e679341-6a8d-4784-9d54-e6e041216fb7",
   "metadata": {},
   "outputs": [],
   "source": [
    "session.close()"
   ]
  }
 ],
 "metadata": {
  "kernelspec": {
   "display_name": "Python 3 (ipykernel)",
   "language": "python",
   "name": "python3"
  },
  "language_info": {
   "codemirror_mode": {
    "name": "ipython",
    "version": 3
   },
   "file_extension": ".py",
   "mimetype": "text/x-python",
   "name": "python",
   "nbconvert_exporter": "python",
   "pygments_lexer": "ipython3",
   "version": "3.11.9"
  }
 },
 "nbformat": 4,
 "nbformat_minor": 5
}
