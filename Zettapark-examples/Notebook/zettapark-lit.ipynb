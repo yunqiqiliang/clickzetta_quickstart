{
 "cells": [
  {
   "cell_type": "code",
   "execution_count": 1,
   "id": "03157d66-dfef-4f69-9459-36199352f982",
   "metadata": {},
   "outputs": [],
   "source": [
    "from clickzetta.zettapark.session import Session"
   ]
  },
  {
   "cell_type": "code",
   "execution_count": 2,
   "id": "e1cbdb73-be2f-44b5-b42a-c4b6e7c2dd60",
   "metadata": {},
   "outputs": [],
   "source": [
    "import json\n",
    "# 从配置文件中读取参数\n",
    "with open('security/config-uat.json', 'r') as config_file:\n",
    "    config = json.load(config_file)\n",
    "\n",
    "# 创建会话\n",
    "session = Session.builder.configs(config).create()"
   ]
  },
  {
   "cell_type": "code",
   "execution_count": 3,
   "id": "1e2a52aa-d4d1-408b-b3c7-d93d64584bdd",
   "metadata": {},
   "outputs": [
    {
     "name": "stdout",
     "output_type": "stream",
     "text": [
      "root\n",
      " |-- `empid`: StringType() (nullable = False)\n",
      " |-- `salary`: IntegerType() (nullable = False)\n",
      "------------------\n",
      "|empid  |salary  |\n",
      "------------------\n",
      "|111    |50000   |\n",
      "|222    |60000   |\n",
      "|333    |40000   |\n",
      "------------------\n",
      "\n"
     ]
    }
   ],
   "source": [
    "data = [(\"111\",50000),(\"222\",60000),(\"333\",40000)]\n",
    "columns= [\"EmpId\",\"Salary\"]\n",
    "df = session.createDataFrame(data = data, schema = columns)\n",
    "df.printSchema()\n",
    "df.show()\n"
   ]
  },
  {
   "cell_type": "code",
   "execution_count": 4,
   "id": "f5f70210-6b60-4dc5-b48a-5d3c22c2ebb0",
   "metadata": {},
   "outputs": [
    {
     "name": "stdout",
     "output_type": "stream",
     "text": [
      "-------------------------------\n",
      "|empid  |salary  |lit_value1  |\n",
      "-------------------------------\n",
      "|111    |50000   |1           |\n",
      "|222    |60000   |1           |\n",
      "|333    |40000   |1           |\n",
      "-------------------------------\n",
      "\n"
     ]
    }
   ],
   "source": [
    "from clickzetta.zettapark.functions import col,lit\n",
    "df2 = df.select(col(\"EmpId\"),col(\"Salary\"),lit(\"1\").alias(\"lit_value1\"))\n",
    "df2.show()"
   ]
  },
  {
   "cell_type": "code",
   "execution_count": 5,
   "id": "ffc6e668-3c61-4620-87ed-6a1f043f38d6",
   "metadata": {},
   "outputs": [
    {
     "name": "stdout",
     "output_type": "stream",
     "text": [
      "--------------------------------------------\n",
      "|empid  |salary  |lit_value1  |lit_value2  |\n",
      "--------------------------------------------\n",
      "|111    |50000   |1           |100         |\n",
      "|222    |60000   |1           |200         |\n",
      "|333    |40000   |1           |100         |\n",
      "--------------------------------------------\n",
      "\n"
     ]
    }
   ],
   "source": [
    "from clickzetta.zettapark.functions import when\n",
    "df3 = df2.withColumn(\"lit_value2\", when((col(\"Salary\") >= 40000) & (col(\"Salary\") <= 50000), lit(\"100\")).otherwise(lit(\"200\")))\n",
    "df3.show()"
   ]
  },
  {
   "cell_type": "code",
   "execution_count": 6,
   "id": "caeb5e8d-6297-442b-9d31-84402fac15b9",
   "metadata": {},
   "outputs": [],
   "source": [
    "# Drop tables starting with 'zettapark_temp_table_'\n",
    "try:\n",
    "    tables = session.sql(\"SHOW TABLES LIKE 'zettapark_temp_table_%'\").collect()\n",
    "    \n",
    "    for table in tables:\n",
    "        table_name = table['table_name']\n",
    "        session.sql(f\"DROP TABLE IF EXISTS {table_name}\").collect()\n",
    "        print(f\"temp Table {table_name} dropped\")\n",
    "except Exception as e:\n",
    "    print(f\"Error dropping temp tables: {e}\")\n",
    "\n",
    "# Drop tables starting with 'zettapark_temp_view_'\n",
    "try:\n",
    "    tables = session.sql(\"SHOW TABLES LIKE 'zettapark_temp_view_%'\").collect()\n",
    "    \n",
    "    for table in tables:\n",
    "        table_name = table['table_name']\n",
    "        session.sql(f\"DROP VIEW IF EXISTS {table_name}\").collect()\n",
    "        print(f\"temp Table {table_name} dropped\")\n",
    "except Exception as e:\n",
    "    print(f\"Error dropping temp tables: {e}\")\n",
    "  "
   ]
  },
  {
   "cell_type": "code",
   "execution_count": 7,
   "id": "0e679341-6a8d-4784-9d54-e6e041216fb7",
   "metadata": {},
   "outputs": [],
   "source": [
    "session.close()"
   ]
  },
  {
   "cell_type": "code",
   "execution_count": null,
   "id": "9e58dead-f432-46bf-9b33-db1a3a8f1351",
   "metadata": {},
   "outputs": [],
   "source": []
  }
 ],
 "metadata": {
  "kernelspec": {
   "display_name": "Python 3 (ipykernel)",
   "language": "python",
   "name": "python3"
  },
  "language_info": {
   "codemirror_mode": {
    "name": "ipython",
    "version": 3
   },
   "file_extension": ".py",
   "mimetype": "text/x-python",
   "name": "python",
   "nbconvert_exporter": "python",
   "pygments_lexer": "ipython3",
   "version": "3.11.9"
  }
 },
 "nbformat": 4,
 "nbformat_minor": 5
}
