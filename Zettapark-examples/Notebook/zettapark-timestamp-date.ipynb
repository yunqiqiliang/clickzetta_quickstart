{
 "cells": [
  {
   "cell_type": "code",
   "execution_count": 1,
   "id": "03157d66-dfef-4f69-9459-36199352f982",
   "metadata": {},
   "outputs": [],
   "source": [
    "from clickzetta.zettapark.session import Session"
   ]
  },
  {
   "cell_type": "code",
   "execution_count": 2,
   "id": "e1cbdb73-be2f-44b5-b42a-c4b6e7c2dd60",
   "metadata": {},
   "outputs": [],
   "source": [
    "import json\n",
    "# 从配置文件中读取参数\n",
    "with open('security/config-uat.json', 'r') as config_file:\n",
    "    config = json.load(config_file)\n",
    "\n",
    "# 创建会话\n",
    "session = Session.builder.configs(config).create()"
   ]
  },
  {
   "cell_type": "code",
   "execution_count": 4,
   "id": "c97074c0-fa3c-436a-b3d6-9d1e6d5e159f",
   "metadata": {},
   "outputs": [
    {
     "name": "stdout",
     "output_type": "stream",
     "text": [
      "root\n",
      " |-- `id`: StringType() (nullable = False)\n",
      " |-- `input_timestamp`: StringType() (nullable = False)\n"
     ]
    }
   ],
   "source": [
    "df=session.createDataFrame(\n",
    "        data = [ (\"1\",\"2019-06-24 12:01:19.000\")],\n",
    "        schema=[\"id\",\"input_timestamp\"])\n",
    "df.printSchema()"
   ]
  },
  {
   "cell_type": "code",
   "execution_count": 5,
   "id": "2aa3fda0-cfd9-4d7a-92d3-f7dc5349bda0",
   "metadata": {},
   "outputs": [
    {
     "name": "stdout",
     "output_type": "stream",
     "text": [
      "---------------------------------------------\n",
      "|id  |input_timestamp          |date_type   |\n",
      "---------------------------------------------\n",
      "|1   |2019-06-24 12:01:19.000  |2019-06-24  |\n",
      "---------------------------------------------\n",
      "\n",
      "---------------------------------------------\n",
      "|id  |input_timestamp          |date_type   |\n",
      "---------------------------------------------\n",
      "|1   |2019-06-24 12:01:19.000  |2019-06-24  |\n",
      "---------------------------------------------\n",
      "\n",
      "------------------------------------------------------\n",
      "|to_date('06-24-2019 12:01:19.000', 'mm-dd-yyyy ...  |\n",
      "------------------------------------------------------\n",
      "|2019-06-24                                          |\n",
      "------------------------------------------------------\n",
      "\n",
      "---------------------------------------------\n",
      "|id  |input_timestamp          |date_type   |\n",
      "---------------------------------------------\n",
      "|1   |2019-06-24 12:01:19.000  |2019-06-24  |\n",
      "---------------------------------------------\n",
      "\n",
      "---------------------------------------------\n",
      "|id  |input_timestamp          |date_type   |\n",
      "---------------------------------------------\n",
      "|1   |2019-06-24 12:01:19.000  |2024-12-24  |\n",
      "---------------------------------------------\n",
      "\n",
      "-------------------------------------------------------------------------\n",
      "|id  |input_timestamp          |ts                         |datetype    |\n",
      "-------------------------------------------------------------------------\n",
      "|1   |2019-06-24 12:01:19.000  |2019-06-24 12:01:19+08:00  |2019-06-24  |\n",
      "-------------------------------------------------------------------------\n",
      "\n"
     ]
    }
   ],
   "source": [
    "from clickzetta.zettapark.functions import *\n",
    "\n",
    "# Using Cast to convert Timestamp String to DateType\n",
    "df.withColumn('date_type', col('input_timestamp').cast('date')) \\\n",
    "       .show()\n",
    "\n",
    "# Using Cast to convert TimestampType to DateType\n",
    "df.withColumn('date_type', to_timestamp('input_timestamp').cast('date')) \\\n",
    "  .show()\n",
    "\n",
    "df.select(to_date(lit('06-24-2019 12:01:19.000'),'MM-dd-yyyy HH:mm:ss.SSSS')) \\\n",
    "  .show()\n",
    "  \n",
    "#Timestamp String to DateType\n",
    "df.withColumn(\"date_type\",to_date(\"input_timestamp\")) \\\n",
    "  .show()\n",
    "\n",
    "#Timestamp Type to DateType\n",
    "df.withColumn(\"date_type\",to_date(current_timestamp())) \\\n",
    "  .show() \n",
    "\n",
    "df.withColumn(\"ts\",to_timestamp(col(\"input_timestamp\"))) \\\n",
    "  .withColumn(\"datetype\",to_date(col(\"ts\"))) \\\n",
    "  .show()"
   ]
  },
  {
   "cell_type": "code",
   "execution_count": 6,
   "id": "6d958953-881d-4864-80d3-863acd567039",
   "metadata": {},
   "outputs": [
    {
     "name": "stdout",
     "output_type": "stream",
     "text": [
      "--------------\n",
      "|date_type   |\n",
      "--------------\n",
      "|2024-12-24  |\n",
      "--------------\n",
      "\n",
      "--------------\n",
      "|date_type   |\n",
      "--------------\n",
      "|2019-06-24  |\n",
      "--------------\n",
      "\n",
      "--------------\n",
      "|date_type   |\n",
      "--------------\n",
      "|2019-06-24  |\n",
      "--------------\n",
      "\n",
      "--------------\n",
      "|date_type   |\n",
      "--------------\n",
      "|2019-06-24  |\n",
      "--------------\n",
      "\n",
      "--------------\n",
      "|date_type   |\n",
      "--------------\n",
      "|2019-06-24  |\n",
      "--------------\n",
      "\n"
     ]
    }
   ],
   "source": [
    "#SQL TimestampType to DateType\n",
    "session.sql(\"select to_date(current_timestamp) as date_type\").show()\n",
    "#SQL CAST TimestampType to DateType\n",
    "session.sql(\"select date(to_timestamp('2019-06-24 12:01:19.000')) as date_type\").show()\n",
    "#SQL CAST timestamp string to DateType\n",
    "session.sql(\"select date('2019-06-24 12:01:19.000') as date_type\").show()\n",
    "#SQL Timestamp String (default format) to DateType\n",
    "session.sql(\"select to_date('2019-06-24 12:01:19.000') as date_type\").show()\n",
    "#SQL Custom Timeformat to DateType\n",
    "session.sql(\"select to_date('06-24-2019 12:01:19.000','MM-dd-yyyy HH:mm:ss.SSSS') as date_type\").show()"
   ]
  },
  {
   "cell_type": "code",
   "execution_count": 7,
   "id": "0e679341-6a8d-4784-9d54-e6e041216fb7",
   "metadata": {},
   "outputs": [],
   "source": [
    "session.close()"
   ]
  },
  {
   "cell_type": "code",
   "execution_count": null,
   "id": "9e58dead-f432-46bf-9b33-db1a3a8f1351",
   "metadata": {},
   "outputs": [],
   "source": []
  }
 ],
 "metadata": {
  "kernelspec": {
   "display_name": "Python 3 (ipykernel)",
   "language": "python",
   "name": "python3"
  },
  "language_info": {
   "codemirror_mode": {
    "name": "ipython",
    "version": 3
   },
   "file_extension": ".py",
   "mimetype": "text/x-python",
   "name": "python",
   "nbconvert_exporter": "python",
   "pygments_lexer": "ipython3",
   "version": "3.11.9"
  }
 },
 "nbformat": 4,
 "nbformat_minor": 5
}
