{
 "cells": [
  {
   "cell_type": "code",
   "execution_count": 1,
   "id": "03157d66-dfef-4f69-9459-36199352f982",
   "metadata": {},
   "outputs": [],
   "source": [
    "from clickzetta.zettapark.session import Session,Row"
   ]
  },
  {
   "cell_type": "code",
   "execution_count": 2,
   "id": "e1cbdb73-be2f-44b5-b42a-c4b6e7c2dd60",
   "metadata": {},
   "outputs": [],
   "source": [
    "import json\n",
    "# 从配置文件中读取参数\n",
    "with open('security/config-uat.json', 'r') as config_file:\n",
    "    config = json.load(config_file)\n",
    "\n",
    "# 创建会话\n",
    "session = Session.builder.configs(config).create()"
   ]
  },
  {
   "cell_type": "code",
   "execution_count": 4,
   "id": "c97074c0-fa3c-436a-b3d6-9d1e6d5e159f",
   "metadata": {},
   "outputs": [
    {
     "name": "stdout",
     "output_type": "stream",
     "text": [
      "-----------------------------\n",
      "|name     |gender  |salary  |\n",
      "-----------------------------\n",
      "|James    |M       |60000   |\n",
      "|Michael  |M       |70000   |\n",
      "|Robert   |NULL    |400000  |\n",
      "|Maria    |F       |500000  |\n",
      "|Jen      |        |NULL    |\n",
      "-----------------------------\n",
      "\n"
     ]
    }
   ],
   "source": [
    "data = [(\"James\",\"M\",60000), (\"Michael\",\"M\",70000),\n",
    "        (\"Robert\",None,400000), (\"Maria\",\"F\",500000),\n",
    "        (\"Jen\",\"\",None)]\n",
    "\n",
    "columns = [\"name\",\"gender\",\"salary\"]\n",
    "df = session.createDataFrame(data = data, schema = columns)\n",
    "df.show()"
   ]
  },
  {
   "cell_type": "code",
   "execution_count": 5,
   "id": "2aa3fda0-cfd9-4d7a-92d3-f7dc5349bda0",
   "metadata": {},
   "outputs": [
    {
     "name": "stdout",
     "output_type": "stream",
     "text": [
      "------------------------------------------\n",
      "|name     |gender  |salary  |new_gender  |\n",
      "------------------------------------------\n",
      "|James    |M       |60000   |Male        |\n",
      "|Michael  |M       |70000   |Male        |\n",
      "|Robert   |NULL    |400000  |            |\n",
      "|Maria    |F       |500000  |Female      |\n",
      "|Jen      |        |NULL    |            |\n",
      "------------------------------------------\n",
      "\n",
      "------------------------------------------\n",
      "|name     |gender  |salary  |new_gender  |\n",
      "------------------------------------------\n",
      "|James    |M       |60000   |Male        |\n",
      "|Michael  |M       |70000   |Male        |\n",
      "|Robert   |NULL    |400000  |            |\n",
      "|Maria    |F       |500000  |Female      |\n",
      "|Jen      |        |NULL    |            |\n",
      "------------------------------------------\n",
      "\n"
     ]
    }
   ],
   "source": [
    "#Using When otherwise\n",
    "from clickzetta.zettapark.functions import when,col\n",
    "df2 = df.withColumn(\"new_gender\", when(df.gender == \"M\",\"Male\")\n",
    "                                 .when(df.gender == \"F\",\"Female\")\n",
    "                                 .when(df.gender.isNull() ,\"\")\n",
    "                                 .otherwise(df.gender))\n",
    "df2.show()\n",
    "df2 = df.withColumn(\"new_gender\", when(df.gender == \"M\",\"Male\")\n",
    "                                 .when(df.gender == \"F\",\"Female\")\n",
    "                                 .when(df.gender.isNull() ,\"\")\n",
    "                                 .otherwise(df.gender))\n",
    "\n",
    "df2=df.select(col(\"*\"),when(df.gender == \"M\",\"Male\")\n",
    "                  .when(df.gender == \"F\",\"Female\")\n",
    "                  .when(df.gender.isNull() ,\"\")\n",
    "                  .otherwise(df.gender).alias(\"new_gender\"))\n",
    "df2.show()"
   ]
  },
  {
   "cell_type": "code",
   "execution_count": 6,
   "id": "6d958953-881d-4864-80d3-863acd567039",
   "metadata": {},
   "outputs": [
    {
     "name": "stdout",
     "output_type": "stream",
     "text": [
      "------------------------------------------\n",
      "|name     |gender  |salary  |new_gender  |\n",
      "------------------------------------------\n",
      "|James    |M       |60000   |Male男       |\n",
      "|Michael  |M       |70000   |Male男       |\n",
      "|Robert   |NULL    |400000  |            |\n",
      "|Maria    |F       |500000  |Female女     |\n",
      "|Jen      |        |NULL    |            |\n",
      "------------------------------------------\n",
      "\n",
      "------------------------\n",
      "|name     |new_gender  |\n",
      "------------------------\n",
      "|James    |Male男       |\n",
      "|Michael  |Male男       |\n",
      "|Robert   |            |\n",
      "|Maria    |Female女     |\n",
      "|Jen      |            |\n",
      "------------------------\n",
      "\n"
     ]
    }
   ],
   "source": [
    "# Using SQL Case When\n",
    "from clickzetta.zettapark.functions import expr\n",
    "df3 = df.withColumn(\"new_gender\", expr(\"CASE WHEN gender = 'M' THEN 'Male男' \" + \n",
    "           \"WHEN gender = 'F' THEN 'Female女' WHEN gender IS NULL THEN ''\" +\n",
    "          \"ELSE gender END\"))\n",
    "df3.show()\n",
    "\n",
    "df4 = df.select(col(\"*\"), expr(\"CASE WHEN gender = 'M' THEN 'Male男' \" +\n",
    "           \"WHEN gender = 'F' THEN 'Female女' WHEN gender IS NULL THEN ''\" +\n",
    "           \"ELSE gender END\").alias(\"new_gender\"))\n",
    "\n",
    "df.createOrReplaceTempView(\"EMP\")\n",
    "session.sql(\"select name, CASE WHEN gender = 'M' THEN 'Male男' \" + \n",
    "               \"WHEN gender = 'F' THEN 'Female女' WHEN gender IS NULL THEN ''\" +\n",
    "              \"ELSE gender END as new_gender from EMP\").show()"
   ]
  },
  {
   "cell_type": "code",
   "execution_count": 7,
   "id": "0e679341-6a8d-4784-9d54-e6e041216fb7",
   "metadata": {},
   "outputs": [],
   "source": [
    "session.close()"
   ]
  },
  {
   "cell_type": "code",
   "execution_count": null,
   "id": "9e58dead-f432-46bf-9b33-db1a3a8f1351",
   "metadata": {},
   "outputs": [],
   "source": []
  }
 ],
 "metadata": {
  "kernelspec": {
   "display_name": "Python 3 (ipykernel)",
   "language": "python",
   "name": "python3"
  },
  "language_info": {
   "codemirror_mode": {
    "name": "ipython",
    "version": 3
   },
   "file_extension": ".py",
   "mimetype": "text/x-python",
   "name": "python",
   "nbconvert_exporter": "python",
   "pygments_lexer": "ipython3",
   "version": "3.11.9"
  }
 },
 "nbformat": 4,
 "nbformat_minor": 5
}
