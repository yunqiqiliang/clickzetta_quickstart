{
 "cells": [
  {
   "cell_type": "code",
   "execution_count": 1,
   "id": "03157d66-dfef-4f69-9459-36199352f982",
   "metadata": {},
   "outputs": [],
   "source": [
    "from clickzetta.zettapark.session import Session\n",
    "from clickzetta.zettapark.functions import col,sum,avg,max"
   ]
  },
  {
   "cell_type": "code",
   "execution_count": 2,
   "id": "e1cbdb73-be2f-44b5-b42a-c4b6e7c2dd60",
   "metadata": {},
   "outputs": [],
   "source": [
    "import json\n",
    "# 从配置文件中读取参数\n",
    "with open('security/config-uat.json', 'r') as config_file:\n",
    "    config = json.load(config_file)\n",
    "\n",
    "# 创建会话\n",
    "session = Session.builder.configs(config).create()"
   ]
  },
  {
   "cell_type": "code",
   "execution_count": 3,
   "id": "1e2a52aa-d4d1-408b-b3c7-d93d64584bdd",
   "metadata": {},
   "outputs": [],
   "source": [
    "simpleData = [(\"James\",\"Sales\",\"NY\",90000,34,10000),\n",
    "    (\"Michael\",\"Sales\",\"NV\",86000,56,20000),\n",
    "    (\"Robert\",\"Sales\",\"CA\",81000,30,23000),\n",
    "    (\"Maria\",\"Finance\",\"CA\",90000,24,23000),\n",
    "    (\"Raman\",\"Finance\",\"DE\",99000,40,24000),\n",
    "    (\"Scott\",\"Finance\",\"NY\",83000,36,19000),\n",
    "    (\"Jen\",\"Finance\",\"NY\",79000,53,15000),\n",
    "    (\"Jeff\",\"Marketing\",\"NV\",80000,25,18000),\n",
    "    (\"Kumar\",\"Marketing\",\"NJ\",91000,50,21000)\n",
    "  ]\n"
   ]
  },
  {
   "cell_type": "code",
   "execution_count": 4,
   "id": "f5f70210-6b60-4dc5-b48a-5d3c22c2ebb0",
   "metadata": {},
   "outputs": [
    {
     "name": "stdout",
     "output_type": "stream",
     "text": [
      "root\n",
      " |-- `employee_name`: StringType() (nullable = False)\n",
      " |-- `department`: StringType() (nullable = False)\n",
      " |-- `state`: StringType() (nullable = False)\n",
      " |-- `salary`: IntegerType() (nullable = False)\n",
      " |-- `age`: IntegerType() (nullable = False)\n",
      " |-- `bonus`: IntegerType() (nullable = False)\n",
      "-------------------------------------------------------------\n",
      "|employee_name  |department  |state  |salary  |age  |bonus  |\n",
      "-------------------------------------------------------------\n",
      "|James          |Sales       |NY     |90000   |34   |10000  |\n",
      "|Michael        |Sales       |NV     |86000   |56   |20000  |\n",
      "|Robert         |Sales       |CA     |81000   |30   |23000  |\n",
      "|Maria          |Finance     |CA     |90000   |24   |23000  |\n",
      "|Raman          |Finance     |DE     |99000   |40   |24000  |\n",
      "|Scott          |Finance     |NY     |83000   |36   |19000  |\n",
      "|Jen            |Finance     |NY     |79000   |53   |15000  |\n",
      "|Jeff           |Marketing   |NV     |80000   |25   |18000  |\n",
      "|Kumar          |Marketing   |NJ     |91000   |50   |21000  |\n",
      "-------------------------------------------------------------\n",
      "\n",
      "-------------------------\n",
      "|state  |`sum`(salary)  |\n",
      "-------------------------\n",
      "|CA     |171000         |\n",
      "|DE     |99000          |\n",
      "|NY     |252000         |\n",
      "|NV     |166000         |\n",
      "|NJ     |91000          |\n",
      "-------------------------\n",
      "\n",
      "----------------------\n",
      "|state  |sum_salary  |\n",
      "----------------------\n",
      "|CA     |171000      |\n",
      "|DE     |99000       |\n",
      "|NY     |252000      |\n",
      "|NV     |166000      |\n",
      "|NJ     |91000       |\n",
      "----------------------\n",
      "\n",
      "----------------------\n",
      "|state  |sum_salary  |\n",
      "----------------------\n",
      "|CA     |171000      |\n",
      "|NY     |252000      |\n",
      "|NV     |166000      |\n",
      "----------------------\n",
      "\n"
     ]
    }
   ],
   "source": [
    "schema = [\"employee_name\",\"department\",\"state\",\"salary\",\"age\",\"bonus\"]\n",
    "df = session.createDataFrame(data=simpleData, schema = schema)\n",
    "df.printSchema()\n",
    "df.show()\n",
    "\n",
    "df.groupBy(\"state\").sum(\"salary\").show()\n",
    "\n",
    "dfGroup=df.groupBy(\"state\") \\\n",
    "          .agg(sum(\"salary\").alias(\"sum_salary\"))\n",
    "          \n",
    "dfGroup.show()\n",
    "\n",
    "dfFilter=dfGroup.filter(dfGroup.sum_salary > 100000)\n",
    "dfFilter.show()"
   ]
  },
  {
   "cell_type": "code",
   "execution_count": 5,
   "id": "2cba1bac-7bdf-43ea-b258-03c55631e9d4",
   "metadata": {},
   "outputs": [
    {
     "name": "stdout",
     "output_type": "stream",
     "text": [
      "----------------------\n",
      "|state  |sum_salary  |\n",
      "----------------------\n",
      "|NV     |166000      |\n",
      "|CA     |171000      |\n",
      "|NY     |252000      |\n",
      "----------------------\n",
      "\n",
      "----------------------\n",
      "|state  |sum_salary  |\n",
      "----------------------\n",
      "|NY     |252000      |\n",
      "|CA     |171000      |\n",
      "|NV     |166000      |\n",
      "----------------------\n",
      "\n",
      "----------------------\n",
      "|state  |sum_salary  |\n",
      "----------------------\n",
      "|NY     |252000      |\n",
      "|CA     |171000      |\n",
      "|NV     |166000      |\n",
      "----------------------\n",
      "\n",
      "----------------------\n",
      "|state  |sum_salary  |\n",
      "----------------------\n",
      "|NY     |252000      |\n",
      "|CA     |171000      |\n",
      "|NV     |166000      |\n",
      "----------------------\n",
      "\n"
     ]
    }
   ],
   "source": [
    "from clickzetta.zettapark.functions import asc\n",
    "dfFilter.sort(\"sum_salary\").show()\n",
    "\n",
    "from clickzetta.zettapark.functions import desc\n",
    "dfFilter.sort(desc(\"sum_salary\")).show()\n",
    "\n",
    "df.groupBy(\"state\") \\\n",
    "  .agg(sum(\"salary\").alias(\"sum_salary\")) \\\n",
    "  .filter(col(\"sum_salary\") > 100000)  \\\n",
    "  .sort(desc(\"sum_salary\")) \\\n",
    "  .show()\n",
    "  \n",
    "df.createOrReplaceTempView(\"EMP\")\n",
    "session.sql(\"select state, sum(salary) as sum_salary from EMP \" +\n",
    "          \"group by state having sum_salary > 100000 \" + \n",
    "          \"order by sum_salary desc\").show()\n",
    "\n"
   ]
  },
  {
   "cell_type": "code",
   "execution_count": 6,
   "id": "0e679341-6a8d-4784-9d54-e6e041216fb7",
   "metadata": {},
   "outputs": [],
   "source": [
    "session.close()"
   ]
  },
  {
   "cell_type": "code",
   "execution_count": null,
   "id": "9e58dead-f432-46bf-9b33-db1a3a8f1351",
   "metadata": {},
   "outputs": [],
   "source": []
  }
 ],
 "metadata": {
  "kernelspec": {
   "display_name": "Python 3 (ipykernel)",
   "language": "python",
   "name": "python3"
  },
  "language_info": {
   "codemirror_mode": {
    "name": "ipython",
    "version": 3
   },
   "file_extension": ".py",
   "mimetype": "text/x-python",
   "name": "python",
   "nbconvert_exporter": "python",
   "pygments_lexer": "ipython3",
   "version": "3.11.9"
  }
 },
 "nbformat": 4,
 "nbformat_minor": 5
}
