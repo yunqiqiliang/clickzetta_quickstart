{
 "cells": [
  {
   "cell_type": "code",
   "execution_count": null,
   "id": "03157d66-dfef-4f69-9459-36199352f982",
   "metadata": {},
   "outputs": [],
   "source": [
    "from clickzetta.zettapark.session import Session"
   ]
  },
  {
   "cell_type": "code",
   "execution_count": null,
   "id": "e1cbdb73-be2f-44b5-b42a-c4b6e7c2dd60",
   "metadata": {},
   "outputs": [],
   "source": [
    "import json\n",
    "# 从配置文件中读取参数\n",
    "with open('security/config-uat.json', 'r') as config_file:\n",
    "    config = json.load(config_file)\n",
    "\n",
    "# 创建会话\n",
    "session = Session.builder.configs(config).create()"
   ]
  },
  {
   "cell_type": "code",
   "execution_count": null,
   "id": "1e2a52aa-d4d1-408b-b3c7-d93d64584bdd",
   "metadata": {},
   "outputs": [],
   "source": [
    "#EMP DataFrame\n",
    "empData = [(1,\"Smith\",10), (2,\"Rose\",20),\n",
    "    (3,\"Williams\",10), (4,\"Jones\",30)\n",
    "  ]\n",
    "empColumns = [\"emp_id\",\"name\",\"emp_dept_id\"]\n",
    "empDF = session.createDataFrame(empData,empColumns)\n",
    "empDF.show()\n",
    "\n",
    "#DEPT DataFrame\n",
    "deptData = [(\"Finance\",10), (\"Marketing\",20),\n",
    "    (\"Sales\",30),(\"IT\",40)\n",
    "  ]\n",
    "deptColumns = [\"dept_name\",\"dept_id\"]\n",
    "deptDF=session.createDataFrame(deptData,deptColumns)  \n",
    "deptDF.show()"
   ]
  },
  {
   "cell_type": "code",
   "execution_count": null,
   "id": "d770ec33-d078-49e6-a6dd-1009336ce0e5",
   "metadata": {},
   "outputs": [],
   "source": [
    "#Address DataFrame\n",
    "addData=[(1,\"1523 Main St\",\"SFO\",\"CA\"),\n",
    "    (2,\"3453 Orange St\",\"SFO\",\"NY\"),\n",
    "    (3,\"34 Warner St\",\"Jersey\",\"NJ\"),\n",
    "    (4,\"221 Cavalier St\",\"Newark\",\"DE\"),\n",
    "    (5,\"789 Walnut St\",\"Sandiago\",\"CA\")\n",
    "  ]\n",
    "addColumns = [\"emp_id\",\"addline1\",\"city\",\"state\"]\n",
    "addDF = session.createDataFrame(addData,addColumns)\n",
    "addDF.show()"
   ]
  },
  {
   "cell_type": "code",
   "execution_count": null,
   "id": "3b0bd751-0cec-422e-99eb-86cc04272d4a",
   "metadata": {},
   "outputs": [],
   "source": [
    "#Join two DataFrames\n",
    "empDF.join(addDF,empDF[\"emp_id\"] == addDF[\"emp_id\"]).show()\n",
    "\n",
    "#Drop duplicate column\n",
    "empDF.join(addDF,[\"emp_id\"]).show()\n",
    "\n",
    "#Join Multiple DataFrames\n",
    "empDF.join(addDF,[\"emp_id\"]) \\\n",
    "     .join(deptDF,empDF[\"emp_dept_id\"] == deptDF[\"dept_id\"]) \\\n",
    "     .show()\n",
    "\n",
    "#Using Where for Join Condition\n",
    "empDF.join(deptDF).where(empDF[\"emp_dept_id\"] == deptDF[\"dept_id\"]) \\\n",
    "    .join(addDF).where(empDF[\"emp_id\"] == addDF[\"emp_id\"]) \\\n",
    "    .show()"
   ]
  },
  {
   "cell_type": "code",
   "execution_count": null,
   "id": "387629cc-f4fd-4e37-b2f8-ca203373c56d",
   "metadata": {},
   "outputs": [],
   "source": [
    "#SQL\n",
    "empDF.createOrReplaceTempView(\"EMP\")\n",
    "deptDF.createOrReplaceTempView(\"DEPT\")\n",
    "addDF.createOrReplaceTempView(\"ADD\")\n",
    "\n",
    "session.sql(\"select * from EMP e, DEPT d, ADD a \" + \\\n",
    "    \"where e.emp_dept_id == d.dept_id and e.emp_id == a.emp_id\") \\\n",
    "    .show()"
   ]
  },
  {
   "cell_type": "code",
   "execution_count": null,
   "id": "10e9bce5-11fc-40f3-b5cb-3a70ad43b682",
   "metadata": {},
   "outputs": [],
   "source": [
    "#\n",
    "df1 = session.createDataFrame(\n",
    "    [(1, \"A\"), (2, \"B\"), (3, \"C\")],\n",
    "    [\"A1\", \"A2\"])\n",
    "\n",
    "df2 = session.createDataFrame(\n",
    "    [(1, \"F\"), (2, \"B\")], \n",
    "    [\"B1\", \"B2\"])\n",
    "\n",
    "df = df1.join(df2, (df1.A1 == df2.B1) & (df1.A2 == df2.B2))\n",
    "df.show()"
   ]
  },
  {
   "cell_type": "code",
   "execution_count": null,
   "id": "0e679341-6a8d-4784-9d54-e6e041216fb7",
   "metadata": {},
   "outputs": [],
   "source": [
    "session.close()"
   ]
  },
  {
   "cell_type": "code",
   "execution_count": null,
   "id": "9e58dead-f432-46bf-9b33-db1a3a8f1351",
   "metadata": {},
   "outputs": [],
   "source": []
  }
 ],
 "metadata": {
  "kernelspec": {
   "display_name": "Python 3 (ipykernel)",
   "language": "python",
   "name": "python3"
  },
  "language_info": {
   "codemirror_mode": {
    "name": "ipython",
    "version": 3
   },
   "file_extension": ".py",
   "mimetype": "text/x-python",
   "name": "python",
   "nbconvert_exporter": "python",
   "pygments_lexer": "ipython3",
   "version": "3.11.9"
  }
 },
 "nbformat": 4,
 "nbformat_minor": 5
}
