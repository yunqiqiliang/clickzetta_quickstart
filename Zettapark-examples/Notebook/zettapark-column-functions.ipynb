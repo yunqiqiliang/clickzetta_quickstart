{
 "cells": [
  {
   "cell_type": "code",
   "execution_count": 1,
   "id": "e1cbdb73-be2f-44b5-b42a-c4b6e7c2dd60",
   "metadata": {},
   "outputs": [],
   "source": [
    "import json\n",
    "from clickzetta.zettapark.session import Session\n",
    "# 从配置文件中读取参数\n",
    "with open('security/config-uat.json', 'r') as config_file:\n",
    "    config = json.load(config_file)\n",
    "\n",
    "# 创建会话\n",
    "session = Session.builder.configs(config).create()"
   ]
  },
  {
   "cell_type": "code",
   "execution_count": 2,
   "id": "6109b7e3-a43f-403a-9086-9e3d509e2aa9",
   "metadata": {},
   "outputs": [],
   "source": [
    "data=[(\"James\",\"Bond\",\"100\",None),\n",
    "      (\"Ann\",\"Varsa\",\"200\",'F'),\n",
    "      (\"Tom Cruise\",\"XXX\",\"400\",''),\n",
    "      (\"Tom Brand\",None,\"400\",'M')] \n",
    "columns=[\"fname\",\"lname\",\"id\",\"gender\"]\n",
    "df=session.createDataFrame(data,columns)"
   ]
  },
  {
   "cell_type": "code",
   "execution_count": 3,
   "id": "c9e3fe72-91d0-481c-a199-4c6013bd0d4b",
   "metadata": {},
   "outputs": [
    {
     "name": "stdout",
     "output_type": "stream",
     "text": [
      "-------------------------------------------\n",
      "|first_name  |last_name  |fullname        |\n",
      "-------------------------------------------\n",
      "|James       |Bond       |James,Bond      |\n",
      "|Ann         |Varsa      |Ann,Varsa       |\n",
      "|Tom Cruise  |XXX        |Tom Cruise,XXX  |\n",
      "|Tom Brand   |NULL       |NULL            |\n",
      "-------------------------------------------\n",
      "\n"
     ]
    }
   ],
   "source": [
    "#alias\n",
    "from clickzetta.zettapark.functions import expr\n",
    "df.select(df.fname.alias(\"first_name\"), \\\n",
    "          df.lname.alias(\"last_name\"), \\\n",
    "          expr(\" fname ||','|| lname\").alias(\"fullName\") \\\n",
    "   ).show()"
   ]
  },
  {
   "cell_type": "code",
   "execution_count": 4,
   "id": "09479a43-2a77-4e4c-9f24-e97f79fe8599",
   "metadata": {},
   "outputs": [
    {
     "name": "stdout",
     "output_type": "stream",
     "text": [
      "-------------------------------------\n",
      "|fname       |lname  |id   |gender  |\n",
      "-------------------------------------\n",
      "|Ann         |Varsa  |200  |F       |\n",
      "|James       |Bond   |100  |NULL    |\n",
      "|Tom Brand   |NULL   |400  |M       |\n",
      "|Tom Cruise  |XXX    |400  |        |\n",
      "-------------------------------------\n",
      "\n",
      "-------------------------------------\n",
      "|fname       |lname  |id   |gender  |\n",
      "-------------------------------------\n",
      "|Tom Cruise  |XXX    |400  |        |\n",
      "|Tom Brand   |NULL   |400  |M       |\n",
      "|James       |Bond   |100  |NULL    |\n",
      "|Ann         |Varsa  |200  |F       |\n",
      "-------------------------------------\n",
      "\n",
      "root\n",
      " |-- `fname`: StringType() (nullable = False)\n",
      " |-- `cast(id as int)`: IntegerType() (nullable = True)\n",
      "--------------------------------\n",
      "|fname  |lname  |id   |gender  |\n",
      "--------------------------------\n",
      "|James  |Bond   |100  |NULL    |\n",
      "|Ann    |Varsa  |200  |F       |\n",
      "--------------------------------\n",
      "\n"
     ]
    }
   ],
   "source": [
    "#asc, desc\n",
    "df.sort(df.fname.asc()).show()\n",
    "df.sort(df.fname.desc()).show()\n",
    "\n",
    "#cast\n",
    "df.select(df.fname,df.id.cast(\"int\")).printSchema()\n",
    "\n",
    "#between\n",
    "df.filter(df.id.between(100,300)).show()"
   ]
  },
  {
   "cell_type": "code",
   "execution_count": 5,
   "id": "e30789e6-45a9-477e-8843-0efa17a668b7",
   "metadata": {},
   "outputs": [
    {
     "name": "stdout",
     "output_type": "stream",
     "text": [
      "-------------------------------------\n",
      "|fname       |lname  |id   |gender  |\n",
      "-------------------------------------\n",
      "|Tom Cruise  |XXX    |400  |        |\n",
      "-------------------------------------\n",
      "\n"
     ]
    }
   ],
   "source": [
    "#like\n",
    "df.filter(df.fname.like('%Cruise')).show()"
   ]
  },
  {
   "cell_type": "code",
   "execution_count": 6,
   "id": "45393d86-9649-46fc-8030-3537c50fd191",
   "metadata": {},
   "outputs": [
    {
     "name": "stdout",
     "output_type": "stream",
     "text": [
      "-------------------------------------\n",
      "|fname       |lname  |id   |gender  |\n",
      "-------------------------------------\n",
      "|Tom Cruise  |XXX    |400  |        |\n",
      "|Tom Brand   |NULL   |400  |M       |\n",
      "-------------------------------------\n",
      "\n",
      "-------------------------------------\n",
      "|fname       |lname  |id   |gender  |\n",
      "-------------------------------------\n",
      "|Tom Cruise  |XXX    |400  |        |\n",
      "-------------------------------------\n",
      "\n"
     ]
    }
   ],
   "source": [
    "#startswith, endswith()\n",
    "df.filter(df.fname.startswith(\"T\")).show()\n",
    "df.filter(df.fname.endswith(\"Cruise\")).show()"
   ]
  },
  {
   "cell_type": "code",
   "execution_count": 7,
   "id": "1e2a52aa-d4d1-408b-b3c7-d93d64584bdd",
   "metadata": {},
   "outputs": [
    {
     "name": "stdout",
     "output_type": "stream",
     "text": [
      "------------------------------------\n",
      "|fname      |lname  |id   |gender  |\n",
      "------------------------------------\n",
      "|Tom Brand  |NULL   |400  |M       |\n",
      "------------------------------------\n",
      "\n",
      "-------------------------------------\n",
      "|fname       |lname  |id   |gender  |\n",
      "-------------------------------------\n",
      "|James       |Bond   |100  |NULL    |\n",
      "|Ann         |Varsa  |200  |F       |\n",
      "|Tom Cruise  |XXX    |400  |        |\n",
      "-------------------------------------\n",
      "\n",
      "----------\n",
      "|substr  |\n",
      "----------\n",
      "|Ja      |\n",
      "|An      |\n",
      "|To      |\n",
      "|To      |\n",
      "----------\n",
      "\n",
      "-----------------------------------\n",
      "|fname       |lname  |new_gender  |\n",
      "-----------------------------------\n",
      "|James       |Bond   |NULL        |\n",
      "|Ann         |Varsa  |Female      |\n",
      "|Tom Cruise  |XXX    |            |\n",
      "|Tom Brand   |NULL   |Male        |\n",
      "-----------------------------------\n",
      "\n",
      "-----------------------\n",
      "|fname  |lname  |id   |\n",
      "-----------------------\n",
      "|James  |Bond   |100  |\n",
      "|Ann    |Varsa  |200  |\n",
      "-----------------------\n",
      "\n"
     ]
    }
   ],
   "source": [
    "#eqNullSafe\n",
    "\n",
    "#isNull & isNotNull\n",
    "df.filter(df.lname.isNull()).show()\n",
    "df.filter(df.lname.isNotNull()).show()\n",
    "\n",
    "#like , rlike\n",
    "df.select(df.fname,df.lname,df.id) \\\n",
    "  .filter(df.fname.like(\"%om\")) \n",
    "\n",
    "#over\n",
    "\n",
    "#substr\n",
    "df.select(df.fname.substr(1,2).alias(\"substr\")).show()\n",
    "\n",
    "#when & otherwise\n",
    "from clickzetta.zettapark.functions import when\n",
    "df.select(df.fname,df.lname,when(df.gender==\"M\",\"Male\") \\\n",
    "              .when(df.gender==\"F\",\"Female\") \\\n",
    "              .when(df.gender==None ,\"\") \\\n",
    "              .otherwise(df.gender).alias(\"new_gender\") \\\n",
    "    ).show()\n",
    "\n",
    "#isin\n",
    "li=[\"100\",\"200\"]\n",
    "df.select(df.fname,df.lname,df.id) \\\n",
    "  .filter(df.id.isin(li)) \\\n",
    "  .show()\n",
    "\n"
   ]
  },
  {
   "cell_type": "code",
   "execution_count": 8,
   "id": "0e679341-6a8d-4784-9d54-e6e041216fb7",
   "metadata": {},
   "outputs": [],
   "source": [
    "session.close()"
   ]
  },
  {
   "cell_type": "code",
   "execution_count": null,
   "id": "9e58dead-f432-46bf-9b33-db1a3a8f1351",
   "metadata": {},
   "outputs": [],
   "source": []
  }
 ],
 "metadata": {
  "kernelspec": {
   "display_name": "Python 3 (ipykernel)",
   "language": "python",
   "name": "python3"
  },
  "language_info": {
   "codemirror_mode": {
    "name": "ipython",
    "version": 3
   },
   "file_extension": ".py",
   "mimetype": "text/x-python",
   "name": "python",
   "nbconvert_exporter": "python",
   "pygments_lexer": "ipython3",
   "version": "3.11.9"
  }
 },
 "nbformat": 4,
 "nbformat_minor": 5
}
