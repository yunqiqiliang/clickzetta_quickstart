{
 "cells": [
  {
   "cell_type": "code",
   "execution_count": 1,
   "id": "03157d66-dfef-4f69-9459-36199352f982",
   "metadata": {},
   "outputs": [],
   "source": [
    "from clickzetta.zettapark.session import Session\n",
    "import pandas as pd  "
   ]
  },
  {
   "cell_type": "code",
   "execution_count": 2,
   "id": "e1cbdb73-be2f-44b5-b42a-c4b6e7c2dd60",
   "metadata": {},
   "outputs": [],
   "source": [
    "import json\n",
    "# 从配置文件中读取参数\n",
    "with open('security/config-uat.json', 'r') as config_file:\n",
    "    config = json.load(config_file)\n",
    "\n",
    "# 创建会话\n",
    "session = Session.builder.configs(config).create()"
   ]
  },
  {
   "cell_type": "code",
   "execution_count": 4,
   "id": "c97074c0-fa3c-436a-b3d6-9d1e6d5e159f",
   "metadata": {},
   "outputs": [
    {
     "name": "stdout",
     "output_type": "stream",
     "text": [
      "  First Name Middle Name Last Name  Age Gender  Salary\n",
      "0      James                 Smith   30      M   60000\n",
      "1    Michael        Rose             50      M   70000\n",
      "2     Robert              Williams   42         400000\n",
      "3      Maria        Anne     Jones   38      F  500000\n",
      "4        Jen        Mary     Brown   45   None       0\n",
      "First Name     5\n",
      "Middle Name    5\n",
      "Last Name      5\n",
      "Age            5\n",
      "Gender         4\n",
      "Salary         5\n",
      "dtype: int64\n"
     ]
    }
   ],
   "source": [
    "data = [[\"James\",\"\",\"Smith\",30,\"M\",60000], \n",
    "        [\"Michael\",\"Rose\",\"\",50,\"M\",70000], \n",
    "        [\"Robert\",\"\",\"Williams\",42,\"\",400000], \n",
    "        [\"Maria\",\"Anne\",\"Jones\",38,\"F\",500000], \n",
    "        [\"Jen\",\"Mary\",\"Brown\",45,None,0]] \n",
    "columns = ['First Name', 'Middle Name','Last Name','Age','Gender','Salary']\n",
    "\n",
    "# Create the pandas DataFrame \n",
    "pandasDF = pd.DataFrame(data=data, columns=columns) \n",
    "  \n",
    "# print dataframe. \n",
    "print(pandasDF)\n",
    "\n",
    "#Outputs below data on console\n",
    "\n",
    "pdCount=pandasDF.count()\n",
    "print(pdCount)"
   ]
  },
  {
   "cell_type": "code",
   "execution_count": 5,
   "id": "2aa3fda0-cfd9-4d7a-92d3-f7dc5349bda0",
   "metadata": {},
   "outputs": [
    {
     "name": "stdout",
     "output_type": "stream",
     "text": [
      "50\n",
      "41.0\n"
     ]
    }
   ],
   "source": [
    "print(pandasDF['Age'].max())\n",
    "print(pandasDF['Age'].mean())"
   ]
  },
  {
   "cell_type": "code",
   "execution_count": 6,
   "id": "0e679341-6a8d-4784-9d54-e6e041216fb7",
   "metadata": {},
   "outputs": [],
   "source": [
    "session.close()"
   ]
  },
  {
   "cell_type": "code",
   "execution_count": null,
   "id": "9e58dead-f432-46bf-9b33-db1a3a8f1351",
   "metadata": {},
   "outputs": [],
   "source": []
  }
 ],
 "metadata": {
  "kernelspec": {
   "display_name": "Python 3 (ipykernel)",
   "language": "python",
   "name": "python3"
  },
  "language_info": {
   "codemirror_mode": {
    "name": "ipython",
    "version": 3
   },
   "file_extension": ".py",
   "mimetype": "text/x-python",
   "name": "python",
   "nbconvert_exporter": "python",
   "pygments_lexer": "ipython3",
   "version": "3.11.9"
  }
 },
 "nbformat": 4,
 "nbformat_minor": 5
}
