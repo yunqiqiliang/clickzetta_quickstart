{
 "cells": [
  {
   "cell_type": "code",
   "execution_count": 1,
   "id": "e1cbdb73-be2f-44b5-b42a-c4b6e7c2dd60",
   "metadata": {},
   "outputs": [],
   "source": [
    "import json\n",
    "from clickzetta.zettapark.session import Session\n",
    "# 从配置文件中读取参数\n",
    "with open('security/config-uat.json', 'r') as config_file:\n",
    "    config = json.load(config_file)\n",
    "\n",
    "# 创建会话\n",
    "session = Session.builder.configs(config).create()"
   ]
  },
  {
   "cell_type": "code",
   "execution_count": 2,
   "id": "6109b7e3-a43f-403a-9086-9e3d509e2aa9",
   "metadata": {},
   "outputs": [],
   "source": [
    "simpleData = [(\"James\",\"34\",\"true\",\"M\",\"3000.6089\"),\n",
    "    (\"Michael\",\"33\",\"true\",\"F\",\"3300.8067\"),\n",
    "    (\"Robert\",\"37\",\"false\",\"M\",\"5000.5034\")\n",
    "  ]"
   ]
  },
  {
   "cell_type": "code",
   "execution_count": 3,
   "id": "1e2a52aa-d4d1-408b-b3c7-d93d64584bdd",
   "metadata": {},
   "outputs": [
    {
     "name": "stdout",
     "output_type": "stream",
     "text": [
      "root\n",
      " |-- `firstname`: StringType() (nullable = False)\n",
      " |-- `age`: StringType() (nullable = False)\n",
      " |-- `isgraduated`: StringType() (nullable = False)\n",
      " |-- `gender`: StringType() (nullable = False)\n",
      " |-- `salary`: StringType() (nullable = False)\n",
      "------------------------------------------------------\n",
      "|firstname  |age  |isgraduated  |gender  |salary     |\n",
      "------------------------------------------------------\n",
      "|James      |34   |true         |M       |3000.6089  |\n",
      "|Michael    |33   |true         |F       |3300.8067  |\n",
      "|Robert     |37   |false        |M       |5000.5034  |\n",
      "------------------------------------------------------\n",
      "\n"
     ]
    }
   ],
   "source": [
    "columns = [\"firstname\",\"age\",\"isGraduated\",\"gender\",\"salary\"]\n",
    "df = session.createDataFrame(data = simpleData, schema = columns)\n",
    "df.printSchema()\n",
    "df.show()"
   ]
  },
  {
   "cell_type": "code",
   "execution_count": 4,
   "id": "f2f1e83f-d7d4-48e2-a559-ad0b7948e035",
   "metadata": {},
   "outputs": [
    {
     "name": "stdout",
     "output_type": "stream",
     "text": [
      "root\n",
      " |-- `firstname`: StringType() (nullable = False)\n",
      " |-- `age`: StringType() (nullable = False)\n",
      " |-- `isgraduated`: StringType() (nullable = False)\n",
      " |-- `gender`: StringType() (nullable = False)\n",
      " |-- `salary`: DoubleType() (nullable = True)\n",
      "root\n",
      " |-- `firstname`: StringType() (nullable = False)\n",
      " |-- `age`: StringType() (nullable = False)\n",
      " |-- `isgraduated`: StringType() (nullable = False)\n",
      " |-- `gender`: StringType() (nullable = False)\n",
      " |-- `salary`: DoubleType() (nullable = True)\n",
      "root\n",
      " |-- `firstname`: StringType() (nullable = False)\n",
      " |-- `isgraduated`: StringType() (nullable = False)\n",
      " |-- `salary`: DoubleType() (nullable = True)\n",
      "root\n",
      " |-- `firstname`: StringType() (nullable = False)\n",
      " |-- `isgraduated`: StringType() (nullable = False)\n",
      " |-- `salary`: DoubleType() (nullable = True)\n"
     ]
    }
   ],
   "source": [
    "from clickzetta.zettapark.functions import col,round,expr\n",
    "from clickzetta.zettapark.types import  DoubleType,IntegerType\n",
    "df.withColumn(\"salary\",df.salary.cast('double')).printSchema()    \n",
    "# df.withColumn(\"salary\",df.salary.cast(DoublerType())).printSchema()    \n",
    "df.withColumn(\"salary\",col(\"salary\").cast('double')).printSchema()    \n",
    "\n",
    "#df.withColumn(\"salary\",round(df.salary.cast(DoubleType()),2)).show(truncate=False).printSchema()    \n",
    "df.selectExpr(\"firstname\",\"isGraduated\",\"cast(salary as double) salary\").printSchema()    \n",
    "\n",
    "df.createOrReplaceTempView(\"CastExample\")\n",
    "session.sql(\"SELECT firstname,isGraduated,DOUBLE (salary) as salary from CastExample\").printSchema()"
   ]
  },
  {
   "cell_type": "code",
   "execution_count": 5,
   "id": "0e679341-6a8d-4784-9d54-e6e041216fb7",
   "metadata": {},
   "outputs": [],
   "source": [
    "session.close()"
   ]
  },
  {
   "cell_type": "code",
   "execution_count": null,
   "id": "9e58dead-f432-46bf-9b33-db1a3a8f1351",
   "metadata": {},
   "outputs": [],
   "source": []
  }
 ],
 "metadata": {
  "kernelspec": {
   "display_name": "Python 3 (ipykernel)",
   "language": "python",
   "name": "python3"
  },
  "language_info": {
   "codemirror_mode": {
    "name": "ipython",
    "version": 3
   },
   "file_extension": ".py",
   "mimetype": "text/x-python",
   "name": "python",
   "nbconvert_exporter": "python",
   "pygments_lexer": "ipython3",
   "version": "3.11.9"
  }
 },
 "nbformat": 4,
 "nbformat_minor": 5
}
