{
 "cells": [
  {
   "cell_type": "code",
   "execution_count": 1,
   "id": "e1cbdb73-be2f-44b5-b42a-c4b6e7c2dd60",
   "metadata": {},
   "outputs": [],
   "source": [
    "import json\n",
    "from clickzetta.zettapark.session import Session\n",
    "# 从配置文件中读取参数\n",
    "with open('security/config-uat.json', 'r') as config_file:\n",
    "    config = json.load(config_file)\n",
    "\n",
    "# 创建会话\n",
    "session = Session.builder.configs(config).create()"
   ]
  },
  {
   "cell_type": "code",
   "execution_count": 2,
   "id": "6109b7e3-a43f-403a-9086-9e3d509e2aa9",
   "metadata": {},
   "outputs": [
    {
     "name": "stdout",
     "output_type": "stream",
     "text": [
      "root\n",
      " |-- `firstname`: StringType() (nullable = False)\n",
      " |-- `age`: IntegerType() (nullable = False)\n",
      " |-- `jobstartdate`: StringType() (nullable = False)\n",
      " |-- `isgraduated`: StringType() (nullable = False)\n",
      " |-- `gender`: StringType() (nullable = False)\n",
      " |-- `salary`: FloatType() (nullable = False)\n",
      "-----------------------------------------------------------------------------\n",
      "|firstname  |age  |jobstartdate  |isgraduated  |gender  |salary             |\n",
      "-----------------------------------------------------------------------------\n",
      "|James      |34   |2006-01-01    |true         |M       |3000.60009765625   |\n",
      "|Michael    |33   |1980-01-10    |true         |F       |3300.800048828125  |\n",
      "|Robert     |37   |06-01-1992    |false        |M       |5000.5             |\n",
      "-----------------------------------------------------------------------------\n",
      "\n"
     ]
    }
   ],
   "source": [
    "simpleData = [(\"James\",34,\"2006-01-01\",\"true\",\"M\",3000.60),\n",
    "    (\"Michael\",33,\"1980-01-10\",\"true\",\"F\",3300.80),\n",
    "    (\"Robert\",37,\"06-01-1992\",\"false\",\"M\",5000.50)\n",
    "  ]\n",
    "\n",
    "columns = [\"firstname\",\"age\",\"jobStartDate\",\"isGraduated\",\"gender\",\"salary\"]\n",
    "df = session.createDataFrame(data = simpleData, schema = columns)\n",
    "df.printSchema()\n",
    "# df.show(truncate=False)\n",
    "df.show()"
   ]
  },
  {
   "cell_type": "code",
   "execution_count": 3,
   "id": "1e2a52aa-d4d1-408b-b3c7-d93d64584bdd",
   "metadata": {},
   "outputs": [
    {
     "name": "stdout",
     "output_type": "stream",
     "text": [
      "root\n",
      " |-- `firstname`: StringType() (nullable = False)\n",
      " |-- `gender`: StringType() (nullable = False)\n",
      " |-- `salary`: FloatType() (nullable = False)\n",
      " |-- `age`: StringType() (nullable = False)\n",
      " |-- `isgraduated`: BooleanType() (nullable = True)\n",
      " |-- `jobstartdate`: DateType() (nullable = True)\n",
      "root\n",
      " |-- `age`: IntegerType() (nullable = True)\n",
      " |-- `isgraduated`: StringType() (nullable = True)\n",
      " |-- `jobstartdate`: StringType() (nullable = True)\n",
      "------------------------------------\n",
      "|age  |isgraduated  |jobstartdate  |\n",
      "------------------------------------\n",
      "|34   |true         |2006-01-01    |\n",
      "|33   |true         |1980-01-10    |\n",
      "|37   |false        |NULL          |\n",
      "------------------------------------\n",
      "\n",
      "root\n",
      " |-- `string(age)`: StringType() (nullable = True)\n",
      " |-- ```boolean``(isgraduated)`: BooleanType() (nullable = True)\n",
      " |-- ```date``(jobstartdate)`: DateType() (nullable = True)\n",
      "---------------------------------------------------------------\n",
      "|string(age)  |`boolean`(isgraduated)  |`date`(jobstartdate)  |\n",
      "---------------------------------------------------------------\n",
      "|34           |True                    |2006-01-01            |\n",
      "|33           |True                    |1980-01-10            |\n",
      "|37           |False                   |NULL                  |\n",
      "---------------------------------------------------------------\n",
      "\n"
     ]
    }
   ],
   "source": [
    "from clickzetta.zettapark.functions import col\n",
    "from clickzetta.zettapark.types import StringType,BooleanType,DateType\n",
    "df2 = df.withColumn(\"age\",col(\"age\").cast(StringType())) \\\n",
    "    .withColumn(\"isGraduated\",col(\"isGraduated\").cast(BooleanType())) \\\n",
    "    .withColumn(\"jobStartDate\",col(\"jobStartDate\").cast(DateType()))\n",
    "df2.printSchema()\n",
    "\n",
    "df3 = df2.selectExpr(\"cast(age as int) age\",\n",
    "    \"cast(isGraduated as string) isGraduated\",\n",
    "    \"cast(jobStartDate as string) jobStartDate\")\n",
    "df3.printSchema()\n",
    "# df3.show(truncate=False)\n",
    "df3.show()\n",
    "\n",
    "df3.createOrReplaceTempView(\"CastExample\")\n",
    "df4 = session.sql(\"SELECT STRING(age),BOOLEAN(isGraduated),DATE(jobStartDate) from CastExample\")\n",
    "df4.printSchema()\n",
    "# df4.show(truncate=False)\n",
    "df4.show()"
   ]
  },
  {
   "cell_type": "code",
   "execution_count": 4,
   "id": "0e679341-6a8d-4784-9d54-e6e041216fb7",
   "metadata": {},
   "outputs": [],
   "source": [
    "session.close()"
   ]
  },
  {
   "cell_type": "code",
   "execution_count": null,
   "id": "9e58dead-f432-46bf-9b33-db1a3a8f1351",
   "metadata": {},
   "outputs": [],
   "source": []
  }
 ],
 "metadata": {
  "kernelspec": {
   "display_name": "Python 3 (ipykernel)",
   "language": "python",
   "name": "python3"
  },
  "language_info": {
   "codemirror_mode": {
    "name": "ipython",
    "version": 3
   },
   "file_extension": ".py",
   "mimetype": "text/x-python",
   "name": "python",
   "nbconvert_exporter": "python",
   "pygments_lexer": "ipython3",
   "version": "3.11.9"
  }
 },
 "nbformat": 4,
 "nbformat_minor": 5
}
