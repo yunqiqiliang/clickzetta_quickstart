{
 "cells": [
  {
   "cell_type": "code",
   "execution_count": 1,
   "id": "03157d66-dfef-4f69-9459-36199352f982",
   "metadata": {},
   "outputs": [],
   "source": [
    "from clickzetta.zettapark.session import Session,Row\n",
    "from clickzetta.zettapark.functions import *"
   ]
  },
  {
   "cell_type": "code",
   "execution_count": 2,
   "id": "e1cbdb73-be2f-44b5-b42a-c4b6e7c2dd60",
   "metadata": {},
   "outputs": [],
   "source": [
    "import json\n",
    "# 从配置文件中读取参数\n",
    "with open('security/config-uat.json', 'r') as config_file:\n",
    "    config = json.load(config_file)\n",
    "\n",
    "# 创建会话\n",
    "session = Session.builder.configs(config).create()"
   ]
  },
  {
   "cell_type": "code",
   "execution_count": 4,
   "id": "c97074c0-fa3c-436a-b3d6-9d1e6d5e159f",
   "metadata": {},
   "outputs": [
    {
     "name": "stdout",
     "output_type": "stream",
     "text": [
      "[('James', '[\"Java\", \"Scala\"]', '{\"hair\": \"black\", \"eye\": \"brown\"}'), ('Michael', '[\"Spark\", \"Java\", null]', '{\"hair\": \"brown\", \"eye\": null}'), ('Robert', '[\"CSharp\", \"\"]', '{\"hair\": \"red\", \"eye\": \"\"}'), ('Washington', 'null', 'null'), ('Jefferson', '[\"1\", \"2\"]', '{}')]\n"
     ]
    }
   ],
   "source": [
    "import json\n",
    "\n",
    "arrayData = [\n",
    "    ('James', json.dumps(['Java', 'Scala']), json.dumps({'hair': 'black', 'eye': 'brown'})),\n",
    "    ('Michael', json.dumps(['Spark', 'Java', None]), json.dumps({'hair': 'brown', 'eye': None})),\n",
    "    ('Robert', json.dumps(['CSharp', '']), json.dumps({'hair': 'red', 'eye': ''})),\n",
    "    ('Washington', json.dumps(None), json.dumps(None)),\n",
    "    ('Jefferson', json.dumps(['1', '2']), json.dumps({}))\n",
    "]\n",
    "\n",
    "print(arrayData)"
   ]
  },
  {
   "cell_type": "code",
   "execution_count": 5,
   "id": "2aa3fda0-cfd9-4d7a-92d3-f7dc5349bda0",
   "metadata": {},
   "outputs": [],
   "source": [
    "df = session.createDataFrame(data=arrayData, schema = ['name','knownLanguages','properties'])"
   ]
  },
  {
   "cell_type": "code",
   "execution_count": 6,
   "id": "6d958953-881d-4864-80d3-863acd567039",
   "metadata": {},
   "outputs": [
    {
     "name": "stdout",
     "output_type": "stream",
     "text": [
      "root\n",
      " |-- `newname`: StringType() (nullable = False)\n",
      " |-- `knownlanguages`: StringType() (nullable = False)\n",
      " |-- `properties`: StringType() (nullable = False)\n"
     ]
    }
   ],
   "source": [
    "''' Example 1 '''\n",
    "df.withColumnRenamed(\"name\",\"NewName\").printSchema()\n"
   ]
  },
  {
   "cell_type": "code",
   "execution_count": 7,
   "id": "8c097d14-1014-40bd-8bad-9c5225474c08",
   "metadata": {},
   "outputs": [
    {
     "name": "stdout",
     "output_type": "stream",
     "text": [
      "root\n",
      " |-- `newname`: StringType() (nullable = False)\n",
      " |-- `newknownlanguages`: StringType() (nullable = False)\n",
      " |-- `properties`: StringType() (nullable = False)\n"
     ]
    }
   ],
   "source": [
    "''' Example 2 '''    \n",
    "df2 = df.withColumnRenamed(\"name\",\"NewName\") \\\n",
    "    .withColumnRenamed(\"knownLanguages\",\"NewKnownLanguages\")\n",
    "df2.printSchema()"
   ]
  },
  {
   "cell_type": "code",
   "execution_count": 8,
   "id": "0e679341-6a8d-4784-9d54-e6e041216fb7",
   "metadata": {},
   "outputs": [],
   "source": [
    "session.close()"
   ]
  },
  {
   "cell_type": "code",
   "execution_count": null,
   "id": "9e58dead-f432-46bf-9b33-db1a3a8f1351",
   "metadata": {},
   "outputs": [],
   "source": []
  }
 ],
 "metadata": {
  "kernelspec": {
   "display_name": "Python 3 (ipykernel)",
   "language": "python",
   "name": "python3"
  },
  "language_info": {
   "codemirror_mode": {
    "name": "ipython",
    "version": 3
   },
   "file_extension": ".py",
   "mimetype": "text/x-python",
   "name": "python",
   "nbconvert_exporter": "python",
   "pygments_lexer": "ipython3",
   "version": "3.11.9"
  }
 },
 "nbformat": 4,
 "nbformat_minor": 5
}
