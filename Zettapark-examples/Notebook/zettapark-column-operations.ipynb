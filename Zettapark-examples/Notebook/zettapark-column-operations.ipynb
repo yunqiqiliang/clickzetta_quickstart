{
 "cells": [
  {
   "cell_type": "code",
   "execution_count": 1,
   "id": "e1cbdb73-be2f-44b5-b42a-c4b6e7c2dd60",
   "metadata": {},
   "outputs": [],
   "source": [
    "import json\n",
    "from clickzetta.zettapark.session import Session\n",
    "# 从配置文件中读取参数\n",
    "with open('security/config-uat.json', 'r') as config_file:\n",
    "    config = json.load(config_file)\n",
    "\n",
    "# 创建会话\n",
    "session = Session.builder.configs(config).create()"
   ]
  },
  {
   "cell_type": "code",
   "execution_count": 2,
   "id": "6109b7e3-a43f-403a-9086-9e3d509e2aa9",
   "metadata": {},
   "outputs": [
    {
     "name": "stdout",
     "output_type": "stream",
     "text": [
      "root\n",
      " |-- `name.fname`: StringType() (nullable = False)\n",
      " |-- `gender`: IntegerType() (nullable = False)\n",
      "-----------------------\n",
      "|name.fname  |gender  |\n",
      "-----------------------\n",
      "|James       |23      |\n",
      "|Ann         |40      |\n",
      "-----------------------\n",
      "\n"
     ]
    }
   ],
   "source": [
    "data=[(\"James\",23),(\"Ann\",40)]\n",
    "df=session.createDataFrame(data).toDF(\"name.fname\",\"gender\")\n",
    "df.printSchema()\n",
    "df.show()"
   ]
  },
  {
   "cell_type": "code",
   "execution_count": 3,
   "id": "6d1ddaf1-e9da-474f-a296-b6015476d702",
   "metadata": {},
   "outputs": [
    {
     "name": "stdout",
     "output_type": "stream",
     "text": [
      "--------------\n",
      "|name.fname  |\n",
      "--------------\n",
      "|James       |\n",
      "|Ann         |\n",
      "--------------\n",
      "\n",
      "--------------\n",
      "|name.fname  |\n",
      "--------------\n",
      "|James       |\n",
      "|Ann         |\n",
      "--------------\n",
      "\n",
      "---------------------------------\n",
      "|name.fname  |gender  |new_col  |\n",
      "---------------------------------\n",
      "|James       |23      |Ja       |\n",
      "|Ann         |40      |An       |\n",
      "---------------------------------\n",
      "\n",
      "-----------------------\n",
      "|name.fname  |gender  |\n",
      "-----------------------\n",
      "|James       |23      |\n",
      "-----------------------\n",
      "\n",
      "-----------------------\n",
      "|name_fname  |gender  |\n",
      "-----------------------\n",
      "|James       |23      |\n",
      "|Ann         |40      |\n",
      "-----------------------\n",
      "\n",
      "----------\n",
      "|gender  |\n",
      "----------\n",
      "|23      |\n",
      "|40      |\n",
      "----------\n",
      "\n",
      "----------\n",
      "|gender  |\n",
      "----------\n",
      "|23      |\n",
      "|40      |\n",
      "----------\n",
      "\n",
      "--------------\n",
      "|name.fname  |\n",
      "--------------\n",
      "|James       |\n",
      "|Ann         |\n",
      "--------------\n",
      "\n"
     ]
    }
   ],
   "source": [
    "from clickzetta.zettapark.functions import col\n",
    "df.select(col(\"`name.fname`\")).show()\n",
    "df.select(df[\"`name.fname`\"]).show()\n",
    "df.withColumn(\"new_col\",col(\"`name.fname`\").substr(1,2)).show()\n",
    "df.filter(col(\"`name.fname`\").startswith(\"J\")).show()\n",
    "new_cols=(column.replace('.', '_') for column in df.columns)\n",
    "df2 = df.toDF(*new_cols)\n",
    "df2.show()\n",
    "\n",
    "\n",
    "# Using DataFrame object\n",
    "df.select(df.gender).show()\n",
    "df.select(df[\"gender\"]).show()\n",
    "#Accessing column name with dot (with backticks)\n",
    "df.select(df[\"`name.fname`\"]).show()"
   ]
  },
  {
   "cell_type": "code",
   "execution_count": 4,
   "id": "2ea14f69-f1be-4f91-9e31-b27a08b07f09",
   "metadata": {},
   "outputs": [
    {
     "name": "stdout",
     "output_type": "stream",
     "text": [
      "----------\n",
      "|gender  |\n",
      "----------\n",
      "|23      |\n",
      "|40      |\n",
      "----------\n",
      "\n",
      "--------------\n",
      "|name.fname  |\n",
      "--------------\n",
      "|James       |\n",
      "|Ann         |\n",
      "--------------\n",
      "\n"
     ]
    }
   ],
   "source": [
    "#Using SQL col() function\n",
    "from clickzetta.zettapark.functions import col\n",
    "from clickzetta.zettapark import Row\n",
    "df.select(col(\"gender\")).show()\n",
    "#Accessing column name with dot (with backticks)\n",
    "df.select(col(\"`name.fname`\")).show()"
   ]
  },
  {
   "cell_type": "code",
   "execution_count": 5,
   "id": "5f85c738-128f-4792-86d2-e2f6c8358472",
   "metadata": {},
   "outputs": [
    {
     "name": "stdout",
     "output_type": "stream",
     "text": [
      "---------------\n",
      "|col1 + col2  |\n",
      "---------------\n",
      "|102          |\n",
      "|203          |\n",
      "|304          |\n",
      "---------------\n",
      "\n",
      "---------------\n",
      "|col1 - col2  |\n",
      "---------------\n",
      "|98           |\n",
      "|197          |\n",
      "|296          |\n",
      "---------------\n",
      "\n",
      "---------------\n",
      "|col1 * col2  |\n",
      "---------------\n",
      "|200          |\n",
      "|600          |\n",
      "|1200         |\n",
      "---------------\n",
      "\n",
      "---------------------\n",
      "|col1 / col2        |\n",
      "---------------------\n",
      "|50.0               |\n",
      "|66.66666666666667  |\n",
      "|75.0               |\n",
      "---------------------\n",
      "\n",
      "---------------\n",
      "|col1 % col2  |\n",
      "---------------\n",
      "|0            |\n",
      "|2            |\n",
      "|0            |\n",
      "---------------\n",
      "\n",
      "---------------\n",
      "|col2 > col3  |\n",
      "---------------\n",
      "|True         |\n",
      "|False        |\n",
      "|False        |\n",
      "---------------\n",
      "\n",
      "---------------\n",
      "|col2 < col3  |\n",
      "---------------\n",
      "|False        |\n",
      "|True         |\n",
      "|False        |\n",
      "---------------\n",
      "\n",
      "---------------\n",
      "|col2 = col3  |\n",
      "---------------\n",
      "|False        |\n",
      "|False        |\n",
      "|True         |\n",
      "---------------\n",
      "\n"
     ]
    }
   ],
   "source": [
    "# Column operators\n",
    "data=[(100,2,1),(200,3,4),(300,4,4)]\n",
    "df=session.createDataFrame(data).toDF(\"col1\",\"col2\",\"col3\")\n",
    "df.select(df.col1 + df.col2).show()\n",
    "df.select(df.col1 - df.col2).show() \n",
    "df.select(df.col1 * df.col2).show()\n",
    "df.select(df.col1 / df.col2).show()\n",
    "df.select(df.col1 % df.col2).show()\n",
    "\n",
    "df.select(df.col2 > df.col3).show()\n",
    "df.select(df.col2 < df.col3).show()\n",
    "df.select(df.col2 == df.col3).show()"
   ]
  },
  {
   "cell_type": "code",
   "execution_count": 6,
   "id": "0e679341-6a8d-4784-9d54-e6e041216fb7",
   "metadata": {},
   "outputs": [],
   "source": [
    "session.close()"
   ]
  },
  {
   "cell_type": "code",
   "execution_count": null,
   "id": "9e58dead-f432-46bf-9b33-db1a3a8f1351",
   "metadata": {},
   "outputs": [],
   "source": []
  }
 ],
 "metadata": {
  "kernelspec": {
   "display_name": "Python 3 (ipykernel)",
   "language": "python",
   "name": "python3"
  },
  "language_info": {
   "codemirror_mode": {
    "name": "ipython",
    "version": 3
   },
   "file_extension": ".py",
   "mimetype": "text/x-python",
   "name": "python",
   "nbconvert_exporter": "python",
   "pygments_lexer": "ipython3",
   "version": "3.11.9"
  }
 },
 "nbformat": 4,
 "nbformat_minor": 5
}
