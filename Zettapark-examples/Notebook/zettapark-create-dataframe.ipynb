{
 "cells": [
  {
   "cell_type": "code",
   "execution_count": 1,
   "id": "e1cbdb73-be2f-44b5-b42a-c4b6e7c2dd60",
   "metadata": {},
   "outputs": [],
   "source": [
    "import json\n",
    "from clickzetta.zettapark.session import Session\n",
    "# 从配置文件中读取参数\n",
    "with open('security/config-uat.json', 'r') as config_file:\n",
    "    config = json.load(config_file)\n",
    "\n",
    "# 创建会话\n",
    "session = Session.builder.configs(config).create()"
   ]
  },
  {
   "cell_type": "code",
   "execution_count": 2,
   "id": "6109b7e3-a43f-403a-9086-9e3d509e2aa9",
   "metadata": {},
   "outputs": [],
   "source": [
    "columns = [\"language\",\"users_count\"]\n",
    "data = [(\"Java\", \"20000\"), (\"Python\", \"100000\"), (\"Scala\", \"3000\")]"
   ]
  },
  {
   "cell_type": "code",
   "execution_count": 3,
   "id": "1e2a52aa-d4d1-408b-b3c7-d93d64584bdd",
   "metadata": {},
   "outputs": [
    {
     "name": "stdout",
     "output_type": "stream",
     "text": [
      "root\n",
      " |-- `language`: StringType() (nullable = False)\n",
      " |-- `users_count`: StringType() (nullable = False)\n",
      "--------------------------\n",
      "|language  |users_count  |\n",
      "--------------------------\n",
      "|Java      |20000        |\n",
      "|Python    |100000       |\n",
      "|Scala     |3000         |\n",
      "--------------------------\n",
      "\n"
     ]
    }
   ],
   "source": [
    "dfFromData = session.createDataFrame(data,columns)\n",
    "dfFromData.printSchema()\n",
    "dfFromData.show()"
   ]
  },
  {
   "cell_type": "code",
   "execution_count": 4,
   "id": "0e679341-6a8d-4784-9d54-e6e041216fb7",
   "metadata": {},
   "outputs": [],
   "source": [
    "session.close()"
   ]
  },
  {
   "cell_type": "code",
   "execution_count": null,
   "id": "9e58dead-f432-46bf-9b33-db1a3a8f1351",
   "metadata": {},
   "outputs": [],
   "source": []
  }
 ],
 "metadata": {
  "kernelspec": {
   "display_name": "Python 3 (ipykernel)",
   "language": "python",
   "name": "python3"
  },
  "language_info": {
   "codemirror_mode": {
    "name": "ipython",
    "version": 3
   },
   "file_extension": ".py",
   "mimetype": "text/x-python",
   "name": "python",
   "nbconvert_exporter": "python",
   "pygments_lexer": "ipython3",
   "version": "3.11.9"
  }
 },
 "nbformat": 4,
 "nbformat_minor": 5
}
