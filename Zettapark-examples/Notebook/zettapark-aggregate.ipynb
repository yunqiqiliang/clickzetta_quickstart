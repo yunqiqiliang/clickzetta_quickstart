{
 "cells": [
  {
   "cell_type": "code",
   "execution_count": 1,
   "id": "e1cbdb73-be2f-44b5-b42a-c4b6e7c2dd60",
   "metadata": {},
   "outputs": [],
   "source": [
    "import json\n",
    "from clickzetta.zettapark.session import Session\n",
    "\n",
    "# 从配置文件中读取参数\n",
    "with open('security/config-uat.json', 'r') as config_file:\n",
    "    config = json.load(config_file)\n",
    "\n",
    "# 创建会话\n",
    "session = Session.builder.configs(config).create()\n"
   ]
  },
  {
   "cell_type": "code",
   "execution_count": 2,
   "id": "4c7c211b-d198-442f-bd5d-4be13662182b",
   "metadata": {},
   "outputs": [],
   "source": [
    "from clickzetta.zettapark.functions import approx_count_distinct\n",
    "from clickzetta.zettapark.functions import collect_set,sum,avg,max,countDistinct,count\n",
    "from clickzetta.zettapark.functions import kurtosis, min, mean\n",
    "from clickzetta.zettapark.functions import stddev, stddev_samp, stddev_pop\n",
    "from clickzetta.zettapark.functions import variance,var_samp,  var_pop\n",
    "\n",
    "# from clickzetta.zettapark.functions import collect_list, first,last, skewness , sumDistinct"
   ]
  },
  {
   "cell_type": "code",
   "execution_count": 3,
   "id": "c74cb3cb-3839-49c9-a451-fbec8aaa9c0f",
   "metadata": {},
   "outputs": [
    {
     "name": "stdout",
     "output_type": "stream",
     "text": [
      "root\n",
      " |-- `employee_name`: StringType() (nullable = False)\n",
      " |-- `department`: StringType() (nullable = False)\n",
      " |-- `salary`: IntegerType() (nullable = False)\n",
      "---------------------------------------\n",
      "|employee_name  |department  |salary  |\n",
      "---------------------------------------\n",
      "|James          |Sales       |3000    |\n",
      "|Michael        |Sales       |4600    |\n",
      "|Robert         |Sales       |4100    |\n",
      "|Maria          |Finance     |3000    |\n",
      "|James          |Sales       |3000    |\n",
      "|Scott          |Finance     |3300    |\n",
      "|Jen            |Finance     |3900    |\n",
      "|Jeff           |Marketing   |3000    |\n",
      "|Kumar          |Marketing   |2000    |\n",
      "|Saif           |Sales       |4100    |\n",
      "---------------------------------------\n",
      "\n"
     ]
    }
   ],
   "source": [
    "simpleData = [(\"James\", \"Sales\", 3000),\n",
    "    (\"Michael\", \"Sales\", 4600),\n",
    "    (\"Robert\", \"Sales\", 4100),\n",
    "    (\"Maria\", \"Finance\", 3000),\n",
    "    (\"James\", \"Sales\", 3000),\n",
    "    (\"Scott\", \"Finance\", 3300),\n",
    "    (\"Jen\", \"Finance\", 3900),\n",
    "    (\"Jeff\", \"Marketing\", 3000),\n",
    "    (\"Kumar\", \"Marketing\", 2000),\n",
    "    (\"Saif\", \"Sales\", 4100)\n",
    "  ]\n",
    "schema = [\"employee_name\", \"department\", \"salary\"]\n",
    "  \n",
    "  \n",
    "df = session.createDataFrame(data=simpleData, schema = schema)\n",
    "df.printSchema()\n",
    "# df.show(truncate=False)\n",
    "df.show()"
   ]
  },
  {
   "cell_type": "code",
   "execution_count": 4,
   "id": "2fdfe944-36e4-4987-af08-af108e667f5e",
   "metadata": {},
   "outputs": [
    {
     "name": "stdout",
     "output_type": "stream",
     "text": [
      "approx_count_distinct: 6\n",
      "avg: 3400.0\n",
      "----------------------------------------\n",
      "|`count`(distinct department, salary)  |\n",
      "----------------------------------------\n",
      "|8                                     |\n",
      "----------------------------------------\n",
      "\n",
      "Distinct Count of Department &amp; Salary: 8\n",
      "count: Row(`count`(salary)=10)\n",
      "-----------------\n",
      "|`max`(salary)  |\n",
      "-----------------\n",
      "|4600           |\n",
      "-----------------\n",
      "\n",
      "-----------------\n",
      "|`min`(salary)  |\n",
      "-----------------\n",
      "|2000           |\n",
      "-----------------\n",
      "\n",
      "-----------------\n",
      "|`avg`(salary)  |\n",
      "-----------------\n",
      "|3400.0         |\n",
      "-----------------\n",
      "\n",
      "------------------------------------------------------------------------\n",
      "|`stddev_samp`(salary)  |`stddev_samp`(salary)  |`stddev_pop`(salary)  |\n",
      "------------------------------------------------------------------------\n",
      "|765.9416862050705      |765.9416862050705      |726.636084983398      |\n",
      "------------------------------------------------------------------------\n",
      "\n",
      "-----------------\n",
      "|`sum`(salary)  |\n",
      "-----------------\n",
      "|34000          |\n",
      "-----------------\n",
      "\n",
      "---------------------------------------------------------------\n",
      "|`var_samp`(salary)  |`var_samp`(salary)  |`var_pop`(salary)  |\n",
      "---------------------------------------------------------------\n",
      "|586666.6666666666   |586666.6666666666   |528000.0           |\n",
      "---------------------------------------------------------------\n",
      "\n"
     ]
    }
   ],
   "source": [
    "print(\"approx_count_distinct: \" + \\\n",
    "      str(df.select(approx_count_distinct(\"salary\")).collect()[0][0]))\n",
    "\n",
    "print(\"avg: \" + str(df.select(avg(\"salary\")).collect()[0][0]))\n",
    "\n",
    "# df.select(collect_list(\"salary\")).show(truncate=False)\n",
    "\n",
    "# df.select(collect_set(\"salary\")).show(truncate=False)\n",
    "\n",
    "df2 = df.select(countDistinct(\"department\", \"salary\"))\n",
    "df2.show()\n",
    "print(\"Distinct Count of Department &amp; Salary: \"+str(df2.collect()[0][0]))\n",
    "\n",
    "print(\"count: \"+str(df.select(count(\"salary\")).collect()[0]))\n",
    "# df.select(first(\"salary\")).show(truncate=False)\n",
    "# df.select(last(\"salary\")).show(truncate=False)\n",
    "# df.select(kurtosis(\"salary\")).show()\n",
    "df.select(max(\"salary\")).show()\n",
    "df.select(min(\"salary\")).show()\n",
    "df.select(mean(\"salary\")).show()\n",
    "# df.select(skewness(\"salary\")).show(truncate=False)\n",
    "df.select(stddev(\"salary\"), stddev_samp(\"salary\"), \\\n",
    "    stddev_pop(\"salary\")).show()\n",
    "df.select(sum(\"salary\")).show()\n",
    "# df.select(sumDistinct(\"salary\")).show(truncate=False)\n",
    "df.select(variance(\"salary\"),var_samp(\"salary\"),var_pop(\"salary\")) \\\n",
    "  .show()"
   ]
  },
  {
   "cell_type": "code",
   "execution_count": 5,
   "id": "0e679341-6a8d-4784-9d54-e6e041216fb7",
   "metadata": {},
   "outputs": [],
   "source": [
    "session.close()"
   ]
  }
 ],
 "metadata": {
  "kernelspec": {
   "display_name": "Python 3 (ipykernel)",
   "language": "python",
   "name": "python3"
  },
  "language_info": {
   "codemirror_mode": {
    "name": "ipython",
    "version": 3
   },
   "file_extension": ".py",
   "mimetype": "text/x-python",
   "name": "python",
   "nbconvert_exporter": "python",
   "pygments_lexer": "ipython3",
   "version": "3.11.9"
  }
 },
 "nbformat": 4,
 "nbformat_minor": 5
}
