{
 "cells": [
  {
   "cell_type": "code",
   "execution_count": 1,
   "id": "03157d66-dfef-4f69-9459-36199352f982",
   "metadata": {},
   "outputs": [],
   "source": [
    "from clickzetta.zettapark.session import Session\n",
    "from clickzetta.zettapark.functions import col"
   ]
  },
  {
   "cell_type": "code",
   "execution_count": 2,
   "id": "e1cbdb73-be2f-44b5-b42a-c4b6e7c2dd60",
   "metadata": {},
   "outputs": [],
   "source": [
    "import json\n",
    "# 从配置文件中读取参数\n",
    "with open('security/config-uat.json', 'r') as config_file:\n",
    "    config = json.load(config_file)\n",
    "\n",
    "# 创建会话\n",
    "session = Session.builder.configs(config).create()"
   ]
  },
  {
   "cell_type": "code",
   "execution_count": 3,
   "id": "6109b7e3-a43f-403a-9086-9e3d509e2aa9",
   "metadata": {},
   "outputs": [],
   "source": [
    "simpleData = ((\"James\",\"\",\"Smith\",\"36636\",\"NewYork\",3100), \\\n",
    "    (\"Michael\",\"Rose\",\"\",\"40288\",\"California\",4300), \\\n",
    "    (\"Robert\",\"\",\"Williams\",\"42114\",\"Florida\",1400), \\\n",
    "    (\"Maria\",\"Anne\",\"Jones\",\"39192\",\"Florida\",5500), \\\n",
    "    (\"Jen\",\"Mary\",\"Brown\",\"34561\",\"NewYork\",3000) \\\n",
    "  )\n",
    "columns= [\"firstname\",\"middlename\",\"lastname\",\"id\",\"location\",\"salary\"]"
   ]
  },
  {
   "cell_type": "code",
   "execution_count": 4,
   "id": "1e2a52aa-d4d1-408b-b3c7-d93d64584bdd",
   "metadata": {},
   "outputs": [
    {
     "name": "stdout",
     "output_type": "stream",
     "text": [
      "root\n",
      " |-- `firstname`: StringType() (nullable = False)\n",
      " |-- `middlename`: StringType() (nullable = False)\n",
      " |-- `lastname`: StringType() (nullable = False)\n",
      " |-- `id`: StringType() (nullable = False)\n",
      " |-- `location`: StringType() (nullable = False)\n",
      " |-- `salary`: IntegerType() (nullable = False)\n",
      "-------------------------------------------------------------------\n",
      "|firstname  |middlename  |lastname  |id     |location    |salary  |\n",
      "-------------------------------------------------------------------\n",
      "|James      |            |Smith     |36636  |NewYork     |3100    |\n",
      "|Michael    |Rose        |          |40288  |California  |4300    |\n",
      "|Robert     |            |Williams  |42114  |Florida     |1400    |\n",
      "|Maria      |Anne        |Jones     |39192  |Florida     |5500    |\n",
      "|Jen        |Mary        |Brown     |34561  |NewYork     |3000    |\n",
      "-------------------------------------------------------------------\n",
      "\n"
     ]
    }
   ],
   "source": [
    "df = session.createDataFrame(data=simpleData,schema=columns)\n",
    "df.printSchema()\n",
    "df.show()"
   ]
  },
  {
   "cell_type": "code",
   "execution_count": 5,
   "id": "f5f70210-6b60-4dc5-b48a-5d3c22c2ebb0",
   "metadata": {},
   "outputs": [
    {
     "name": "stdout",
     "output_type": "stream",
     "text": [
      "root\n",
      " |-- `middlename`: StringType() (nullable = False)\n",
      " |-- `lastname`: StringType() (nullable = False)\n",
      " |-- `id`: StringType() (nullable = False)\n",
      " |-- `location`: StringType() (nullable = False)\n",
      " |-- `salary`: IntegerType() (nullable = False)\n",
      "root\n",
      " |-- `middlename`: StringType() (nullable = False)\n",
      " |-- `lastname`: StringType() (nullable = False)\n",
      " |-- `id`: StringType() (nullable = False)\n",
      " |-- `location`: StringType() (nullable = False)\n",
      " |-- `salary`: IntegerType() (nullable = False)\n",
      "root\n",
      " |-- `middlename`: StringType() (nullable = False)\n",
      " |-- `lastname`: StringType() (nullable = False)\n",
      " |-- `id`: StringType() (nullable = False)\n",
      " |-- `location`: StringType() (nullable = False)\n",
      " |-- `salary`: IntegerType() (nullable = False)\n",
      "root\n",
      " |-- `id`: StringType() (nullable = False)\n",
      " |-- `location`: StringType() (nullable = False)\n",
      " |-- `salary`: IntegerType() (nullable = False)\n",
      "root\n",
      " |-- `id`: StringType() (nullable = False)\n",
      " |-- `location`: StringType() (nullable = False)\n",
      " |-- `salary`: IntegerType() (nullable = False)\n"
     ]
    }
   ],
   "source": [
    "df.drop(\"firstname\") \\\n",
    "  .printSchema()\n",
    "  \n",
    "df.drop(col(\"firstname\")) \\\n",
    "  .printSchema()  \n",
    "  \n",
    "df.drop(df.firstname) \\\n",
    "  .printSchema()\n",
    "\n",
    "df.drop(\"firstname\",\"middlename\",\"lastname\") \\\n",
    "    .printSchema()\n",
    "\n",
    "cols = (\"firstname\",\"middlename\",\"lastname\")\n",
    "\n",
    "df.drop(*cols) \\\n",
    "   .printSchema()"
   ]
  },
  {
   "cell_type": "code",
   "execution_count": 6,
   "id": "0e679341-6a8d-4784-9d54-e6e041216fb7",
   "metadata": {},
   "outputs": [],
   "source": [
    "session.close()"
   ]
  },
  {
   "cell_type": "code",
   "execution_count": null,
   "id": "9e58dead-f432-46bf-9b33-db1a3a8f1351",
   "metadata": {},
   "outputs": [],
   "source": []
  }
 ],
 "metadata": {
  "kernelspec": {
   "display_name": "Python 3 (ipykernel)",
   "language": "python",
   "name": "python3"
  },
  "language_info": {
   "codemirror_mode": {
    "name": "ipython",
    "version": 3
   },
   "file_extension": ".py",
   "mimetype": "text/x-python",
   "name": "python",
   "nbconvert_exporter": "python",
   "pygments_lexer": "ipython3",
   "version": "3.11.9"
  }
 },
 "nbformat": 4,
 "nbformat_minor": 5
}
