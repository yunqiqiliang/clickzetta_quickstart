{
 "cells": [
  {
   "cell_type": "code",
   "execution_count": null,
   "id": "48245e9e",
   "metadata": {},
   "outputs": [],
   "source": [
    "#pip install faker"
   ]
  },
  {
   "cell_type": "code",
   "execution_count": 1,
   "id": "af6f3418",
   "metadata": {},
   "outputs": [],
   "source": [
    "from faker import Faker\n",
    "import csv\n",
    "import uuid\n",
    "import random\n",
    "from decimal import Decimal\n",
    "from datetime import datetime\n",
    "from clickzetta.zettapark.session import Session\n",
    "import json\n",
    "fake = Faker()"
   ]
  },
  {
   "cell_type": "code",
   "execution_count": 2,
   "id": "8ffdd033-d26e-4e9f-a60f-48174cf535bb",
   "metadata": {},
   "outputs": [],
   "source": [
    "file_path = f'FakeDataset'"
   ]
  },
  {
   "cell_type": "code",
   "execution_count": 3,
   "id": "c818719b",
   "metadata": {},
   "outputs": [],
   "source": [
    "# 创建csv文件的函数，根据不同的表生成相应内容\n",
    "def create_csv_file(file_path, table_name, record_count):\n",
    "    with open(file_path, 'w', newline='') as csvfile:\n",
    "        if table_name == \"raw_customer\":\n",
    "            fieldnames = [\"customer_id\", \"name\", \"email\", \"country\", \"customer_type\", \n",
    "                          \"registration_date\", \"age\", \"gender\", \"total_purchases\", \"ingestion_timestamp\"]\n",
    "            writer = csv.DictWriter(csvfile, fieldnames=fieldnames)\n",
    "            \n",
    "            writer.writeheader()\n",
    "            for i in range(1, record_count + 1):\n",
    "                writer.writerow(\n",
    "                    {\n",
    "                        \"customer_id\": i,\n",
    "                        \"name\": fake.name(),\n",
    "                        \"email\": fake.email(),\n",
    "                        \"country\": fake.country(),\n",
    "                        \"customer_type\": fake.random_element(elements=(\"Regular\", \"Premium\", \"VIP\")),\n",
    "                        \"registration_date\": fake.date(),\n",
    "                        \"age\": fake.random_int(min=18, max=120),\n",
    "                        \"gender\": fake.random_element(elements=(\"Male\", \"Female\", \"Other\")),\n",
    "                        \"total_purchases\": fake.random_int(min=0, max=1000),\n",
    "                        \"ingestion_timestamp\": fake.date_time_this_year().isoformat()\n",
    "                    }\n",
    "                )\n",
    "\n",
    "        elif table_name == \"raw_product\":\n",
    "            fieldnames = [\"product_id\", \"name\", \"category\", \"brand\", \"price\", \n",
    "                          \"stock_quantity\", \"rating\", \"is_active\", \"ingestion_timestamp\"]\n",
    "            writer = csv.DictWriter(csvfile, fieldnames=fieldnames)\n",
    "            \n",
    "            writer.writeheader()\n",
    "            for i in range(1, record_count + 1):\n",
    "                writer.writerow(\n",
    "                    {\n",
    "                        \"product_id\": i,\n",
    "                        \"name\": fake.word(),\n",
    "                        \"category\": fake.word(),\n",
    "                        \"brand\": fake.company(),\n",
    "                        \"price\": round(fake.random_number(digits=5, fix_len=False), 2),\n",
    "                        \"stock_quantity\": fake.random_int(min=0, max=1000),\n",
    "                        \"rating\": round(fake.random_number(digits=2, fix_len=True) / 10, 1),\n",
    "                        \"is_active\": fake.boolean(),\n",
    "                        \"ingestion_timestamp\": fake.date_time_this_year().isoformat()\n",
    "                    }\n",
    "                )\n",
    "\n",
    "        elif table_name == \"raw_order\":\n",
    "            fieldnames = [\"customer_id\", \"payment_method\", \"product_id\", \"quantity\", \n",
    "                          \"store_type\", \"total_amount\", \"transaction_date\", \n",
    "                          \"transaction_id\", \"ingestion_timestamp\"]\n",
    "            writer = csv.DictWriter(csvfile, fieldnames=fieldnames)\n",
    "            \n",
    "            writer.writeheader()\n",
    "            for _ in range(record_count):\n",
    "                writer.writerow(\n",
    "                    {\n",
    "                        \"customer_id\": fake.random_int(min=1, max=100),\n",
    "                        \"payment_method\": fake.random_element(elements=(\"Credit Card\", \"PayPal\", \"Bank Transfer\")),\n",
    "                        \"product_id\": fake.random_int(min=1, max=100),\n",
    "                        \"quantity\": fake.random_int(min=1, max=10),\n",
    "                        \"store_type\": fake.random_element(elements=(\"Online\", \"Physical\")),\n",
    "                        \"total_amount\": round(fake.random_number(digits=5, fix_len=False), 2),\n",
    "                        \"transaction_date\": fake.date(),\n",
    "                        \"transaction_id\": str(uuid.uuid4()),\n",
    "                        \"ingestion_timestamp\": fake.date_time_this_year().isoformat()\n",
    "                    }\n",
    "                )\n",
    "\n"
   ]
  },
  {
   "cell_type": "code",
   "execution_count": 4,
   "id": "a2b04355-6b71-4e1b-9f1d-157ab3a98a8d",
   "metadata": {},
   "outputs": [],
   "source": [
    "def put_file_into_volume(filename,volumename):\n",
    "    # 从配置文件中读取参数\n",
    "    with open('security/config-uat-3layer-dwh.json', 'r') as config_file:\n",
    "        config = json.load(config_file)\n",
    "    \n",
    "    # 创建会话\n",
    "    session = Session.builder.configs(config).create()\n",
    "    session.file.put(filename,f\"volume://{volumename}/\")\n",
    "    session.sql(f\"show volume directory {volumename}\").show()\n",
    "    session.close()"
   ]
  },
  {
   "cell_type": "code",
   "execution_count": null,
   "id": "334e911e",
   "metadata": {},
   "outputs": [],
   "source": [
    "# 第一次调用：\n",
    "current_time = datetime.now().strftime(\"%Y%m%d%H%M%S\")\n",
    "print(current_time)\n",
    "if __name__ == '__main__':\n",
    "    # 示例调用\n",
    "    create_csv_file(f\"{file_path}/customer/raw_customer_{current_time}.csv\", \"raw_customer\", 100)\n",
    "    put_file_into_volume(f\"{file_path}/customer/raw_customer_{current_time}.csv\",\"VOLUME_FOR_RAW_CUSTOMER\")\n",
    "    \n",
    "    create_csv_file(f\"{file_path}/product/raw_product_{current_time}.csv\", \"raw_product\", 100)\n",
    "    put_file_into_volume(f\"{file_path}/product/raw_product_{current_time}.csv\",\"VOLUME_FOR_RAW_PRODUCT\")\n",
    "    \n",
    "    create_csv_file(f\"{file_path}/order/raw_order_{current_time}.csv\", \"raw_order\", 10000)\n",
    "    put_file_into_volume(f\"{file_path}/order/raw_order_{current_time}.csv\",\"VOLUME_FOR_RAW_ORDER\")"
   ]
  },
  {
   "cell_type": "code",
   "execution_count": 5,
   "id": "e3618cf3-1f73-4674-be61-6d4133ad722c",
   "metadata": {},
   "outputs": [
    {
     "name": "stdout",
     "output_type": "stream",
     "text": [
      "20250114103658\n",
      "----------------------------------------------------------------------------------------------------------------------------\n",
      "|relative_path                 |url                                                 |size      |last_modified_time         |\n",
      "----------------------------------------------------------------------------------------------------------------------------\n",
      "|raw_order_20250113211132.csv  |oss://czsampledatahz/VOLUME_FOR_RAW_ORDER/raw_o...  |9796665   |2025-01-13 21:23:53+08:00  |\n",
      "|raw_order_20250114103658.csv  |oss://czsampledatahz/VOLUME_FOR_RAW_ORDER/raw_o...  |10884537  |2025-01-14 10:37:07+08:00  |\n",
      "----------------------------------------------------------------------------------------------------------------------------\n",
      "\n"
     ]
    }
   ],
   "source": [
    "# 第二次调用：只生成订单数据\n",
    "current_time = datetime.now().strftime(\"%Y%m%d%H%M%S\")\n",
    "print(current_time)\n",
    "if __name__ == '__main__':\n",
    "    create_csv_file(f\"{file_path}/order/raw_order_{current_time}.csv\", \"raw_order\", 100000)\n",
    "    put_file_into_volume(f\"{file_path}/order/raw_order_{current_time}.csv\",\"VOLUME_FOR_RAW_ORDER\")"
   ]
  },
  {
   "cell_type": "code",
   "execution_count": null,
   "id": "b4359493-bf02-42e8-9ba0-daf70f0c9952",
   "metadata": {},
   "outputs": [],
   "source": []
  }
 ],
 "metadata": {
  "kernelspec": {
   "display_name": "Python 3 (ipykernel)",
   "language": "python",
   "name": "python3"
  },
  "language_info": {
   "codemirror_mode": {
    "name": "ipython",
    "version": 3
   },
   "file_extension": ".py",
   "mimetype": "text/x-python",
   "name": "python",
   "nbconvert_exporter": "python",
   "pygments_lexer": "ipython3",
   "version": "3.11.9"
  }
 },
 "nbformat": 4,
 "nbformat_minor": 5
}
