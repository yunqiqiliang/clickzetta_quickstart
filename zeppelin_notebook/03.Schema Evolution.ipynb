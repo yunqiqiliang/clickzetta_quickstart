﻿{
  "metadata": {
    "name": "03.Schema Evolution",
    "kernelspec": {
      "language": "scala",
      "name": "spark2-scala"
    },
    "language_info": {
      "codemirror_mode": "text/x-scala",
      "file_extension": ".scala",
      "mimetype": "text/x-scala",
      "name": "scala",
      "pygments_lexer": "scala"
    }
  },
  "nbformat": 4,
  "nbformat_minor": 2,
  "cells": [
    {
      "cell_type": "markdown",
      "metadata": {},
      "source": "Schema Evolution 支持通过ALTER语句变更表中的列，支持添加列、修改列、删除列。\n修改列包括修改列名和列的数据类型。\n支持修改复杂类型变化。\n文档链接：https://doc.clickzetta.com/zh-CN/ALTERTABLE...COLUMN"
    },
    {
      "cell_type": "code",
      "execution_count": 1,
      "metadata": {
        "autoscroll": "auto"
      },
      "outputs": [],
      "source": "CREATE SCHEMA IF NOT EXISTS clickzetta_demo_schema_evolution_schema;\nUSE SCHEMA clickzetta_demo_schema_evolution_schema;\nCREATE TABLE if not exists schema_evolution (\n    t_tinyint tinyint,\n    t_snmallint smallint,\n    t_int int,\n    t_bigint bigint,\n    t_float float,\n    t_double double,\n    t_decimal decimal(5,2)\n)partitioned by(pt string);"
    },
    {
      "cell_type": "code",
      "execution_count": 2,
      "metadata": {
        "autoscroll": "auto"
      },
      "outputs": [],
      "source": "insert into schema_evolution select 1y,234s,10000,100000000,0.2f,0.004d,123.1bd,\u0027202231120\u0027"
    },
    {
      "cell_type": "code",
      "execution_count": 3,
      "metadata": {
        "autoscroll": "auto"
      },
      "outputs": [],
      "source": "ALTER TABLE schema_evolution ADD COLUMN t_add int comment \u0027add\u0027;\n"
    },
    {
      "cell_type": "code",
      "execution_count": 4,
      "metadata": {
        "autoscroll": "auto"
      },
      "outputs": [],
      "source": "desc schema_evolution;"
    },
    {
      "cell_type": "code",
      "execution_count": 5,
      "metadata": {
        "autoscroll": "auto"
      },
      "outputs": [],
      "source": "ALTER TABLE schema_evolution ADD COLUMN t_add2 int comment \u0027add\u0027 after t_decimal;\ndesc schema_evolution;\n"
    },
    {
      "cell_type": "code",
      "execution_count": 6,
      "metadata": {
        "autoscroll": "auto"
      },
      "outputs": [],
      "source": "ALTER TABLE schema_evolution DROP   COLUMN t_add;\ndesc schema_evolution;\n"
    },
    {
      "cell_type": "code",
      "execution_count": 7,
      "metadata": {
        "autoscroll": "auto"
      },
      "outputs": [],
      "source": "ALTER TABLE schema_evolution rename COLUMN t_add2 to t_add;\ndesc schema_evolution;\nselect * from schema_evolution;"
    },
    {
      "cell_type": "code",
      "execution_count": 8,
      "metadata": {
        "autoscroll": "auto"
      },
      "outputs": [],
      "source": "ALTER TABLE schema_evolution change COLUMN t_add  after t_tinyint ;\nselect * from schema_evolution;"
    },
    {
      "cell_type": "code",
      "execution_count": 9,
      "metadata": {
        "autoscroll": "auto"
      },
      "outputs": [],
      "source": "ALTER TABLE schema_evolution change COLUMN t_decimal  type DECIMAl(7,4) ;\nselect * from schema_evolution;"
    },
    {
      "cell_type": "code",
      "execution_count": 10,
      "metadata": {
        "autoscroll": "auto"
      },
      "outputs": [],
      "source": "--参考文档：https://doc.clickzetta.com/zh-CN/ALTERTABLE...COLUMN\nALTER TABLE schema_evolution change COLUMN t_decimal  type date ;"
    },
    {
      "cell_type": "code",
      "execution_count": 11,
      "metadata": {
        "autoscroll": "auto"
      },
      "outputs": [],
      "source": "ALTER TABLE schema_evolution change COLUMN t_tinyint  comment \u0027mysmallint\u0027;\ndesc schema_evolution;"
    },
    {
      "cell_type": "code",
      "execution_count": 12,
      "metadata": {
        "autoscroll": "auto"
      },
      "outputs": [],
      "source": "CREATE TABLE schema_evolution_01 (\n  point struct\u003cx: int, y: double\u003e,\n  points array\u003cstruct\u003cx: double, y: double\u003e\u003e,\n  points_ky map\u003cstruct\u003cx: int\u003e, struct\u003ca: int\u003e\u003e\n    );"
    },
    {
      "cell_type": "code",
      "execution_count": 13,
      "metadata": {
        "autoscroll": "auto"
      },
      "outputs": [],
      "source": "insert into schema_evolution_01 values(struct(1D,2D),array(struct(1D,2D)),null);\n"
    },
    {
      "cell_type": "code",
      "execution_count": 14,
      "metadata": {
        "autoscroll": "auto"
      },
      "outputs": [],
      "source": "ALTER TABLE schema_evolution_01 ADD COLUMN point.z double ;\nselect * from schema_evolution_01;\n"
    },
    {
      "cell_type": "code",
      "execution_count": 15,
      "metadata": {
        "autoscroll": "auto"
      },
      "outputs": [],
      "source": "ALTER TABLE schema_evolution_01 DROP COLUMN point.z;\nselect * from schema_evolution_01;\n"
    },
    {
      "cell_type": "code",
      "execution_count": 16,
      "metadata": {
        "autoscroll": "auto"
      },
      "outputs": [],
      "source": "ALTER TABLE schema_evolution_01 rename COLUMN point.x to xx;\nselect * from schema_evolution_01;\n"
    },
    {
      "cell_type": "code",
      "execution_count": 17,
      "metadata": {
        "autoscroll": "auto"
      },
      "outputs": [],
      "source": "ALTER TABLE schema_evolution_01 DROP COLUMN points.element.y;\ndesc schema_evolution_01;"
    },
    {
      "cell_type": "code",
      "execution_count": 18,
      "metadata": {
        "autoscroll": "auto"
      },
      "outputs": [],
      "source": "ALTER TABLE schema_evolution_01 CHANGE COLUMN point.xx type bigint;\ndesc schema_evolution_01;"
    },
    {
      "cell_type": "code",
      "execution_count": 19,
      "metadata": {
        "autoscroll": "auto"
      },
      "outputs": [],
      "source": "ALTER TABLE schema_evolution_01 CHANGE COLUMN point.y first;\nselect * from schema_evolution_01;\n"
    },
    {
      "cell_type": "code",
      "execution_count": 20,
      "metadata": {
        "autoscroll": "auto"
      },
      "outputs": [],
      "source": "DROP SCHEMA IF EXISTS clickzetta_demo_schema_evolution_schema;"
    }
  ]
}