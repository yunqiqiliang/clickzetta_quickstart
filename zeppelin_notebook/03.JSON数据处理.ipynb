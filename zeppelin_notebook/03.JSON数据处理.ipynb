﻿{
  "metadata": {
    "name": "03.JSON数据处理",
    "kernelspec": {
      "language": "scala",
      "name": "spark2-scala"
    },
    "language_info": {
      "codemirror_mode": "text/x-scala",
      "file_extension": ".scala",
      "mimetype": "text/x-scala",
      "name": "scala",
      "pygments_lexer": "scala"
    }
  },
  "nbformat": 4,
  "nbformat_minor": 2,
  "cells": [
    {
      "cell_type": "code",
      "execution_count": 0,
      "metadata": {
        "autoscroll": "auto"
      },
      "outputs": [],
      "source": "CREATE SCHEMA IF NOT EXISTS clickzetta_demo_json_schema;\nuse schema clickzetta_demo_json_schema;\ncreate table if not exists user_infor(info json);\ninsert into table  user_infor values\n  (JSON \u0027{\"name\": \"张三\",\"age\": 25,\"gender\": \"男\",\"email\": \"zhangsan@example.com\",\"phone\": \"13812xxx\",\"address\": \"北京市朝阳区\"}\u0027),\n  (JSON \u0027{\"name\": \"李四\",\"age\": 23, \"gender\": \"女\",\"email\": \"lisi@example.com\",\"phone\": \"139876xxx1\",\"address\": \"上海市浦东新区\"}\u0027),\n  (JSON \u0027{\"name\": \"王五\", \"age\": 27,\"gender\": \"男\",\"email\": \"wangwu@example.com\",\"phone\": \"1376xxxxx8\",\"address\": \"广州市天河区\"}\u0027),\n  (JSON \u0027{\"name\": \"赵六\",\"age\": 24,\"gender\": \"女\",\"email\": \"zhaoliu@example.com\",\"phone\": \"1369xxxx2\",\"address\": \"深圳市南山区\"}\u0027),\n  (JSON \u0027{\"name\": \"孙七\",\"age\": 26, \"gender\": \"男\",\"email\": \"sunqi@example.com\",\"phone\": \"1351xxxx679\",\"address\": \"杭州市西湖区\"}\u0027),\n  (JSON \u0027{\"name\": \"周八\",\"age\": 22,\"gender\": \"女\",\"email\": \"zhouba@example.com\",\"phone\": \"1347xxxx19\",\"address\": \"南京市鼓楼区\"}\u0027),\n  (JSON \u0027{\"name\": \"吴九\",\"age\": 28,\"gender\": \"男\",\"email\": \"wujiu@example.com\",\"phone\": \"13345xxxx01\",\"address\": \"成都市武侯区\"}\u0027),\n  (JSON \u0027{\"name\": \"郑十\",\"age\": 21,\"gender\": \"女\",\"email\": \"zhengshi@example.com\",\"phone\": \"1326xxx123\",\"address\": \"重庆市渝北区\"}\u0027),\n  (JSON \u0027{\"name\": \"陈十一\",\"age\": 29,\"gender\": \"男\",\"email\": \"chenshiyi@example.com\",\"phone\": \"131xxxx789\",\"address\": \"西安市碑林区\"}\u0027),\n  (JSON \u0027{\"name\": \"林十二\", \"age\": 20,\"gender\": \"女\",\"email\": \"linshier@example.com\",\"phone\": \"130xxxx5432\",\"address\": \"厦门市思明区\"}\u0027);\n"
    },
    {
      "cell_type": "code",
      "execution_count": 1,
      "metadata": {
        "autoscroll": "auto"
      },
      "outputs": [],
      "source": "select * from user_infor;"
    },
    {
      "cell_type": "code",
      "execution_count": 2,
      "metadata": {
        "autoscroll": "auto"
      },
      "outputs": [],
      "source": "select json_extract_string(info,\"$.address\") as address,\n      json_extract_int(info,\"$.age\") as age,\n      json_extract_string(info,\"$.email\") as email\n from user_infor;"
    },
    {
      "cell_type": "code",
      "execution_count": 3,
      "metadata": {
        "autoscroll": "auto"
      },
      "outputs": [],
      "source": "drop schema if exists clickzetta_demo_json_schema;"
    }
  ]
}