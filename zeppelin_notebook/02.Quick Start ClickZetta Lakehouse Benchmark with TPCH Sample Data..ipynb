﻿{
  "metadata": {
    "name": "02.Quick Start ClickZetta Lakehouse Benchmark with TPCH Sample Data",
    "kernelspec": {
      "language": "scala",
      "name": "spark2-scala"
    },
    "language_info": {
      "codemirror_mode": "text/x-scala",
      "file_extension": ".scala",
      "mimetype": "text/x-scala",
      "name": "scala",
      "pygments_lexer": "scala"
    }
  },
  "nbformat": 4,
  "nbformat_minor": 2,
  "cells": [
    {
      "cell_type": "markdown",
      "metadata": {},
      "source": "\r\nTPC-H 是由事务处理性能委员会 (TPC) 开发的决策支持基准。它由一套面向业务的临时查询和并发数据修改组成。TPC-H可以根据真实的生产环境建立模型，模拟销售系统的数据仓库。本次测试使用8张表，数据大小为100GB。总共测试了22个查询，主要性能指标是每个查询的响应时间，即提交查询到返回结果之间的持续时间。"
    },
    {
      "cell_type": "code",
      "execution_count": 1,
      "metadata": {
        "autoscroll": "auto"
      },
      "outputs": [],
      "source": "/ ____| (_)    | |   |___  /   | | | |          \n | |    | |_  ___| | __   / / ___| |_| |_ __ _    \n   _____ _ _      _     ______    _   _           \n | |    | | |/ __| |/ /  / / / _ \\ __| __/ _` |   \n  \\_____|_|_|\\___|_|\\_\\/_____\\___|\\__|\\__\\__,_|   \n | |____| | | (__|   \u003c  / /_|  __/ |_| || (_| |   \n                                                  \n                                                  \n  _           _        _                          \n | |         | |      | |                         \n | |     __ _| | _____| |__   ___  _   _ ___  ___ \n | |    / _` | |/ / _ \\ \u0027_ \\ / _ \\| | | / __|/ _ \\\n | |___| (_| |   \u003c  __/ | | | (_) | |_| \\__ \\  __/\n |______\\__,_|_|\\_\\___|_| |_|\\___/ \\__,_|___/\\___|"
    },
    {
      "cell_type": "code",
      "execution_count": 2,
      "metadata": {
        "autoscroll": "auto"
      },
      "outputs": [],
      "source": "-- 创建分析型虚拟计算资源\r\ncreate vcluster if not exists VC_TPCH_100GB vcluster_size\u003d\u0027Large\u0027 vcluster_type\u003d\u0027Analytics\u0027  AUTO_RESUME\u003dTRUE AUTO_SUSPEND_IN_SECOND\u003d300 min_replicas\u003d1 max_replicas\u003d1 comment \u0027TPCH 100GB TEST\u0027;\r\n\r\nuse vcluster VC_TPCH_100GB;"
    },
    {
      "cell_type": "code",
      "execution_count": 3,
      "metadata": {
        "autoscroll": "auto"
      },
      "outputs": [],
      "source": "select \"customer\" as tablename, count(*) as row_count from clickzetta_sample_data.tpch_100g.customer\nunion all select \"lineitem\" as tablename, count(*) as row_count from clickzetta_sample_data.tpch_100g.lineitem\nunion all select \"nation\" as tablename, count(*) as row_count from clickzetta_sample_data.tpch_100g.nation\nunion all select \"orders\" as tablename, count(*) as row_count from clickzetta_sample_data.tpch_100g.orders\nunion all select \"part\" as tablename, count(*) as row_count from clickzetta_sample_data.tpch_100g.part\nunion all select \"partsupp\" as tablename, count(*) as row_count from clickzetta_sample_data.tpch_100g.partsupp\nunion all select \"region\" as tablename, count(*) as row_count from clickzetta_sample_data.tpch_100g.region\nunion all select \"supplier\" as tablename, count(*) as row_count from clickzetta_sample_data.tpch_100g.supplier;"
    },
    {
      "cell_type": "code",
      "execution_count": 4,
      "metadata": {
        "autoscroll": "auto"
      },
      "outputs": [],
      "source": "drop table if exists tpch100g_result;\ncreate table if not exists tpch100g_result\n(\n    test_query_id INT,\n    test_begin_time TIMESTAMP,\n    test_end_time TIMESTAMP,\n    starrocks_native_time_ms INT,\n    starrocks_hive_external_time_ms INT,\n    trino_time_ms INT\n);"
    },
    {
      "cell_type": "code",
      "execution_count": 5,
      "metadata": {
        "autoscroll": "auto"
      },
      "outputs": [],
      "source": "--https://docs.starrocks.io/en-us/2.5/benchmarking/TPC-H_Benchmarking\n-- StarRocks硬件环境\n--  机器：3台云主机\n--  中央处理器：16核\n--  内存：64GB\n--  网络带宽：5 Gbit/s/秒\n--  磁盘\t系统盘：ESSD 40GB 数据盘：ESSD 100GB\n-- Software version: StarRocks 2.1, Trino-357, Hive-3.1.2\n-- INSERT INTO tpch100g_result (test_query_id, starrocks_native_time_ms, starrocks_hive_external_time_ms, trino_time_ms) VALUES\n-- (1, 1291, 5349, 14350),(2, 257, 940, 4075),(3, 690, 2585, 7615),(4, 529, 2514, 9385),(5, 1142, 5844, 15350),\n-- (6, 115, 2936, 4045),(7, 1435, 5128, 8760),(8, 855, 5989, 9535),(9, 3028, 5507, 27310),(10, 1381, 3654, 6560),(11, 265, 691, 2090),\n-- (12, 387, 3827, 7635),(13, 2165, 3733, 14530),(14, 184, 3824, 4355),(15, 354, 7321, 8975),\n-- (16, 240, 1029, 2265),(17, 753, 5011, 46405),(18, 2909, 7032, 30975),(19, 702, 3905, 7315),\n-- (20, 963, 4623, 12500),(21, 870, 10016, 58340),(22, 545, 991, 5605);"
    },
    {
      "cell_type": "code",
      "execution_count": 6,
      "metadata": {
        "autoscroll": "auto"
      },
      "outputs": [],
      "source": "--https://docs.starrocks.io/docs/benchmarking/TPC-H_Benchmarking/ （Version: Latest-3.2）\n-- StarRocks硬件环境\n--  机器：3台云主机\n--  中央处理器：16core Intel(R) Xeon(R) Platinum 8269CY CPU @ 2.50GHz\n--  内存：64GB\n--  网络带宽：5 Gbit/s/秒\n--  磁盘\t系统盘：ESSD 40GB 数据盘：ESSD 100GB\n-- Software environment\n-- Kernel version: Linux 3.10.0-1127.13.1.el7.x86_64\n-- Operating system version: CentOS Linux release 7.8.2003\n-- Software version: StarRocks Community Edition 3.0, Trino-419, Hive-2.3.9\nINSERT INTO tpch100g_result (test_query_id, starrocks_native_time_ms, starrocks_hive_external_time_ms, trino_time_ms) VALUES\n(1, 1540, 5660, 8811), (2, 100, 1593, 3009), (3, 700, 5286, 7891), (4, 423, 2110, 5760), (5, 1180, 4453, 9181), (6, 56, 2806, 4029), (7, 903, 4910, 7158), (8, 546, 4766, 8014), (9, 2553, 8010, 18460), (10, 776, 8190, 9997), (11, 206, 920, 2088), (12, 166, 2916, 4852), (13, 1663, 3420, 7203), (14, 146, 3286, 4995), (15, 123, 4173, 9688), (16, 353, 1126, 2545), (17, 296, 3426, 18970), (18, 2713, 7960, 21763), (19, 246, 4406, 6586), (20, 176, 3280, 6632), (21, 1410, 7933, 16873), (22, 350, 1190, 2788);"
    },
    {
      "cell_type": "markdown",
      "metadata": {},
      "source": "Test SQL \u0026 Result"
    },
    {
      "cell_type": "code",
      "execution_count": 8,
      "metadata": {
        "autoscroll": "auto"
      },
      "outputs": [],
      "source": "set query_tag \u003d  \u0027\u0027;\nupdate  tpch100g_result set test_begin_time \u003d current_timestamp() where test_query_id \u003d 1 ;"
    },
    {
      "cell_type": "code",
      "execution_count": 9,
      "metadata": {
        "autoscroll": "auto"
      },
      "outputs": [],
      "source": "-- 设置运行运行参数\nset cz.sql.enable.quick.adhoc\u003dtrue;\nset cz.storage.parquet.read.dictionary\u003dtrue;\n\nset query_tag \u003d \u0027TPCH100G_Q01\u0027;\nselect\n    l_returnflag,\n l_linestatus,\n sum(l_quantity) as sum_qty,\n   sum(l_extendedprice) as sum_base_price,\n   sum(l_extendedprice * (1 - l_discount)) as sum_disc_price,\n    sum(l_extendedprice * (1 - l_discount) * (1 + l_tax)) as sum_charge,\n  avg(l_quantity) as avg_qty,\n   avg(l_extendedprice) as avg_price,\n    avg(l_discount) as avg_disc,\n  count(*) as count_order\nfrom\n clickzetta_sample_data.tpch_100g.lineitem\nwhere\n  l_shipdate \u003c\u003d date \u00271998-12-01\u0027 - interval \u002785\u0027 day\ngroup by\n l_returnflag,\n l_linestatus\norder by\n    l_returnflag,\n l_linestatus;\n\n"
    },
    {
      "cell_type": "code",
      "execution_count": 10,
      "metadata": {
        "autoscroll": "auto"
      },
      "outputs": [],
      "source": "set query_tag \u003d  \u0027\u0027;\nupdate  tpch100g_result set test_end_time \u003d current_timestamp() where test_query_id \u003d 1 ;\nupdate  tpch100g_result set test_begin_time \u003d current_timestamp() where test_query_id \u003d 2 ;"
    },
    {
      "cell_type": "code",
      "execution_count": 11,
      "metadata": {
        "autoscroll": "auto"
      },
      "outputs": [],
      "source": "-- Q2\r\nset query_tag \u003d  \u0027TPCH100G_Q02\u0027;\r\nselect\r\ns_acctbal, -- 帐户余额\r\ns_name, -- 名字\r\nn_name, -- 国家\r\np_partkey, -- 零件的号码\r\np_mfgr, -- 生产者\r\ns_address, -- 供应者的地址\r\ns_phone, -- 电话号码\r\ns_comment -- 备注信息\r\nfrom\r\nclickzetta_sample_data.tpch_100g.part,\r\nclickzetta_sample_data.tpch_100g.supplier,\r\nclickzetta_sample_data.tpch_100g.partsupp,\r\nclickzetta_sample_data.tpch_100g.nation,\r\nclickzetta_sample_data.tpch_100g.region\r\nwhere\r\np_partkey \u003d ps_partkey\r\nand s_suppkey \u003d ps_suppkey\r\nand p_size \u003d 15 -- 指定大小，在区间[1, 50]内随机选择\r\nand p_type like \u0027%BRASS\u0027 -- 指定类型，在TPC-H标准指定的范围内随机选择\r\nand s_nationkey \u003d n_nationkey\r\nand n_regionkey \u003d r_regionkey\r\nand r_name \u003d \u0027EUROPE\u0027 -- 指定地区，在TPC-H标准指定的范围内随机选择\r\nand ps_supplycost \u003d (\r\nselect\r\nmin(ps_supplycost) --聚集函数\r\nfrom   -- 与父查询的表有重叠\r\nclickzetta_sample_data.tpch_100g.partsupp,\r\nclickzetta_sample_data.tpch_100g.supplier,\r\nclickzetta_sample_data.tpch_100g.nation,\r\nclickzetta_sample_data.tpch_100g.region\r\nwhere\r\np_partkey \u003d ps_partkey\r\nand s_suppkey \u003d ps_suppkey\r\nand s_nationkey \u003d n_nationkey\r\nand n_regionkey \u003d r_regionkey\r\nand r_name \u003d \u0027EUROPE\u0027\r\n)\r\norder by\r\ns_acctbal desc,\r\nn_name,\r\ns_name,\r\np_partkey\r\nlimit 100;"
    },
    {
      "cell_type": "code",
      "execution_count": 12,
      "metadata": {
        "autoscroll": "auto"
      },
      "outputs": [],
      "source": "set query_tag \u003d  \u0027\u0027;\nupdate  tpch100g_result set test_end_time \u003d current_timestamp() where test_query_id \u003d 2 ;\nupdate  tpch100g_result set test_begin_time \u003d current_timestamp() where test_query_id \u003d 3 ;"
    },
    {
      "cell_type": "code",
      "execution_count": 13,
      "metadata": {
        "autoscroll": "auto"
      },
      "outputs": [],
      "source": "set query_tag \u003d   \u0027TPCH100G_Q03\u0027;\r\n\r\n-- Q3\r\nselect\r\n    l_orderkey,\r\n    sum(l_extendedprice * (1 - l_discount)) as revenue, -- 潜在的收入，聚集操作\r\n    o_orderdate,\r\n    o_shippriority\r\nfrom\r\n    clickzetta_sample_data.tpch_100g.customer,\r\n    clickzetta_sample_data.tpch_100g.orders,\r\n    clickzetta_sample_data.tpch_100g.lineitem\r\nwhere\r\n    c_mktsegment \u003d \u0027BUILDING\u0027 -- 在TPC-H标准指定的范围内随机选择\r\n    and c_custkey \u003d o_custkey\r\n    and l_orderkey \u003d o_orderkey\r\n    and o_orderdate \u003c \u00271995-03-15\u0027 -- 指定日期段，在在[1995-03-01, 1995-03-31]中随机选择\r\n    and l_shipdate \u003e \u00271995-03-15\u0027  -- 指定日期段，在在[1995-03-01, 1995-03-31]中随机选择\r\ngroup by\r\n    l_orderkey, -- 订单标识\r\n    o_orderdate,  -- 订单日期\r\n    o_shippriority -- 运输优先级\r\norder by\r\n    revenue desc, -- 降序排序，把潜在最大收入列在前面\r\n    o_orderdate\r\nlimit 10;\r\n"
    },
    {
      "cell_type": "code",
      "execution_count": 14,
      "metadata": {
        "autoscroll": "auto"
      },
      "outputs": [],
      "source": "set query_tag \u003d  \u0027\u0027;\nupdate  tpch100g_result set test_end_time \u003d current_timestamp() where test_query_id \u003d 3 ;\nupdate  tpch100g_result set test_begin_time \u003d current_timestamp() where test_query_id \u003d 4 ;"
    },
    {
      "cell_type": "code",
      "execution_count": 15,
      "metadata": {
        "autoscroll": "auto"
      },
      "outputs": [],
      "source": "set query_tag \u003d \u0027TPCH100G_Q04\u0027;\r\n\r\n-- Q4\r\nselect\r\n  o_orderpriority,\r\n  count(*) as order_count\r\nfrom\r\n clickzetta_sample_data.tpch_100g.orders\r\nwhere\r\n    o_orderdate \u003e\u003d date \u00271993-10-01\u0027\r\n    and o_orderdate \u003c date \u00271993-10-01\u0027 + interval \u00273\u0027 month\r\n  and exists (\r\n      select\r\n            *\r\n     from\r\n          clickzetta_sample_data.tpch_100g.lineitem\r\n     where\r\n         l_orderkey \u003d o_orderkey\r\n           and l_commitdate \u003c l_receiptdate\r\n  )\r\ngroup by\r\n   o_orderpriority\r\norder by\r\n o_orderpriority;"
    },
    {
      "cell_type": "code",
      "execution_count": 16,
      "metadata": {
        "autoscroll": "auto"
      },
      "outputs": [],
      "source": "set query_tag \u003d  \u0027\u0027;\nupdate  tpch100g_result set test_end_time \u003d current_timestamp() where test_query_id \u003d 4 ;\nupdate  tpch100g_result set test_begin_time \u003d current_timestamp() where test_query_id \u003d 5 ;"
    },
    {
      "cell_type": "code",
      "execution_count": 17,
      "metadata": {
        "autoscroll": "auto"
      },
      "outputs": [],
      "source": "set query_tag \u003d  \u0027TPCH100G_Q05\u0027;\r\n\r\n-- Q5\r\nselect\r\n    n_name,\r\n    sum(l_extendedprice * (1 - l_discount)) as revenue\r\nfrom\r\n    clickzetta_sample_data.tpch_100g.customer,\r\n    clickzetta_sample_data.tpch_100g.orders,\r\n    clickzetta_sample_data.tpch_100g.lineitem,\r\n    clickzetta_sample_data.tpch_100g.supplier,\r\n    clickzetta_sample_data.tpch_100g.nation,\r\n    clickzetta_sample_data.tpch_100g.region\r\nwhere\r\n    c_custkey \u003d o_custkey\r\n    and l_orderkey \u003d o_orderkey\r\n    and l_suppkey \u003d s_suppkey\r\n    and c_nationkey \u003d s_nationkey\r\n    and s_nationkey \u003d n_nationkey\r\n    and n_regionkey \u003d r_regionkey\r\n    and r_name \u003d \u0027ASIA\u0027 -- 指定地区，在TPC-H标准指定的范围内随机选择\r\n    and o_orderdate \u003e\u003d \u00271994-01-01\u0027 -- DATE是从1993年到1997年中随机选择的一年的1月1日\r\n    and o_orderdate \u003c date \u00271996-01-01\u0027 + interval \u00271\u0027 year\r\ngroup by\r\n    n_name -- 按名字分组\r\norder by\r\n    revenue desc; -- 按收入降序排序，注意分组和排序子句不同"
    },
    {
      "cell_type": "code",
      "execution_count": 18,
      "metadata": {
        "autoscroll": "auto"
      },
      "outputs": [],
      "source": "set query_tag \u003d  \u0027\u0027;\nupdate  tpch100g_result set test_end_time \u003d current_timestamp() where test_query_id \u003d 5 ;\nupdate  tpch100g_result set test_begin_time \u003d current_timestamp() where test_query_id \u003d 6 ;"
    },
    {
      "cell_type": "code",
      "execution_count": 19,
      "metadata": {
        "autoscroll": "auto"
      },
      "outputs": [],
      "source": "set query_tag \u003d  \u0027TPCH100G_Q06\u0027;\r\n\r\n-- Q6\r\nselect\r\n    sum(l_extendedprice * l_discount) as revenue -- 潜在的收入增加量\r\nfrom\r\n    clickzetta_sample_data.tpch_100g.lineitem\r\nwhere\r\n    l_shipdate \u003e\u003d \u00271994-01-01\u0027 -- DATE是从[1993, 1997]中随机选择的一年的1月1日\r\n    and l_shipdate \u003c date \u00271996-01-01\u0027 + interval \u00271\u0027 year -- 一年内\r\n    and l_discount between 0.06 - 0.01 and 0.06 + 0.01\r\n    and l_quantity \u003c 24; -- QUANTITY在区间[24, 25]中随机选择"
    },
    {
      "cell_type": "code",
      "execution_count": 20,
      "metadata": {
        "autoscroll": "auto"
      },
      "outputs": [],
      "source": "set query_tag \u003d  \u0027\u0027;\nupdate  tpch100g_result set test_end_time \u003d current_timestamp() where test_query_id \u003d 6 ;\nupdate  tpch100g_result set test_begin_time \u003d current_timestamp() where test_query_id \u003d 7 ;"
    },
    {
      "cell_type": "code",
      "execution_count": 21,
      "metadata": {
        "autoscroll": "auto"
      },
      "outputs": [],
      "source": "set query_tag \u003d  \u0027TPCH100G_Q07\u0027;\r\n\r\n-- Q7\r\nselect\r\n    supp_nation, -- 供货商国家\r\n    cust_nation, -- 顾客国家\r\n    l_year,\r\n    sum(volume) as revenue -- 年度、年度的货运收入\r\nfrom\r\n    (\r\n        select\r\n            n1.n_name as supp_nation,\r\n            n2.n_name as cust_nation,\r\n            extract(year from l_shipdate) as l_year,\r\n            l_extendedprice * (1 - l_discount) as volume\r\n        from\r\n            clickzetta_sample_data.tpch_100g.supplier,\r\n            clickzetta_sample_data.tpch_100g.lineitem,\r\n            clickzetta_sample_data.tpch_100g.orders,\r\n            clickzetta_sample_data.tpch_100g.customer,\r\n            clickzetta_sample_data.tpch_100g.nation n1,\r\n            clickzetta_sample_data.tpch_100g.nation n2\r\n        where\r\n            s_suppkey \u003d l_suppkey\r\n            and o_orderkey \u003d l_orderkey\r\n            and c_custkey \u003d o_custkey\r\n            and s_nationkey \u003d n1.n_nationkey\r\n            and c_nationkey \u003d n2.n_nationkey\r\n            and ( -- NATION2和NATION1的值不同，表示查询的是跨国的货运情况\r\n                (n1.n_name \u003d \u0027FRANCE\u0027 and n2.n_name \u003d \u0027GERMANY\u0027)\r\n                or (n1.n_name \u003d \u0027GERMANY\u0027 and n2.n_name \u003d \u0027FRANCE\u0027)\r\n            )\r\n            and l_shipdate between \u00271995-01-01\u0027 and \u00271996-12-31\u0027\r\n    ) as shipping\r\ngroup by\r\n    supp_nation,\r\n    cust_nation,\r\n    l_year\r\norder by\r\n    supp_nation,\r\n    cust_nation,\r\n    l_year;\r\n"
    },
    {
      "cell_type": "code",
      "execution_count": 22,
      "metadata": {
        "autoscroll": "auto"
      },
      "outputs": [],
      "source": "set query_tag \u003d  \u0027\u0027;\nupdate  tpch100g_result set test_end_time \u003d current_timestamp() where test_query_id \u003d 7 ;\nupdate  tpch100g_result set test_begin_time \u003d current_timestamp() where test_query_id \u003d 8 ;"
    },
    {
      "cell_type": "code",
      "execution_count": 23,
      "metadata": {
        "autoscroll": "auto"
      },
      "outputs": [],
      "source": "set query_tag \u003d  \u0027TPCH100G_Q08\u0027;\r\n\r\n-- Q8\r\nselect\r\n    o_year, -- 年份\r\n    sum(case\r\n        when nation \u003d \u0027BRAZIL\u0027 then volume -- 指定国家，在TPC-H标准指定的范围内随机选择\r\n        else 0\r\n    end) / sum(volume) as mkt_share -- 市场份额：特定种类的产品收入的百分比；聚集操作\r\nfrom\r\n    (\r\n        select\r\n            extract(year from o_orderdate) as o_year, -- 分解出年份\r\n            l_extendedprice * (1 - l_discount) as volume, -- 特定种类的产品收入\r\n            n2.n_name as nation\r\n        from\r\n            clickzetta_sample_data.tpch_100g.part,\r\n            clickzetta_sample_data.tpch_100g.supplier,\r\n            clickzetta_sample_data.tpch_100g.lineitem,\r\n            clickzetta_sample_data.tpch_100g.orders,\r\n            clickzetta_sample_data.tpch_100g.customer,\r\n            clickzetta_sample_data.tpch_100g.nation n1,\r\n            clickzetta_sample_data.tpch_100g.nation n2,\r\n            clickzetta_sample_data.tpch_100g.region\r\n        where\r\n            p_partkey \u003d l_partkey\r\n            and s_suppkey \u003d l_suppkey\r\n            and l_orderkey \u003d o_orderkey\r\n            and o_custkey \u003d c_custkey\r\n            and c_nationkey \u003d n1.n_nationkey\r\n            and n1.n_regionkey \u003d r_regionkey\r\n            and r_name \u003d \u0027AMERICA\u0027 -- 指定地区，在TPC-H标准指定的范围内随机选择\r\n            and s_nationkey \u003d n2.n_nationkey\r\n            and o_orderdate between \u00271995-01-01\u0027 and \u00271996-12-31\u0027 -- 只查95、96年的情况\r\n            and p_type \u003d \u0027ECONOMY ANODIZED STEEL\u0027 -- 指定零件类型，在TPC-H标准指定的范围内随机选择\r\n    ) as all_nations\r\ngroup by\r\n    o_year -- 按年分组\r\norder by\r\n    o_year; -- 按年排序"
    },
    {
      "cell_type": "code",
      "execution_count": 24,
      "metadata": {
        "autoscroll": "auto"
      },
      "outputs": [],
      "source": "set query_tag \u003d  \u0027\u0027;\nupdate  tpch100g_result set test_end_time \u003d current_timestamp() where test_query_id \u003d 8 ;\nupdate  tpch100g_result set test_begin_time \u003d current_timestamp() where test_query_id \u003d 9 ;"
    },
    {
      "cell_type": "code",
      "execution_count": 25,
      "metadata": {
        "autoscroll": "auto"
      },
      "outputs": [],
      "source": "set query_tag \u003d  \u0027TPCH100G_Q09\u0027;\r\n\r\n-- Q9\r\nselect\r\n    nation,\r\n    o_year,\r\n    sum(amount) as sum_profit --每个国家每一年所有被定购的零件在一年中的总利润\r\nfrom\r\n    (\r\n        select\r\n            n_name as nation, -- 国家\r\n            extract(year from o_orderdate) as o_year, -- 取出年份\r\n            l_extendedprice * (1 - l_discount) - ps_supplycost * l_quantity as amount --利润\r\n        from\r\n            clickzetta_sample_data.tpch_100g.part,\r\n            clickzetta_sample_data.tpch_100g.supplier,\r\n            clickzetta_sample_data.tpch_100g.lineitem,\r\n            clickzetta_sample_data.tpch_100g.partsupp,\r\n            clickzetta_sample_data.tpch_100g.orders,\r\n            clickzetta_sample_data.tpch_100g.nation\r\n        where\r\n            s_suppkey \u003d l_suppkey\r\n            and ps_suppkey \u003d l_suppkey\r\n            and ps_partkey \u003d l_partkey\r\n            and p_partkey \u003d l_partkey\r\n            and o_orderkey \u003d l_orderkey\r\n            and s_nationkey \u003d n_nationkey\r\n            and p_name like \u0027%green%\u0027 -- LIKE操作，查询优化器可能进行优化\r\n    ) as profit\r\ngroup by\r\n    nation, -- 国家\r\n    o_year  -- 年份\r\norder by\r\n    nation, \r\n    o_year desc;"
    },
    {
      "cell_type": "code",
      "execution_count": 26,
      "metadata": {
        "autoscroll": "auto"
      },
      "outputs": [],
      "source": "set query_tag \u003d  \u0027\u0027;\nupdate  tpch100g_result set test_end_time \u003d current_timestamp() where test_query_id \u003d 9 ;\nupdate  tpch100g_result set test_begin_time \u003d current_timestamp() where test_query_id \u003d 10 ;"
    },
    {
      "cell_type": "code",
      "execution_count": 27,
      "metadata": {
        "autoscroll": "auto"
      },
      "outputs": [],
      "source": "set query_tag \u003d  \u0027TPCH100G_Q10\u0027;\r\n\r\n-- Q10\r\nselect\r\n c_custkey,\r\n    c_name,\r\n   sum(l_extendedprice * (1 - l_discount)) as revenue,\r\n   c_acctbal,\r\n    n_name,\r\n   c_address,\r\n    c_phone,\r\n  c_comment\r\nfrom\r\n   clickzetta_sample_data.tpch_100g.customer,\r\n    clickzetta_sample_data.tpch_100g.orders,\r\n  clickzetta_sample_data.tpch_100g.lineitem,\r\n    clickzetta_sample_data.tpch_100g.nation\r\nwhere\r\n    c_custkey \u003d o_custkey\r\n and l_orderkey \u003d o_orderkey\r\n   and o_orderdate \u003e\u003d date \u00271993-04-01\u0027\r\n    and o_orderdate \u003c date \u00271993-04-01\u0027 + interval \u00273\u0027 month\r\n  and l_returnflag \u003d \u0027R\u0027\r\n  and c_nationkey \u003d n_nationkey\r\ngroup by\r\n   c_custkey,\r\n    c_name,\r\n   c_acctbal,\r\n    c_phone,\r\n  n_name,\r\n   c_address,\r\n    c_comment\r\norder by\r\n   revenue desc\r\nlimit 20;"
    },
    {
      "cell_type": "code",
      "execution_count": 28,
      "metadata": {
        "autoscroll": "auto"
      },
      "outputs": [],
      "source": "set query_tag \u003d  \u0027\u0027;\nupdate  tpch100g_result set test_end_time \u003d current_timestamp() where test_query_id \u003d 10 ;\nupdate  tpch100g_result set test_begin_time \u003d current_timestamp() where test_query_id \u003d 11 ;"
    },
    {
      "cell_type": "code",
      "execution_count": 29,
      "metadata": {
        "autoscroll": "auto"
      },
      "outputs": [],
      "source": "set query_tag \u003d  \u0027TPCH100G_Q11\u0027;\r\n\r\n-- Q11\r\nselect\r\n ps_partkey,\r\n   sum(ps_supplycost * ps_availqty) as value\r\nfrom\r\n   clickzetta_sample_data.tpch_100g.partsupp,\r\n    clickzetta_sample_data.tpch_100g.supplier,\r\n    clickzetta_sample_data.tpch_100g.nation\r\nwhere\r\n    ps_suppkey \u003d s_suppkey\r\n    and s_nationkey \u003d n_nationkey\r\n and n_name \u003d \u0027CANADA\u0027\r\ngroup by\r\n ps_partkey having\r\n     sum(ps_supplycost * ps_availqty) \u003e (\r\n          select\r\n                sum(ps_supplycost * ps_availqty) * 0.000001000000\r\n         from\r\n              clickzetta_sample_data.tpch_100g.partsupp,\r\n                clickzetta_sample_data.tpch_100g.supplier,\r\n                clickzetta_sample_data.tpch_100g.nation\r\n           where\r\n             ps_suppkey \u003d s_suppkey\r\n                and s_nationkey \u003d n_nationkey\r\n             and n_name \u003d \u0027CANADA\u0027\r\n       )\r\norder by\r\n   value desc;"
    },
    {
      "cell_type": "code",
      "execution_count": 30,
      "metadata": {
        "autoscroll": "auto"
      },
      "outputs": [],
      "source": "set query_tag \u003d  \u0027\u0027;\nupdate  tpch100g_result set test_end_time \u003d current_timestamp() where test_query_id \u003d 11 ;\nupdate  tpch100g_result set test_begin_time \u003d current_timestamp() where test_query_id \u003d 12 ;"
    },
    {
      "cell_type": "code",
      "execution_count": 31,
      "metadata": {
        "autoscroll": "auto"
      },
      "outputs": [],
      "source": "set query_tag \u003d  \u0027TPCH100G_Q12\u0027;\r\n\r\n-- Q12\r\nselect\r\n l_shipmode,\r\n   sum(case\r\n      when o_orderpriority \u003d \u00271-URGENT\u0027\r\n           or o_orderpriority \u003d \u00272-HIGH\u0027\r\n           then 1\r\n        else 0\r\n    end) as high_line_count,\r\n  sum(case\r\n      when o_orderpriority \u003c\u003e \u00271-URGENT\u0027\r\n          and o_orderpriority \u003c\u003e \u00272-HIGH\u0027\r\n         then 1\r\n        else 0\r\n    end) as low_line_count\r\nfrom\r\n  clickzetta_sample_data.tpch_100g.orders,\r\n  clickzetta_sample_data.tpch_100g.lineitem\r\nwhere\r\n  o_orderkey \u003d l_orderkey\r\n   and l_shipmode in (\u0027RAIL\u0027, \u0027SHIP\u0027)\r\n    and l_commitdate \u003c l_receiptdate\r\n  and l_shipdate \u003c l_commitdate\r\n and l_receiptdate \u003e\u003d date \u00271994-01-01\u0027\r\n  and l_receiptdate \u003c date \u00271994-01-01\u0027 + interval \u00271\u0027 year\r\ngroup by\r\n   l_shipmode\r\norder by\r\n  l_shipmode;\r\n"
    },
    {
      "cell_type": "code",
      "execution_count": 32,
      "metadata": {
        "autoscroll": "auto"
      },
      "outputs": [],
      "source": "set query_tag \u003d  \u0027\u0027;\nupdate  tpch100g_result set test_end_time \u003d current_timestamp() where test_query_id \u003d 12 ;\nupdate  tpch100g_result set test_begin_time \u003d current_timestamp() where test_query_id \u003d 13 ;"
    },
    {
      "cell_type": "code",
      "execution_count": 33,
      "metadata": {
        "autoscroll": "auto"
      },
      "outputs": [],
      "source": "set query_tag \u003d  \u0027TPCH100G_Q13\u0027;\r\n\r\n-- Q13\r\nselect\r\n    c_count,\r\n    count(*) as custdist\r\nfrom\r\n    (\r\n        select\r\n            c_custkey,\r\n            count(o_orderkey) as c_count\r\n        from  -- 子查询中包括左外连接操作\r\n            clickzetta_sample_data.tpch_100g.customer left outer join clickzetta_sample_data.tpch_100g.orders on\r\n                c_custkey \u003d o_custkey\r\n                and o_comment not like \u0027%special%requests%\u0027\r\n                -- WORD1 为以下四个可能值中任意一个：special、pending、unusual、express\r\n                -- WORD2 为以下四个可能值中任意一个：packages、requests、accounts、deposits\r\n        group by\r\n            c_custkey\r\n    ) c_orders\r\ngroup by\r\n    c_count\r\norder by\r\n    custdist desc,\r\n    c_count desc;"
    },
    {
      "cell_type": "code",
      "execution_count": 34,
      "metadata": {
        "autoscroll": "auto"
      },
      "outputs": [],
      "source": "set query_tag \u003d  \u0027\u0027;\nupdate  tpch100g_result set test_end_time \u003d current_timestamp() where test_query_id \u003d 13 ;\nupdate  tpch100g_result set test_begin_time \u003d current_timestamp() where test_query_id \u003d 14 ;"
    },
    {
      "cell_type": "code",
      "execution_count": 35,
      "metadata": {
        "autoscroll": "auto"
      },
      "outputs": [],
      "source": "set query_tag \u003d  \u0027TPCH100G_Q14\u0027;\r\n\r\n-- Q14\r\nselect\r\n  100.00 * sum(case\r\n     when p_type like \u0027PROMO%\u0027  -- 促销零件\r\n          then l_extendedprice * (1 - l_discount)  -- 某一特定时间的收入\r\n     else 0\r\n    end) / sum(l_extendedprice * (1 - l_discount)) as promo_revenue\r\nfrom\r\n clickzetta_sample_data.tpch_100g.lineitem,\r\n    clickzetta_sample_data.tpch_100g.part\r\nwhere\r\n  l_partkey \u003d p_partkey\r\n and l_shipdate \u003e\u003d date \u00271994-04-01\u0027 -- DATE是从1993年到1997年中任一年的任一月的一号\r\n and l_shipdate \u003c date \u00271994-04-01\u0027 + interval \u00271\u0027 month;    "
    },
    {
      "cell_type": "code",
      "execution_count": 36,
      "metadata": {
        "autoscroll": "auto"
      },
      "outputs": [],
      "source": "set query_tag \u003d  \u0027\u0027;\nupdate  tpch100g_result set test_end_time \u003d current_timestamp() where test_query_id \u003d 14 ;\nupdate  tpch100g_result set test_begin_time \u003d current_timestamp() where test_query_id \u003d 15 ;"
    },
    {
      "cell_type": "code",
      "execution_count": 37,
      "metadata": {
        "autoscroll": "auto"
      },
      "outputs": [],
      "source": "set query_tag \u003d  \u0027TPCH100G_Q15\u0027;\r\n\r\n-- Q15\r\nselect\r\n    s_suppkey,\r\n    s_name,\r\n   s_address,\r\n    s_phone,\r\n  total_revenue\r\nfrom\r\n   clickzetta_sample_data.tpch_100g.supplier,\r\n    (\r\n        select\r\n            l_suppkey supplier_no,\r\n            sum(l_extendedprice * (1 - l_discount)) total_revenue\r\n        from\r\n            clickzetta_sample_data.tpch_100g.lineitem\r\n        where\r\n                l_shipdate \u003e\u003d date \u00271994-05-01\u0027\r\n          and l_shipdate \u003c date \u00271994-05-01\u0027 + interval \u00273\u0027 month\r\n        group by\r\n            l_suppkey\r\n    ) as revenue0\r\nwhere\r\n s_suppkey \u003d supplier_no\r\n   and total_revenue \u003d (\r\n     select\r\n            max(total_revenue)\r\n        from \r\n         (\r\n        select\r\n            l_suppkey supplier_no,\r\n            sum(l_extendedprice * (1 - l_discount)) total_revenue\r\n        from\r\n            clickzetta_sample_data.tpch_100g.lineitem\r\n        where\r\n                l_shipdate \u003e\u003d date \u00271994-05-01\u0027\r\n          and l_shipdate \u003c date \u00271994-05-01\u0027 + interval \u00273\u0027 month\r\n        group by\r\n            l_suppkey\r\n       ) as revenue0\r\n )\r\norder by\r\n   s_suppkey;"
    },
    {
      "cell_type": "code",
      "execution_count": 38,
      "metadata": {
        "autoscroll": "auto"
      },
      "outputs": [],
      "source": "set query_tag \u003d  \u0027\u0027;\nupdate  tpch100g_result set test_end_time \u003d current_timestamp() where test_query_id \u003d 15 ;\nupdate  tpch100g_result set test_begin_time \u003d current_timestamp() where test_query_id \u003d 16 ;"
    },
    {
      "cell_type": "code",
      "execution_count": 39,
      "metadata": {
        "autoscroll": "auto"
      },
      "outputs": [],
      "source": "set query_tag \u003d  \u0027TPCH100G_Q16\u0027;\r\n\r\n-- Q16\r\nselect\r\n    p_brand,\r\n    p_type,\r\n    p_size,\r\n    count(distinct ps_suppkey) as supplier_cnt -- 聚集、去重操作\r\nfrom\r\n    clickzetta_sample_data.tpch_100g.partsupp,\r\n    clickzetta_sample_data.tpch_100g.part\r\nwhere\r\n    p_partkey \u003d ps_partkey\r\n    and p_brand \u003c\u003e \u0027Brand#45\u0027 --BRAND＝Brand  --MN ，M和N是两个字母，代表两个数值，相互独立，取值在1到5之间\r\n    and p_type not like \u0027MEDIUM POLISHED%\u0027 -- 消费者不感兴趣的类型和尺寸\r\n    and p_size in (49, 14, 23, 45, 19, 3, 36, 9) -- TYPEX是在1到50之间任意选择的一组八个不同的值\r\n    and ps_suppkey not in ( -- NOT IN子查询，消费者排除某些供货商\r\n        select\r\n            s_suppkey\r\n        from\r\n            clickzetta_sample_data.tpch_100g.supplier\r\n        where\r\n            s_comment like \u0027%Customer%Complaints%\u0027\r\n    )\r\ngroup by\r\n    p_brand,\r\n    p_type,\r\n    p_size\r\norder by  -- 按数量降序排列，按品牌、种类、尺寸升序排列\r\n    supplier_cnt desc,  \r\n    p_brand,\r\n    p_type,\r\n    p_size;"
    },
    {
      "cell_type": "code",
      "execution_count": 40,
      "metadata": {
        "autoscroll": "auto"
      },
      "outputs": [],
      "source": "set query_tag \u003d  \u0027\u0027;\nupdate  tpch100g_result set test_end_time \u003d current_timestamp() where test_query_id \u003d 16 ;\nupdate  tpch100g_result set test_begin_time \u003d current_timestamp() where test_query_id \u003d 17 ;"
    },
    {
      "cell_type": "code",
      "execution_count": 41,
      "metadata": {
        "autoscroll": "auto"
      },
      "outputs": [],
      "source": "set query_tag \u003d  \u0027TPCH100G_Q17\u0027;\r\n\r\n-- Q17\r\nselect\r\n  sum(l_extendedprice) / 7.0 as avg_yearly\r\nfrom\r\n    clickzetta_sample_data.tpch_100g.lineitem,\r\n    clickzetta_sample_data.tpch_100g.part\r\nwhere\r\n  p_partkey \u003d l_partkey\r\n and p_brand \u003d \u0027Brand#23\u0027\r\n    and p_container \u003d \u0027WRAP BAG\u0027\r\n    and l_quantity \u003c (\r\n        select\r\n            0.2 * avg(l_quantity)\r\n     from\r\n          clickzetta_sample_data.tpch_100g.lineitem\r\n     where\r\n         l_partkey \u003d p_partkey\r\n );"
    },
    {
      "cell_type": "code",
      "execution_count": 42,
      "metadata": {
        "autoscroll": "auto"
      },
      "outputs": [],
      "source": "set query_tag \u003d  \u0027\u0027;\nupdate  tpch100g_result set test_end_time \u003d current_timestamp() where test_query_id \u003d 17 ;\nupdate  tpch100g_result set test_begin_time \u003d current_timestamp() where test_query_id \u003d 18 ;"
    },
    {
      "cell_type": "code",
      "execution_count": 43,
      "metadata": {
        "autoscroll": "auto"
      },
      "outputs": [],
      "source": "set query_tag \u003d  \u0027TPCH100G_Q18\u0027;\r\n\r\n-- Q18\r\nselect\r\n    c_name,\r\n    c_custkey,\r\n    o_orderkey,\r\n    o_orderdate,\r\n    o_totalprice,\r\n    sum(l_quantity) --订货总数\r\nfrom\r\n    clickzetta_sample_data.tpch_100g.customer,\r\n    clickzetta_sample_data.tpch_100g.orders,\r\n    clickzetta_sample_data.tpch_100g.lineitem\r\nwhere\r\n    o_orderkey in (\r\n        select\r\n            l_orderkey\r\n        from\r\n            clickzetta_sample_data.tpch_100g.lineitem\r\n        group by\r\n            l_orderkey having\r\n                sum(l_quantity) \u003e 300 -- QUANTITY是位于312到315之间的任意值\r\n    )\r\n    and c_custkey \u003d o_custkey\r\n    and o_orderkey \u003d l_orderkey\r\ngroup by\r\n    c_name,\r\n    c_custkey,\r\n    o_orderkey,\r\n    o_orderdate,\r\n    o_totalprice\r\norder by\r\n    o_totalprice desc,\r\n    o_orderdate\r\nlimit 100;"
    },
    {
      "cell_type": "code",
      "execution_count": 44,
      "metadata": {
        "autoscroll": "auto"
      },
      "outputs": [],
      "source": "set query_tag \u003d  \u0027\u0027;\nupdate  tpch100g_result set test_end_time \u003d current_timestamp() where test_query_id \u003d 18 ;\nupdate  tpch100g_result set test_begin_time \u003d current_timestamp() where test_query_id \u003d 19 ;"
    },
    {
      "cell_type": "code",
      "execution_count": 45,
      "metadata": {
        "autoscroll": "auto"
      },
      "outputs": [],
      "source": "set query_tag \u003d  \u0027TPCH100G_Q19\u0027;\r\n\r\n-- Q19\r\nselect\r\n    sum(l_extendedprice* (1 - l_discount)) as revenue\r\nfrom\r\n    clickzetta_sample_data.tpch_100g.lineitem,\r\n    clickzetta_sample_data.tpch_100g.part\r\nwhere\r\n    (\r\n        p_partkey \u003d l_partkey\r\n        and p_brand \u003d \u0027Brand#12\u0027 \r\n        and p_container in (\u0027SM CASE\u0027, \u0027SM BOX\u0027, \u0027SM PACK\u0027, \u0027SM PKG\u0027) \r\n        and l_quantity \u003e\u003d 1 and l_quantity \u003c\u003d 1 + 10 \r\n        and p_size between 1 and 5 \r\n        and l_shipmode in (\u0027AIR\u0027, \u0027AIR REG\u0027) \r\n        and l_shipinstruct \u003d \u0027DELIVER IN PERSON\u0027\r\n    )\r\n    or\r\n    (\r\n        p_partkey \u003d l_partkey\r\n        and p_brand \u003d \u0027Brand#23\u0027\r\n        and p_container in (\u0027MED BAG\u0027, \u0027MED BOX\u0027, \u0027MED PKG\u0027, \u0027MED PACK\u0027)\r\n        and l_quantity \u003e\u003d 10 and l_quantity \u003c\u003d 10 + 10 \r\n        and p_size between 1 and 10\r\n        and l_shipmode in (\u0027AIR\u0027, \u0027AIR REG\u0027)\r\n        and l_shipinstruct \u003d \u0027DELIVER IN PERSON\u0027\r\n    )\r\n    or\r\n    (\r\n        p_partkey \u003d l_partkey\r\n        and p_brand \u003d \u0027Brand#34\u0027\r\n        and p_container in (\u0027LG CASE\u0027, \u0027LG BOX\u0027, \u0027LG PACK\u0027, \u0027LG PKG\u0027)\r\n        and l_quantity \u003e\u003d 20 and l_quantity \u003c\u003d 20 + 10 \r\n        and p_size between 1 and 15\r\n        and l_shipmode in (\u0027AIR\u0027, \u0027AIR REG\u0027)\r\n        and l_shipinstruct \u003d \u0027DELIVER IN PERSON\u0027\r\n    );"
    },
    {
      "cell_type": "code",
      "execution_count": 46,
      "metadata": {
        "autoscroll": "auto"
      },
      "outputs": [],
      "source": "set query_tag \u003d  \u0027\u0027;\nupdate  tpch100g_result set test_end_time \u003d current_timestamp() where test_query_id \u003d 19 ;\nupdate  tpch100g_result set test_begin_time \u003d current_timestamp() where test_query_id \u003d 20 ;"
    },
    {
      "cell_type": "code",
      "execution_count": 47,
      "metadata": {
        "autoscroll": "auto"
      },
      "outputs": [],
      "source": "set query_tag \u003d  \u0027TPCH100G_Q20\u0027;\r\n\r\n-- Q20\r\nselect\r\n s_name,\r\n   s_address\r\nfrom\r\n   clickzetta_sample_data.tpch_100g.supplier,\r\n    clickzetta_sample_data.tpch_100g.nation\r\nwhere\r\n    s_suppkey in (\r\n        select\r\n            ps_suppkey\r\n        from\r\n          clickzetta_sample_data.tpch_100g.partsupp\r\n     where\r\n         ps_partkey in (\r\n               select\r\n                    p_partkey\r\n             from\r\n                  clickzetta_sample_data.tpch_100g.part\r\n             where\r\n                 p_name like \u0027antique%\u0027\r\n          )\r\n         and ps_availqty \u003e (\r\n               select\r\n                    0.5 * sum(l_quantity)\r\n             from\r\n                  clickzetta_sample_data.tpch_100g.lineitem\r\n             where\r\n                 l_partkey \u003d ps_partkey\r\n                    and l_suppkey \u003d ps_suppkey\r\n                    and l_shipdate \u003e\u003d date \u00271993-01-01\u0027\r\n                 and l_shipdate \u003c date \u00271993-01-01\u0027 + interval \u00271\u0027 year\r\n            )\r\n )\r\n and s_nationkey \u003d n_nationkey\r\n and n_name \u003d \u0027IRAQ\u0027\r\norder by\r\n   s_name;"
    },
    {
      "cell_type": "code",
      "execution_count": 48,
      "metadata": {
        "autoscroll": "auto"
      },
      "outputs": [],
      "source": "set query_tag \u003d  \u0027\u0027;\nupdate  tpch100g_result set test_end_time \u003d current_timestamp() where test_query_id \u003d 20 ;\nupdate  tpch100g_result set test_begin_time \u003d current_timestamp() where test_query_id \u003d 21 ;"
    },
    {
      "cell_type": "code",
      "execution_count": 49,
      "metadata": {
        "autoscroll": "auto"
      },
      "outputs": [],
      "source": "set query_tag \u003d  \u0027TPCH100G_Q21\u0027;\r\n\r\n-- Q21\r\nselect\r\n    s_name,\r\n    count(*) as numwait\r\nfrom\r\n    clickzetta_sample_data.tpch_100g.supplier,\r\n    clickzetta_sample_data.tpch_100g.lineitem l1,\r\n    clickzetta_sample_data.tpch_100g.orders,\r\n    clickzetta_sample_data.tpch_100g.nation\r\nwhere\r\n    s_suppkey \u003d l1.l_suppkey\r\n    and o_orderkey \u003d l1.l_orderkey\r\n    and o_orderstatus \u003d \u0027F\u0027\r\n    and l1.l_receiptdate \u003e l1.l_commitdate\r\n    and exists ( -- EXISTS子查询\r\n        select\r\n            *\r\n        from\r\n            clickzetta_sample_data.tpch_100g.lineitem l2\r\n        where\r\n            l2.l_orderkey \u003d l1.l_orderkey\r\n            and l2.l_suppkey \u003c\u003e l1.l_suppkey\r\n    )\r\n    and not exists (-- NOT EXISTS子查询\r\n        select\r\n            *\r\n        from\r\n           clickzetta_sample_data.tpch_100g.lineitem l3\r\n        where\r\n            l3.l_orderkey \u003d l1.l_orderkey\r\n            and l3.l_suppkey \u003c\u003e l1.l_suppkey\r\n            and l3.l_receiptdate \u003e l3.l_commitdate\r\n    )\r\n    and s_nationkey \u003d n_nationkey\r\n    and n_name \u003d \u0027SAUDI ARABIA\u0027 -- TPC-H标准定义的任意值\r\ngroup by\r\n    s_name\r\norder by\r\n    numwait desc,\r\n    s_name\r\nlimit 100;\r\n"
    },
    {
      "cell_type": "code",
      "execution_count": 50,
      "metadata": {
        "autoscroll": "auto"
      },
      "outputs": [],
      "source": "set query_tag \u003d  \u0027\u0027;\nupdate  tpch100g_result set test_end_time \u003d current_timestamp() where test_query_id \u003d 21 ;\nupdate  tpch100g_result set test_begin_time \u003d current_timestamp() where test_query_id \u003d 22 ;"
    },
    {
      "cell_type": "code",
      "execution_count": 51,
      "metadata": {
        "autoscroll": "auto"
      },
      "outputs": [],
      "source": "set query_tag \u003d  \u0027TPCH100G_Q22\u0027;\r\n\r\n-- Q22\r\nselect\r\n    cntrycode,\r\n    count(*) as numcust,\r\n    sum(c_acctbal) as totacctbal\r\nfrom\r\n    ( -- 第一层子查询\r\n        select\r\n            substring(c_phone from 1 for 2) as cntrycode,\r\n            c_acctbal\r\n        from\r\n            clickzetta_sample_data.tpch_100g.customer\r\n        where\r\n            substring(c_phone from 1 for 2) in\r\n                (\u002713\u0027, \u002731\u0027, \u002723\u0027, \u002729\u0027, \u002730\u0027, \u002718\u0027, \u002717\u0027) -- I1…I7是在TPC-H中定义国家代码的可能值中不重复的任意值\r\n            and c_acctbal \u003e ( -- 第二层聚集子查询\r\n                select\r\n                    avg(c_acctbal)\r\n                from\r\n                    clickzetta_sample_data.tpch_100g.customer\r\n                where\r\n                    c_acctbal \u003e 0.00\r\n                    and substring(c_phone from 1 for 2) in\r\n                        (\u002713\u0027, \u002731\u0027, \u002723\u0027, \u002729\u0027, \u002730\u0027, \u002718\u0027, \u002717\u0027)\r\n            )\r\n            and not exists ( -- 第二层NOT EXISTS子查询\r\n                select\r\n                    *\r\n                from\r\n                    clickzetta_sample_data.tpch_100g.orders\r\n                where\r\n                    o_custkey \u003d c_custkey\r\n            )\r\n    ) as custsale\r\ngroup by\r\n    cntrycode\r\norder by\r\n    cntrycode;"
    },
    {
      "cell_type": "code",
      "execution_count": 52,
      "metadata": {
        "autoscroll": "auto"
      },
      "outputs": [],
      "source": "set query_tag \u003d  \u0027\u0027;\nupdate  tpch100g_result set test_end_time \u003d current_timestamp() where test_query_id \u003d 22 ;"
    },
    {
      "cell_type": "markdown",
      "metadata": {},
      "source": "有延迟，执行完后元数据需要等5-10分钟才能查询到。但是结果精确。\n"
    },
    {
      "cell_type": "code",
      "execution_count": 54,
      "metadata": {
        "autoscroll": "auto"
      },
      "outputs": [],
      "source": "with last_test_result AS (\nselect query_tag, execution_time from sys.information_schema.job_history where query_tag like \"TPCH100G_Q%\" and start_time\u003e\u00272024-06-18 19:48:00.000\u0027 order by query_tag asc  limit 22\n)\nselect count(query_tag) as query_count, sum(execution_time) as total_execution_time from last_test_result;\n"
    },
    {
      "cell_type": "code",
      "execution_count": 55,
      "metadata": {
        "autoscroll": "auto"
      },
      "outputs": [],
      "source": "with last_test_result AS (\nselect substr(query_tag,10,3) as query_tag, execution_time from sys.information_schema.job_history where query_tag like \"TPCH100G_Q%\" and start_time\u003e\u00272024-06-18 19:48:00.000\u0027 order by query_tag asc  limit 22\n)\nselect * from last_test_result;"
    },
    {
      "cell_type": "markdown",
      "metadata": {},
      "source": "实时报告，但是统计到Lakehouse总执行时间因为统计方法问题存在0.5-1秒左右的误差。要求完全精确的，请查看精确测试结果。"
    },
    {
      "cell_type": "code",
      "execution_count": 57,
      "metadata": {
        "autoscroll": "auto"
      },
      "outputs": [],
      "source": "\nselect test_query_id, datediff(MILLISECOND,test_begin_time , test_end_time)-800 as lakehouse_time_ms ,starrocks_native_time_ms, starrocks_hive_external_time_ms,trino_time_ms from tpch100g_result  order by test_query_id;"
    },
    {
      "cell_type": "code",
      "execution_count": 58,
      "metadata": {
        "autoscroll": "auto"
      },
      "outputs": [],
      "source": "select test_query_id, datediff(MILLISECOND,test_begin_time , test_end_time)-800 as lakehouse_time_ms ,starrocks_native_time_ms,starrocks_hive_external_time_ms,trino_time_ms from tpch100g_result  order by test_query_id;"
    },
    {
      "cell_type": "code",
      "execution_count": 59,
      "metadata": {
        "autoscroll": "auto"
      },
      "outputs": [],
      "source": "select test_query_id, datediff(MILLISECOND,test_begin_time , test_end_time)-600 as lakehouse_time_ms ,starrocks_native_time_ms, starrocks_hive_external_time_ms,trino_time_ms from tpch100g_result  order by test_query_id;"
    },
    {
      "cell_type": "code",
      "execution_count": 60,
      "metadata": {
        "autoscroll": "auto"
      },
      "outputs": [],
      "source": "show tables in sys.information_schema;"
    },
    {
      "cell_type": "code",
      "execution_count": 61,
      "metadata": {
        "autoscroll": "auto"
      },
      "outputs": [],
      "source": "select * from sys.information_schema.job_history where query_tag\u003d\"TPCH100G_Q22\" order by start_time desc  limit 100;"
    },
    {
      "cell_type": "code",
      "execution_count": 62,
      "metadata": {
        "autoscroll": "auto"
      },
      "outputs": [],
      "source": "show jobs limit 100;"
    }
  ]
}