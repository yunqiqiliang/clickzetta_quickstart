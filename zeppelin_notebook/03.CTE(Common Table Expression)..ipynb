﻿{
  "metadata": {
    "name": "03.CTE(Common Table Expression)",
    "kernelspec": {
      "language": "scala",
      "name": "spark2-scala"
    },
    "language_info": {
      "codemirror_mode": "text/x-scala",
      "file_extension": ".scala",
      "mimetype": "text/x-scala",
      "name": "scala",
      "pygments_lexer": "scala"
    }
  },
  "nbformat": 4,
  "nbformat_minor": 2,
  "cells": [
    {
      "cell_type": "markdown",
      "metadata": {},
      "source": "CTE(Common Table Expression) ，公用表表达式，它是在单个语句的执行范围内定义的临时结果集，只在查询期间有效。它可以自引用，也可在同一查询中多次引用，实现了代码段的重复利用"
    },
    {
      "cell_type": "markdown",
      "metadata": {},
      "source": "同类群组（Revenue Cohort）分析是对几个不同同类群组（即客户群）的分析，以更好地了解行为、模式和趋势。\n最常见的同类群组分析类型之一着眼于基于时间的同类群组，这些群组按特定时间范围对用户/客户进行分组。例如，一家公司可能希望了解其在 1 月份开始使用该产品或开始付款的客户与 2 月份的客户相比如何。\n基于细分的群组代表使用或购买特定产品或服务的客户群。例如，您可以根据用户每周登录您的应用的时间来细分用户。\n另一种类型的群组是基于规模的群组，它按货币价值对客户进行细分。这是游戏行业（免费用户与鲸鱼用户）或 SaaS 世界中的常见做法，通过他们的 LTV 或计划对客户进行细分。\n对于本文的其余部分，我们将只关注实施基于时间的收入群组分析。\n队列分析所需的数据\n在开始队列分析之前，需要以下数据：\n与购买数据相关联的收入数据\n用户的唯一标识符，例如客户 ID 或帐户 ID\n每个用户的初始开始日期，无论是注册日期还是第一次付款。\n本文所使用的数据集如下"
    },
    {
      "cell_type": "code",
      "execution_count": 2,
      "metadata": {
        "autoscroll": "auto"
      },
      "outputs": [],
      "source": "select * from clickzetta_sample_data.ecommerce_events_history.ecommerce_events_multicategorystore;"
    },
    {
      "cell_type": "code",
      "execution_count": 3,
      "metadata": {
        "autoscroll": "auto"
      },
      "outputs": [],
      "source": "USE jaffle_shop_dbt_dev;\nSELECT * FROM default.retailsamplesch.ecommerce_events_multicategorystore_enriched limit 10;\n"
    },
    {
      "cell_type": "markdown",
      "metadata": {},
      "source": "1、临时结果集user_cohorts：首先，我们想将用户分到群组中——在这种情况下，我们想按他们的Order Week 。\n2、临时结果集order_Week：接下来我们要创建一个order_month变量。例如，客户在首次付款后一个月进行的付款的值为order_month2。创建一个order_Week变量。例如，客户在首次付款后一周进行的付款的order_Week值为 2。\n3、临时结果集cohort_size：进一步，我们现在可以汇总cohortMonth第一步中创造的收入。这将使我们能够创建我们的rentention_table.汇总cohortMonth第一步中创造的收入。这将使我们能够创建我们的rentention_table.\n"
    },
    {
      "cell_type": "code",
      "execution_count": 5,
      "metadata": {
        "autoscroll": "auto"
      },
      "outputs": [],
      "source": "WITH \neCommerce_LifeCycle_Order_Sequence AS (\nSELECT event_date,\n       user_id,\n       ROW_NUMBER() OVER (PARTITION BY user_id ORDER BY event_date ASC) AS customer_order_sequence,\n       LAG(event_date) OVER (PARTITION BY user_id ORDER BY user_id ASC) AS previous_order_date,\n       MIN(event_date) AS first_order_date,\n       MAX(event_date) AS last_order_date\nFROM clickzetta_sample_data.ecommerce_events_history.ecommerce_events_multicategorystore\nWHERE event_type \u003d \u0027purchase\u0027\nGROUP BY event_date,\n         user_id)\n,\neCommerce_LifeCycle_Time_Between_Orders AS (\nSELECT event_date,\n       user_id,\n       customer_order_sequence,\n       CASE\n         WHEN previous_order_date IS NULL THEN event_date\n         ELSE previous_order_date\n       END AS previous_order_date,\n       DATEDIFF(event_date,previous_order_date) AS days_between_orders,\n       first_order_date,\n       last_order_date\nFROM eCommerce_LifeCycle_Order_Sequence)\n,\neCommerce_LifeCycle AS(\nSELECT event_date,\n       user_id,\n       CASE\n         WHEN customer_order_sequence \u003d 1 THEN \u0027新客户\u0027\n         WHEN days_between_orders \u003e 0 AND days_between_orders \u003c 30 THEN \u0027活跃客户\u0027\n         WHEN days_between_orders \u003e 30 THEN \u0027沉睡客户\u0027\n         ELSE \u0027未知\u0027\n       END AS customer_life_cycle,\n       customer_order_sequence,\n       previous_order_date,\n       CASE\n         WHEN days_between_orders IS NULL THEN 0\n         ELSE days_between_orders\n       END AS days_between_orders,\n       first_order_date,\n       last_order_date\nFROM eCommerce_LifeCycle_Time_Between_Orders)\nselect * from eCommerce_LifeCycle;\n"
    },
    {
      "cell_type": "markdown",
      "metadata": {},
      "source": "对比：不使用CTE，而是将每一个子查询的结果都落成物理表，则整个处理过程如下："
    },
    {
      "cell_type": "markdown",
      "metadata": {},
      "source": "1. 根据每个客户的升序订单日期创建特定于每个客户 ID 的订单序列列。这就是ROW_NUMBER 分析函数在下面的查询中所做的。\n2. 创建一个新列，为客户 ID 插入先前的订单日期，以便在以后的代码块中用于计算订单之间的时间段。这就是LAG 分析函数在以下查询中所做的。\n--请注意语句末尾的“Group By”order_date 和 customer_id 列。这很重要，因为客户可以在同一天拥有多个具有不同订单 ID 的订单"
    },
    {
      "cell_type": "code",
      "execution_count": 8,
      "metadata": {
        "autoscroll": "auto"
      },
      "outputs": [],
      "source": "DROP TABLE if exists eCommerce_LifeCycle_Order_Sequence;\nCREATE TABLE eCommerce_LifeCycle_Order_Sequence \nAS\nSELECT event_date,\n       user_id,\n       ROW_NUMBER() OVER (PARTITION BY user_id ORDER BY event_date ASC) AS customer_order_sequence,\n       LAG(event_date) OVER (PARTITION BY user_id ORDER BY user_id ASC) AS previous_order_date,\n       MIN(event_date) AS first_order_date,\n       MAX(event_date) AS last_order_date\nFROM default.retailsamplesch.ecommerce_events_multicategorystore_enriched\nWHERE event_type \u003d \u0027purchase\u0027\nGROUP BY event_date,\n         user_id;"
    },
    {
      "cell_type": "markdown",
      "metadata": {},
      "source": "针对上表运行子查询以计算 order_date 和 previous_order_date 列之间的天数，您将看到创建新列 days_between_orders 的 DATE_DIFF 函数会发生这种情况。"
    },
    {
      "cell_type": "code",
      "execution_count": 10,
      "metadata": {
        "autoscroll": "auto"
      },
      "outputs": [],
      "source": "DROP TABLE if exists eCommerce_LifeCycle_Time_Between_Orders;\nCREATE TABLE eCommerce_LifeCycle_Time_Between_Orders \nAS\nSELECT event_date,\n       user_id,\n       customer_order_sequence,\n       CASE\n         WHEN previous_order_date IS NULL THEN event_date\n         ELSE previous_order_date\n       END AS previous_order_date,\n       DATEDIFF(event_date,previous_order_date) AS days_between_orders,\n       first_order_date,\n       last_order_date\nFROM eCommerce_LifeCycle_Order_Sequence;"
    },
    {
      "cell_type": "markdown",
      "metadata": {},
      "source": "下一个查询使用CASE 语句创建一个附加的 customer_life_cycle 列，以根据 days_between_orders 列指示订单是来自新客户、活跃客户还是已失效客户。在此示例中，如果订单发生在距上一个订单 1 到 365 天之间的任何时间，则客户被视为活跃客户；如果先前订单超过 365 天，则客户被视为已失效。这具有高度的业务特定性，因此您的可能会有所不同。"
    },
    {
      "cell_type": "code",
      "execution_count": 12,
      "metadata": {
        "autoscroll": "auto"
      },
      "outputs": [],
      "source": "DROP TABLE if exists eCommerce_LifeCycle;\nCREATE TABLE eCommerce_LifeCycle \nAS\nSELECT event_date,\n       user_id,\n       CASE\n         WHEN customer_order_sequence \u003d 1 THEN \u0027新客户\u0027\n         WHEN days_between_orders \u003e 0 AND days_between_orders \u003c 30 THEN \u0027活跃客户\u0027\n         WHEN days_between_orders \u003e 30 THEN \u0027沉睡客户\u0027\n         ELSE \u0027未知\u0027\n       END AS customer_life_cycle,\n       customer_order_sequence,\n       previous_order_date,\n       CASE\n         WHEN days_between_orders IS NULL THEN 0\n         ELSE days_between_orders\n       END AS days_between_orders,\n       first_order_date,\n       last_order_date\nFROM eCommerce_LifeCycle_Time_Between_Orders;"
    },
    {
      "cell_type": "code",
      "execution_count": 13,
      "metadata": {
        "autoscroll": "auto"
      },
      "outputs": [],
      "source": "select * from eCommerce_LifeCycle limit 100;"
    }
  ]
}