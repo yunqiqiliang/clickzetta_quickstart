﻿{
  "metadata": {
    "name": "02.表设计",
    "kernelspec": {
      "language": "scala",
      "name": "spark2-scala"
    },
    "language_info": {
      "codemirror_mode": "text/x-scala",
      "file_extension": ".scala",
      "mimetype": "text/x-scala",
      "name": "scala",
      "pygments_lexer": "scala"
    }
  },
  "nbformat": 4,
  "nbformat_minor": 2,
  "cells": [
    {
      "cell_type": "markdown",
      "metadata": {},
      "source": "创建一张表，覆盖云器Lakehouse支持的所有表结构数据类型，并以这张表为基表，创建普通视图和物化视图。"
    },
    {
      "cell_type": "code",
      "execution_count": 1,
      "metadata": {
        "autoscroll": "auto"
      },
      "outputs": [],
      "source": "CREATE SCHEMA IF NOT EXISTS lakehouse_demo_table_design_schema;\nUSE SCHEMA lakehouse_demo_table_design_schema;\nSELECT current_schema();"
    },
    {
      "cell_type": "code",
      "execution_count": 2,
      "metadata": {
        "autoscroll": "auto"
      },
      "outputs": [],
      "source": "--云器Lakehouse支持的所有表结构数据类型\nCREATE TABLE IF NOT EXISTS clickzetta_datatypes\n(\n    c_bigint BIGINT,\n    c_boolean BOOLEAN,\n    c_binary BINARY,\n    c_char CHAR,\n    c_data DATE,\n    c_decimal DECIMAL(20,6),\n    c_double DOUBLE,\n    c_float FLOAT,\n    c_int INT,\n    c_interval INTERVAL DAY,\n    c_smallint SMALLINT,\n    c_string STRING,\n    c_timestamp TIMESTAMP,\n    c_tinyint TINYINT,\n    c_array ARRAY\u003cSTRUCT\u003ca: INT, b: STRING\u003e\u003e,\n    c_map MAP\u003cSTRING, STRING\u003e,\n    c_struct STRUCT\u003ca: INT, b: STRING, c: DOUBLE\u003e,\n    c_varchar VARCHAR(1024)\n);\n--LIKE语句可以再创建一个表，使目标表和源表具有相同的表结构。但通过该语句创建的表不复制数据\nCREATE  TABLE IF NOT EXISTS clickzetta_datatypes_like LIKE clickzetta_datatypes;\n\n--AS语句可用于同步或异步查询原表并基于查询结果创建新表，然后将查询结果插入到新表中,但是不会复制分区信息\nCREATE  TABLE IF NOT EXISTS clickzetta_datatypes_as AS select* from clickzetta_datatypes;\n\n--创建普通视图\nCREATE VIEW  IF NOT EXISTS clickzetta_datatypes_view as select* from clickzetta_datatypes;\n\n--创建物化视图\nCREATE MATERIALIZED VIEW clickzetta_datatypes_mv\n                REFRESH interval 1 minute\n                AS select * from clickzetta_datatypes limit 1;\n\n--检查创建好的表、视图、物化视图\nshow tables like \u0027clickzetta_datatypes%\u0027;"
    },
    {
      "cell_type": "markdown",
      "metadata": {},
      "source": "往表里插入记录"
    },
    {
      "cell_type": "code",
      "execution_count": 4,
      "metadata": {
        "autoscroll": "auto"
      },
      "outputs": [],
      "source": "INSERT INTO clickzetta_datatypes VALUES\n(1, true, X\u002701\u0027, \u0027a\u0027, DATE\u00272022-02-01\u0027, 1000.123456, 2.0, 1.5, 42, INTERVAL 1 DAY, 103, \u0027test string 1\u0027,TIMESTAMP \u00272022-02-01 20:00:00\u0027, 11, ARRAY(STRUCT(1, \u0027A\u0027)), MAP(\u0027key1\u0027, \u0027value1\u0027), STRUCT(1, \u0027A\u0027, 2.0), \u0027varchar example 1\u0027),\n(2, false, X\u002702\u0027, \u0027b\u0027, DATE\u00272022-02-02\u0027, 2000.234567, 4.0, 2.5, 84, INTERVAL 2 DAY, 104,\u0027test string 2\u0027,TIMESTAMP \u00272022-02-02 21:00:00\u0027, 12, ARRAY(STRUCT(2, \u0027B\u0027)), MAP(\u0027key2\u0027, \u0027value2\u0027), STRUCT(2, \u0027B\u0027, 4.0), \u0027varchar example 2\u0027);\n"
    },
    {
      "cell_type": "code",
      "execution_count": 5,
      "metadata": {
        "autoscroll": "auto"
      },
      "outputs": [],
      "source": "SELECT * FROM clickzetta_datatypes;"
    },
    {
      "cell_type": "code",
      "execution_count": 6,
      "metadata": {
        "autoscroll": "auto"
      },
      "outputs": [],
      "source": "-- 1. 按日期筛选\nSELECT * FROM clickzetta_datatypes WHERE c_data \u003e\u003d DATE \u00272022-02-02\u0027;\n\n-- 2. 选择特定时间范围内的记录\nSELECT * FROM clickzetta_datatypes WHERE c_timestamp BETWEEN TIMESTAMP \u00272022-02-01 20:00:00\u0027 AND TIMESTAMP \u00272022-02-02 21:00:00\u0027;\n\n-- 3. 对日期添加天数\nSELECT c_data, c_data + INTERVAL 7 DAY as plus_7_days FROM clickzetta_datatypes;\n\n-- 4. 计算两个日期之间的天数差\nSELECT c_data, DATEDIFF((SELECT c_data FROM clickzetta_datatypes WHERE c_bigint \u003d 2), c_data) as days_difference FROM clickzetta_datatypes;\n\n-- 5. 提取日期的年份、月份和日\nSELECT EXTRACT(YEAR FROM c_data) as year, EXTRACT(MONTH FROM c_data) as month, EXTRACT(DAY FROM c_data) as day FROM clickzetta_datatypes;\n\n-- 6. 计算时间戳与当前时间的差值（分钟）\nSELECT c_timestamp, TIMESTAMPDIFF(MINUTE, c_timestamp, NOW()) as minutes_difference FROM clickzetta_datatypes;\n\n-- 7. 计算时间戳与当前时间的差值（分钟）\nSELECT  INTERVAL 10 DAY, c_interval, INTERVAL 10 DAY \u003e c_interval from clickzetta_datatypes;\n"
    },
    {
      "cell_type": "code",
      "execution_count": 7,
      "metadata": {
        "autoscroll": "auto"
      },
      "outputs": [],
      "source": "-- 1. 提取map中的值\nSELECT\n  c_int,\n  c_map[\u0027key1\u0027] AS map_key1_value, \n  c_map[\u0027key2\u0027] AS map_key2_value\nFROM clickzetta_datatypes;\n\n-- 2. 计算map长度\nSELECT\n  c_int,\n  cardinality(c_map) AS map_length\nFROM clickzetta_datatypes;\n\n-- 3. 提取array中的结构字段\nSELECT\n  c_int,\n  c_array[1].a AS array_col1_value, \n  c_array[1].b AS array_col2_value\nFROM clickzetta_datatypes;\n\n-- 4. 计算数组长度\nSELECT\n  c_int,\n  array_size(c_array) AS array_length\nFROM clickzetta_datatypes;\n\n-- 5. 提取结构中的值\nSELECT\n  c_int,\n  c_struct.a AS struct_col1_value,\n  c_struct.b AS struct_col2_value,\n  c_struct.c AS struct_col3_value\nFROM clickzetta_datatypes;\n\n-- 6. 结果放在一个cell里\nSELECT\n  c_int,\n  concat(\n    \u0027Map Value Key1: \u0027, c_map[\u0027key1\u0027], \u0027, \u0027,\n    \u0027Map Value Key2: \u0027, c_map[\u0027key2\u0027], \u0027, \u0027,\n    \u0027Array Struct: (\u0027, c_array[1].a, \u0027, \u0027, c_array[1].b, \u0027)\u0027\n  ) AS combined_result\nFROM clickzetta_datatypes;\n"
    },
    {
      "cell_type": "code",
      "execution_count": 8,
      "metadata": {
        "autoscroll": "auto"
      },
      "outputs": [],
      "source": "DROP TABLE IF EXISTS clickzetta_datatypes;\nDROP TABLE IF EXISTS clickzetta_datatypes_like;\nDROP TABLE IF EXISTS clickzetta_datatypes_as;\nDROP VIEW IF EXISTS clickzetta_datatypes_view;\nDROP MATERIALIZED VIEW IF EXISTS clickzetta_datatypes_mv;\nDROP SCHEMA IF EXISTS lakehouse_demo_table_design_schema;"
    }
  ]
}