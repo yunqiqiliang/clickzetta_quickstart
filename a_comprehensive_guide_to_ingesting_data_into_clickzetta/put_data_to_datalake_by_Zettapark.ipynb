{
 "cells": [
  {
   "cell_type": "markdown",
   "id": "706c5f5d-c710-4d9b-b7f9-9d045b786612",
   "metadata": {},
   "source": [
    "# 将本地文件通过Zettapark Put到云器Lakehouse管理的数据湖（Volume）"
   ]
  },
  {
   "cell_type": "code",
   "execution_count": 1,
   "id": "6e749b79-c770-4f8c-88a0-c3f66ddd7302",
   "metadata": {},
   "outputs": [],
   "source": [
    "# !pip install clickzetta_zettapark_python  -i https://pypi.tuna.tsinghua.edu.cn/simple"
   ]
  },
  {
   "cell_type": "code",
   "execution_count": 31,
   "id": "9ea55951-9c99-4660-a10b-5cefab2fd4f9",
   "metadata": {},
   "outputs": [],
   "source": [
    "from clickzetta.zettapark.session import Session\n",
    "import json,requests\n",
    "import os\n",
    "from datetime import datetime"
   ]
  },
  {
   "cell_type": "markdown",
   "id": "a4e9f7e4-69ba-4614-a132-b003daf5867d",
   "metadata": {},
   "source": [
    "## 创建到云器Lakehouse的会话"
   ]
  },
  {
   "cell_type": "code",
   "execution_count": null,
   "id": "98dd5058-24c9-4777-ae1a-195da8da32c6",
   "metadata": {},
   "outputs": [
    {
     "name": "stdout",
     "output_type": "stream",
     "text": [
      "正在连接到云器Lakehouse.....\n",
      "\n",
      "连接成功！...\n",
      "\n"
     ]
    }
   ],
   "source": [
    "import json\n",
    "\n",
    "# 从配置文件中读取参数\n",
    "with open('config/config-ingest.json', 'r') as config_file:\n",
    "    config = json.load(config_file)\n",
    "\n",
    "print(\"正在连接到云器Lakehouse.....\\n\")\n",
    "\n",
    "# 创建会话\n",
    "session = Session.builder.configs(config).create()\n",
    "\n",
    "print(\"连接成功！...\\n\")"
   ]
  },
  {
   "cell_type": "markdown",
   "id": "613d4c13-5134-4b40-9e32-dec795988785",
   "metadata": {},
   "source": [
    "## 创建云器Lakehouse数据湖Connection和Volume"
   ]
  },
  {
   "cell_type": "markdown",
   "id": "f2114bf9-23d0-4800-9e68-e5ee3bfd9721",
   "metadata": {},
   "source": [
    "### 创建数据湖Connection,到数据湖的连接"
   ]
  },
  {
   "cell_type": "code",
   "execution_count": null,
   "id": "62eaf66b-eda2-4dc0-a58c-c39d47901f52",
   "metadata": {},
   "outputs": [],
   "source": [
    "# -- CREATE Datalake Connection\n",
    "datalake_connection_sql = \"\"\"\n",
    "CREATE STORAGE CONNECTION if not exists hz_ingestion_demo\n",
    "    TYPE oss\n",
    "    ENDPOINT = 'your endpoint'\n",
    "    access_id = 'your access_id'\n",
    "    access_key = 'your access_key'\n",
    "    comments = 'oss private endpoint for ingest demo'\n",
    "\"\"\""
   ]
  },
  {
   "cell_type": "code",
   "execution_count": 34,
   "id": "7c078068-54c8-4267-99dd-1a3fd89438ab",
   "metadata": {},
   "outputs": [
    {
     "name": "stdout",
     "output_type": "stream",
     "text": [
      "---------------------\n",
      "|result_message     |\n",
      "---------------------\n",
      "|OPERATION SUCCEED  |\n",
      "---------------------\n",
      "\n"
     ]
    }
   ],
   "source": [
    "session.sql(datalake_connection_sql).show()"
   ]
  },
  {
   "cell_type": "code",
   "execution_count": null,
   "id": "1e766ffd-602e-482a-8718-603ec6c7bca9",
   "metadata": {},
   "outputs": [],
   "source": [
    "session.sql(\"show connections\").show()"
   ]
  },
  {
   "cell_type": "markdown",
   "id": "5bbd87a2-1f75-4b09-9e05-ce7eb8a1f003",
   "metadata": {},
   "source": [
    "### 创建Volume,数据湖存储文件的位置"
   ]
  },
  {
   "cell_type": "code",
   "execution_count": 36,
   "id": "152d4c36-ff3d-444c-abc9-c85d21e33cfe",
   "metadata": {},
   "outputs": [],
   "source": [
    "# -- CREATE Datalake Volumes\n",
    "datalake_sql = \"\"\"\n",
    "CREATE EXTERNAL VOLUME  if not exists ingest_demo\n",
    "  LOCATION 'oss://czsampledatahz/ingest_demo' \n",
    "  USING connection hz_ingestion_demo  -- storage Connection\n",
    "  DIRECTORY = (\n",
    "    enable = TRUE\n",
    "  ) \n",
    "  recursive = TRUE\n",
    "\"\"\""
   ]
  },
  {
   "cell_type": "code",
   "execution_count": 37,
   "id": "6e23cf5c-4c19-4dde-9a80-71c39a299bba",
   "metadata": {},
   "outputs": [
    {
     "name": "stdout",
     "output_type": "stream",
     "text": [
      "---------------------\n",
      "|result_message     |\n",
      "---------------------\n",
      "|OPERATION SUCCEED  |\n",
      "---------------------\n",
      "\n"
     ]
    }
   ],
   "source": [
    "session.sql(datalake_sql).show()"
   ]
  },
  {
   "cell_type": "markdown",
   "id": "d5a326ee-447c-4e1f-8571-0b2e6531ddb6",
   "metadata": {},
   "source": [
    "## 同步数据湖Volume的目录到Lakehouse"
   ]
  },
  {
   "cell_type": "code",
   "execution_count": 38,
   "id": "775f63a7-81b9-4948-bb0d-637226611ec3",
   "metadata": {},
   "outputs": [],
   "source": [
    "alter_datalake_sql = \"\"\"\n",
    "alter volume ingest_demo refresh\n",
    "\"\"\""
   ]
  },
  {
   "cell_type": "code",
   "execution_count": 39,
   "id": "2ebeecde-fee0-4df9-95ab-e9b5aae0bb08",
   "metadata": {},
   "outputs": [
    {
     "name": "stdout",
     "output_type": "stream",
     "text": [
      "---------------------\n",
      "|result_message     |\n",
      "---------------------\n",
      "|OPERATION SUCCEED  |\n",
      "---------------------\n",
      "\n"
     ]
    }
   ],
   "source": [
    "session.sql(alter_datalake_sql).show()"
   ]
  },
  {
   "cell_type": "markdown",
   "id": "3cc0a943-6089-4917-a857-3c846c8bad66",
   "metadata": {},
   "source": [
    "## 查看云器Lakehouse数据湖Volume上的文件，还没有任何文件"
   ]
  },
  {
   "cell_type": "code",
   "execution_count": null,
   "id": "acb3d0d2-0cee-4383-a7bf-44a6df914fd1",
   "metadata": {},
   "outputs": [],
   "source": [
    "results = session.sql(\"select * from directory(volume ingest_demo)\").show()\n"
   ]
  },
  {
   "cell_type": "markdown",
   "id": "2a01e2b6-2463-4822-85bf-b11308e08862",
   "metadata": {},
   "source": [
    "## 将文件PUT到云器Lakehouse数据湖Volume"
   ]
  },
  {
   "cell_type": "code",
   "execution_count": 41,
   "id": "93803ace-4c7a-4971-bfc9-2dbc2edca150",
   "metadata": {},
   "outputs": [],
   "source": [
    "for filename in os.listdir(\"data/\"):\n",
    "        if filename.endswith(\".gz\"):\n",
    "            file_path = os.path.join(\"data/\", filename)\n",
    "            session.file.put(file_path,\"volume://ingest_demo/gz/\")\n",
    "        if filename.endswith(\".csv\"):\n",
    "            file_path = os.path.join(\"data/\", filename)\n",
    "            session.file.put(file_path,\"volume://ingest_demo/csv/\")\n",
    "        if filename.endswith(\".json\"):\n",
    "            file_path = os.path.join(\"data/\", filename)\n",
    "            session.file.put(file_path,\"volume://ingest_demo/json/\")"
   ]
  },
  {
   "cell_type": "code",
   "execution_count": 42,
   "id": "f701397a-9878-40df-813d-476b1c2e9ed1",
   "metadata": {},
   "outputs": [],
   "source": [
    "# 或者上传目录下所有的文件\n",
    "# session.file.put(\"../data/\",\"volume://ingest_demo/gz/\")"
   ]
  },
  {
   "cell_type": "markdown",
   "id": "351c329e-6393-4b67-aa8b-544ffc0c797e",
   "metadata": {},
   "source": [
    "## 再次同步数据湖Volume的目录到Lakehouse"
   ]
  },
  {
   "cell_type": "code",
   "execution_count": 43,
   "id": "a9784b15-4a2d-40f4-a6c6-052c75b0d59e",
   "metadata": {},
   "outputs": [
    {
     "name": "stdout",
     "output_type": "stream",
     "text": [
      "---------------------\n",
      "|result_message     |\n",
      "---------------------\n",
      "|OPERATION SUCCEED  |\n",
      "---------------------\n",
      "\n"
     ]
    }
   ],
   "source": [
    "session.sql(alter_datalake_sql).show()"
   ]
  },
  {
   "cell_type": "markdown",
   "id": "2e3e53f6-0a5b-4b33-bd63-e53220298f70",
   "metadata": {},
   "source": [
    "## 再次查看云器Lakehouse数据湖Volume上的文件，数据入湖成功了"
   ]
  },
  {
   "cell_type": "code",
   "execution_count": 44,
   "id": "2bacf491-520b-451e-9a8b-853bc3d0fc4e",
   "metadata": {},
   "outputs": [
    {
     "name": "stdout",
     "output_type": "stream",
     "text": [
      "----------------------------------------------------------------------------------------------------------------------------------\n",
      "|relative_path                       |url                                                 |size      |last_modified_time         |\n",
      "----------------------------------------------------------------------------------------------------------------------------------\n",
      "|csv/lift_tickets_data.csv           |oss://czsampledatahz/ingest_demo/csv/lift_ticke...  |21101094  |2024-12-30 16:52:51+08:00  |\n",
      "|gz/lift_tickets_data.csv.gz         |oss://czsampledatahz/ingest_demo/gz/lift_ticket...  |9717050   |2024-12-30 16:52:48+08:00  |\n",
      "|gz/lift_tickets_data.json.gz        |oss://czsampledatahz/ingest_demo/gz/lift_ticket...  |11146044  |2024-12-30 16:52:47+08:00  |\n",
      "|gz/parquet_files/part00001.parquet  |oss://czsampledatahz/ingest_demo/gz/parquet_fil...  |12660     |2024-12-28 16:30:17+08:00  |\n",
      "|gz/parquet_files/part00002.parquet  |oss://czsampledatahz/ingest_demo/gz/parquet_fil...  |5444      |2024-12-28 16:30:17+08:00  |\n",
      "|json/lift_tickets_data.json         |oss://czsampledatahz/ingest_demo/json/lift_tick...  |50291401  |2024-12-30 16:52:58+08:00  |\n",
      "----------------------------------------------------------------------------------------------------------------------------------\n",
      "\n"
     ]
    }
   ],
   "source": [
    "results = session.sql(\"select * from directory(volume ingest_demo)\").show()\n"
   ]
  },
  {
   "cell_type": "markdown",
   "id": "a38c6ca7-5b9f-4c7f-a0e9-ca887691016b",
   "metadata": {},
   "source": [
    "## 数据校验，检查文件里的行数"
   ]
  },
  {
   "cell_type": "code",
   "execution_count": 45,
   "id": "876e5d9c-c19a-474b-890e-7d979769bb26",
   "metadata": {},
   "outputs": [],
   "source": [
    "datalake_data_verify_sql = \"\"\"\n",
    "select count() from volume ingest_demo (txid string) using csv\n",
    " options(\n",
    "    'header'='true',\n",
    "    'sep'=',',\n",
    "    'compression' = 'gzip'\n",
    " ) files('gz/lift_tickets_data.csv.gz')\n",
    " limit 10\n",
    "\"\"\""
   ]
  },
  {
   "cell_type": "code",
   "execution_count": 46,
   "id": "dd425b38-d66d-468b-b714-f872bf68b8ad",
   "metadata": {},
   "outputs": [
    {
     "name": "stdout",
     "output_type": "stream",
     "text": [
      "-------------\n",
      "|`count`()  |\n",
      "-------------\n",
      "|100000     |\n",
      "-------------\n",
      "\n"
     ]
    }
   ],
   "source": [
    "session.sql(datalake_data_verify_sql).show()"
   ]
  },
  {
   "cell_type": "markdown",
   "id": "098ed185-870c-408a-bf6d-a112f8557cd8",
   "metadata": {},
   "source": [
    "## 数据湖分析"
   ]
  },
  {
   "cell_type": "code",
   "execution_count": 47,
   "id": "c42296ce-cb8e-4cac-af8d-1e145be7af72",
   "metadata": {},
   "outputs": [],
   "source": [
    "datalake_data_analytics_sql = \"\"\"\n",
    "select * from volume ingest_demo (txid string,name string, address_state string) using csv\n",
    " options(\n",
    "    'header'='true',\n",
    "    'sep'=',',\n",
    "    'compression' = 'gzip'\n",
    " ) files('gz/lift_tickets_data.csv.gz')\n",
    " limit 10\n",
    "\"\"\""
   ]
  },
  {
   "cell_type": "code",
   "execution_count": 48,
   "id": "4e4aa907-eb0d-4c49-b0af-23132f62605c",
   "metadata": {},
   "outputs": [
    {
     "name": "stdout",
     "output_type": "stream",
     "text": [
      "-------------------------------------------------------------------------------------\n",
      "|txid                                  |name                        |address_state  |\n",
      "-------------------------------------------------------------------------------------\n",
      "|80a7a77b-4941-46f3-bf1a-760bb46f12da  |0xbb6eabaf2eb3c3d2ea164eba  |新荣记            |\n",
      "|976b4512-1b07-43f4-a8e4-1fe86a7e1ee4  |0xa08ab7945cf87fc0b5095dc   |大董烤鸭           |\n",
      "|4c49f5cc-0bd4-4a7e-8f61-f4a501a0dd24  |0xdf7bd805b890815a4e0a008c  |京雅堂            |\n",
      "|8579071f-1c8b-4214-9a4d-096e6403bc52  |0x3113aa5ae86c522f3176829e  |新大陆中餐厅         |\n",
      "|31962471-ad3b-463d-ab36-d1b1ab041a36  |0x28c6168f44e09cacd82ecfe9  |顺峰海鲜酒家         |\n",
      "|f253d271-092d-4261-8703-a440cc149c39  |0xab306bea9de6a13426361153  |长安壹号           |\n",
      "|5e52e443-2c03-4ce2-a95d-992d7cb3f54e  |0x52000c48116d3a4667c3b607  |御宝轩            |\n",
      "|e45f3806-972c-4617-b4ab-f2cbfc449de1  |0x247dd8c03cab559125a63d1b  |店客店来           |\n",
      "|9abeadfa-ecac-42fb-9dd7-33377e2e5387  |0x9824bf4d4f7e12590f692148  |川办餐厅           |\n",
      "|c8938377-27a0-4f1f-9800-00c169729fd3  |0x4b65182989de9a3d13943b10  |南门火锅           |\n",
      "-------------------------------------------------------------------------------------\n",
      "\n"
     ]
    }
   ],
   "source": [
    "session.sql(datalake_data_analytics_sql).show()"
   ]
  },
  {
   "cell_type": "markdown",
   "id": "0f8da576-7cf0-4dc0-9321-f5fae79ac2db",
   "metadata": {},
   "source": [
    "## 测试将数据湖上文件再拉回到本地"
   ]
  },
  {
   "cell_type": "code",
   "execution_count": 16,
   "id": "e5b1a61a-e7d6-4e3d-939f-fe39c73ad02d",
   "metadata": {},
   "outputs": [
    {
     "data": {
      "text/plain": [
       "[GetResult(file='tmp/gz/lift_tickets_data.json.gz', size=11146044, status='DOWNLOADED', message='')]"
      ]
     },
     "execution_count": 16,
     "metadata": {},
     "output_type": "execute_result"
    }
   ],
   "source": [
    "session.file.get(\"volume://ingest_demo/gz/lift_tickets_data.json.gz\",\"tmp/gz/\")"
   ]
  },
  {
   "cell_type": "code",
   "execution_count": 49,
   "id": "c49080e1-5138-4dd5-a545-144fe24a5903",
   "metadata": {},
   "outputs": [],
   "source": [
    "session.close()"
   ]
  },
  {
   "cell_type": "code",
   "execution_count": null,
   "id": "13260eda-ffda-4054-ad2e-a97d0e3d8da2",
   "metadata": {},
   "outputs": [],
   "source": []
  }
 ],
 "metadata": {
  "kernelspec": {
   "display_name": "Python 3 (ipykernel)",
   "language": "python",
   "name": "python3"
  },
  "language_info": {
   "codemirror_mode": {
    "name": "ipython",
    "version": 3
   },
   "file_extension": ".py",
   "mimetype": "text/x-python",
   "name": "python",
   "nbconvert_exporter": "python",
   "pygments_lexer": "ipython3",
   "version": "3.11.9"
  }
 },
 "nbformat": 4,
 "nbformat_minor": 5
}
