{
 "cells": [
  {
   "cell_type": "code",
   "execution_count": 1,
   "id": "48245e9e",
   "metadata": {},
   "outputs": [],
   "source": [
    "#pip install faker"
   ]
  },
  {
   "cell_type": "code",
   "execution_count": 55,
   "id": "af6f3418",
   "metadata": {},
   "outputs": [],
   "source": [
    "from faker import Faker\n",
    "import csv\n",
    "import uuid\n",
    "import random\n",
    "from decimal import Decimal\n",
    "from datetime import datetime\n",
    "from clickzetta.zettapark.session import Session\n",
    "import json\n",
    "RECORD_COUNT = 10000\n",
    "fake = Faker()"
   ]
  },
  {
   "cell_type": "code",
   "execution_count": 56,
   "id": "c0c9e8b0",
   "metadata": {},
   "outputs": [
    {
     "name": "stdout",
     "output_type": "stream",
     "text": [
      "20250109180445\n"
     ]
    }
   ],
   "source": [
    "current_time = datetime.now().strftime(\"%Y%m%d%H%M%S\")\n",
    "print(current_time)"
   ]
  },
  {
   "cell_type": "code",
   "execution_count": 57,
   "id": "8ffdd033-d26e-4e9f-a60f-48174cf535bb",
   "metadata": {},
   "outputs": [],
   "source": [
    "file_path = f'FakeDataset/customer_{current_time}.csv'"
   ]
  },
  {
   "cell_type": "code",
   "execution_count": 58,
   "id": "c818719b",
   "metadata": {},
   "outputs": [],
   "source": [
    "def create_csv_file():\n",
    "    with open(file_path, 'w', newline='') as csvfile:\n",
    "        fieldnames = [\"customer_id\",\"first_name\",\"last_name\",\"email\",\"street\",\n",
    "                      \"city\",\"state\",\"country\"\n",
    "                     ]\n",
    "        writer = csv.DictWriter(csvfile, fieldnames=fieldnames)\n",
    "\n",
    "        writer.writeheader()\n",
    "        for i in range(RECORD_COUNT):\n",
    "            #print(i)\n",
    "            writer.writerow(\n",
    "                {\n",
    "                    \"customer_id\": str(uuid.uuid4()),\n",
    "                    'first_name': fake.first_name(),\n",
    "                    'last_name': fake.last_name(),\n",
    "                    'email': fake.email(),\n",
    "                    'street': fake.street_address(),\n",
    "                    'city': fake.city(),\n",
    "                    'state': fake.state(),\n",
    "                    'country': fake.country()\n",
    "                }\n",
    "            )"
   ]
  },
  {
   "cell_type": "code",
   "execution_count": 59,
   "id": "a2b04355-6b71-4e1b-9f1d-157ab3a98a8d",
   "metadata": {},
   "outputs": [],
   "source": [
    "def put_file_into_volume():\n",
    "    # 从配置文件中读取参数\n",
    "    with open('security/config-uat.json', 'r') as config_file:\n",
    "        config = json.load(config_file)\n",
    "    \n",
    "    # 创建会话\n",
    "    session = Session.builder.configs(config).create()\n",
    "    session.file.put(file_path,\"volume://scd_demo/\")\n",
    "    session.sql(\"show volume directory scd_demo\").show()\n",
    "    session.close()"
   ]
  },
  {
   "cell_type": "code",
   "execution_count": 60,
   "id": "334e911e",
   "metadata": {},
   "outputs": [
    {
     "name": "stdout",
     "output_type": "stream",
     "text": [
      "--------------------------------------------------------------------------------------------------------------------------\n",
      "|relative_path                |url                                                 |size     |last_modified_time         |\n",
      "--------------------------------------------------------------------------------------------------------------------------\n",
      "|customer_20250109180445.csv  |oss://czsampledatahz/scd_demo/customer_20250109...  |1323947  |2025-01-09 18:04:52+08:00  |\n",
      "--------------------------------------------------------------------------------------------------------------------------\n",
      "\n"
     ]
    }
   ],
   "source": [
    "if __name__ == '__main__':\n",
    "    create_csv_file()\n",
    "    put_file_into_volume()"
   ]
  },
  {
   "cell_type": "code",
   "execution_count": null,
   "id": "e3618cf3-1f73-4674-be61-6d4133ad722c",
   "metadata": {},
   "outputs": [],
   "source": []
  }
 ],
 "metadata": {
  "kernelspec": {
   "display_name": "Python 3 (ipykernel)",
   "language": "python",
   "name": "python3"
  },
  "language_info": {
   "codemirror_mode": {
    "name": "ipython",
    "version": 3
   },
   "file_extension": ".py",
   "mimetype": "text/x-python",
   "name": "python",
   "nbconvert_exporter": "python",
   "pygments_lexer": "ipython3",
   "version": "3.11.9"
  }
 },
 "nbformat": 4,
 "nbformat_minor": 5
}
