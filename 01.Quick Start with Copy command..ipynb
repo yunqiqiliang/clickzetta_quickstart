﻿{
  "metadata": {
    "name": "01.Quick Start with Copy command",
    "kernelspec": {
      "language": "scala",
      "name": "spark2-scala"
    },
    "language_info": {
      "codemirror_mode": "text/x-scala",
      "file_extension": ".scala",
      "mimetype": "text/x-scala",
      "name": "scala",
      "pygments_lexer": "scala"
    }
  },
  "nbformat": 4,
  "nbformat_minor": 2,
  "cells": [
    {
      "cell_type": "markdown",
      "metadata": {},
      "source": "## Welcome to ClickZetta Lakehouse.\n##### This is a live tutorial, you can run the code yourself. (Shift-Enter to Run)"
    },
    {
      "cell_type": "code",
      "execution_count": 1,
      "metadata": {
        "autoscroll": "auto"
      },
      "outputs": [],
      "source": "\n  ______  __       __    ______  __  ___  ________   _______ .___________..___________.    ___      \n /      ||  |     |  |  /      ||  |/  / |       /  |   ____||           ||           |   /   \\     \n|  ,----\u0027|  |     |  | |  ,----\u0027|  \u0027  /  `---/  /   |  |__   `---|  |----``---|  |----`  /  ^  \\    \n|  |     |  |     |  | |  |     |    \u003c      /  /    |   __|      |  |         |  |      /  /_\\  \\   \n|  `----.|  `----.|  | |  `----.|  .  \\    /  /----.|  |____     |  |         |  |     /  _____  \\  \n \\______||_______||__|  \\______||__|\\__\\  /________||_______|    |__|         |__|    /__/     \\__\\ \n                                                                                                    \n __           ___       __  ___  _______  __    __    ______    __    __       _______. _______     \n|  |         /   \\     |  |/  / |   ____||  |  |  |  /  __  \\  |  |  |  |     /       ||   ____|    \n|  |        /  ^  \\    |  \u0027  /  |  |__   |  |__|  | |  |  |  | |  |  |  |    |   (----`|  |__       \n|  |       /  /_\\  \\   |    \u003c   |   __|  |   __   | |  |  |  | |  |  |  |     \\   \\    |   __|      \n|  `----. /  _____  \\  |  .  \\  |  |____ |  |  |  | |  `--\u0027  | |  `--\u0027  | .----)   |   |  |____     \n|_______|/__/     \\__\\ |__|\\__\\ |_______||__|  |__|  \\______/   \\______/  |_______/    |_______|    "
    },
    {
      "cell_type": "code",
      "execution_count": 2,
      "metadata": {
        "autoscroll": "auto"
      },
      "outputs": [],
      "source": "CREATE SCHEMA IF NOT EXISTS lakehouse_demo_basic_features_schema;\nUSE SCHEMA lakehouse_demo_basic_features_schema;"
    },
    {
      "cell_type": "code",
      "execution_count": 3,
      "metadata": {
        "autoscroll": "auto"
      },
      "outputs": [],
      "source": "--创建表\nCREATE TABLE if not exists central_park_weather_observations (\n  station_id STRING,\n  station_name STRING,\n  date DATE,\n  precipitation DECIMAL,\n  snow_depth DECIMAL,\n  snowfall DECIMAL,\n  max_temperature DECIMAL,\n  min_temperature DECIMAL,\n  average_wind_speed DECIMAL\n);\n"
    },
    {
      "cell_type": "code",
      "execution_count": 4,
      "metadata": {
        "autoscroll": "auto"
      },
      "outputs": [],
      "source": "--加载数据\nset copy.csv.with.header\u003dfalse;\nset copy.csv.skip.header\u003dtrue;\ncopy central_park_weather_observations from \u0027/opt/data/central_park_weather.csv\u0027 ;"
    },
    {
      "cell_type": "code",
      "execution_count": 5,
      "metadata": {
        "autoscroll": "auto"
      },
      "outputs": [],
      "source": "INSERT INTO central_park_weather_observations (station_id, station_name, date, precipitation, snow_depth, snowfall, max_temperature, min_temperature, average_wind_speed) VALUES\n (\u0027USW00094728\u0027, \u0027NY CITY CENTRAL PARK, NY US\u0027, DATE \u00272009-01-01\u0027, 11, 0, 0, 0, 26, 15),\n (\u0027USW00094728\u0027, \u0027NY CITY CENTRAL PARK, NY US\u0027, DATE \u00272009-01-02\u0027, 6, 0, 0, 0, 34, 23),\n (\u0027USW00094728\u0027, \u0027NY CITY CENTRAL PARK, NY US\u0027, DATE \u00272009-01-03\u0027, 10, 0, 0, 0, 38, 29),\n (\u0027USW00094728\u0027, \u0027NY CITY CENTRAL PARK, NY US\u0027, DATE \u00272009-01-04\u0027, 8, 0, 0, 0, 42, 25),\n (\u0027USW00094728\u0027, \u0027NY CITY CENTRAL PARK, NY US\u0027, DATE \u00272009-01-05\u0027, 7, 0, 0, 0, 43, 38),\n (\u0027USW00094728\u0027, \u0027NY CITY CENTRAL PARK, NY US\u0027, DATE \u00272009-01-06\u0027, 7, 0, 0, 0, 38, 31),\n (\u0027USW00094728\u0027, \u0027NY CITY CENTRAL PARK, NY US\u0027, DATE \u00272009-01-07\u0027, 11, 1, 0, 0, 38, 31),\n (\u0027USW00094728\u0027, \u0027NY CITY CENTRAL PARK, NY US\u0027, DATE \u00272009-01-08\u0027, 11, 0, 0, 0, 38, 29),\n (\u0027USW00094728\u0027, \u0027NY CITY CENTRAL PARK, NY US\u0027, DATE \u00272009-01-09\u0027, 10, 0, 0, 0, 32, 26),\n (\u0027USW00094728\u0027, \u0027NY CITY CENTRAL PARK, NY US\u0027, DATE \u00272009-01-10\u0027, 7, 0, 1, 0, 30, 23);\n\n"
    },
    {
      "cell_type": "code",
      "execution_count": 6,
      "metadata": {
        "autoscroll": "auto"
      },
      "outputs": [],
      "source": "select count(1) from central_park_weather_observations;"
    },
    {
      "cell_type": "code",
      "execution_count": 7,
      "metadata": {
        "autoscroll": "auto"
      },
      "outputs": [],
      "source": "SELECT * FROM central_park_weather_observations LIMIT 10;"
    },
    {
      "cell_type": "code",
      "execution_count": 8,
      "metadata": {
        "autoscroll": "auto"
      },
      "outputs": [],
      "source": "SELECT date, sum(precipitation) FROM central_park_weather_observations\nGROUP BY date\nORDER BY date;"
    },
    {
      "cell_type": "code",
      "execution_count": 9,
      "metadata": {
        "autoscroll": "auto"
      },
      "outputs": [],
      "source": "DROP TABLE IF EXISTS central_park_weather_observations;\nDROP SCHEMA IF EXISTS lakehouse_demo_basic_features_schema;\n"
    },
    {
      "cell_type": "markdown",
      "metadata": {},
      "source": "## Congratulations, it\u0027s done.\n##### Please enojoy and learn more!"
    }
  ]
}