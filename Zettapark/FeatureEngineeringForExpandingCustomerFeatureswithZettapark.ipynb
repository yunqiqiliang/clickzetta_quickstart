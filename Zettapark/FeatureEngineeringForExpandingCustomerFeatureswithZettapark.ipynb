{
 "cells": [
  {
   "cell_type": "markdown",
   "id": "706c5f5d-c710-4d9b-b7f9-9d045b786612",
   "metadata": {},
   "source": [
    "# Feature Engineering For Expanding Customer Features with Zettapark"
   ]
  },
  {
   "cell_type": "markdown",
   "id": "cf3f65d4-e0fc-4da6-9758-04a7d38120e0",
   "metadata": {},
   "source": [
    "## Overview\n",
    "\n",
    "This is an tutorial of feature engineering code using the TPCH tables with Zettapark. In this tutorial, we illustrate how to build derived (aggregated and transformed) features that could support several machine learning tasks. (For instance, you could build:\n",
    "\n",
    "**Customer Segmentation / Churn Prediction:**\n",
    "\n",
    "- Feature data: Total spending per customer, number of orders, average order amount, customer demographics (e.g., market segment, account balance), and geographic information (nation/region).\n",
    "\n",
    "- Methods: Aggregation on orders and enrichment via joins with the customer, nation, and region tables.\n",
    "\n",
    "**Sales Forecasting:**\n",
    "\n",
    "- Feature data: Time-based measures like total and average sales, order frequency, and trends per customer or region.\n",
    "\n",
    "- Methods: Aggregations over orders and lineitem details.\n",
    "\n",
    "**Supplier Performance / Product Sales Analysis:**\n",
    "\n",
    "- Feature data: For suppliers—total available quantity, total and average supply cost; for products—sales amount and frequency, possibly with categorical transformation (using CASE WHEN on product type).\n",
    "\n",
    "- Methods: Grouping and aggregating partsupp, lineitem, and part tables, with CASE WHEN conversions for domain-specific categories."
   ]
  },
  {
   "cell_type": "code",
   "execution_count": 1,
   "id": "6e749b79-c770-4f8c-88a0-c3f66ddd7302",
   "metadata": {},
   "outputs": [],
   "source": [
    "# !pip install clickzetta_zettapark_python  -U -i https://pypi.tuna.tsinghua.edu.cn/simple"
   ]
  },
  {
   "cell_type": "markdown",
   "id": "a4e9f7e4-69ba-4614-a132-b003daf5867d",
   "metadata": {},
   "source": [
    "## Environment Setup"
   ]
  },
  {
   "cell_type": "code",
   "execution_count": 2,
   "id": "9ea55951-9c99-4660-a10b-5cefab2fd4f9",
   "metadata": {},
   "outputs": [],
   "source": [
    "from clickzetta.zettapark.session import Session\n",
    "import json"
   ]
  },
  {
   "cell_type": "code",
   "execution_count": 4,
   "id": "e22c2792-3945-4f92-9c47-7b5d1c6ba789",
   "metadata": {},
   "outputs": [],
   "source": [
    "import warnings\n",
    "\n",
    "warnings.filterwarnings(\"ignore\", category=FutureWarning)\n",
    "\n",
    "import pandas as pd"
   ]
  },
  {
   "cell_type": "markdown",
   "id": "189ced95-c59f-45d8-a145-21f4280a057f",
   "metadata": {},
   "source": [
    "**Target Variable: Total Sales**\n",
    "\n",
    "Aggregate total sales across all channels (store, web, catalog) for each customer. This can serve as a **regression target** or be binned for classification tasks."
   ]
  },
  {
   "cell_type": "code",
   "execution_count": 5,
   "id": "98dd5058-24c9-4777-ae1a-195da8da32c6",
   "metadata": {},
   "outputs": [
    {
     "name": "stdout",
     "output_type": "stream",
     "text": [
      "Connecting to Lakehouse.....\n",
      "\n",
      "Connected and context as below...\n",
      "\n"
     ]
    }
   ],
   "source": [
    "import json\n",
    "\n",
    "# 从配置文件中读取参数\n",
    "with open('config.json', 'r') as config_file:\n",
    "    config = json.load(config_file)\n",
    "\n",
    "print(\"Connecting to Lakehouse.....\\n\")\n",
    "\n",
    "# 创建会话\n",
    "session = Session.builder.configs(config).create()\n",
    "\n",
    "print(\"Connected and context as below...\\n\")\n",
    "\n",
    "# print(session.sql(\"SELECT current_instance_id(), current_workspace(),current_workspace_id(), current_schema(), current_user(),current_user_id(), current_vcluster()\").collect())"
   ]
  },
  {
   "cell_type": "code",
   "execution_count": 6,
   "id": "0b2d7e0c-9e7e-4d5c-8dc4-382bc3826387",
   "metadata": {},
   "outputs": [],
   "source": [
    "TPCH_SIZE_PARAM = 10\n",
    "CLICKZETTA_SAMPLE_DB = 'clickzetta_sample_data' # Name of Sample Database might be different...\n",
    "\n",
    "TPCH_SCHEMA = 'tpch_100g'\n",
    "\n",
    "    \n",
    "customer = session.table(f'{CLICKZETTA_SAMPLE_DB}.{TPCH_SCHEMA}.customer') \n",
    "lineitem = session.table(f'{CLICKZETTA_SAMPLE_DB}.{TPCH_SCHEMA}.lineitem')  \n",
    "nation = session.table(f'{CLICKZETTA_SAMPLE_DB}.{TPCH_SCHEMA}.nation')  \n",
    "orders = session.table(f'{CLICKZETTA_SAMPLE_DB}.{TPCH_SCHEMA}.orders') \n",
    "part = session.table(f'{CLICKZETTA_SAMPLE_DB}.{TPCH_SCHEMA}.part')  \n",
    "partsupp = session.table(f'{CLICKZETTA_SAMPLE_DB}.{TPCH_SCHEMA}.partsupp') \n",
    "region = session.table(f'{CLICKZETTA_SAMPLE_DB}.{TPCH_SCHEMA}.region')  \n",
    "supplier = session.table(f'{CLICKZETTA_SAMPLE_DB}.{TPCH_SCHEMA}.supplier')  "
   ]
  },
  {
   "cell_type": "markdown",
   "id": "41869ade-b212-449d-9e4a-6b4b46cf2eda",
   "metadata": {},
   "source": [
    "## Feature Engineering"
   ]
  },
  {
   "cell_type": "code",
   "execution_count": 7,
   "id": "001e900d-9042-45dc-b400-1bdd616e92c9",
   "metadata": {},
   "outputs": [],
   "source": [
    "from clickzetta.zettapark.functions import col, when, sum as F_sum, count as F_count, avg as F_avg\n",
    "from decimal import Decimal"
   ]
  },
  {
   "cell_type": "markdown",
   "id": "2cb0a9d0-610f-4e11-85de-7da865622580",
   "metadata": {},
   "source": [
    "### 1. Customer Sales Aggregation**  \n",
    "- **Functionality:**  \n",
    "  This code groups the orders table by customer key and aggregates key metrics—such as total sales (sum of order totals), order count, and average order value—per customer. These aggregated metrics are then renamed and joined with the customer table, integrating customer personal details (name, address, account balance, etc.) with their purchasing behavior.\n",
    "  \n",
    "- **Goal:**  \n",
    "  To construct a customer-level sales metrics dataset that can be used for further analyses or predictive modeling tasks such as customer segmentation or churn prediction."
   ]
  },
  {
   "cell_type": "code",
   "execution_count": 8,
   "id": "7f86463d-4dfe-4ab0-bad2-73853e7c1088",
   "metadata": {},
   "outputs": [
    {
     "name": "stdout",
     "output_type": "stream",
     "text": [
      "----------------------------------------------------------------------------------------------------------------------------------------------------------------------------------------\n",
      "|customer_sk  |c_name              |c_address                                 |c_phone          |c_acctbal  |c_mktsegment  |total_sales  |order_count  |avg_order_value  |c_nationkey  |\n",
      "----------------------------------------------------------------------------------------------------------------------------------------------------------------------------------------\n",
      "|467          |Customer#000000467  |amwRkh0nDQ6r6MU                           |21-449-581-5158  |9398.51    |MACHINERY     |1701866.04   |12           |141822.170000    |11           |\n",
      "|521          |Customer#000000521  |MUEAEA1ZuvRofNY453Ckr4Apqk1GlOe           |12-539-480-8897  |5830.69    |MACHINERY     |1569375.53   |8            |196171.941250    |2            |\n",
      "|475          |Customer#000000475  |JJMbj6myLUzMlbUmg63hNtFv4pWL8nq           |24-485-422-9361  |9043.55    |BUILDING      |2323455.22   |20           |116172.761000    |14           |\n",
      "|511          |Customer#000000511  |lQC9KfW W77IYtJjAgSZguNzxjY rYk3t6lcxfSh  |23-247-728-9743  |4571.31    |FURNITURE     |2581114.42   |16           |161319.651250    |13           |\n",
      "|130          |Customer#000000130  |RKPx2OfZy0Vn 8wGWZ7F2EAvmMORl1k8iH        |19-190-993-9281  |5073.58    |HOUSEHOLD     |3100496.60   |22           |140931.663636    |9            |\n",
      "|542          |Customer#000000542  |XU2ffxnW3TQasrfF0u2KwKWmMarPyY4q7Q        |26-674-545-2517  |3109.96    |BUILDING      |2042094.45   |10           |204209.445000    |16           |\n",
      "|270          |Customer#000000270  |,rdHVwNKXKAgREU                           |17-241-806-3530  |9192.50    |AUTOMOBILE    |0.00         |0            |0.000000         |7            |\n",
      "|345          |Customer#000000345  |dGFK ICPKxnsAzlX4UYOUf,n200yyEWhIeG       |19-209-576-4513  |1936.77    |AUTOMOBILE    |0.00         |0            |0.000000         |9            |\n",
      "|348          |Customer#000000348  |ciP7BWkhOe1IbbVGlqJePBI6ZwqENkS           |23-986-141-5327  |3310.49    |HOUSEHOLD     |0.00         |0            |0.000000         |13           |\n",
      "|534          |Customer#000000534  |3PI4ZATXq8yaHFt,sZOQccGl  Fc1TA3Y 2       |11-137-389-2888  |6520.97    |AUTOMOBILE    |0.00         |0            |0.000000         |1            |\n",
      "----------------------------------------------------------------------------------------------------------------------------------------------------------------------------------------\n",
      "\n"
     ]
    }
   ],
   "source": [
    "# -----------------------------------------\n",
    "# 1. Customer Sales Aggregation (from orders)\n",
    "# -----------------------------------------\n",
    "customer_sales_agg = orders.groupBy(\"O_CUSTKEY\") \\\n",
    "    .agg(\n",
    "        F_sum(\"O_TOTALPRICE\").alias(\"total_sales\"),\n",
    "        F_count(\"O_ORDERKEY\").alias(\"order_count\"),\n",
    "        F_avg(\"O_TOTALPRICE\").alias(\"avg_order_value\")\n",
    "    ) \\\n",
    "    .withColumnRenamed(\"O_CUSTKEY\", \"customer_sk\")\n",
    "\n",
    "# Join the aggregated sales with customer details\n",
    "customer_features = customer.join(\n",
    "    customer_sales_agg,\n",
    "    customer[\"C_CUSTKEY\"] == customer_sales_agg[\"customer_sk\"],\n",
    "    \"left\"\n",
    ").select(\n",
    "    customer[\"C_CUSTKEY\"].alias(\"customer_sk\"),\n",
    "    customer[\"C_NAME\"],\n",
    "    customer[\"C_ADDRESS\"],\n",
    "    customer[\"C_PHONE\"],\n",
    "    customer[\"C_ACCTBAL\"],\n",
    "    customer[\"C_MKTSEGMENT\"],\n",
    "    customer_sales_agg[\"total_sales\"],\n",
    "    customer_sales_agg[\"order_count\"],\n",
    "    customer_sales_agg[\"avg_order_value\"],\n",
    "    customer[\"C_NATIONKEY\"]\n",
    ")\n",
    "\n",
    "customer_features = customer_features.na.fill({\n",
    "    \"C_NAME\": \"\",                        # String column: empty string\n",
    "    \"C_ADDRESS\": \"\",                     # String column: empty string\n",
    "    \"C_PHONE\": \"\",                       # String column: empty string\n",
    "    \"C_ACCTBAL\": Decimal(\"0.00\"),         # Decimal(15,2) value\n",
    "    \"C_MKTSEGMENT\": \"\",                  # String column: empty string\n",
    "    \"total_sales\": Decimal(\"0.00\"),       # Decimal(25, 2) value\n",
    "    \"avg_order_value\": Decimal(\"0.000000\"), # Decimal(19,6) value\n",
    "    \"order_count\": 0                     # Integer is fine\n",
    "})\n",
    "\n",
    "\n",
    "# Show the resulting DataFrame (or continue with further feature engineering)\n",
    "customer_features.show()"
   ]
  },
  {
   "cell_type": "markdown",
   "id": "e205ede4-6aaf-4df7-bab7-a5f669e8502a",
   "metadata": {},
   "source": [
    "### 2. Geography Features Extraction**  \n",
    "- **Functionality:**  \n",
    "  This code enriches customer data with geographic information by joining customer features (which include a nation key) with the nation table and then further joining with the region table. This process extracts attributes like nation name and region name for each customer.\n",
    "  \n",
    "- **Goal:**  \n",
    "  To add a geographic dimension to the customer dataset, enabling regional performance analysis and supporting models that might use geographic data (e.g., for market segmentation or location-based trend analysis)."
   ]
  },
  {
   "cell_type": "code",
   "execution_count": 9,
   "id": "c780442c-27f5-46e6-b78e-e97104571a01",
   "metadata": {},
   "outputs": [],
   "source": [
    "# -----------------------------------------\n",
    "# 2. Geography Features (using nation and region)\n",
    "# -----------------------------------------\n",
    "customer_geo = customer_features.join(\n",
    "    nation,\n",
    "    customer_features[\"C_NATIONKEY\"] == nation[\"N_NATIONKEY\"],\n",
    "    \"left\"\n",
    ").join(\n",
    "    region,\n",
    "    nation[\"N_REGIONKEY\"] == region[\"R_REGIONKEY\"],\n",
    "    \"left\"\n",
    ").select(\n",
    "    customer_features[\"customer_sk\"],\n",
    "    nation[\"N_NAME\"].alias(\"nation_name\"),\n",
    "    region[\"R_NAME\"].alias(\"region_name\"),\n",
    "    customer_features[\"C_ACCTBAL\"]\n",
    ")\n",
    "\n",
    "# Optionally, aggregate region-level metrics\n",
    "region_agg = customer_geo.groupBy(\"region_name\") \\\n",
    "    .agg(\n",
    "        F_count(\"customer_sk\").alias(\"num_customers\"),\n",
    "        F_avg(\"C_ACCTBAL\").alias(\"avg_acctbal\")\n",
    "    )"
   ]
  },
  {
   "cell_type": "markdown",
   "id": "c431e79f-b757-4df5-8303-5f4d92f43b75",
   "metadata": {},
   "source": [
    "### 3. Product Sales Features**  \n",
    "- **Functionality:**  \n",
    "  The code aggregates sales data from the lineitem table by grouping records based on the product key. It calculates the total extended price, average extended price, and order count for each product. It then joins these results with the part table and applies conditional logic (CASE WHEN via the `when` function) to convert the product type into a numeric code.\n",
    "  \n",
    "- **Goal:**  \n",
    "  To generate product-level features that encapsulate key sales metrics and to numerically encode product types. These features can be used for product performance analysis, demand forecasting, or integration into recommendation systems."
   ]
  },
  {
   "cell_type": "code",
   "execution_count": 11,
   "id": "185a0075-9883-4ffb-8a48-8e400225b163",
   "metadata": {},
   "outputs": [
    {
     "name": "stdout",
     "output_type": "stream",
     "text": [
      "--------------------------------------------------------------------------------------------------------------------------------\n",
      "|part_sk  |p_name                                |product_type_code  |total_extended_price  |avg_extended_price  |order_count  |\n",
      "--------------------------------------------------------------------------------------------------------------------------------\n",
      "|270      |mint deep white navajo floral         |3                  |802805.22             |30877.123846        |26           |\n",
      "|130      |gainsboro powder cyan pale rosy       |0                  |792169.97             |25553.870000        |31           |\n",
      "|467      |cornflower lime midnight plum forest  |2                  |1245756.06            |32783.054211        |38           |\n",
      "|348      |blush navajo peru chartreuse dim      |0                  |1016148.76            |33871.625333        |30           |\n",
      "|475      |coral peru forest thistle khaki       |2                  |1174651.38            |35595.496364        |33           |\n",
      "|511      |red pale plum orchid moccasin         |2                  |693051.41             |31502.336818        |22           |\n",
      "|542      |light lace gainsboro coral lavender   |0                  |1103543.10            |38053.210345        |29           |\n",
      "|521      |grey drab honeydew coral pale         |3                  |1317749.04            |38757.324706        |34           |\n",
      "|345      |cyan frosted spring orange puff       |1                  |828151.10             |29576.825000        |28           |\n",
      "|534      |bisque saddle hot steel frosted       |2                  |1326940.25            |41466.882813        |32           |\n",
      "--------------------------------------------------------------------------------------------------------------------------------\n",
      "\n"
     ]
    }
   ],
   "source": [
    "# -----------------------------------------\n",
    "# 3. Product Sales Features (from lineitem and part)\n",
    "# -----------------------------------------\n",
    "product_sales = lineitem.groupBy(\"L_PARTKEY\") \\\n",
    "    .agg(\n",
    "        F_sum(\"L_EXTENDEDPRICE\").alias(\"total_extended_price\"),\n",
    "        F_avg(\"L_EXTENDEDPRICE\").alias(\"avg_extended_price\"),\n",
    "        F_count(\"L_ORDERKEY\").alias(\"order_count\")\n",
    "    ) \\\n",
    "    .withColumnRenamed(\"L_PARTKEY\", \"part_sk\")\n",
    "\n",
    "# Join with part table and transform product types using CASE WHEN\n",
    "product_features = part.join(\n",
    "    product_sales,\n",
    "    part[\"P_PARTKEY\"] == product_sales[\"part_sk\"],\n",
    "    \"left\"\n",
    ").select(\n",
    "    part[\"P_PARTKEY\"].alias(\"part_sk\"),\n",
    "    part[\"P_NAME\"],\n",
    "    when(col(\"P_TYPE\").like(\"%ECONOMY%\"), 1)\n",
    "      .when(col(\"P_TYPE\").like(\"%STANDARD%\"), 2)\n",
    "      .when(col(\"P_TYPE\").like(\"%PROMO%\"), 3)\n",
    "      .otherwise(0).alias(\"product_type_code\"),\n",
    "    product_sales[\"total_extended_price\"],\n",
    "    product_sales[\"avg_extended_price\"],\n",
    "    product_sales[\"order_count\"]\n",
    ")\n",
    "\n",
    "# Replace nulls with type-appropriate values:\n",
    "product_features = product_features.na.fill({\n",
    "    \"P_NAME\": \"\",                       # For string column, use empty string.\n",
    "    \"total_extended_price\": Decimal(\"0.00\"),  # For DecimalType(25,2), use a Decimal with matching precision.\n",
    "    \"avg_extended_price\": Decimal(\"0.000000\"),  # For DecimalType(19,6)\n",
    "    \"product_type_code\": 0,               # Integer\n",
    "    \"order_count\": 0                      # Integer\n",
    "})\n",
    "\n",
    "# For example, display the result\n",
    "product_features.show()"
   ]
  },
  {
   "cell_type": "markdown",
   "id": "260f213b-27b5-48b5-b105-ef0db4db84f8",
   "metadata": {},
   "source": [
    "### 4. Supplier Features\n",
    "\n",
    "- **Functionality:** This segment first aggregates supplier-related data from the partsupp table by supplier key, computing metrics such as total available quantity, total supply cost, and average supply cost. It then joins these aggregated values with the supplier table to enrich the data with supplier details (name, address, phone). Note that special attention is given to handling null values using type-appropriate defaults.\n",
    "\n",
    "- **Goal:** To build a comprehensive dataset of supplier features that reflects both operational metrics (from partsupp) and supplier identity (from the supplier table). This dataset supports downstream tasks such as supplier performance evaluation, risk assessment, and supplier classification."
   ]
  },
  {
   "cell_type": "code",
   "execution_count": 12,
   "id": "f99744f3-823a-4067-a618-ff90071001e2",
   "metadata": {},
   "outputs": [
    {
     "name": "stdout",
     "output_type": "stream",
     "text": [
      "-----------------------------------------------------------------------------------------------------------------------------------------------\n",
      "|supplier_sk  |s_name              |s_address                       |s_phone          |total_avail_qty  |total_supply_cost  |avg_supply_cost  |\n",
      "-----------------------------------------------------------------------------------------------------------------------------------------------\n",
      "|424          |Supplier#000000424  |uOdFKME6fSAI,rvLcpTL            |32-406-948-7901  |440916           |41351.84           |516.898000       |\n",
      "|423          |Supplier#000000423  |VCgMjClu4IDaVVMwMW0ARf1ho       |34-577-174-3894  |385330           |39224.80           |490.310000       |\n",
      "|227          |Supplier#000000227  |Qo959Dll Bd7xvfq3ELtCq          |14-215-994-7949  |401470           |40601.39           |507.517375       |\n",
      "|89           |Supplier#000000089  |fhtzZcSorhud1                   |19-259-876-1014  |403308           |38926.56           |486.582000       |\n",
      "|441          |Supplier#000000441  |fvmSClCxNTIEspspva              |24-252-393-5381  |404656           |39053.50           |488.168750       |\n",
      "|421          |Supplier#000000421  |tXZPR dOYjjbGjarXxKPn,1         |18-360-757-8604  |397487           |41888.22           |523.602750       |\n",
      "|192          |Supplier#000000192  |Tub1t4UlJwZ5U                   |25-585-189-5975  |387833           |38340.94           |479.261750       |\n",
      "|425          |Supplier#000000425  |a KnEGf,bqEnGd2Wd9Tl            |10-262-132-6639  |421867           |37923.27           |474.040875       |\n",
      "|115          |Supplier#000000115  |nJ 2t0f7Ve,wL1,6WzGBJLNBUCKlsV  |33-597-248-1220  |375955           |37680.53           |471.006625       |\n",
      "|144          |Supplier#000000144  |f8tddEKps816HHqNwsKdn3          |30-726-423-7363  |392087           |38941.69           |486.771125       |\n",
      "-----------------------------------------------------------------------------------------------------------------------------------------------\n",
      "\n"
     ]
    }
   ],
   "source": [
    "# -----------------------------------------\n",
    "# 4. Supplier Features (from partsupp and supplier)\n",
    "# -----------------------------------------\n",
    "supplier_metrics = partsupp.groupBy(\"PS_SUPPKEY\") \\\n",
    "    .agg(\n",
    "        F_sum(\"PS_AVAILQTY\").alias(\"total_avail_qty\"),\n",
    "        F_sum(\"PS_SUPPLYCOST\").alias(\"total_supply_cost\"),\n",
    "        F_avg(\"PS_SUPPLYCOST\").alias(\"avg_supply_cost\")\n",
    "    ) \\\n",
    "    .withColumnRenamed(\"PS_SUPPKEY\", \"supplier_sk\")\n",
    "    \n",
    "supplier_features = supplier.join(\n",
    "    supplier_metrics,\n",
    "    supplier[\"S_SUPPKEY\"] == supplier_metrics[\"supplier_sk\"],\n",
    "    \"left\"\n",
    ").select(\n",
    "    supplier[\"S_SUPPKEY\"].alias(\"supplier_sk\"),\n",
    "    supplier[\"S_NAME\"],\n",
    "    supplier[\"S_ADDRESS\"],\n",
    "    supplier[\"S_PHONE\"],\n",
    "    supplier_metrics[\"total_avail_qty\"],\n",
    "    supplier_metrics[\"total_supply_cost\"],\n",
    "    supplier_metrics[\"avg_supply_cost\"]\n",
    ")\n",
    "\n",
    "# Use a dictionary in .na.fill() to specify default values with matching data types.\n",
    "supplier_features = supplier_features.na.fill({\n",
    "    \"S_NAME\": \"\",                          # String column: use an empty string.\n",
    "    \"S_ADDRESS\": \"\",                       # String column: use an empty string.\n",
    "    \"S_PHONE\": \"\",                         # String column: use an empty string.\n",
    "    \"total_supply_cost\": Decimal(\"0.00\"),   # DecimalType(25, 2): use a Decimal with proper scale.\n",
    "    \"avg_supply_cost\": Decimal(\"0.000000\"), # DecimalType(19, 6): use a Decimal with proper scale.\n",
    "    # \"total_avail_qty\" can remain the same if it is integer type.\n",
    "})\n",
    "\n",
    "# Optionally, show the resulting DataFrame\n",
    "supplier_features.show()\n"
   ]
  },
  {
   "cell_type": "markdown",
   "id": "f42a81e4-fd29-40e8-bcdf-53164550c6c8",
   "metadata": {},
   "source": [
    "### 5. Combining Customer Features for a Machine Learning Dataset\n",
    "\n",
    "- **Functionality:** This code merges the customer sales features with the geographic features using the customer key as the join criterion. It also applies a transformation to the customer market segment field, using a series of CASE WHEN conditions to convert categorical market segmentation into a numeric code.\n",
    "\n",
    "- **Goal:** To create an integrated, multi-dimensional feature dataset that combines purchasing behavior, account information, and geographic as well as market segment data. This enriched dataset is intended for machine learning tasks such as customer segmentation, predicting customer churn, or credit risk modeling."
   ]
  },
  {
   "cell_type": "code",
   "execution_count": 13,
   "id": "8e61c1d6-8979-4ac8-b520-46ba0a225d1f",
   "metadata": {},
   "outputs": [
    {
     "name": "stdout",
     "output_type": "stream",
     "text": [
      "------------------------------------------------------------------------------------------------------------------------------\n",
      "|customer_sk  |c_total_sales  |c_order_count  |c_avg_order_value  |nation_name  |region_name  |c_acctbal  |mkt_segment_code  |\n",
      "------------------------------------------------------------------------------------------------------------------------------\n",
      "|475          |2323455.22     |20             |116172.761000      |KENYA        |AFRICA       |9043.55    |2                 |\n",
      "|467          |1701866.04     |12             |141822.170000      |IRAQ         |MIDDLE EAST  |9398.51    |4                 |\n",
      "|511          |2581114.42     |16             |161319.651250      |JORDAN       |MIDDLE EAST  |4571.31    |3                 |\n",
      "|521          |1569375.53     |8              |196171.941250      |BRAZIL       |AMERICA      |5830.69    |4                 |\n",
      "|542          |2042094.45     |10             |204209.445000      |MOZAMBIQUE   |AFRICA       |3109.96    |2                 |\n",
      "|130          |3100496.60     |22             |140931.663636      |INDONESIA    |ASIA         |5073.58    |0                 |\n",
      "|270          |0.00           |0              |0.000000           |GERMANY      |EUROPE       |9192.50    |1                 |\n",
      "|345          |0.00           |0              |0.000000           |INDONESIA    |ASIA         |1936.77    |1                 |\n",
      "|348          |0.00           |0              |0.000000           |JORDAN       |MIDDLE EAST  |3310.49    |0                 |\n",
      "|534          |0.00           |0              |0.000000           |ARGENTINA    |AMERICA      |6520.97    |1                 |\n",
      "------------------------------------------------------------------------------------------------------------------------------\n",
      "\n"
     ]
    }
   ],
   "source": [
    "# -----------------------------------------\n",
    "# 5. Combine Customer Features for a Machine Learning Dataset\n",
    "# -----------------------------------------\n",
    "# As an example, we combine customer sales and geographic features;\n",
    "# additional transformations (e.g., converting market segment into a numeric code) can be performed using CASE WHEN.\n",
    "\n",
    "# Explicitly rename customer_features columns to add a prefix\n",
    "customer_features_prefixed = customer_features.select(\n",
    "    col(\"customer_sk\").alias(\"c_customer_sk\"),\n",
    "    col(\"total_sales\").alias(\"c_total_sales\"),\n",
    "    col(\"order_count\").alias(\"c_order_count\"),\n",
    "    col(\"avg_order_value\").alias(\"c_avg_order_value\"),\n",
    "    col(\"C_ACCTBAL\").alias(\"c_acctbal\"),\n",
    "    col(\"C_MKTSEGMENT\").alias(\"c_mktsegment\")\n",
    ")\n",
    "\n",
    "# Similarly, ensure customer_geo has a unique prefix\n",
    "customer_geo_prefixed = customer_geo.select(\n",
    "    col(\"customer_sk\").alias(\"g_customer_sk\"),\n",
    "    col(\"nation_name\").alias(\"g_nation_name\"),\n",
    "    col(\"region_name\").alias(\"g_region_name\")\n",
    ")\n",
    "\n",
    "customer_ml_features = customer_features_prefixed.join(\n",
    "    customer_geo_prefixed,\n",
    "    customer_features_prefixed[\"c_customer_sk\"] == customer_geo_prefixed[\"g_customer_sk\"],\n",
    "    \"left\"\n",
    ").select(\n",
    "    customer_features_prefixed[\"c_customer_sk\"].alias(\"customer_sk\"),\n",
    "    customer_features_prefixed[\"c_total_sales\"],\n",
    "    customer_features_prefixed[\"c_order_count\"],\n",
    "    customer_features_prefixed[\"c_avg_order_value\"],\n",
    "    customer_geo_prefixed[\"g_nation_name\"].alias(\"nation_name\"),\n",
    "    customer_geo_prefixed[\"g_region_name\"].alias(\"region_name\"),\n",
    "    customer_features_prefixed[\"c_acctbal\"],\n",
    "    when(customer_features_prefixed[\"c_mktsegment\"] == \"AUTOMOBILE\", 1)\n",
    "      .when(customer_features_prefixed[\"c_mktsegment\"] == \"BUILDING\", 2)\n",
    "      .when(customer_features_prefixed[\"c_mktsegment\"] == \"FURNITURE\", 3)\n",
    "      .when(customer_features_prefixed[\"c_mktsegment\"] == \"MACHINERY\", 4)\n",
    "      .otherwise(0).alias(\"mkt_segment_code\")\n",
    ")\n",
    "\n",
    "customer_ml_features.show()"
   ]
  },
  {
   "cell_type": "markdown",
   "id": "6c9ccdec-08f8-4f0f-8f67-f85f4eebd706",
   "metadata": {},
   "source": [
    "## Feature Store"
   ]
  },
  {
   "cell_type": "code",
   "execution_count": 14,
   "id": "e0387e1d-ba29-4403-bb4e-671d2c04f8f6",
   "metadata": {},
   "outputs": [],
   "source": [
    "customer_ml_features.write.mode('overwrite').save_as_table('customer_ml_features')"
   ]
  },
  {
   "cell_type": "code",
   "execution_count": 16,
   "id": "c49080e1-5138-4dd5-a545-144fe24a5903",
   "metadata": {},
   "outputs": [],
   "source": [
    "session.close()"
   ]
  },
  {
   "cell_type": "markdown",
   "id": "848270a8-9ffd-45dd-9e8f-9eab757c1e05",
   "metadata": {},
   "source": [
    "## Summary and Analysis\n",
    "### Machine Learning Scenarios and Data Needs\n",
    "\n",
    "* **Customer Segmentation / Churn Prediction:** You need per-customer features (total spend, order frequency, average order value, account balance, and encoded market segment) combined with geographic details (nation/region).\n",
    "\n",
    "* **Sales Forecasting:** The time dimension (order dates from orders/lineitem) may be incorporated later along with the aggregated sales figures to forecast future sales.\n",
    "\n",
    "* **Supplier Performance Analysis / Product Sales Prognosis:** By calculating aggregate supplier metrics (using partsupp and supplier tables) and product performance (from lineitem and part), you can build models to predict supplier reliability or assess product sales potentials.\n",
    "\n",
    "### Feature Engineering Details\n",
    "\n",
    "* **Aggregation:** Use groupBy and aggregation functions (sum, count, avg) to compute metrics (total sales, order count, etc.) from transactional tables.\n",
    "\n",
    "* **Enrichment and Joins:** Integrate relational information (join customer with nation and region, join partsupp with supplier) to attach demographic or geographic details.\n",
    "\n",
    "* **Transformation (CASE WHEN):** Use the when function to perform conditional transformations such as encoding product types or market segments into numeric codes. This is crucial when machine learning models require numerical inputs.\n",
    "\n",
    "* **Data Cleaning:** Apply na.fill(0) or other imputation methods to handle missing values, ensuring a robust machine learning dataset.\n",
    "\n",
    "This code provides a starting point. Depending on the specific machine learning scenario, you may later add time-based window functions, more granular feature splits, or domain-specific transformations. Enjoy exploring these features and building your models!"
   ]
  }
 ],
 "metadata": {
  "kernelspec": {
   "display_name": "Python 3 (ipykernel)",
   "language": "python",
   "name": "python3"
  },
  "language_info": {
   "codemirror_mode": {
    "name": "ipython",
    "version": 3
   },
   "file_extension": ".py",
   "mimetype": "text/x-python",
   "name": "python",
   "nbconvert_exporter": "python",
   "pygments_lexer": "ipython3",
   "version": "3.11.9"
  }
 },
 "nbformat": 4,
 "nbformat_minor": 5
}
