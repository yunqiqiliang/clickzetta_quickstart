{
 "cells": [
  {
   "cell_type": "markdown",
   "id": "uNB1tW_F4WYk",
   "metadata": {
    "id": "uNB1tW_F4WYk"
   },
   "source": [
    "### Load env variables\n",
    "\n",
    "In this example we're loading the environment variables with all the secrets from a file in Localfile. The .evn file includes the following variables:\n",
    "\n",
    "cz_username: Username for connecting to the Lakehouse service \n",
    "\n",
    "cz_password: Password for connecting to the Lakehouse service\n",
    "\n",
    "cz_service: Name of the Lakehouse service to connect to\n",
    "\n",
    "cz_instance: Instance name of the Lakehouse service to connect to\n",
    "\n",
    "cz_workspace: Workspace name of the Lakehouse service to connect to\n",
    "\n",
    "cz_schema: Schema name of the Lakehouse service to connect to\n",
    "\n",
    "cz_vcluster: Virtual cluster name of the Lakehouse service to connect to\n",
    "\n",
    "AWS_KEY: Key for connecting to AWS services\n",
    "\n",
    "AWS_SECRET: Secret key for connecting to AWS services\n",
    "\n",
    "AWS_S3_NAME: Bucket name for connecting to AWS S3 service\n",
    "\n",
    "UNSTRUCTURED_API_KEY: API key for connecting to the UNSTRUCTURED API\n",
    "\n",
    "UNSTRUCTURED_URL: URL for connecting to the UNSTRUCTURED API\n"
   ]
  },
  {
   "cell_type": "code",
   "execution_count": 12,
   "id": "5ccc8547c6539d3b",
   "metadata": {
    "ExecuteTime": {
     "end_time": "2024-07-03T13:43:55.575099Z",
     "start_time": "2024-07-03T13:43:55.564950Z"
    },
    "colab": {
     "base_uri": "https://localhost:8080/",
     "height": 378
    },
    "id": "5ccc8547c6539d3b",
    "outputId": "81865be5-be71-4a53-e41f-ac1c75f50f45"
   },
   "outputs": [
    {
     "data": {
      "text/plain": [
       "True"
      ]
     },
     "execution_count": 12,
     "metadata": {},
     "output_type": "execute_result"
    }
   ],
   "source": [
    "import os\n",
    "import dotenv\n",
    "\n",
    "dotenv.load_dotenv('./.env') # replace with the path to your .env file"
   ]
  },
  {
   "cell_type": "code",
   "execution_count": 13,
   "id": "90fcae32",
   "metadata": {},
   "outputs": [
    {
     "name": "stdout",
     "output_type": "stream",
     "text": [
      "Looking in indexes: https://pypi.org/simple/\n",
      "Requirement already satisfied: pyiceberg in /Users/liangmo/anaconda3/envs/unstructured/lib/python3.9/site-packages (0.9.0)\n",
      "Requirement already satisfied: boto3 in /Users/liangmo/anaconda3/envs/unstructured/lib/python3.9/site-packages (1.37.10)\n",
      "Requirement already satisfied: pandas in /Users/liangmo/anaconda3/envs/unstructured/lib/python3.9/site-packages (2.2.3)\n",
      "Requirement already satisfied: cachetools<6.0.0,>=5.5.0 in /Users/liangmo/anaconda3/envs/unstructured/lib/python3.9/site-packages (from pyiceberg) (5.5.1)\n",
      "Requirement already satisfied: click<9.0.0,>=7.1.1 in /Users/liangmo/anaconda3/envs/unstructured/lib/python3.9/site-packages (from pyiceberg) (8.1.8)\n",
      "Requirement already satisfied: fsspec>=2023.1.0 in /Users/liangmo/anaconda3/envs/unstructured/lib/python3.9/site-packages (from pyiceberg) (2025.2.0)\n",
      "Requirement already satisfied: mmh3<6.0.0,>=4.0.0 in /Users/liangmo/anaconda3/envs/unstructured/lib/python3.9/site-packages (from pyiceberg) (5.1.0)\n",
      "Requirement already satisfied: pydantic!=2.4.0,!=2.4.1,<3.0,>=2.0 in /Users/liangmo/anaconda3/envs/unstructured/lib/python3.9/site-packages (from pyiceberg) (2.10.6)\n",
      "Requirement already satisfied: pyparsing<4.0.0,>=3.1.0 in /Users/liangmo/anaconda3/envs/unstructured/lib/python3.9/site-packages (from pyiceberg) (3.2.1)\n",
      "Requirement already satisfied: requests<3.0.0,>=2.20.0 in /Users/liangmo/anaconda3/envs/unstructured/lib/python3.9/site-packages (from pyiceberg) (2.32.3)\n",
      "Requirement already satisfied: rich<14.0.0,>=10.11.0 in /Users/liangmo/anaconda3/envs/unstructured/lib/python3.9/site-packages (from pyiceberg) (13.9.4)\n",
      "Requirement already satisfied: sortedcontainers==2.4.0 in /Users/liangmo/anaconda3/envs/unstructured/lib/python3.9/site-packages (from pyiceberg) (2.4.0)\n",
      "Requirement already satisfied: strictyaml<2.0.0,>=1.7.0 in /Users/liangmo/anaconda3/envs/unstructured/lib/python3.9/site-packages (from pyiceberg) (1.7.3)\n",
      "Requirement already satisfied: tenacity<10.0.0,>=8.2.3 in /Users/liangmo/anaconda3/envs/unstructured/lib/python3.9/site-packages (from pyiceberg) (9.0.0)\n",
      "Requirement already satisfied: botocore<1.38.0,>=1.37.10 in /Users/liangmo/anaconda3/envs/unstructured/lib/python3.9/site-packages (from boto3) (1.37.10)\n",
      "Requirement already satisfied: jmespath<2.0.0,>=0.7.1 in /Users/liangmo/anaconda3/envs/unstructured/lib/python3.9/site-packages (from boto3) (1.0.1)\n",
      "Requirement already satisfied: s3transfer<0.12.0,>=0.11.0 in /Users/liangmo/anaconda3/envs/unstructured/lib/python3.9/site-packages (from boto3) (0.11.4)\n",
      "Requirement already satisfied: numpy>=1.22.4 in /Users/liangmo/anaconda3/envs/unstructured/lib/python3.9/site-packages (from pandas) (1.26.4)\n",
      "Requirement already satisfied: python-dateutil>=2.8.2 in /Users/liangmo/anaconda3/envs/unstructured/lib/python3.9/site-packages (from pandas) (2.9.0.post0)\n",
      "Requirement already satisfied: pytz>=2020.1 in /Users/liangmo/anaconda3/envs/unstructured/lib/python3.9/site-packages (from pandas) (2025.1)\n",
      "Requirement already satisfied: tzdata>=2022.7 in /Users/liangmo/anaconda3/envs/unstructured/lib/python3.9/site-packages (from pandas) (2025.1)\n",
      "Requirement already satisfied: urllib3<1.27,>=1.25.4 in /Users/liangmo/anaconda3/envs/unstructured/lib/python3.9/site-packages (from botocore<1.38.0,>=1.37.10->boto3) (1.26.19)\n",
      "Requirement already satisfied: annotated-types>=0.6.0 in /Users/liangmo/anaconda3/envs/unstructured/lib/python3.9/site-packages (from pydantic!=2.4.0,!=2.4.1,<3.0,>=2.0->pyiceberg) (0.7.0)\n",
      "Requirement already satisfied: pydantic-core==2.27.2 in /Users/liangmo/anaconda3/envs/unstructured/lib/python3.9/site-packages (from pydantic!=2.4.0,!=2.4.1,<3.0,>=2.0->pyiceberg) (2.27.2)\n",
      "Requirement already satisfied: typing-extensions>=4.12.2 in /Users/liangmo/anaconda3/envs/unstructured/lib/python3.9/site-packages (from pydantic!=2.4.0,!=2.4.1,<3.0,>=2.0->pyiceberg) (4.12.2)\n",
      "Requirement already satisfied: six>=1.5 in /Users/liangmo/anaconda3/envs/unstructured/lib/python3.9/site-packages (from python-dateutil>=2.8.2->pandas) (1.17.0)\n",
      "Requirement already satisfied: charset-normalizer<4,>=2 in /Users/liangmo/anaconda3/envs/unstructured/lib/python3.9/site-packages (from requests<3.0.0,>=2.20.0->pyiceberg) (3.4.1)\n",
      "Requirement already satisfied: idna<4,>=2.5 in /Users/liangmo/anaconda3/envs/unstructured/lib/python3.9/site-packages (from requests<3.0.0,>=2.20.0->pyiceberg) (3.10)\n",
      "Requirement already satisfied: certifi>=2017.4.17 in /Users/liangmo/anaconda3/envs/unstructured/lib/python3.9/site-packages (from requests<3.0.0,>=2.20.0->pyiceberg) (2025.1.31)\n",
      "Requirement already satisfied: markdown-it-py>=2.2.0 in /Users/liangmo/anaconda3/envs/unstructured/lib/python3.9/site-packages (from rich<14.0.0,>=10.11.0->pyiceberg) (3.0.0)\n",
      "Requirement already satisfied: pygments<3.0.0,>=2.13.0 in /Users/liangmo/anaconda3/envs/unstructured/lib/python3.9/site-packages (from rich<14.0.0,>=10.11.0->pyiceberg) (2.19.1)\n",
      "Requirement already satisfied: mdurl~=0.1 in /Users/liangmo/anaconda3/envs/unstructured/lib/python3.9/site-packages (from markdown-it-py>=2.2.0->rich<14.0.0,>=10.11.0->pyiceberg) (0.1.2)\n"
     ]
    }
   ],
   "source": [
    "!pip install pyiceberg boto3 pandas"
   ]
  },
  {
   "cell_type": "code",
   "execution_count": 15,
   "id": "de60be23",
   "metadata": {},
   "outputs": [],
   "source": [
    "import boto3\n",
    "from pyiceberg.catalog import load_catalog\n",
    "from pyiceberg.schema import Schema\n",
    "from pyiceberg.types import NestedField, StringType, IntegerType\n",
    "import pandas as pd"
   ]
  },
  {
   "cell_type": "code",
   "execution_count": 16,
   "id": "3d1164b5",
   "metadata": {},
   "outputs": [],
   "source": [
    "# 1. 创建S3存储桶并配置Iceberg Catalog\n",
    "BUCKET_NAME = os.getenv(\"AWS_S3_NAME\")+\"_IcebergTable\"\n",
    "key=os.getenv(\"AWS_KEY\")\n",
    "secret=os.getenv(\"AWS_SECRET\")\n",
    "TABLE_NAME = \"demo_iceberg_table\"\n",
    "REGION = \"us-east-1\"\n",
    "\n"
   ]
  },
  {
   "cell_type": "code",
   "execution_count": 17,
   "id": "bb91e09c",
   "metadata": {},
   "outputs": [
    {
     "data": {
      "text/plain": [
       "''"
      ]
     },
     "execution_count": 17,
     "metadata": {},
     "output_type": "execute_result"
    }
   ],
   "source": [
    "key"
   ]
  },
  {
   "cell_type": "code",
   "execution_count": null,
   "id": "67c8e27c",
   "metadata": {},
   "outputs": [],
   "source": [
    "# 使用显式密钥\n",
    "s3 = boto3.client(\n",
    "    \"s3\",\n",
    "    aws_access_key_id=key,\n",
    "    aws_secret_access_key=secret\n",
    ")\n",
    "\n",
    "s3.create_bucket(Bucket=BUCKET_NAME, CreateBucketConfiguration={\"LocationConstraint\": REGION})\n",
    "\n",
    "catalog = load_catalog(\"s3\", {\"s3.endpoint\": f\"s3://{BUCKET_NAME}\"})"
   ]
  },
  {
   "cell_type": "code",
   "execution_count": null,
   "id": "c3a45736",
   "metadata": {},
   "outputs": [],
   "source": [
    "# 2. 定义Iceberg表Schema\n",
    "schema = Schema(\n",
    "    NestedField.required(1, \"id\", IntegerType()),\n",
    "    NestedField.optional(2, \"name\", StringType()),\n",
    ")\n",
    "\n",
    "# 3. 创建Iceberg表\n",
    "try:\n",
    "    catalog.create_table(\n",
    "        identifier=TABLE_NAME,\n",
    "        schema=schema,\n",
    "        partition_spec=None,\n",
    "        properties={\"format-version\": \"2\"}\n",
    "    )\n",
    "    print(f\"表 {TABLE_NAME} 创建成功！\")\n",
    "except Exception as e:\n",
    "    print(f\"表创建失败：{e}\")\n",
    "\n",
    "# 4. 插入数据到Iceberg表\n",
    "data = pd.DataFrame({\"id\": [1, 2, 3], \"name\": [\"Alice\", \"Bob\", \"Charlie\"]})\n",
    "data_file = f\"s3://{BUCKET_NAME}/data.parquet\"\n",
    "data.to_parquet(data_file)\n",
    "\n",
    "print(\"数据插入成功！\")\n",
    "\n",
    "# 5. 查询数据\n",
    "try:\n",
    "    table = catalog.load_table(TABLE_NAME)\n",
    "    snapshots = table.snapshots()\n",
    "    print(\"当前数据快照：\")\n",
    "    for snapshot in snapshots:\n",
    "        print(snapshot)\n",
    "except Exception as e:\n",
    "    print(f\"数据查询失败：{e}\")\n",
    "\n",
    "# 6. 演示Iceberg特性（如快照、事务处理）\n",
    "try:\n",
    "    new_data = pd.DataFrame({\"id\": [4], \"name\": [\"Diana\"]})\n",
    "    new_data_file = f\"s3://{BUCKET_NAME}/new_data.parquet\"\n",
    "    new_data.to_parquet(new_data_file)\n",
    "    print(\"新增数据成功，支持事务操作！\")\n",
    "except Exception as e:\n",
    "    print(f\"操作失败：{e}\")\n"
   ]
  }
 ],
 "metadata": {
  "colab": {
   "provenance": []
  },
  "kernelspec": {
   "display_name": "unstructured",
   "language": "python",
   "name": "python3"
  },
  "language_info": {
   "codemirror_mode": {
    "name": "ipython",
    "version": 3
   },
   "file_extension": ".py",
   "mimetype": "text/x-python",
   "name": "python",
   "nbconvert_exporter": "python",
   "pygments_lexer": "ipython3",
   "version": "3.9.21"
  }
 },
 "nbformat": 4,
 "nbformat_minor": 5
}
