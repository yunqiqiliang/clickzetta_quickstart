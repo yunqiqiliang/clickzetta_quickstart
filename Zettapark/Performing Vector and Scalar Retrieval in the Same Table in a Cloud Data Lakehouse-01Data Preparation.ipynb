{
 "cells": [
  {
   "cell_type": "markdown",
   "id": "bdcf93eb-3741-4ee2-884f-8323755844c3",
   "metadata": {},
   "source": [
    "# 在云器Lakehouse的同一张表中进行向量和标量检索：数据准备\n",
    "\n",
    "GitHub 提供15 多种事件类型，包括新提交和分叉事件、打开新票证、评论和向项目添加成员。这些事件会汇总到每小时存档中，您可以使用任何 HTTP 客户端从 https://www.gharchive.org/ 上访问这些存档。\n",
    "\n",
    "## 数据准备过程\n",
    "- 通过wget从 https://www.gharchive.org/ 将归档的json.gz文件下载到本地，本文下载了2025-01-01一天的24个文件。\n",
    "- 通过Lakehouse的PUT命令，将数据PUT用户VOLUME(USER VOLUME)上.\n",
    "- 通过SQL直接读取VOLUMR目录里的文件，然后写入github_event_issuesevent表中。\n",
    "- 将数据从github_event_issuesevent写入到目标表github_event_issuesevent_embedding中。"
   ]
  },
  {
   "cell_type": "markdown",
   "id": "e9f91838-bd7b-4cb7-9bf7-1b825d1a6cc2",
   "metadata": {},
   "source": [
    "## 安装 Zettapark\n",
    "If installed, please pass this step."
   ]
  },
  {
   "cell_type": "code",
   "execution_count": 1,
   "id": "2deac215-29f7-4f34-9272-5365bdaba56a",
   "metadata": {},
   "outputs": [],
   "source": [
    "#!pip install -U clickzetta-zettapark-python -i https://pypi.tuna.tsinghua.edu.cn/simple"
   ]
  },
  {
   "cell_type": "code",
   "execution_count": 2,
   "id": "71ab98b6-29c1-4a01-ac8a-559d88b48d3f",
   "metadata": {},
   "outputs": [],
   "source": [
    "# Zettapark modules\n",
    "from clickzetta.zettapark.session import Session\n",
    "import clickzetta.zettapark.types as T\n",
    "import logging\n",
    "logging.getLogger(\"clickzetta.zettapark\").setLevel(logging.ERROR)"
   ]
  },
  {
   "cell_type": "code",
   "execution_count": 3,
   "id": "7e87ea55-75af-4670-89e3-87aae5c33235",
   "metadata": {},
   "outputs": [
    {
     "data": {
      "text/html": [
       "<style>pre { white-space: pre !important; }</style>"
      ],
      "text/plain": [
       "<IPython.core.display.HTML object>"
      ]
     },
     "metadata": {},
     "output_type": "display_data"
    }
   ],
   "source": [
    "# Get a nicer output from .show()\n",
    "from IPython.core.display import HTML\n",
    "display(HTML(\"<style>pre { white-space: pre !important; }</style>\"))"
   ]
  },
  {
   "cell_type": "markdown",
   "id": "708590b5-c887-4d71-8ba2-1700ea7451bf",
   "metadata": {},
   "source": [
    "## 连接到 Lakehouse\n",
    "\n",
    "This example is using the [config.json](conifg.json) file to connect to Lakehouse. "
   ]
  },
  {
   "cell_type": "markdown",
   "id": "007b6676-31d3-45d0-a7c2-c7fd4b9a7a2e",
   "metadata": {},
   "source": [
    "Create a connection to Lakehouse.\n",
    "\n",
    "This example is using a JSON file with the following structure\n",
    "```\n",
    "{\n",
    "  \"username\": \"Please enter your username\",\n",
    "  \"password\": \"Please enter your password\",\n",
    "  \"service\": \"Please enter your service address, e.g. api.clickzetta.com\",\n",
    "  \"instance\": \"Please enter your instance ID\",\n",
    "  \"workspace\": \"Please enter your workspace, e.g. gharchive\",\n",
    "  \"schema\": \"Please enter your schema, e.g. public\",\n",
    "  \"vcluster\": \"Please enter your virtual cluster, e.g. default_ap\",\n",
    "  \"sdk_job_timeout\": 10,\n",
    "  \"hints\": {\n",
    "    \"sdk.job.timeout\": 3,\n",
    "    \"query_tag\": \"Introduction to Zettapark for Python\"\n",
    "  }\n",
    "}\n",
    "\n",
    "\n",
    "```"
   ]
  },
  {
   "cell_type": "code",
   "execution_count": 4,
   "id": "0b6eef33-9353-4af8-93bb-702647f42fde",
   "metadata": {},
   "outputs": [
    {
     "name": "stdout",
     "output_type": "stream",
     "text": [
      "Connecting to Lakehouse.....\n",
      "\n",
      "Connected and context as below...\n",
      "\n"
     ]
    }
   ],
   "source": [
    "import json\n",
    "\n",
    "# read connection parameters\n",
    "with open('config-vector.json', 'r') as config_file:\n",
    "    config = json.load(config_file)\n",
    "\n",
    "print(\"Connecting to Lakehouse.....\\n\")\n",
    "\n",
    "# create session\n",
    "session = Session.builder.configs(config).create()\n",
    "\n",
    "print(\"Connected and context as below...\\n\")\n",
    "\n",
    "# print(session.sql(\"SELECT current_instance_id(), current_workspace(),current_workspace_id(), current_schema(), current_user(),current_user_id(), current_vcluster()\").collect())"
   ]
  },
  {
   "cell_type": "code",
   "execution_count": 12,
   "id": "2e438e42-1c52-42ff-8989-090d1dd45291",
   "metadata": {},
   "outputs": [],
   "source": [
    "data_path = \"./data/gharchive/\" # WHere the data files is stored localy\n",
    "data_volume_name = \"user\" # Using the user volume\n",
    "DATABASE_NAME = config['workspace']# Name of Database \n",
    "DATABASE_SCHEMA = config['schema'] # Name of schema to store data and files in \n",
    "FULLY_QUALIFIED_NAME = f\"{DATABASE_NAME}.{DATABASE_SCHEMA}\""
   ]
  },
  {
   "cell_type": "markdown",
   "id": "009d05f1-49be-4aac-87e4-49a6566e7deb",
   "metadata": {},
   "source": [
    "Create the schema if they do not already exists"
   ]
  },
  {
   "cell_type": "code",
   "execution_count": 6,
   "id": "717b1278",
   "metadata": {},
   "outputs": [
    {
     "data": {
      "text/plain": [
       "'PUBLIC'"
      ]
     },
     "execution_count": 6,
     "metadata": {},
     "output_type": "execute_result"
    }
   ],
   "source": [
    "session.get_current_schema()"
   ]
  },
  {
   "cell_type": "markdown",
   "id": "6cfd3d31-33df-40de-9be9-1070e2eaa972",
   "metadata": {},
   "source": [
    "## 下载 GHArchive data"
   ]
  },
  {
   "cell_type": "code",
   "execution_count": null,
   "id": "382e65fa-0e22-4707-9096-94ac4cca398d",
   "metadata": {},
   "outputs": [],
   "source": [
    "# Activity for 01-01 of January 2025\n",
    "!wget -P ./data/gharchive/  https://data.gharchive.org/2025-01-{01..01}-{0..23}.json.gz"
   ]
  },
  {
   "cell_type": "markdown",
   "id": "06bbf9eb-7e3f-4b5a-9f90-bf0efea934ff",
   "metadata": {},
   "source": [
    "## Put GHArchive data to User Volume"
   ]
  },
  {
   "cell_type": "code",
   "execution_count": 13,
   "id": "93536211-ac86-4d47-a738-4c45085091d0",
   "metadata": {},
   "outputs": [],
   "source": [
    "# Upload the downloaded files to user volume, please be care the path of user volume format\n",
    "putResult = session.file.put(f\"{data_path}*.json.gz\", f\"volume:{data_volume_name}://~/gharchive/json/gz/\", auto_compress=False, overwrite=True)"
   ]
  },
  {
   "cell_type": "code",
   "execution_count": null,
   "id": "ffea1ba2-3a17-43ef-a1a2-1083dd003e75",
   "metadata": {},
   "outputs": [],
   "source": [
    "# List files in user volume\n",
    "session.sql(\"LIST USER VOLUME\").show(100)"
   ]
  },
  {
   "cell_type": "markdown",
   "id": "6ff3ed75-27f4-48e2-9ade-37b8d04d5afc",
   "metadata": {},
   "source": [
    "## Transform GHArchive data"
   ]
  },
  {
   "cell_type": "code",
   "execution_count": null,
   "id": "731a74f6-3022-4772-b71b-1ba182595414",
   "metadata": {},
   "outputs": [],
   "source": [
    "ddl_github_event_issuesevent =\n",
    "\"\"\"\n",
    "        CREATE TABLE IF NOT EXISTS github_event_issuesevent (\n",
    "            row_id BIGINT identity, -- 自增列，作为第一列\n",
    "            event_id BIGINT,\n",
    "            event_type VARCHAR(255),\n",
    "            created_at TIMESTAMP,\n",
    "            partition_date DATE,\n",
    "            public BOOLEAN,\n",
    "            repo_id VARCHAR(255),\n",
    "            repo_name VARCHAR(255),\n",
    "            repo_url VARCHAR(255),\n",
    "            actor_id VARCHAR(255),\n",
    "            actor_login VARCHAR(255),\n",
    "            actor_gravatar_id VARCHAR(255),\n",
    "            actor_avatar_url VARCHAR(255),\n",
    "            actor_url VARCHAR(255),\n",
    "            org_id VARCHAR(255),\n",
    "            org_login VARCHAR(255),\n",
    "            org_gravatar_id VARCHAR(255),\n",
    "            org_avatar_url VARCHAR(255),\n",
    "            org_url VARCHAR(255),\n",
    "            issue_body STRING\n",
    "        )\n",
    "        PARTITIONED BY(partition_date);\n",
    "\"\"\""
   ]
  },
  {
   "cell_type": "code",
   "execution_count": null,
   "id": "c17ee574-f4f0-4636-b19e-f1adb5f66949",
   "metadata": {},
   "outputs": [],
   "source": [
    "session.sql(ddl_github_event_issuesevent).collect()"
   ]
  },
  {
   "cell_type": "code",
   "execution_count": null,
   "id": "c4ad0f68-4278-434c-88d8-9f7a326040d6",
   "metadata": {},
   "outputs": [],
   "source": [
    "ddl_github_event_issuesevent_embedding =\n",
    "\"\"\"\n",
    "        CREATE TABLE IF NOT EXISTS github_event_issuesevent_embedding (\n",
    "        row_id BIGINT,\n",
    "        event_id BIGINT,\n",
    "        event_type VARCHAR(255),\n",
    "        created_at TIMESTAMP,\n",
    "        partition_date DATE,\n",
    "        public BOOLEAN,\n",
    "        repo_id VARCHAR(255),\n",
    "        repo_name VARCHAR(255),\n",
    "        repo_url VARCHAR(255),\n",
    "        actor_id VARCHAR(255),\n",
    "        actor_login VARCHAR(255),\n",
    "        actor_gravatar_id VARCHAR(255),\n",
    "        actor_avatar_url VARCHAR(255),\n",
    "        actor_url VARCHAR(255),\n",
    "        org_id VARCHAR(255),\n",
    "        org_login VARCHAR(255),\n",
    "        org_gravatar_id VARCHAR(255),\n",
    "        org_avatar_url VARCHAR(255),\n",
    "        org_url VARCHAR(255),\n",
    "        issue_body STRING,\n",
    "        issue_body_embedding vector(float, 1024),\n",
    "        INDEX index_issue_body_vector (issue_body_embedding) USING VECTOR  PROPERTIES(\n",
    "          \"scalar.type\" = \"f32\",\n",
    "          \"distance.function\" = \"l2_distance\"\n",
    "        ),\n",
    "        INDEX index_issue_body_inverted (issue_body) INVERTED  PROPERTIES('analyzer'='unicode'),\n",
    "    \n",
    "    )\n",
    "    PARTITIONED BY(partition_date);\n",
    "    \n",
    "    CREATE BLOOMFILTER INDEX index_rowid_bf ON TABLE github_event_issuesevent_embedding(row_id);\n",
    "\"\"\""
   ]
  },
  {
   "cell_type": "code",
   "execution_count": null,
   "id": "5984c160-53ff-4ea7-98d1-ba2675cd2525",
   "metadata": {},
   "outputs": [],
   "source": [
    "session.sql(ddl_github_event_issuesevent_embedding).collect()"
   ]
  },
  {
   "cell_type": "code",
   "execution_count": 49,
   "id": "497f52b4-1db4-4b63-a3cc-b247daa52b17",
   "metadata": {},
   "outputs": [],
   "source": [
    "query_clean_and_transform = \"\"\"\n",
    "WITH\n",
    "-- read data from data lake volume\n",
    "gh_events as\n",
    "(\n",
    "    select * from user volume(\n",
    "    data STRING\n",
    "    )using csv\n",
    "    options(\n",
    "    'header'='false',\n",
    "    'sep'='\\n',\n",
    "    'timeZone' = 'UTC',\n",
    "    'encoding' = 'utf-8',\n",
    "    'compression' = 'gzip',\n",
    "    'quote'='\\0'\n",
    "    ) SUBDIRECTORY 'gharchive/json/gz'\n",
    "),\n",
    "-- convert string to json\n",
    "json_format_data AS\n",
    "(\n",
    "    SELECT JSON_PARSE(data) as json_data FROM gh_events\n",
    ")\n",
    "-- clean and transform data, set issue_body_embedding to NULL tobe embedded\n",
    "INSERT INTO github_event_issuesevent\n",
    "SELECT    \n",
    "          json_extract_bigint(json_data, '$.id') AS event_id,\n",
    "          json_extract_string(json_data, '$.type') AS event_type,\n",
    "          CONVERT_TIMEZONE('UTC','Asia/Shanghai',cast(json_extract(json_data, '$.created_at') as timestamp)) AS created_at,\n",
    "          cast(created_at as date) AS partition_date,\n",
    "          json_extract_boolean(json_data, '$.public') AS public,\n",
    "          json_extract_string(json_data, '$.repo.id') AS repo_id,\n",
    "          json_extract_string(json_data, '$.repo.name') AS repo_name,\n",
    "          json_extract_string(json_data, '$.repo.url') AS repo_url,\n",
    "          json_extract_string(json_data, '$.actor.id') AS actor_id,\n",
    "          json_extract_string(json_data, '$.actor.login') AS actor_login,\n",
    "          json_extract_string(json_data, '$.actor.gravatar_id') AS actor_gravatar_id,\n",
    "          json_extract_string(json_data, '$.actor.avatar_url') AS actor_avatar_url,\n",
    "          json_extract_string(json_data, '$.actor.url') AS actor_url,\n",
    "          json_extract_string(json_data, '$.org.id') AS org_id,\n",
    "          json_extract_string(json_data, '$.org.login') AS org_login,\n",
    "          json_extract_string(json_data, '$.org.gravatar_id') AS org_gravatar_id,\n",
    "          json_extract_string(json_data, '$.org.avatar_url') AS org_avatar_url,\n",
    "          json_extract_string(json_data, '$.org.url') AS org_url,\n",
    "          json_extract_string(json_data, '$.payload.issue.body') AS issue_body,\n",
    "FROM      json_format_data\n",
    "WHERE     json_extract_string(json_data, '$.type') = \"IssuesEvent\" AND LENGTH(json_extract_string(json_data, '$.payload.issue.body'))>3;\n",
    "\"\"\""
   ]
  },
  {
   "cell_type": "code",
   "execution_count": 39,
   "id": "d2c18ec0-9e1d-4e3c-9167-f50d5739e3c0",
   "metadata": {},
   "outputs": [
    {
     "data": {
      "text/plain": [
       "[Row(result_message='OPERATION SUCCEED')]"
      ]
     },
     "execution_count": 39,
     "metadata": {},
     "output_type": "execute_result"
    }
   ],
   "source": [
    "session.sql(query_clean_and_transform).collect()"
   ]
  },
  {
   "cell_type": "code",
   "execution_count": null,
   "id": "5b9af4f6-b6d4-450f-a71f-fb72b8c5d8e0",
   "metadata": {},
   "outputs": [],
   "source": [
    "query_insert_target_table = \"\"\"\n",
    "    INSERT INTO github_event_issuesevent_embedding\n",
    "    SELECT *, NULL FROM  github_event_issuesevent where partition_date='2025-01-01';\n",
    "\"\"\""
   ]
  },
  {
   "cell_type": "code",
   "execution_count": null,
   "id": "bd350a2c-9c0e-46c5-81ec-e9a57b3dfa98",
   "metadata": {},
   "outputs": [],
   "source": [
    "session.sql(query_insert_target_table).collect()"
   ]
  },
  {
   "cell_type": "markdown",
   "id": "667d691b-4909-42a4-a503-a6d05b6ca015",
   "metadata": {},
   "source": [
    "## Clean Files"
   ]
  },
  {
   "cell_type": "code",
   "execution_count": null,
   "id": "76726b71-a783-4879-a4d0-3b969097c29a",
   "metadata": {},
   "outputs": [],
   "source": [
    "session.sql(f\"remove user volume SUBDIRECTORY 'gharchive/json/gz'\").collect()"
   ]
  },
  {
   "cell_type": "code",
   "execution_count": 31,
   "id": "67c2f915-5bb4-4ff4-93c2-c9c27561facf",
   "metadata": {},
   "outputs": [],
   "source": [
    "session.close()"
   ]
  },
  {
   "cell_type": "code",
   "execution_count": null,
   "id": "9025675d-2981-483c-ba8f-74c34bcf32f5",
   "metadata": {},
   "outputs": [],
   "source": []
  }
 ],
 "metadata": {
  "kernelspec": {
   "display_name": "Python 3 (ipykernel)",
   "language": "python",
   "name": "python3"
  },
  "language_info": {
   "codemirror_mode": {
    "name": "ipython",
    "version": 3
   },
   "file_extension": ".py",
   "mimetype": "text/x-python",
   "name": "python",
   "nbconvert_exporter": "python",
   "pygments_lexer": "ipython3",
   "version": "3.11.9"
  }
 },
 "nbformat": 4,
 "nbformat_minor": 5
}
