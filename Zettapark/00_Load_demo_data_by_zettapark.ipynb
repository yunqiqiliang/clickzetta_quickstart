{
 "cells": [
  {
   "cell_type": "markdown",
   "id": "bdcf93eb-3741-4ee2-884f-8323755844c3",
   "metadata": {},
   "source": [
    "# Loading of data needed for examples\n",
    "\n",
    "This notebook can be used to load the data into Lakehouse that is used for some of the demos.\n",
    "\n",
    "It will create tables in the database and schema used in the connection parameters ie config.json"
   ]
  },
  {
   "cell_type": "markdown",
   "id": "e9f91838-bd7b-4cb7-9bf7-1b825d1a6cc2",
   "metadata": {},
   "source": [
    "### Install Zettapark\n",
    "If installed, please pass this step."
   ]
  },
  {
   "cell_type": "code",
   "execution_count": 1,
   "id": "2deac215-29f7-4f34-9272-5365bdaba56a",
   "metadata": {},
   "outputs": [],
   "source": [
    "#!pip install -U clickzetta-zettapark-python -i https://pypi.tuna.tsinghua.edu.cn/simple"
   ]
  },
  {
   "cell_type": "code",
   "execution_count": 2,
   "id": "71ab98b6-29c1-4a01-ac8a-559d88b48d3f",
   "metadata": {},
   "outputs": [],
   "source": [
    "# Zettapark modules\n",
    "from clickzetta.zettapark.session import Session\n",
    "import clickzetta.zettapark.types as T\n",
    "import logging\n",
    "logging.getLogger(\"clickzetta.zettapark\").setLevel(logging.ERROR)"
   ]
  },
  {
   "cell_type": "code",
   "execution_count": 3,
   "id": "7e87ea55-75af-4670-89e3-87aae5c33235",
   "metadata": {},
   "outputs": [
    {
     "data": {
      "text/html": [
       "<style>pre { white-space: pre !important; }</style>"
      ],
      "text/plain": [
       "<IPython.core.display.HTML object>"
      ]
     },
     "metadata": {},
     "output_type": "display_data"
    }
   ],
   "source": [
    "# Get a nicer output from .show()\n",
    "from IPython.core.display import HTML\n",
    "display(HTML(\"<style>pre { white-space: pre !important; }</style>\"))"
   ]
  },
  {
   "cell_type": "markdown",
   "id": "708590b5-c887-4d71-8ba2-1700ea7451bf",
   "metadata": {},
   "source": [
    "### Connect to Lakehouse\n",
    "\n",
    "This example is using the config.json file to connect to Lakehouse. "
   ]
  },
  {
   "cell_type": "code",
   "execution_count": 4,
   "id": "0b6eef33-9353-4af8-93bb-702647f42fde",
   "metadata": {},
   "outputs": [
    {
     "name": "stdout",
     "output_type": "stream",
     "text": [
      "Connecting to Lakehouse.....\n",
      "\n",
      "Connected and context as below...\n",
      "\n"
     ]
    }
   ],
   "source": [
    "import json\n",
    "\n",
    "# 从配置文件中读取参数\n",
    "with open('config.json', 'r') as config_file:\n",
    "    config = json.load(config_file)\n",
    "\n",
    "print(\"Connecting to Lakehouse.....\\n\")\n",
    "\n",
    "# 创建会话\n",
    "session = Session.builder.configs(config).create()\n",
    "\n",
    "print(\"Connected and context as below...\\n\")\n",
    "\n",
    "# print(session.sql(\"SELECT current_instance_id(), current_workspace(),current_workspace_id(), current_schema(), current_user(),current_user_id(), current_vcluster()\").collect())"
   ]
  },
  {
   "cell_type": "code",
   "execution_count": 5,
   "id": "2e438e42-1c52-42ff-8989-090d1dd45291",
   "metadata": {},
   "outputs": [],
   "source": [
    "data_path = \"./data/\" # WHere the data files is stored localy\n",
    "data_volume_name = \"user\" # Using the user stage\n",
    "DATABASE_NAME = config['workspace']# Name of Database \n",
    "DATABASE_SCHEMA = config['schema'] # Name of schema to store data and files in \n",
    "FULLY_QUALIFIED_NAME = f\"{DATABASE_NAME}.{DATABASE_SCHEMA}\""
   ]
  },
  {
   "cell_type": "markdown",
   "id": "009d05f1-49be-4aac-87e4-49a6566e7deb",
   "metadata": {},
   "source": [
    "Create the schema if they do not already exists"
   ]
  },
  {
   "cell_type": "code",
   "execution_count": 6,
   "id": "717b1278",
   "metadata": {},
   "outputs": [
    {
     "data": {
      "text/plain": [
       "'CREDIT_SCORING_SCH'"
      ]
     },
     "execution_count": 6,
     "metadata": {},
     "output_type": "execute_result"
    }
   ],
   "source": [
    "session.get_current_schema()"
   ]
  },
  {
   "cell_type": "markdown",
   "id": "06bbf9eb-7e3f-4b5a-9f90-bf0efea934ff",
   "metadata": {},
   "source": [
    "### Titanic data"
   ]
  },
  {
   "cell_type": "code",
   "execution_count": 7,
   "id": "e9d9b996-8f90-4680-bb9c-522fdcaec2d0",
   "metadata": {},
   "outputs": [],
   "source": [
    "# Upload the source file to user volume\n",
    "putResult = session.file.put(f\"{data_path}titanic.csv\", f\"volume:{data_volume_name}://~/csv/\", auto_compress=True, overwrite=True)"
   ]
  },
  {
   "cell_type": "code",
   "execution_count": 8,
   "id": "ffea1ba2-3a17-43ef-a1a2-1083dd003e75",
   "metadata": {},
   "outputs": [
    {
     "name": "stdout",
     "output_type": "stream",
     "text": [
      "+--------------------+--------------------+-------+--------------------+\n",
      "|       relative_path|                 url|   size|  last_modified_time|\n",
      "+--------------------+--------------------+-------+--------------------+\n",
      "|     csv/titanic.csv|oss://cz-lh-sh-pr...| 117728|2025-03-18 19:30:...|\n",
      "|nyc/greentaxis/pa...|oss://cz-lh-sh-pr...|1673841|2025-03-10 14:56:...|\n",
      "+--------------------+--------------------+-------+--------------------+\n",
      "\n"
     ]
    }
   ],
   "source": [
    "session.sql(\"LIST USER VOLUME\").show(100)"
   ]
  },
  {
   "cell_type": "code",
   "execution_count": 9,
   "id": "5f050341-8670-4b6e-8a85-7e4935f6cc5d",
   "metadata": {},
   "outputs": [],
   "source": [
    "titanicSchema = T.StructType(\n",
    "    [\n",
    "        T.StructField(\"PCLASS\", T.IntegerType()),\n",
    "        T.StructField(\"SURVIVED\", T.StringType()),\n",
    "        T.StructField(\"NAME\", T.StringType()),\n",
    "        T.StructField(\"SEX\", T.StringType()),\n",
    "        T.StructField(\"AGE\", T.FloatType()),\n",
    "        T.StructField(\"SIBSP\", T.FloatType()),\n",
    "        T.StructField(\"PARCH\", T.FloatType()),\n",
    "        T.StructField(\"TICKET\", T.StringType()),\n",
    "        T.StructField(\"FARE\", T.FloatType()),\n",
    "        T.StructField(\"CABIN\", T.StringType()),\n",
    "        T.StructField(\"EMBARKED\", T.StringType()),\n",
    "        T.StructField(\"BOAT\", T.StringType()),\n",
    "        T.StructField(\"BODY\", T.IntegerType()),\n",
    "        T.StructField(\"HOME_DEST\", T.StringType()),\n",
    "    ]\n",
    ")\n",
    "\n",
    "# Crete a reader\n",
    "dfReader = session.read.schema(titanicSchema)\n",
    "\n",
    "# Get the data into the data frame\n",
    "dfTitanic_volume = dfReader.options({\"field_delimiter\":\",\", \"FIELD_OPTIONALLY_ENCLOSED_BY\":'\"', \"NULL_IF\":\"?\", \"PARSE_HEADER\": True,\"SKIP_HEADER\":1}).csv(f\"volume:{data_volume_name}://~/csv/titanic.csv\")\n",
    "session.sql(f\"DROP TABLE IF EXISTS {FULLY_QUALIFIED_NAME}.titanic\").collect()\n",
    "dfTitanic_volume.write.save_as_table(f\"{FULLY_QUALIFIED_NAME}.titanic\",mode=\"overwrite\")"
   ]
  },
  {
   "cell_type": "code",
   "execution_count": 10,
   "id": "606e1038-2d06-41fd-89d1-0ac22d112fba",
   "metadata": {},
   "outputs": [
    {
     "name": "stdout",
     "output_type": "stream",
     "text": [
      "+-----------------+\n",
      "|   result_message|\n",
      "+-----------------+\n",
      "|OPERATION SUCCEED|\n",
      "+-----------------+\n",
      "\n",
      "+------+--------+--------------------+------+------+-----+-----+--------+--------+-------+--------+----+----+--------------------+\n",
      "|pclass|survived|                name|   sex|   age|sibsp|parch|  ticket|    fare|  cabin|embarked|boat|body|           home_dest|\n",
      "+------+--------+--------------------+------+------+-----+-----+--------+--------+-------+--------+----+----+--------------------+\n",
      "|     1|       1|Allen, Miss. Elis...|female|    29|    0|    0|   24160|211.3375|     B5|       S|   2|NULL|        St Louis, MO|\n",
      "|     1|       1|Allison, Master. ...|  male|0.9167|    1|    2|  113781|  151.55|C22 C26|       S|  11|NULL|Montreal, PQ / Ch...|\n",
      "|     1|       0|Allison, Miss. He...|female|     2|    1|    2|  113781|  151.55|C22 C26|       S|   ?|NULL|Montreal, PQ / Ch...|\n",
      "|     1|       0|Allison, Mr. Huds...|  male|    30|    1|    2|  113781|  151.55|C22 C26|       S|   ?| 135|Montreal, PQ / Ch...|\n",
      "|     1|       0|Allison, Mrs. Hud...|female|    25|    1|    2|  113781|  151.55|C22 C26|       S|   ?|NULL|Montreal, PQ / Ch...|\n",
      "|     1|       1| Anderson, Mr. Harry|  male|    48|    0|    0|   19952|   26.55|    E12|       S|   3|NULL|        New York, NY|\n",
      "|     1|       1|Andrews, Miss. Ko...|female|    63|    1|    0|   13502| 77.9583|     D7|       S|  10|NULL|          Hudson, NY|\n",
      "|     1|       0|Andrews, Mr. Thom...|  male|    39|    0|    0|  112050|       0|    A36|       S|   ?|NULL|         Belfast, NI|\n",
      "|     1|       1|Appleton, Mrs. Ed...|female|    53|    2|    0|   11769| 51.4792|   C101|       S|   D|NULL| Bayside, Queens, NY|\n",
      "|     1|       0|Artagaveytia, Mr....|  male|    71|    0|    0|PC 17609| 49.5042|      ?|       C|   ?|  22| Montevideo, Uruguay|\n",
      "+------+--------+--------------------+------+------+-----+-----+--------+--------+-------+--------+----+----+--------------------+\n",
      "\n"
     ]
    }
   ],
   "source": [
    "session.sql(f\"delete from {FULLY_QUALIFIED_NAME}.titanic where pclass is NULL\").show()\n",
    "session.table(f\"{FULLY_QUALIFIED_NAME}.titanic\").show()"
   ]
  },
  {
   "cell_type": "code",
   "execution_count": 11,
   "id": "6d212262-daa3-4669-ac54-46f91215084a",
   "metadata": {},
   "outputs": [
    {
     "data": {
      "text/plain": [
       "1309"
      ]
     },
     "execution_count": 11,
     "metadata": {},
     "output_type": "execute_result"
    }
   ],
   "source": [
    "session.table(f\"{FULLY_QUALIFIED_NAME}.titanic\").count()"
   ]
  },
  {
   "cell_type": "markdown",
   "id": "6ff3ed75-27f4-48e2-9ade-37b8d04d5afc",
   "metadata": {},
   "source": [
    "### Campaign spend"
   ]
  },
  {
   "cell_type": "code",
   "execution_count": 12,
   "id": "116f4e56-3d3a-40be-ba78-690f1a315e02",
   "metadata": {},
   "outputs": [
    {
     "data": {
      "text/plain": [
       "[PutResult(source='data/campaign_spend.csv', target='/csv/campaign_spend.csv', source_size=13684943, target_size=13684943)]"
      ]
     },
     "execution_count": 12,
     "metadata": {},
     "output_type": "execute_result"
    }
   ],
   "source": [
    "# Upload the source file to the stage\n",
    "session.file.put(f\"{data_path}campaign_spend.csv\", f\"volume:{data_volume_name}://~/csv/\", auto_compress=True, overwrite=True)"
   ]
  },
  {
   "cell_type": "code",
   "execution_count": 13,
   "id": "7a04bc53-5ddc-42da-97c2-7fbad611a92e",
   "metadata": {},
   "outputs": [],
   "source": [
    "campaignSchema = T.StructType(\n",
    "    [\n",
    "        T.StructField(\"CAMPAIGN\", T.StringType()),\n",
    "        T.StructField(\"CHANNEL\", T.StringType()),\n",
    "        T.StructField(\"DATE\", T.DateType()),\n",
    "        T.StructField(\"TOTAL_CLICKS\", T.DecimalType(38,0)),\n",
    "        T.StructField(\"TOTAL_COST\", T.DecimalType(38,0)),\n",
    "        T.StructField(\"ADS_SERVED\", T.DecimalType(38,0)),\n",
    "    ]\n",
    ")\n",
    "\n",
    "# Crete a reader\n",
    "dfReader = session.read.schema(campaignSchema)\n",
    "\n",
    "# Get the data into the data frame\n",
    "dfCampaign_volume = dfReader.options({\"field_delimiter\":\",\", \"SKIP_HEADER\":1}).csv(f\"volume:{data_volume_name}://~/csv/campaign_spend.csv\")\n",
    "session.sql(f\"DROP TABLE IF EXISTS {FULLY_QUALIFIED_NAME}.campaign_spend\").collect()\n",
    "dfCampaign_volume.write.save_as_table(f\"{FULLY_QUALIFIED_NAME}.campaign_spend\")"
   ]
  },
  {
   "cell_type": "code",
   "execution_count": 14,
   "id": "3d4270e8-3c88-499b-b81b-725d581c7d22",
   "metadata": {},
   "outputs": [
    {
     "name": "stdout",
     "output_type": "stream",
     "text": [
      "+-----------------+\n",
      "|   result_message|\n",
      "+-----------------+\n",
      "|OPERATION SUCCEED|\n",
      "+-----------------+\n",
      "\n",
      "+--------------------+-------------+----------+------------+----------+----------+\n",
      "|            campaign|      channel|      date|total_clicks|total_cost|ads_served|\n",
      "+--------------------+-------------+----------+------------+----------+----------+\n",
      "|       winter_sports|        video|2012-06-03|         213|      1762|       426|\n",
      "|sports_across_cul...|        video|2012-06-02|          87|       678|       157|\n",
      "|  building_community|search_engine|2012-06-03|          66|       471|       134|\n",
      "|        world_series| social_media|2017-12-28|          72|       591|       149|\n",
      "|       winter_sports|        email|2018-02-09|         252|      1841|       473|\n",
      "|        spring_break|        video|2017-11-14|         162|      1155|       304|\n",
      "|          nba_finals|        email|2017-11-22|          68|       480|       134|\n",
      "|       winter_sports| social_media|2018-03-10|         227|      1797|       454|\n",
      "|        spring_break|search_engine|2017-08-30|         150|      1226|       302|\n",
      "|                uefa|        video|2017-09-30|          81|       701|       168|\n",
      "+--------------------+-------------+----------+------------+----------+----------+\n",
      "\n"
     ]
    }
   ],
   "source": [
    "session.sql(f\"delete from {FULLY_QUALIFIED_NAME}.campaign_spend where date is NULL\").show()\n",
    "session.table(f\"{FULLY_QUALIFIED_NAME}.campaign_spend\").show()"
   ]
  },
  {
   "cell_type": "code",
   "execution_count": 15,
   "id": "4df24103-0bd1-4c23-9210-e2fec6f1e5fa",
   "metadata": {},
   "outputs": [
    {
     "data": {
      "text/plain": [
       "293120"
      ]
     },
     "execution_count": 15,
     "metadata": {},
     "output_type": "execute_result"
    }
   ],
   "source": [
    "session.table(f\"{FULLY_QUALIFIED_NAME}.campaign_spend\").count()"
   ]
  },
  {
   "cell_type": "markdown",
   "id": "f8c72912-aac1-4a94-bf16-36ee07490ace",
   "metadata": {},
   "source": [
    "### Bank Marketing files\n",
    "\n",
    "Put all snappy.parquet files to user volume."
   ]
  },
  {
   "cell_type": "code",
   "execution_count": 16,
   "id": "95168628-2435-4575-95eb-30effab620cd",
   "metadata": {
    "tags": []
   },
   "outputs": [
    {
     "data": {
      "text/plain": [
       "[PutResult(source='data/bank/data_aug.snappy.parquet', target='/csv/bank/data_aug.snappy.parquet', source_size=62202, target_size=62202),\n",
       " PutResult(source='data/bank/data_oct.snappy.parquet', target='/csv/bank/data_oct.snappy.parquet', source_size=16217, target_size=16217),\n",
       " PutResult(source='data/bank/data_dec.snappy.parquet', target='/csv/bank/data_dec.snappy.parquet', source_size=8559, target_size=8559),\n",
       " PutResult(source='data/bank/data_feb.snappy.parquet', target='/csv/bank/data_feb.snappy.parquet', source_size=36471, target_size=36471),\n",
       " PutResult(source='data/bank/data_jan.snappy.parquet', target='/csv/bank/data_jan.snappy.parquet', source_size=22809, target_size=22809),\n",
       " PutResult(source='data/bank/data_nov.snappy.parquet', target='/csv/bank/data_nov.snappy.parquet', source_size=51065, target_size=51065),\n",
       " PutResult(source='data/bank/data_sep.snappy.parquet', target='/csv/bank/data_sep.snappy.parquet', source_size=14360, target_size=14360),\n",
       " PutResult(source='data/bank/data_mar.snappy.parquet', target='/csv/bank/data_mar.snappy.parquet', source_size=12383, target_size=12383),\n",
       " PutResult(source='data/bank/data_may.snappy.parquet', target='/csv/bank/data_may.snappy.parquet', source_size=120093, target_size=120093),\n",
       " PutResult(source='data/bank/data_apr.snappy.parquet', target='/csv/bank/data_apr.snappy.parquet', source_size=40357, target_size=40357),\n",
       " PutResult(source='data/bank/data_jun.snappy.parquet', target='/csv/bank/data_jun.snappy.parquet', source_size=56100, target_size=56100),\n",
       " PutResult(source='data/bank/data_jul.snappy.parquet', target='/csv/bank/data_jul.snappy.parquet', source_size=67412, target_size=67412)]"
      ]
     },
     "execution_count": 16,
     "metadata": {},
     "output_type": "execute_result"
    }
   ],
   "source": [
    "session.file.put(f\"{data_path}/bank/*.parquet\", f\"volume:{data_volume_name}://~/csv/bank/\", auto_compress=False, overwrite=True)"
   ]
  },
  {
   "cell_type": "code",
   "execution_count": 26,
   "id": "b9f4a93f-53c8-4dff-a973-8499d6aac75d",
   "metadata": {},
   "outputs": [
    {
     "name": "stdout",
     "output_type": "stream",
     "text": [
      "oss://cz-lh-sh-prod/123/workspaces/qiliang_ws_demo_3539727324115904866/internal_volume/user_2162629/csv/bank/.*.snappy.parquet\n"
     ]
    }
   ],
   "source": [
    "import re\n",
    "file_list = session.sql(\"LIST USER VOLUME\").collect()\n",
    "if file_list:  \n",
    "    first_row = file_list[0]\n",
    "    file_dir = first_row[\"url\"]  # get the 1st file location\n",
    "    file_dir = re.sub(r'data_[a-zA-Z0-9_]+', '.*', file_dir)\n",
    "    print(file_dir)"
   ]
  },
  {
   "cell_type": "code",
   "execution_count": 27,
   "id": "dc821e2f-972f-4f71-a2ba-75c217cf28b5",
   "metadata": {},
   "outputs": [
    {
     "name": "stdout",
     "output_type": "stream",
     "text": [
      "+---+------------+--------+---------+-------+-------+-------+----+--------+---+-----+--------+--------+-----+--------+-------+---+\n",
      "|age|         job| marital|education|default|balance|housing|loan| contact|day|month|duration|campaign|pdays|previous|outcome|  y|\n",
      "+---+------------+--------+---------+-------+-------+-------+----+--------+---+-----+--------+--------+-----+--------+-------+---+\n",
      "| 32|  technician|  single| tertiary|     no|    392|    yes|  no|cellular|  1|  apr|     957|       2|  131|       2|failure| no|\n",
      "| 26|      admin.|  single|secondary|     no|    274|     no|  no|cellular|  1|  apr|     351|       3|   -1|       0|unknown|yes|\n",
      "| 36|entrepreneur|  single|secondary|     no|     45|    yes|  no|cellular|  1|  apr|     131|       1|   -1|       0|unknown| no|\n",
      "| 35|    services|divorced|secondary|     no|   -121|    yes| yes|cellular|  1|  apr|      73|       1|   -1|       0|unknown| no|\n",
      "| 46|  management|divorced| tertiary|     no|  10469|    yes|  no|cellular|  1|  apr|     202|       2|   -1|       0|unknown| no|\n",
      "| 32|  management| married| tertiary|     no|    250|    yes|  no|cellular|  1|  apr|     247|       2|   -1|       0|unknown| no|\n",
      "| 39|  technician|divorced|secondary|     no|    688|    yes| yes|cellular|  1|  apr|     233|       2|  133|       1|failure| no|\n",
      "| 59|     retired| married|secondary|     no|   1035|    yes| yes|cellular|  1|  apr|     126|       2|  239|       1|failure| no|\n",
      "| 40|  technician|  single| tertiary|     no|    250|    yes|  no|cellular|  1|  apr|     107|       1|   -1|       0|unknown| no|\n",
      "| 46|    services| married|secondary|     no|    184|    yes|  no|cellular|  1|  apr|     836|       1|   -1|       0|unknown| no|\n",
      "+---+------------+--------+---------+-------+-------+-------+----+--------+---+-----+--------+--------+-----+--------+-------+---+\n",
      "\n"
     ]
    }
   ],
   "source": [
    "session.sql(f\"\"\"\n",
    "            SELECT * FROM user VOLUME\n",
    "            USING parquet \n",
    "            REGEXP '{file_dir}'\n",
    "            ;\n",
    "\"\"\").show()"
   ]
  },
  {
   "cell_type": "markdown",
   "id": "f22578ff-7b02-4800-967a-135d242ff4b2",
   "metadata": {},
   "source": [
    "### Clean up"
   ]
  },
  {
   "cell_type": "code",
   "execution_count": null,
   "id": "5edbeee0-7c79-47f0-b332-89c5f1deb4a5",
   "metadata": {},
   "outputs": [],
   "source": [
    "session.sql(f\"remove {data_volume_name} volume FILE 'csv/titanic.csv'\").collect()\n",
    "session.sql(f\"remove {data_volume_name} volume FILE 'csv/campaign_spend.csv'\").collect()\n",
    "session.sql(f\"remove {data_volume_name} volume SUBDIRECTORY 'csv/bank'\").collect()\n",
    "session.sql(f\"list {data_volume_name} volume\").show(100)"
   ]
  },
  {
   "cell_type": "code",
   "execution_count": null,
   "id": "67c2f915-5bb4-4ff4-93c2-c9c27561facf",
   "metadata": {},
   "outputs": [],
   "source": [
    "session.close()"
   ]
  },
  {
   "cell_type": "code",
   "execution_count": null,
   "id": "9025675d-2981-483c-ba8f-74c34bcf32f5",
   "metadata": {},
   "outputs": [],
   "source": []
  }
 ],
 "metadata": {
  "kernelspec": {
   "display_name": "Python 3 (ipykernel)",
   "language": "python",
   "name": "python3"
  },
  "language_info": {
   "codemirror_mode": {
    "name": "ipython",
    "version": 3
   },
   "file_extension": ".py",
   "mimetype": "text/x-python",
   "name": "python",
   "nbconvert_exporter": "python",
   "pygments_lexer": "ipython3",
   "version": "3.11.9"
  }
 },
 "nbformat": 4,
 "nbformat_minor": 5
}
