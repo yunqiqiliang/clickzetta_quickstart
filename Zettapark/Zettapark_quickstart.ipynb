{
 "cells": [
  {
   "cell_type": "markdown",
   "id": "7e597538-18ac-4192-a765-b1da5d9ffc52",
   "metadata": {},
   "source": [
    "# 云器Lakehouse Zettapark快速上手"
   ]
  },
  {
   "cell_type": "markdown",
   "id": "5400d543-5380-409e-a573-c102516dae3a",
   "metadata": {},
   "source": [
    "Zettapark 是一个用于处理 云器Lakehouse 数据的 Python 库。它提供了一个高级的 Python API，用于在 云器Lakehouse 中执行 SQL 查询、操作数据和处理结果。Zettapark 使得在 Python 中使用 云器Lakehouse 变得更加简单和高效。你可以使用 Zettapark 执行 SQL 查询、操作数据和处理结果，就像在 Python 中使用 pandas 一样。\n",
    "\n",
    "在Zettapark中执行pandas操作，会被翻译成SQL在云器Lakehouse中执行，从而达到分布式计算。\n",
    "\n",
    "比如以下Python代码：\n",
    "\n",
    "df_filtered = df.filter((F.col(\"a\") + F.col(\"b\")) < 10)\n",
    "\n",
    "在云器Lakehouse里执行的SQL是：\n",
    "\n",
    "SELECT `a`, `b` FROM ( SELECT col1 AS `a`, col2 AS `b` FROM  VALUES (CAST(1 AS INT), CAST(3 AS INT)), (CAST(2 AS INT), CAST(10 AS INT))) WHERE ((`a` + `b`) < CAST(10 AS INT)) LIMIT 10;"
   ]
  },
  {
   "cell_type": "markdown",
   "id": "96d5d1a2-d9d1-4039-ad4a-4f3b9d1a17e2",
   "metadata": {},
   "source": [
    "## 安装clickzetta_zettapark_python"
   ]
  },
  {
   "cell_type": "code",
   "execution_count": 1,
   "id": "965a1b58-312d-48bd-87e1-c924da634c6d",
   "metadata": {},
   "outputs": [],
   "source": [
    "# !pip install clickzetta-zettapark-python -i https://pypi.tuna.tsinghua.edu.cn/simple"
   ]
  },
  {
   "cell_type": "markdown",
   "id": "2a6d5410-2c21-4603-84e5-837407ec5c8e",
   "metadata": {},
   "source": [
    "## 创建会话\n",
    "使用Zettapark的第一步是与ClickZetta Lakehouse建立会话。"
   ]
  },
  {
   "cell_type": "markdown",
   "id": "22b53f50-c913-490b-bf7b-83a1397f4e40",
   "metadata": {},
   "source": [
    "导入Session类。"
   ]
  },
  {
   "cell_type": "code",
   "execution_count": 2,
   "id": "eb1dfe75-cfed-4b87-ba07-3d50c4becdbe",
   "metadata": {},
   "outputs": [],
   "source": [
    "from clickzetta.zettapark.session import Session"
   ]
  },
  {
   "cell_type": "markdown",
   "id": "2c476d41-6bd7-4205-a81f-5674740431e0",
   "metadata": {},
   "source": [
    "和ClickZetta Connector for Python一样，Zettapark的函数中使用的相同参数（例如service、instance、用户名等）与云器Lakehouse建立会话建立会话。\n",
    "dict构造一个包含这些参数的名称和值的字典 (username、password、service、instance、workspace、schema等）。\n",
    "\n",
    "要创建会话包括如下：\n",
    "\n",
    "    创建一个 Python 字典 ( dict)，其中包含用于连接到 ClickZetta Lakehouse 的参数的名称和值。\n",
    "\n",
    "    将此字典传递给Session.builder.configs方法以返回具有这些连接参数的构建器对象。\n",
    "\n",
    "    create调用的方法建立builder会话。\n",
    "\n",
    "以下示例使用dict包含连接参数来创建新会话："
   ]
  },
  {
   "cell_type": "code",
   "execution_count": 4,
   "id": "645183e6-c29e-4c29-8dcc-6cd6380a91c6",
   "metadata": {},
   "outputs": [
    {
     "name": "stdout",
     "output_type": "stream",
     "text": [
      "正在连接到云器Lakehouse.....\n",
      "\n",
      "连接成功！...\n",
      "\n"
     ]
    }
   ],
   "source": [
    "import json\n",
    "from clickzetta.zettapark.session import Session\n",
    "\n",
    "# 从配置文件中读取参数\n",
    "with open('config.json', 'r') as config_file:\n",
    "    config = json.load(config_file)\n",
    "\n",
    "print(\"正在连接到云器Lakehouse.....\\n\")\n",
    "\n",
    "# 创建会话\n",
    "session = Session.builder.configs(config).create()\n",
    "\n",
    "print(\"连接成功！...\\n\")"
   ]
  },
  {
   "cell_type": "markdown",
   "id": "9dc5c01b-56a3-46e8-933e-e31d01d73fb1",
   "metadata": {},
   "source": [
    "验证会话是否创建成功"
   ]
  },
  {
   "cell_type": "code",
   "execution_count": 9,
   "id": "6ff2ebae-d74c-4481-8bf2-51c986d7a28c",
   "metadata": {},
   "outputs": [
    {
     "name": "stdout",
     "output_type": "stream",
     "text": [
      "----------------------\n",
      "|schema_name         |\n",
      "----------------------\n",
      "|github_apache_rep   |\n",
      "|information_schema  |\n",
      "|public              |\n",
      "|retail              |\n",
      "----------------------\n",
      "\n"
     ]
    }
   ],
   "source": [
    "df = session.sql(\"show schemas;\")\n",
    "df.show(10)"
   ]
  },
  {
   "cell_type": "markdown",
   "id": "e89039aa-f4d6-4431-b54b-c5286a8855c9",
   "metadata": {},
   "source": [
    "## 在 Zettapark Python 中使用 DataFrame\n",
    "在 Zettapark 中，查询和处理数据的主要方式是通过 DataFrame。本主题介绍如何使用 DataFrame。\n",
    "\n",
    "要检索和操作云器Lakehouse Table里的数据，请使用该类DataFrame。DataFrame 表示延迟评估的关系数据集：它仅在触发特定操作时执行。\n",
    "\n",
    "要将数据检索到 DataFrame 中：\n",
    "\n",
    "    1，构造一个 DataFrame，指定 dataset 的数据源。\n",
    "\n",
    "    例如，您可以创建一个 DataFrame 来保存来自表、外部 CSV 文件、本地数据或 SQL 语句执行的数据。\n",
    "\n",
    "    2，指定如何转换DataFrame中的数据集。\n",
    "\n",
    "    例如，您可以指定应该选择哪些列、如何过滤行、如何对结果进行排序和分组等。\n",
    "\n",
    "    3，执行语句将数据检索到 DataFrame 中。\n",
    "\n",
    "    为了将数据检索到 DataFrame 中，您必须调用执行操作的方法（例如，方法 collect()）。"
   ]
  },
  {
   "cell_type": "markdown",
   "id": "b04e3522-3aa2-4322-860f-1eb3a200770a",
   "metadata": {},
   "source": [
    "本示例使用 DataFrame 来查询名为sample_product_data的表。如果要运行这些示例，您可以创建该表并通过执行以下SQL语句并向该表插入一些数据。"
   ]
  },
  {
   "cell_type": "code",
   "execution_count": null,
   "id": "639a480b-e297-48b5-bd3c-76de7da617fc",
   "metadata": {},
   "outputs": [],
   "source": [
    "session.sql('CREATE  TABLE if not exists sample_product_data (id INT, parent_id INT, category_id INT, name STRING, serial_number STRING, key INT, third INT)').collect()"
   ]
  },
  {
   "cell_type": "code",
   "execution_count": null,
   "id": "cf39610b-d85c-4ca3-80fa-efa4ae9a3ca1",
   "metadata": {},
   "outputs": [],
   "source": [
    "session.sql('CREATE  TABLE if not exists sample_product_data_varchar (id INT, parent_id INT, category_id INT, name STRING, serial_number VARCHAR, key INT, third INT)').collect()"
   ]
  },
  {
   "cell_type": "code",
   "execution_count": null,
   "id": "d99d51c2-0781-48af-bafa-ed398c9894d2",
   "metadata": {},
   "outputs": [],
   "source": [
    "session.sql(\"\"\"\n",
    "... INSERT INTO sample_product_data_varchar VALUES\n",
    "... (1, 0, 5, 'Product 1', 'prod-1', 1, 10),\n",
    "... (2, 1, 5, 'Product 1A', 'prod-1-A', 1, 20),\n",
    "... (3, 1, 5, 'Product 1B', 'prod-1-B', 1, 30),\n",
    "... (4, 0, 10, 'Product 2', 'prod-2', 2, 40),\n",
    "... (5, 4, 10, 'Product 2A', 'prod-2-A', 2, 50),\n",
    "... (6, 4, 10, 'Product 2B', 'prod-2-B', 2, 60),\n",
    "... (7, 0, 20, 'Product 3', 'prod-3', 3, 70),\n",
    "... (8, 7, 20, 'Product 3A', 'prod-3-A', 3, 80),\n",
    "... (9, 7, 20, 'Product 3B', 'prod-3-B', 3, 90),\n",
    "... (10, 0, 50, 'Product 4', 'prod-4', 4, 100),\n",
    "... (11, 10, 50, 'Product 4A', 'prod-4-A', 4, 100),\n",
    "... (12, 10, 50, 'Product 4B', 'prod-4-B', 4, 100)\n",
    "... \"\"\").collect()"
   ]
  },
  {
   "cell_type": "markdown",
   "id": "ba00e763-2060-4461-a07f-26a595029634",
   "metadata": {},
   "source": [
    "验证数据插入是否已成功，请运行："
   ]
  },
  {
   "cell_type": "code",
   "execution_count": null,
   "id": "af7aac52-fc95-4073-b8d7-f8dad4536bd5",
   "metadata": {},
   "outputs": [],
   "source": [
    "session.sql(\"SELECT count(*) FROM sample_product_data_varchar\").collect()"
   ]
  },
  {
   "cell_type": "markdown",
   "id": "e8778760-0fb3-461f-b81a-4cad3b3ee26b",
   "metadata": {},
   "source": [
    "## 构建 DataFrame\n",
    "要构造 DataFrame，可以使用该类的方法和属性Session。以下每种方法都从不同类型的数据源构造DataFrame。"
   ]
  },
  {
   "cell_type": "markdown",
   "id": "beff046f-507c-42b2-93b0-f69c90629cd9",
   "metadata": {},
   "source": [
    "要从表、视图或流中的数据创建 DataFrame，请调用以下table方法："
   ]
  },
  {
   "cell_type": "code",
   "execution_count": null,
   "id": "1ae18da7-1447-4857-baac-c30293a42195",
   "metadata": {
    "scrolled": true
   },
   "outputs": [],
   "source": [
    "# Create a DataFrame from the data in the \"sample_product_data\" table.\n",
    "df_table = session.table(\"sample_product_data\")\n",
    "# To print out the first 10 rows\n",
    "df_table.show()"
   ]
  },
  {
   "cell_type": "code",
   "execution_count": null,
   "id": "7117c3b8-317f-4ec0-991a-7e27d1d4092b",
   "metadata": {},
   "outputs": [],
   "source": [
    "# Create a DataFrame from the data in the \"sample_product_data\" table.\n",
    "df_table = session.table(\"sample_product_data_varchar\")\n",
    "# To print out the first 10 rows\n",
    "df_table.show()"
   ]
  },
  {
   "cell_type": "markdown",
   "id": "4b75dede-df51-4258-9b3f-c64942f38c7a",
   "metadata": {},
   "source": [
    "要从指定数据创建DataFrame，请调用该create_dataframe方法："
   ]
  },
  {
   "cell_type": "code",
   "execution_count": null,
   "id": "424d95dc-a4e0-45a8-933c-30d76407f154",
   "metadata": {},
   "outputs": [],
   "source": [
    "# Create a DataFrame with one column named a from specified values.\n",
    "df1 = session.create_dataframe([1, 2, 3, 4]).to_df(\"a\")\n",
    "df1.show()\n"
   ]
  },
  {
   "cell_type": "markdown",
   "id": "2977e0f6-098a-4709-bb31-cce439a3ec30",
   "metadata": {},
   "source": [
    "创建一个具有 4 列的 DataFrame，“a”，“b”，“c” 和“d”："
   ]
  },
  {
   "cell_type": "code",
   "execution_count": null,
   "id": "96f18066-0daf-4dca-862c-ca65466a8f7c",
   "metadata": {},
   "outputs": [],
   "source": [
    "df2 = session.create_dataframe([[1, 2, 3, 4]], schema=[\"a\", \"b\", \"c\", \"d\"])\n",
    "df2.show()"
   ]
  },
  {
   "cell_type": "markdown",
   "id": "75a6434b-4cc6-4c5a-a798-5e37609c9833",
   "metadata": {},
   "source": [
    "创建另一个包含 4 列“a”、“b”、“c”和“d”的 DataFrame："
   ]
  },
  {
   "cell_type": "code",
   "execution_count": null,
   "id": "6cf3e6b7-47c1-46f5-9496-c34ae8befe12",
   "metadata": {},
   "outputs": [],
   "source": [
    "from clickzetta.zettapark import Row\n",
    "df3 = session.create_dataframe([Row(a=1, b=2, c=3, d=4)])\n",
    "df3.show()"
   ]
  },
  {
   "cell_type": "markdown",
   "id": "39f00db2-b8b9-4ebf-a803-beb72df72232",
   "metadata": {},
   "source": [
    "创建一个 DataFrame 并指定一个模式："
   ]
  },
  {
   "cell_type": "code",
   "execution_count": null,
   "id": "ec65f1a8-86f4-4594-9ea4-93c690ad94b4",
   "metadata": {},
   "outputs": [],
   "source": [
    "from clickzetta.zettapark.types import IntegerType, StringType, StructType, StructField\n",
    "schema = StructType([StructField(\"a\", IntegerType()), StructField(\"b\", StringType())])\n",
    "df4 = session.create_dataframe([[1, \"click\"], [3, \"zetta\"]], schema)\n",
    "df4.show()"
   ]
  },
  {
   "cell_type": "markdown",
   "id": "20318525-29e8-451f-8968-49cb1557254d",
   "metadata": {},
   "source": [
    "Dataframe 写入 Lakehouse 表"
   ]
  },
  {
   "cell_type": "code",
   "execution_count": null,
   "id": "8c48ef1e-3708-4242-bac2-45d31f613f33",
   "metadata": {},
   "outputs": [],
   "source": [
    "df4.write.save_as_table(\"my_table3\", mode=\"overwrite\")\n",
    "session.sql(\"show tables;\").show()"
   ]
  },
  {
   "cell_type": "markdown",
   "id": "17c1d804-2317-4fc5-ba15-116941f03331",
   "metadata": {},
   "source": [
    "创建包含一系列值的 DataFrame，请调用以下range方法："
   ]
  },
  {
   "cell_type": "code",
   "execution_count": null,
   "id": "5aff6ec6-b7fa-4508-a496-05c74bf37f82",
   "metadata": {},
   "outputs": [],
   "source": [
    "df_range = session.range(1, 10, 2).to_df(\"a\")\n",
    "df_range.show()"
   ]
  },
  {
   "cell_type": "markdown",
   "id": "4d4a2726-9816-4c8a-8c2b-10a2a708e4cd",
   "metadata": {},
   "source": [
    "## 对指定数据集进行转换\n",
    "要指定选择哪些列以及如何对结果进行筛选、排序、分组等，请调用转换数据集的 DataFrame 方法。要标识这些方法中的列，请使用col计算结果为列的函数或表达式。"
   ]
  },
  {
   "cell_type": "markdown",
   "id": "48edf21e-2c7b-4301-aedc-60197f1737a1",
   "metadata": {},
   "source": [
    "例如：\n",
    "    要指定应返回哪些行，请调用该filter方法："
   ]
  },
  {
   "cell_type": "code",
   "execution_count": null,
   "id": "9dbba1c7-c24e-443c-9be8-775c3a714098",
   "metadata": {},
   "outputs": [],
   "source": [
    "from clickzetta.zettapark import functions as F"
   ]
  },
  {
   "cell_type": "code",
   "execution_count": null,
   "id": "9b227007-1637-478d-9c67-bb858432b817",
   "metadata": {},
   "outputs": [],
   "source": [
    "df = session.table(\"sample_product_data\").filter(F.col(\"id\") == 1)\n",
    "df.show()"
   ]
  },
  {
   "cell_type": "markdown",
   "id": "11f5cbe5-d470-4d8a-ae7b-e1b80effe3c5",
   "metadata": {},
   "source": [
    "要指定应选择的列，请调用该select方法："
   ]
  },
  {
   "cell_type": "code",
   "execution_count": null,
   "id": "b080e691-a118-471b-82db-9b850cf71ce8",
   "metadata": {},
   "outputs": [],
   "source": [
    "# Create a DataFrame that contains the id, name, and serial_number\n",
    "# columns in the \"sample_product_data\" table.\n",
    "df = session.table(\"sample_product_data\").select(F.col(\"id\"), F.col(\"name\"), F.col(\"serial_number\"))\n",
    "df.show()"
   ]
  },
  {
   "cell_type": "code",
   "execution_count": null,
   "id": "3286b34e-f0ee-496f-8cd7-d67f6ad3ef3f",
   "metadata": {},
   "outputs": [],
   "source": [
    "# Import the col function from the functions module.\n",
    "df_product_info = session.table(\"sample_product_data\")\n",
    "df1 = df_product_info.select(df_product_info[\"id\"], df_product_info[\"name\"], df_product_info[\"serial_number\"])\n",
    "df2 = df_product_info.select(df_product_info.id, df_product_info.name, df_product_info.serial_number)\n",
    "df3 = df_product_info.select(\"id\", \"name\", \"serial_number\")"
   ]
  },
  {
   "cell_type": "markdown",
   "id": "5eabe9c9-5845-4d08-a6e9-440abbf99a41",
   "metadata": {},
   "source": [
    "## 连接DataFrame\n",
    "要连接 DataFrame 对象，请调用以下join方法："
   ]
  },
  {
   "cell_type": "code",
   "execution_count": null,
   "id": "551972f9-72f6-42fa-ac7a-1e1c1f63d198",
   "metadata": {},
   "outputs": [],
   "source": [
    "# Create two DataFrames to join\n",
    "df_lhs = session.create_dataframe([[\"a\", 1], [\"b\", 2]], schema=[\"key\", \"value1\"])\n",
    "df_rhs = session.create_dataframe([[\"a\", 3], [\"b\", 4]], schema=[\"key\", \"value2\"])\n",
    "# Create a DataFrame that joins the two DataFrames\n",
    "# on the column named \"key\".\n",
    "df_lhs.join(df_rhs, df_lhs.col(\"key\") == df_rhs.col(\"key\")).select(df_lhs[\"key\"].as_(\"key\"), \"value1\", \"value2\").show()"
   ]
  },
  {
   "cell_type": "code",
   "execution_count": null,
   "id": "66830616-305c-4034-9b00-77ee5aa1cbea",
   "metadata": {},
   "outputs": [],
   "source": [
    "import copy\n",
    "\n",
    "df = session.table(\"sample_product_data\")\n",
    "# This fails because columns named \"id\" and \"parent_id\"\n",
    "# are in the left and right DataFrames in the join.\n",
    "df_copy = copy.copy(df)\n",
    "df_joined = df.join(df_copy, F.col(\"id\") == F.col(\"parent_id\"))"
   ]
  },
  {
   "cell_type": "markdown",
   "id": "ce95a122-114c-4679-9f0d-1ed6c654374f",
   "metadata": {},
   "source": [
    "## 指定列和表达式\n",
    "调用这些转换方法时，您可能需要指定列或使用列的表达式。例如，调用该select方法时，您需要指定要选择的列。"
   ]
  },
  {
   "cell_type": "code",
   "execution_count": null,
   "id": "59d7abf9-b75d-4f9a-bfd6-132657d51dbd",
   "metadata": {},
   "outputs": [],
   "source": [
    "df_product_info = session.table(\"sample_product_data\").select(F.col(\"id\"), F.col(\"name\"))\n",
    "df_product_info.show()"
   ]
  },
  {
   "cell_type": "markdown",
   "id": "de00d97c-1190-4514-b60a-8001434a96ec",
   "metadata": {},
   "source": [
    "当指定过滤器、投影、连接条件等时，可以Column在表达式中使用对象。例如：\n",
    "您可以使用Column对象和filter方法来指定过滤条件："
   ]
  },
  {
   "cell_type": "code",
   "execution_count": null,
   "id": "814f7363-efbb-4f4f-91e1-57e8407e61cf",
   "metadata": {},
   "outputs": [],
   "source": [
    "# Specify the equivalent of \"WHERE id = 10\"\n",
    "# in a SQL SELECT statement.\n",
    "df_filtered = df_product_info.filter(F.col(\"id\") == 10)\n",
    "df_filtered.show()"
   ]
  },
  {
   "cell_type": "code",
   "execution_count": null,
   "id": "27882e6f-f4a8-4722-9f65-a353593d259a",
   "metadata": {},
   "outputs": [],
   "source": [
    "df = session.create_dataframe([[1, 3], [2, 10]], schema=[\"a\", \"b\"])\n",
    "# Specify the equivalent of \"WHERE a + b < 10\"\n",
    "# in a SQL SELECT statement.\n",
    "df_filtered = df.filter((F.col(\"a\") + F.col(\"b\")) < 10)\n",
    "df_filtered.show()"
   ]
  },
  {
   "cell_type": "code",
   "execution_count": null,
   "id": "e27e3f21-315c-4313-9af6-9b887586fc88",
   "metadata": {},
   "outputs": [],
   "source": [
    "df_filtered.write.save_as_table(\"my_table_df_filtered_ab\", mode=\"overwrite\", table_type=\"transient\")"
   ]
  },
  {
   "cell_type": "code",
   "execution_count": null,
   "id": "505a023e-4e4b-4696-ab32-d9b2053a2a1a",
   "metadata": {},
   "outputs": [],
   "source": [
    "session.table(\"my_table_df_filtered_ab\").collect()"
   ]
  },
  {
   "cell_type": "code",
   "execution_count": null,
   "id": "d8802c91-bb67-46b6-8b5f-237be43b07d1",
   "metadata": {},
   "outputs": [],
   "source": [
    "session.close()"
   ]
  }
 ],
 "metadata": {
  "kernelspec": {
   "display_name": "Python 3 (ipykernel)",
   "language": "python",
   "name": "python3"
  },
  "language_info": {
   "codemirror_mode": {
    "name": "ipython",
    "version": 3
   },
   "file_extension": ".py",
   "mimetype": "text/x-python",
   "name": "python",
   "nbconvert_exporter": "python",
   "pygments_lexer": "ipython3",
   "version": "3.11.9"
  }
 },
 "nbformat": 4,
 "nbformat_minor": 5
}
