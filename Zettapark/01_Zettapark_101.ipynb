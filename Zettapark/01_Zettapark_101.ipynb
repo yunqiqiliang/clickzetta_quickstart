{
 "cells": [
  {
   "cell_type": "markdown",
   "id": "11daed7e",
   "metadata": {},
   "source": [
    "# Introduction to Zettapark for Python\n",
    "\n",
    "A simple demo of how Zetta for Python can be used.\n",
    "\n",
    "You need to load the Campaign spend data, see 00_load_demo_data notebook, and have config.json file with your credetials."
   ]
  },
  {
   "cell_type": "code",
   "execution_count": 1,
   "id": "39d500ee",
   "metadata": {},
   "outputs": [
    {
     "name": "stdout",
     "output_type": "stream",
     "text": [
      "Using Zettapark: 0.1.3\n"
     ]
    }
   ],
   "source": [
    "# Zettapark\n",
    "import clickzetta.zettapark as C\n",
    "from clickzetta.zettapark import Session\n",
    "import clickzetta.zettapark.types as T\n",
    "import clickzetta.zettapark.functions as F\n",
    "from clickzetta.zettapark import Window\n",
    "\n",
    "# Print the version of Zettapark we are using\n",
    "print(f\"Using Zettapark: {C.__version__}\")"
   ]
  },
  {
   "cell_type": "code",
   "execution_count": 2,
   "id": "e0bc1a32-e391-42fe-b264-c97ee0194f64",
   "metadata": {},
   "outputs": [],
   "source": [
    "#!pip install sqlparse"
   ]
  },
  {
   "cell_type": "code",
   "execution_count": 3,
   "id": "00181444",
   "metadata": {},
   "outputs": [
    {
     "data": {
      "text/html": [
       "<style>pre { white-space: pre !important; }</style>"
      ],
      "text/plain": [
       "<IPython.core.display.HTML object>"
      ]
     },
     "metadata": {},
     "output_type": "display_data"
    }
   ],
   "source": [
    "import json\n",
    "\n",
    "# Make sure we do not get line breaks when doing show on wide dataframes\n",
    "from IPython.core.display import HTML\n",
    "display(HTML(\"<style>pre { white-space: pre !important; }</style>\"))\n",
    "\n",
    "import seaborn as sns\n",
    "import matplotlib.pyplot as plt\n",
    "import sqlparse"
   ]
  },
  {
   "cell_type": "markdown",
   "id": "49d8453c",
   "metadata": {},
   "source": [
    "Create a connection to Lakehouse.\n",
    "\n",
    "This example is using a JSON file with the following structure\n",
    "```\n",
    "{\n",
    "  \"username\": \"Please enter your username\",\n",
    "  \"password\": \"Please enter your password\",\n",
    "  \"service\": \"Please enter your service address, e.g. api.clickzetta.com\",\n",
    "  \"instance\": \"Please enter your instance ID\",\n",
    "  \"workspace\": \"Please enter your workspace, e.g. gharchive\",\n",
    "  \"schema\": \"Please enter your schema, e.g. public\",\n",
    "  \"vcluster\": \"Please enter your virtual cluster, e.g. default_ap\",\n",
    "  \"sdk_job_timeout\": 10,\n",
    "  \"hints\": {\n",
    "    \"sdk.job.timeout\": 3,\n",
    "    \"query_tag\": \"Introduction to Zettapark for Python\"\n",
    "  }\n",
    "}\n",
    "\n",
    "\n",
    "```"
   ]
  },
  {
   "cell_type": "code",
   "execution_count": 4,
   "id": "cba59d13",
   "metadata": {},
   "outputs": [
    {
     "name": "stdout",
     "output_type": "stream",
     "text": [
      "Connecting to Lakehouse.....\n",
      "\n",
      "Connected and context as below...\n",
      "\n"
     ]
    }
   ],
   "source": [
    "import json\n",
    "\n",
    "# read connection parameters\n",
    "with open('config.json', 'r') as config_file:\n",
    "    config = json.load(config_file)\n",
    "\n",
    "print(\"Connecting to Lakehouse.....\\n\")\n",
    "\n",
    "# create session\n",
    "session = Session.builder.configs(config).create()\n",
    "\n",
    "print(\"Connected and context as below...\\n\")\n",
    "\n",
    "# print(session.sql(\"SELECT current_instance_id(), current_workspace(),current_workspace_id(), current_schema(), current_user(),current_user_id(), current_vcluster()\").collect())"
   ]
  },
  {
   "cell_type": "code",
   "execution_count": 5,
   "id": "117ff32c",
   "metadata": {},
   "outputs": [],
   "source": [
    "session.sql_simplifier_enabled = True"
   ]
  },
  {
   "cell_type": "code",
   "execution_count": 6,
   "id": "caaf6e9e-d844-4e0f-a009-6dad1c91f032",
   "metadata": {},
   "outputs": [
    {
     "name": "stdout",
     "output_type": "stream",
     "text": [
      "Current schema: CREDIT_SCORING_SCH\n"
     ]
    }
   ],
   "source": [
    "connect_schema = session.get_current_schema()\n",
    "\n",
    "print(f\"Current schema: {connect_schema}\")\n"
   ]
  },
  {
   "cell_type": "markdown",
   "id": "620bc788",
   "metadata": {},
   "source": [
    "The parameters provided for creating a session sets the context ie database, schema, viritual warehouse and role. This can be changed using the **use_** function on the session object\n",
    "\n",
    "Chaning the active schema to config[\"schema\"]"
   ]
  },
  {
   "cell_type": "code",
   "execution_count": 11,
   "id": "d7e43cf4",
   "metadata": {},
   "outputs": [
    {
     "data": {
      "text/plain": [
       "'CREDIT_SCORING_SCH'"
      ]
     },
     "execution_count": 11,
     "metadata": {},
     "output_type": "execute_result"
    }
   ],
   "source": [
    "session.use_schema(config[\"schema\"])\n",
    "session.get_current_schema()"
   ]
  },
  {
   "cell_type": "markdown",
   "id": "2d8fdf5e",
   "metadata": {},
   "source": [
    "We can write SQL using **sql** function on the session object, if we want the SQL to execute on Sowflake we need to use a action method like **show()** or **collect()**"
   ]
  },
  {
   "cell_type": "code",
   "execution_count": 12,
   "id": "10cec6e1",
   "metadata": {},
   "outputs": [
    {
     "name": "stdout",
     "output_type": "stream",
     "text": [
      "+-------------------+-------------+-------------+---------------+---------+----------------+--------------------+------------+------------+-----------------+-----------------+---------------------+--------------+----------------+----------------------+-----------------------+------------+-----------+-------------+\n",
      "|               name|vcluster_size|vcluster_type|max_concurrency|    state|         creator|         create_time|min_replicas|max_replicas|min_vcluster_size|max_vcluster_size|current_vcluster_size|preload_tables|current_replicas|auto_suspend_in_second|auto_scale_in_in_second|running_jobs|queued_jobs|error_message|\n",
      "+-------------------+-------------+-------------+---------------+---------+----------------+--------------------+------------+------------+-----------------+-----------------+---------------------+--------------+----------------+----------------------+-----------------------+------------+-----------+-------------+\n",
      "|  CREDIT_SCORING_VC|            2|      GENERAL|              0|SUSPENDED|         liangmo|2025-02-27 16:51:...|         N/A|         N/A|                2|                2|                    0|           N/A|             N/A|                    60|                    N/A|           0|          0|             |\n",
      "|            DEFAULT|            1|      GENERAL|              0|SUSPENDED|CZ_DP_PRD_PILOT3|2023-08-18 13:54:...|         N/A|         N/A|                1|                1|                    0|           N/A|             N/A|                    60|                    N/A|           0|          0|             |\n",
      "|FE_AND_INFERENCE_WH|            1|      GENERAL|              0|SUSPENDED|         liangmo|2025-02-24 13:26:...|         N/A|         N/A|                1|                1|                    0|           N/A|             N/A|                   600|                    N/A|           0|          0|             |\n",
      "|         QILIANG_AP|            1|    ANALYTICS|              8|SUSPENDED|             N/A|2023-11-28 15:24:...|           1|           2|                1|                1|                    1|              |               0|                   600|                     60|           0|          0|             |\n",
      "|      VC_TPCH_100GB|            2|    ANALYTICS|              8|SUSPENDED|             N/A|2024-03-15 16:15:...|           1|           1|                2|                2|                    2|              |               0|                   300|                     60|           0|          0|             |\n",
      "+-------------------+-------------+-------------+---------------+---------+----------------+--------------------+------------+------------+-----------------+-----------------+---------------------+--------------+----------------+----------------------+-----------------------+------------+-----------+-------------+\n",
      "\n"
     ]
    }
   ],
   "source": [
    "session.sql(\"SHOW VCLUSTERS\").show()"
   ]
  },
  {
   "cell_type": "code",
   "execution_count": 13,
   "id": "18812838",
   "metadata": {},
   "outputs": [],
   "source": [
    "df_campaign_spend = session.table(\"CAMPAIGN_SPEND\")"
   ]
  },
  {
   "cell_type": "code",
   "execution_count": 14,
   "id": "16416410",
   "metadata": {},
   "outputs": [
    {
     "data": {
      "text/plain": [
       "{'queries': ['SELECT  *  FROM CAMPAIGN_SPEND'], 'post_actions': []}"
      ]
     },
     "execution_count": 14,
     "metadata": {},
     "output_type": "execute_result"
    }
   ],
   "source": [
    "df_campaign_spend.queries"
   ]
  },
  {
   "cell_type": "code",
   "execution_count": 15,
   "id": "e034e109",
   "metadata": {},
   "outputs": [
    {
     "name": "stdout",
     "output_type": "stream",
     "text": [
      "+--------------------+-------------+----------+------------+----------+----------+\n",
      "|            campaign|      channel|      date|total_clicks|total_cost|ads_served|\n",
      "+--------------------+-------------+----------+------------+----------+----------+\n",
      "|       winter_sports|        video|2012-06-03|         213|      1762|       426|\n",
      "|sports_across_cul...|        video|2012-06-02|          87|       678|       157|\n",
      "|  building_community|search_engine|2012-06-03|          66|       471|       134|\n",
      "|        world_series| social_media|2017-12-28|          72|       591|       149|\n",
      "|       winter_sports|        email|2018-02-09|         252|      1841|       473|\n",
      "|        spring_break|        video|2017-11-14|         162|      1155|       304|\n",
      "|          nba_finals|        email|2017-11-22|          68|       480|       134|\n",
      "|       winter_sports| social_media|2018-03-10|         227|      1797|       454|\n",
      "|        spring_break|search_engine|2017-08-30|         150|      1226|       302|\n",
      "|                uefa|        video|2017-09-30|          81|       701|       168|\n",
      "+--------------------+-------------+----------+------------+----------+----------+\n",
      "\n"
     ]
    }
   ],
   "source": [
    "df_campaign_spend.show()"
   ]
  },
  {
   "cell_type": "markdown",
   "id": "0c310b7c",
   "metadata": {},
   "source": [
    "Aggregating a DataFrame"
   ]
  },
  {
   "cell_type": "code",
   "execution_count": 16,
   "id": "a6e623e3",
   "metadata": {},
   "outputs": [],
   "source": [
    "df_spend_yearly = df_campaign_spend.group_by(F.year(\"DATE\"), \"CHANNEL\").sum(\"TOTAL_COST\")"
   ]
  },
  {
   "cell_type": "markdown",
   "id": "02575f81",
   "metadata": {},
   "source": [
    "Using the **sqlparse** libary to generate nicer print of the dataframe sql"
   ]
  },
  {
   "cell_type": "code",
   "execution_count": 17,
   "id": "d69e9a89",
   "metadata": {},
   "outputs": [
    {
     "name": "stdout",
     "output_type": "stream",
     "text": [
      "SELECT year(`date`) AS ```year``(``date``)`,\n",
      "       `channel`,\n",
      "       sum(`total_cost`) AS ```sum``(total_cost)`\n",
      "FROM\n",
      "  (SELECT *\n",
      "   FROM CAMPAIGN_SPEND)\n",
      "GROUP BY year(`date`),\n",
      "         `channel`\n"
     ]
    }
   ],
   "source": [
    "print(sqlparse.format(df_spend_yearly.queries['queries'][0], reindent=True))"
   ]
  },
  {
   "cell_type": "code",
   "execution_count": 18,
   "id": "696ce635",
   "metadata": {},
   "outputs": [
    {
     "name": "stdout",
     "output_type": "stream",
     "text": [
      "+--------------+-------------+-----------------+\n",
      "|`year`(`date`)|      channel|`sum`(total_cost)|\n",
      "+--------------+-------------+-----------------+\n",
      "|          2019|search_engine|          6130718|\n",
      "|          2020| social_media|          6140218|\n",
      "|          2020|        video|          6141113|\n",
      "|          2020|search_engine|          6164277|\n",
      "|          2019|        email|          6133148|\n",
      "|          2019| social_media|          6142536|\n",
      "|          2020|        email|          6143928|\n",
      "|          2019|        video|          6132841|\n",
      "|          2012|search_engine|          4117683|\n",
      "|          2012|        video|          4122125|\n",
      "+--------------+-------------+-----------------+\n",
      "\n"
     ]
    }
   ],
   "source": [
    "df_spend_yearly.show()"
   ]
  },
  {
   "cell_type": "markdown",
   "id": "d145aeec",
   "metadata": {},
   "source": [
    "If we would like to plot the data we need to use a third-party library like seaborn that supports Pandas Dataframe as input.\n",
    "A Pandas dataframe can be created with Zettapark using the **to_pandas** function."
   ]
  },
  {
   "cell_type": "code",
   "execution_count": 19,
   "id": "a112f6db",
   "metadata": {},
   "outputs": [
    {
     "data": {
      "image/png": "[encoded data removed]",
      "text/plain": [
       "<Figure size 1600x500 with 1 Axes>"
      ]
     },
     "metadata": {},
     "output_type": "display_data"
    }
   ],
   "source": [
    "pd_data = df_spend_yearly.to_pandas()\n",
    "fig, ax = plt.subplots(figsize=(16, 5))\n",
    "g = sns.barplot(\n",
    "    data=pd_data,\n",
    "    x=\"`year`(`date`)\", y=\"`sum`(total_cost)\", hue=\"channel\", ax=ax\n",
    ")\n",
    "plt.show()"
   ]
  },
  {
   "cell_type": "markdown",
   "id": "9d701954",
   "metadata": {},
   "source": [
    "Of course can multiple agregation be done at the same time"
   ]
  },
  {
   "cell_type": "code",
   "execution_count": 20,
   "id": "0eb8da20",
   "metadata": {},
   "outputs": [
    {
     "name": "stdout",
     "output_type": "stream",
     "text": [
      "+--------------+-------------+----------+--------+\n",
      "|`year`(`date`)|      channel|total_cost|avg_cost|\n",
      "+--------------+-------------+----------+--------+\n",
      "|          2019|search_engine|   6130718|839.8244|\n",
      "|          2020| social_media|   6140218|838.8276|\n",
      "|          2020|        video|   6141113|838.9499|\n",
      "|          2020|search_engine|   6164277|842.1143|\n",
      "|          2019|        email|   6133148|840.1573|\n",
      "|          2019| social_media|   6142536|841.4433|\n",
      "|          2020|        email|   6143928|839.3344|\n",
      "|          2019|        video|   6132841|840.1152|\n",
      "|          2012|search_engine|   4117683|840.3435|\n",
      "|          2012|        video|   4122125|841.2500|\n",
      "+--------------+-------------+----------+--------+\n",
      "\n"
     ]
    }
   ],
   "source": [
    "df_campaign_spend.group_by(F.year(\"DATE\"), \"CHANNEL\").agg([F.sum(\"TOTAL_COST\").as_(\"TOTAL_COST\"),\n",
    "                                                           F.avg(\"TOTAL_COST\").as_(\"AVG_COST\")]).show()"
   ]
  },
  {
   "cell_type": "code",
   "execution_count": 21,
   "id": "bdf55658",
   "metadata": {},
   "outputs": [
    {
     "name": "stdout",
     "output_type": "stream",
     "text": [
      "+--------------+-------------+----------+--------+\n",
      "|`year`(`date`)|      channel|total_cost|avg_cost|\n",
      "+--------------+-------------+----------+--------+\n",
      "|          2020|search_engine|   6164277|842.1143|\n",
      "|          2019| social_media|   6142536|841.4433|\n",
      "|          2012|        video|   4122125|841.2500|\n",
      "|          2017|        video|   6137428|840.7436|\n",
      "|          2016| social_media|   6154412|840.7667|\n",
      "|          2013|        email|   6141913|841.3579|\n",
      "+--------------+-------------+----------+--------+\n",
      "\n"
     ]
    }
   ],
   "source": [
    "df_campaign_spend.group_by(F.year(\"DATE\"), \"CHANNEL\").agg([F.sum(\"TOTAL_COST\").as_(\"TOTAL_COST\"), \n",
    "                                                           F.avg(\"TOTAL_COST\").as_(\"AVG_COST\")])\\\n",
    "                    .filter(F.col(\"AVG_COST\") > 840.7).show()\n"
   ]
  },
  {
   "cell_type": "markdown",
   "id": "d567cb7b",
   "metadata": {},
   "source": [
    "To summarise a column for the whole table"
   ]
  },
  {
   "cell_type": "code",
   "execution_count": 22,
   "id": "9a8b8f6f",
   "metadata": {},
   "outputs": [
    {
     "name": "stdout",
     "output_type": "stream",
     "text": [
      "+----------+\n",
      "|total_cost|\n",
      "+----------+\n",
      "| 246187482|\n",
      "+----------+\n",
      "\n"
     ]
    }
   ],
   "source": [
    "df_campaign_spend.select(F.sum(\"TOTAL_COST\").as_(\"TOTAL_COST\")).show()"
   ]
  },
  {
   "cell_type": "markdown",
   "id": "a80fe7a9",
   "metadata": {},
   "source": [
    "We can by using Window functions calculate things like running sum"
   ]
  },
  {
   "cell_type": "code",
   "execution_count": 23,
   "id": "977cb5e0",
   "metadata": {},
   "outputs": [
    {
     "name": "stdout",
     "output_type": "stream",
     "text": [
      "+--------------------+-------------+----------+------------+----------+----------+-----------+\n",
      "|            campaign|      channel|      date|total_clicks|total_cost|ads_served|running_sum|\n",
      "+--------------------+-------------+----------+------------+----------+----------+-----------+\n",
      "|      family_history| social_media|2012-05-01|          56|       438|       113|        438|\n",
      "|     women_in_sports|        email|2012-05-01|         107|       836|       216|       1274|\n",
      "|thanksgiving_foot...|        video|2012-05-01|          49|       388|        94|       1662|\n",
      "|        memorial_day|        email|2012-05-01|          92|       729|       199|       2391|\n",
      "|        spring_break| social_media|2012-05-01|         113|       778|       202|       3169|\n",
      "|      family_history|search_engine|2012-05-01|          42|       360|        88|       3529|\n",
      "|           world_cup|        email|2012-05-01|          52|       476|       109|       4005|\n",
      "|         stanley_cup| social_media|2012-05-01|          62|       436|       114|       4441|\n",
      "|  building_community| social_media|2012-05-01|          56|       450|       105|       4891|\n",
      "|        spring_break|search_engine|2012-05-01|         108|       807|       211|       5698|\n",
      "+--------------------+-------------+----------+------------+----------+----------+-----------+\n",
      "\n"
     ]
    }
   ],
   "source": [
    "running_window = Window.orderBy(F.col(\"DATE\")).rows_between(Window.UNBOUNDED_PRECEDING, Window.CURRENT_ROW)\n",
    "\n",
    "df_cs_running = df_campaign_spend.with_column(\"RUNNING_SUM\", F.sum(\"TOTAL_COST\").over(running_window))\n",
    "df_cs_running.show()"
   ]
  },
  {
   "cell_type": "code",
   "execution_count": 24,
   "id": "0dc7a5b0",
   "metadata": {},
   "outputs": [
    {
     "data": {
      "text/plain": [
       "{'queries': ['SELECT `campaign`, `channel`, `date`, `total_clicks`, `total_cost`, `ads_served`, sum(`total_cost`) OVER (ORDER BY `date` ASC NULLS FIRST  ROWS BETWEEN UNBOUNDED PRECEDING AND CURRENT ROW) AS `running_sum` FROM CAMPAIGN_SPEND'],\n",
       " 'post_actions': []}"
      ]
     },
     "execution_count": 24,
     "metadata": {},
     "output_type": "execute_result"
    }
   ],
   "source": [
    "df_cs_running.queries"
   ]
  },
  {
   "cell_type": "markdown",
   "id": "badfb9a7",
   "metadata": {},
   "source": [
    "Or using lag to get values from rows before the current"
   ]
  },
  {
   "cell_type": "code",
   "execution_count": 25,
   "id": "bc4b3b33",
   "metadata": {},
   "outputs": [
    {
     "name": "stdout",
     "output_type": "stream",
     "text": [
      "+--------------------+-------------+----------+------------+----------+----------+-------------------------+\n",
      "|            campaign|      channel|      date|total_clicks|total_cost|ads_served|previous_month_total_cost|\n",
      "+--------------------+-------------+----------+------------+----------+----------+-------------------------+\n",
      "|      family_history| social_media|2012-05-01|          56|       438|       113|                     NULL|\n",
      "|     women_in_sports|        email|2012-05-01|         107|       836|       216|                      438|\n",
      "|thanksgiving_foot...|        video|2012-05-01|          49|       388|        94|                      836|\n",
      "|        memorial_day|        email|2012-05-01|          92|       729|       199|                      388|\n",
      "|        spring_break| social_media|2012-05-01|         113|       778|       202|                      729|\n",
      "|      family_history|search_engine|2012-05-01|          42|       360|        88|                      778|\n",
      "|           world_cup|        email|2012-05-01|          52|       476|       109|                      360|\n",
      "|         stanley_cup| social_media|2012-05-01|          62|       436|       114|                      476|\n",
      "|  building_community| social_media|2012-05-01|          56|       450|       105|                      436|\n",
      "|        spring_break|search_engine|2012-05-01|         108|       807|       211|                      450|\n",
      "+--------------------+-------------+----------+------------+----------+----------+-------------------------+\n",
      "\n"
     ]
    }
   ],
   "source": [
    "df_campaign_spend.with_column(\"PREVIOUS_MONTH_TOTAL_COST\", F.lag(F.col(\"TOTAL_COST\"), 1).over(Window.orderBy(F.col(\"DATE\"))))\\\n",
    "                .show()"
   ]
  },
  {
   "cell_type": "markdown",
   "id": "46a9463b",
   "metadata": {},
   "source": [
    "### Loading data from files into Lakehouse using Zettapark\n",
    "\n",
    "Files can be loaded into tables in Lakehouse using Zettapark by primary two ways\n",
    "* Load the file into a Pandas Dataframe and use **write_pandas** to load it to a table\n",
    "* Upload the file to a stage (external & internal) and load it to Lakehouse\n",
    "\n",
    "Loading a file using user volume."
   ]
  },
  {
   "cell_type": "code",
   "execution_count": 27,
   "id": "ac4c5481-52a4-47b1-b37f-16536cb74554",
   "metadata": {},
   "outputs": [],
   "source": [
    "data_path = \"./data/\" # WHere the data files is stored localy\n",
    "data_volume_name = \"user\" # Using the user stage\n",
    "DATABASE_NAME = config['workspace']# Name of Database \n",
    "DATABASE_SCHEMA = config['schema'] # Name of schema to store data and files in \n",
    "FULLY_QUALIFIED_NAME = f\"{DATABASE_NAME}.{DATABASE_SCHEMA}\""
   ]
  },
  {
   "cell_type": "code",
   "execution_count": 28,
   "id": "20e4ed20",
   "metadata": {},
   "outputs": [
    {
     "data": {
      "text/plain": [
       "[PutResult(source='data/fraud_transactions.csv', target='/csv/fraud_transactions.csv', source_size=94264772, target_size=94264772)]"
      ]
     },
     "execution_count": 28,
     "metadata": {},
     "output_type": "execute_result"
    }
   ],
   "source": [
    "# Upload the source file to the stage\n",
    "putResult = session.file.put(f\"{data_path}fraud_transactions.csv\", f\"volume:{data_volume_name}://~/csv/\", auto_compress=True, overwrite=True)\n",
    "\n",
    "putResult"
   ]
  },
  {
   "cell_type": "markdown",
   "id": "72775a24",
   "metadata": {},
   "source": [
    "In order to load a CSV file a schema needs to be defined"
   ]
  },
  {
   "cell_type": "code",
   "execution_count": 29,
   "id": "096640a7",
   "metadata": {},
   "outputs": [],
   "source": [
    "# user_schema is used to read from CSV files. For other files it's not needed.\n",
    "dfCustTrxFraudSchema = T.StructType(\n",
    "    [\n",
    "        T.StructField(\"TRANSACTION_ID\", T.IntegerType()),\n",
    "        T.StructField(\"TX_DATETIME\", T.TimestampType()),\n",
    "        T.StructField(\"CUSTOMER_ID\", T.IntegerType()),\n",
    "        T.StructField(\"TERMINAL_ID\", T.IntegerType()),\n",
    "        T.StructField(\"TX_AMOUNT\", T.FloatType()),\n",
    "        T.StructField(\"TX_TIME_SECONDS\", T.IntegerType()),\n",
    "        T.StructField(\"TX_TIME_DAYS\", T.IntegerType()),\n",
    "        T.StructField(\"TX_FRAUD\", T.IntegerType()),\n",
    "        T.StructField(\"TX_FRAUD_SCENARIO\", T.IntegerType())\n",
    "    ]\n",
    ")"
   ]
  },
  {
   "cell_type": "markdown",
   "id": "f2f86ad3",
   "metadata": {},
   "source": [
    "Using the reader to create a dataframe that reads the file on stage using the above schema"
   ]
  },
  {
   "cell_type": "code",
   "execution_count": 30,
   "id": "a3b3ed57",
   "metadata": {},
   "outputs": [],
   "source": [
    "# Crete a reader\n",
    "dfReader = session.read.schema(dfCustTrxFraudSchema)\n",
    "\n",
    "# Get the data into the data frame\n",
    "dfCustTrxFraudRd = dfReader.option(\"field_delimiter\", \",\").csv(f\"volume:{data_volume_name}://~/csv/fraud_transactions.csv\")"
   ]
  },
  {
   "cell_type": "code",
   "execution_count": 31,
   "id": "cc6521bc-a908-4302-b3ba-096ec1a7a582",
   "metadata": {},
   "outputs": [
    {
     "data": {
      "text/plain": [
       "1466282"
      ]
     },
     "execution_count": 31,
     "metadata": {},
     "output_type": "execute_result"
    }
   ],
   "source": [
    "dfCustTrxFraudRd.count()"
   ]
  },
  {
   "cell_type": "code",
   "execution_count": 32,
   "id": "004afa23",
   "metadata": {},
   "outputs": [
    {
     "name": "stdout",
     "output_type": "stream",
     "text": [
      "+--------------+-------------------+-----------+-----------+---------+---------------+------------+--------+-----------------+\n",
      "|transaction_id|        tx_datetime|customer_id|terminal_id|tx_amount|tx_time_seconds|tx_time_days|tx_fraud|tx_fraud_scenario|\n",
      "+--------------+-------------------+-----------+-----------+---------+---------------+------------+--------+-----------------+\n",
      "|             0|2019-04-01 08:00:31|        596|       3156|    57.16|             31|           0|       0|                0|\n",
      "|             1|2019-04-01 08:02:10|       4961|       3412|    81.51|            130|           0|       0|                0|\n",
      "|             2|2019-04-01 08:07:56|          2|       1365|      146|            476|           0|       0|                0|\n",
      "|             3|2019-04-01 08:09:29|       4128|       8737|    64.49|            569|           0|       0|                0|\n",
      "|             4|2019-04-01 08:10:34|        927|       9906|    50.99|            634|           0|       0|                0|\n",
      "|             5|2019-04-01 08:10:45|        568|       8803|    44.71|            645|           0|       0|                0|\n",
      "|             6|2019-04-01 08:11:30|       2803|       5490|    96.03|            690|           0|       0|                0|\n",
      "|             7|2019-04-01 08:11:44|       4684|       2486|    24.36|            704|           0|       0|                0|\n",
      "|             8|2019-04-01 08:11:53|       4128|       8354|    26.34|            713|           0|       0|                0|\n",
      "|             9|2019-04-01 08:13:44|        541|       6212|    59.07|            824|           0|       0|                0|\n",
      "+--------------+-------------------+-----------+-----------+---------+---------------+------------+--------+-----------------+\n",
      "\n"
     ]
    }
   ],
   "source": [
    "dfCustTrxFraudRd.show()"
   ]
  },
  {
   "cell_type": "code",
   "execution_count": 33,
   "id": "9a54144f",
   "metadata": {},
   "outputs": [
    {
     "name": "stdout",
     "output_type": "stream",
     "text": [
      "SELECT *\n",
      "FROM USER VOLUME (`transaction_id` int, `tx_datetime` timestamp_ltz, `customer_id` int, `terminal_id` int, `tx_amount` float, `tx_time_seconds` int, `tx_time_days` int, `tx_fraud` int, `tx_fraud_scenario` int) USING CSV OPTIONS ('field_delimiter' = ',') FILES ('/csv/fraud_transactions.csv')\n"
     ]
    }
   ],
   "source": [
    "for query in dfCustTrxFraudRd.queries['queries']:\n",
    "    print(sqlparse.format(query, reindent=True))"
   ]
  },
  {
   "cell_type": "markdown",
   "id": "d0d05a08",
   "metadata": {},
   "source": [
    "To save the data into a table **save_as_table** can be used."
   ]
  },
  {
   "cell_type": "code",
   "execution_count": 34,
   "id": "3883429d",
   "metadata": {},
   "outputs": [],
   "source": [
    "session.sql(\"DROP TABLE IF EXISTS copied_into_table\").collect()\n",
    "copied_into_result = dfCustTrxFraudRd.write.save_as_table(f\"{FULLY_QUALIFIED_NAME}.copied_into_table\")"
   ]
  },
  {
   "cell_type": "code",
   "execution_count": 37,
   "id": "e7e79688-fe61-4881-adfc-f508175ee784",
   "metadata": {},
   "outputs": [
    {
     "data": {
      "text/plain": [
       "1466282"
      ]
     },
     "execution_count": 37,
     "metadata": {},
     "output_type": "execute_result"
    }
   ],
   "source": [
    "session.table(\"copied_into_table\").count()"
   ]
  },
  {
   "cell_type": "code",
   "execution_count": 38,
   "id": "a7436104",
   "metadata": {},
   "outputs": [
    {
     "name": "stdout",
     "output_type": "stream",
     "text": [
      "+--------------+-------------------+-----------+-----------+---------+---------------+------------+--------+-----------------+\n",
      "|transaction_id|        tx_datetime|customer_id|terminal_id|tx_amount|tx_time_seconds|tx_time_days|tx_fraud|tx_fraud_scenario|\n",
      "+--------------+-------------------+-----------+-----------+---------+---------------+------------+--------+-----------------+\n",
      "|             0|2019-04-01 08:00:31|        596|       3156|    57.16|             31|           0|       0|                0|\n",
      "|             1|2019-04-01 08:02:10|       4961|       3412|    81.51|            130|           0|       0|                0|\n",
      "|             2|2019-04-01 08:07:56|          2|       1365|      146|            476|           0|       0|                0|\n",
      "|             3|2019-04-01 08:09:29|       4128|       8737|    64.49|            569|           0|       0|                0|\n",
      "|             4|2019-04-01 08:10:34|        927|       9906|    50.99|            634|           0|       0|                0|\n",
      "|             5|2019-04-01 08:10:45|        568|       8803|    44.71|            645|           0|       0|                0|\n",
      "|             6|2019-04-01 08:11:30|       2803|       5490|    96.03|            690|           0|       0|                0|\n",
      "|             7|2019-04-01 08:11:44|       4684|       2486|    24.36|            704|           0|       0|                0|\n",
      "|             8|2019-04-01 08:11:53|       4128|       8354|    26.34|            713|           0|       0|                0|\n",
      "|             9|2019-04-01 08:13:44|        541|       6212|    59.07|            824|           0|       0|                0|\n",
      "+--------------+-------------------+-----------+-----------+---------+---------------+------------+--------+-----------------+\n",
      "\n"
     ]
    }
   ],
   "source": [
    "session.table(\"copied_into_table\").show()"
   ]
  },
  {
   "cell_type": "code",
   "execution_count": 39,
   "id": "524b4a73",
   "metadata": {},
   "outputs": [],
   "source": [
    "session.close()"
   ]
  },
  {
   "cell_type": "code",
   "execution_count": null,
   "id": "3213610a-4f36-40f1-9fe3-92bbe4dc4f9d",
   "metadata": {},
   "outputs": [],
   "source": []
  }
 ],
 "metadata": {
  "kernelspec": {
   "display_name": "Python 3 (ipykernel)",
   "language": "python",
   "name": "python3"
  },
  "language_info": {
   "codemirror_mode": {
    "name": "ipython",
    "version": 3
   },
   "file_extension": ".py",
   "mimetype": "text/x-python",
   "name": "python",
   "nbconvert_exporter": "python",
   "pygments_lexer": "ipython3",
   "version": "3.11.9"
  }
 },
 "nbformat": 4,
 "nbformat_minor": 5
}
