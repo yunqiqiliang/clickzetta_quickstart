{
 "cells": [
  {
   "cell_type": "markdown",
   "id": "42ae31ab",
   "metadata": {},
   "source": [
    "##  Credit Scoring with Zettapark for Python Set-up Notebook\n",
    "\n",
    "\n",
    "### 1. Singdata Lakehouse Trial Account\n",
    "\n",
    "The prerequisite is to have a Singdata Lakehouse account. If you do not have a Singdata Lakehouse account, you can [cantact us](https://www.singdata.com/contactus) for a free trial using.\n",
    "\n",
    "After signing-up for the trial, please bookmark the URL of the Singdata Lakehouse account, and save your credentials as they will be needed in this lab.\n",
    "\n",
    "\n",
    "This version requires Zettapark **0.1.2** or higher\n",
    "\n",
    "### 2. Python Libraries\n",
    "\n",
    "The following libraries are needed to run this demo. In this section, add any python library missing in your environment."
   ]
  },
  {
   "cell_type": "code",
   "execution_count": 1,
   "id": "3676aa67-3027-4a4d-ac9b-2884ae7aedd0",
   "metadata": {},
   "outputs": [],
   "source": [
    "# !pip install -q --upgrade clickzetta_zettapark_python"
   ]
  },
  {
   "cell_type": "code",
   "execution_count": 2,
   "id": "36b6734c",
   "metadata": {},
   "outputs": [],
   "source": [
    "# !pip install scikit-plot"
   ]
  },
  {
   "cell_type": "code",
   "execution_count": 3,
   "id": "3a77c0fd",
   "metadata": {},
   "outputs": [],
   "source": [
    "# !pip install pyarrow==6.0.0"
   ]
  },
  {
   "cell_type": "code",
   "execution_count": 4,
   "id": "7446b7a8",
   "metadata": {},
   "outputs": [],
   "source": [
    "# !pip install seaborn"
   ]
  },
  {
   "cell_type": "code",
   "execution_count": 5,
   "id": "3b78d37d",
   "metadata": {},
   "outputs": [],
   "source": [
    "# !pip install matplotlib"
   ]
  },
  {
   "cell_type": "markdown",
   "id": "9e2e0410",
   "metadata": {},
   "source": [
    "### 3. File Download\n",
    "\n",
    "#### 3.1 The Dataset"
   ]
  },
  {
   "cell_type": "code",
   "execution_count": 6,
   "id": "55e7d5c2",
   "metadata": {},
   "outputs": [
    {
     "name": "stdout",
     "output_type": "stream",
     "text": [
      "  % Total    % Received % Xferd  Average Speed   Time    Time     Time  Current\n",
      "                                 Dload  Upload   Total   Spent    Left  Speed\n",
      "100  292k  100  292k    0     0  66280      0  0:00:04  0:00:04 --:--:-- 69100\n"
     ]
    }
   ],
   "source": [
    "! curl -o data/credit_files.csv https://raw.githubusercontent.com/yunqiqiliang/clickzetta_quickstart/refs/heads/main/Zettapark-credit-scoring/data/credit_files.csv"
   ]
  },
  {
   "cell_type": "code",
   "execution_count": 7,
   "id": "c206e595",
   "metadata": {},
   "outputs": [
    {
     "name": "stdout",
     "output_type": "stream",
     "text": [
      "  % Total    % Received % Xferd  Average Speed   Time    Time     Time  Current\n",
      "                                 Dload  Upload   Total   Spent    Left  Speed\n",
      "100  6068  100  6068    0     0   2297      0  0:00:02  0:00:02 --:--:--  2297\n"
     ]
    }
   ],
   "source": [
    "! curl -o data/credit_request.csv https://raw.githubusercontent.com/yunqiqiliang/clickzetta_quickstart/refs/heads/main/Zettapark-credit-scoring/data/credit_request.csv"
   ]
  },
  {
   "cell_type": "markdown",
   "id": "9669ec58",
   "metadata": {},
   "source": [
    "#### 3.2 The config.json credential file\n",
    "\n",
    "The file below needs to be edited with credentials of your Singdata Lakehouse account and saved. It will be used to connect to Singdata Lakehouse on the main Notebook:\n",
    "\n",
    "\n",
    "```\n",
    "\n",
    "{\n",
    "  \"username\": \"<username>\",\n",
    "  \"password\": \"<password>\",\n",
    "  \"service\": \"<service url>\",\n",
    "  \"instance\": \"<instance id>\",\n",
    "  \"workspace\": \"<workspace>\",\n",
    "  \"schema\": \"<schema>\",\n",
    "  \"vcluster\": \"<vcluster>\",\n",
    "  \"sdk_job_timeout\": 60,\n",
    "  \"hints\": {\n",
    "    \"sdk.job.timeout\": 60,\n",
    "    \"query_tag\": \"test_zettapark_credit_scoring\"\n",
    "  }\n",
    "}\n",
    "```   "
   ]
  },
  {
   "cell_type": "code",
   "execution_count": 8,
   "id": "2d216cfc",
   "metadata": {},
   "outputs": [
    {
     "name": "stdout",
     "output_type": "stream",
     "text": [
      "  % Total    % Received % Xferd  Average Speed   Time    Time     Time  Current\n",
      "                                 Dload  Upload   Total   Spent    Left  Speed\n",
      "100   321  100   321    0     0    138      0  0:00:02  0:00:02 --:--:--   138\n"
     ]
    }
   ],
   "source": [
    "! curl -o config/config_tobe_renamed.json https://raw.githubusercontent.com/yunqiqiliang/clickzetta_quickstart/refs/heads/main/Zettapark-credit-scoring/config/config.json"
   ]
  },
  {
   "cell_type": "markdown",
   "id": "a6539fca",
   "metadata": {},
   "source": [
    "### 4. The Database\n",
    "\n",
    "In the section below, please fill-up the different parameters to connect to your Singdata Lakehouse Environment in the config.json file."
   ]
  },
  {
   "cell_type": "code",
   "execution_count": null,
   "id": "4b3e2630",
   "metadata": {},
   "outputs": [],
   "source": [
    "import pandas as pd\n",
    "import json\n",
    "from clickzetta.zettapark.session import Session\n",
    "import clickzetta.zettapark.functions as F\n",
    "import warnings\n",
    "\n",
    "warnings.filterwarnings(\"ignore\", category=FutureWarning)\n",
    "\n",
    "# read connection para from config file\n",
    "with open('config/config.json', 'r') as config_file:\n",
    "    config = json.load(config_file)\n",
    "\n",
    "schema = config['schema']\n",
    "vcluster = config['vcluster']\n",
    "\n",
    "print(\"Connecting to Lakehouse.....\\n\")\n",
    "\n",
    "# create session\n",
    "session = Session.builder.configs(config).create()\n",
    "\n",
    "session.sql(f\"CREATE SCHEMA IF NOT EXISTS {schema}\").collect()\n",
    "session.sql(f\"CREATE VCLUSTER IF NOT EXISTS {vcluster} VCLUSTER_SIZE=1 VCLUSTER_TYPE = GENERAL\").collect()\n",
    "\n",
    "print(session.sql(\"SELECT current_instance_id(), current_workspace(),current_workspace_id(), current_schema(), current_user(),current_user_id(), current_vcluster()\").collect())\n",
    "\n",
    "print(\"\\nConnected！...\\n\")"
   ]
  },
  {
   "cell_type": "markdown",
   "id": "cddf3c4a",
   "metadata": {},
   "source": [
    "### 5. The Tables\n",
    "\n",
    "There are 2 tables associated with this demo:\n",
    "\n",
    "* CREDIT_FILES: This table contains currently the credit on files along with the credit standing whether the loan is being repaid or if there are actual issues with reimbursing the credit. This dataset is going to be used for historical analysis and build a machine learning model to score new applications.\n",
    "\n",
    "* CREDIT_REQUESTS: This table contains the new credit requests that the bank needs to provide approval on based on the ML algorithm.\n",
    "\n",
    "\n",
    "#### 5.1 CREDIT_FILES Table\n",
    "\n"
   ]
  },
  {
   "cell_type": "markdown",
   "id": "87ac1fb6",
   "metadata": {},
   "source": [
    "After check running the command below, log into your Singdata Lakehouse environment and make sure the table was created. It should have 2.9K rows. "
   ]
  },
  {
   "cell_type": "code",
   "execution_count": 10,
   "id": "90375742",
   "metadata": {},
   "outputs": [
    {
     "data": {
      "text/plain": [
       "<clickzetta.zettapark.table.Table at 0x7fe58538e990>"
      ]
     },
     "execution_count": 10,
     "metadata": {},
     "output_type": "execute_result"
    }
   ],
   "source": [
    "credit_files = pd.read_csv('data/credit_files.csv')\n",
    "credit_files.columns = credit_files.columns.str.lower()\n",
    "session.sql(\"drop table if exists CREDIT_FILES\").collect()\n",
    "session.write_pandas(credit_files,\"CREDIT_FILES\",auto_create_table='True', quote_identifiers=False)"
   ]
  },
  {
   "cell_type": "code",
   "execution_count": 11,
   "id": "0976adbd",
   "metadata": {},
   "outputs": [
    {
     "data": {
      "text/plain": [
       "StructType([StructField('`credit_request_id`', LongType(), nullable=True), StructField('`credit_amount`', LongType(), nullable=True), StructField('`credit_duration`', LongType(), nullable=True), StructField('`purpose`', StringType(), nullable=True), StructField('`installment_commitment`', LongType(), nullable=True), StructField('`other_parties`', StringType(), nullable=True), StructField('`credit_standing`', StringType(), nullable=True), StructField('`credit_score`', LongType(), nullable=True), StructField('`checking_balance`', DoubleType(), nullable=True), StructField('`savings_balance`', DoubleType(), nullable=True), StructField('`existing_credits`', LongType(), nullable=True), StructField('`assets`', StringType(), nullable=True), StructField('`housing`', StringType(), nullable=True), StructField('`qualification`', StringType(), nullable=True), StructField('`job_history`', LongType(), nullable=True), StructField('`age`', LongType(), nullable=True), StructField('`sex`', StringType(), nullable=True), StructField('`marital_status`', StringType(), nullable=True), StructField('`num_dependents`', LongType(), nullable=True), StructField('`residence_since`', LongType(), nullable=True), StructField('`other_payment_plans`', StringType(), nullable=True)])"
      ]
     },
     "execution_count": 11,
     "metadata": {},
     "output_type": "execute_result"
    }
   ],
   "source": [
    "credit_df = session.table(\"CREDIT_FILES\")\n",
    "credit_df.schema"
   ]
  },
  {
   "cell_type": "code",
   "execution_count": 12,
   "id": "e52c7b64",
   "metadata": {},
   "outputs": [
    {
     "data": {
      "text/html": [
       "<div>\n",
       "<style scoped>\n",
       "    .dataframe tbody tr th:only-of-type {\n",
       "        vertical-align: middle;\n",
       "    }\n",
       "\n",
       "    .dataframe tbody tr th {\n",
       "        vertical-align: top;\n",
       "    }\n",
       "\n",
       "    .dataframe thead th {\n",
       "        text-align: right;\n",
       "    }\n",
       "</style>\n",
       "<table border=\"1\" class=\"dataframe\">\n",
       "  <thead>\n",
       "    <tr style=\"text-align: right;\">\n",
       "      <th></th>\n",
       "      <th>credit_request_id</th>\n",
       "      <th>credit_amount</th>\n",
       "      <th>credit_duration</th>\n",
       "      <th>purpose</th>\n",
       "      <th>installment_commitment</th>\n",
       "      <th>other_parties</th>\n",
       "      <th>credit_standing</th>\n",
       "      <th>credit_score</th>\n",
       "      <th>checking_balance</th>\n",
       "      <th>savings_balance</th>\n",
       "      <th>...</th>\n",
       "      <th>assets</th>\n",
       "      <th>housing</th>\n",
       "      <th>qualification</th>\n",
       "      <th>job_history</th>\n",
       "      <th>age</th>\n",
       "      <th>sex</th>\n",
       "      <th>marital_status</th>\n",
       "      <th>num_dependents</th>\n",
       "      <th>residence_since</th>\n",
       "      <th>other_payment_plans</th>\n",
       "    </tr>\n",
       "  </thead>\n",
       "  <tbody>\n",
       "    <tr>\n",
       "      <th>0</th>\n",
       "      <td>147</td>\n",
       "      <td>8600</td>\n",
       "      <td>6</td>\n",
       "      <td>Vehicle</td>\n",
       "      <td>1</td>\n",
       "      <td>None</td>\n",
       "      <td>good</td>\n",
       "      <td>466</td>\n",
       "      <td>-728.12</td>\n",
       "      <td>17.0</td>\n",
       "      <td>...</td>\n",
       "      <td>None</td>\n",
       "      <td>own</td>\n",
       "      <td>skilled</td>\n",
       "      <td>15</td>\n",
       "      <td>39</td>\n",
       "      <td>F</td>\n",
       "      <td>Married</td>\n",
       "      <td>1</td>\n",
       "      <td>4</td>\n",
       "      <td>none</td>\n",
       "    </tr>\n",
       "    <tr>\n",
       "      <th>1</th>\n",
       "      <td>248</td>\n",
       "      <td>12040</td>\n",
       "      <td>6</td>\n",
       "      <td>Vehicle</td>\n",
       "      <td>4</td>\n",
       "      <td>None</td>\n",
       "      <td>good</td>\n",
       "      <td>202</td>\n",
       "      <td>0.00</td>\n",
       "      <td>2443.0</td>\n",
       "      <td>...</td>\n",
       "      <td>None</td>\n",
       "      <td>rent</td>\n",
       "      <td>skilled</td>\n",
       "      <td>1</td>\n",
       "      <td>35</td>\n",
       "      <td>M</td>\n",
       "      <td>Single</td>\n",
       "      <td>1</td>\n",
       "      <td>1</td>\n",
       "      <td>bank</td>\n",
       "    </tr>\n",
       "    <tr>\n",
       "      <th>2</th>\n",
       "      <td>112</td>\n",
       "      <td>3920</td>\n",
       "      <td>15</td>\n",
       "      <td>Tuition</td>\n",
       "      <td>4</td>\n",
       "      <td>None</td>\n",
       "      <td>good</td>\n",
       "      <td>736</td>\n",
       "      <td>4696.00</td>\n",
       "      <td>143.0</td>\n",
       "      <td>...</td>\n",
       "      <td>Investments</td>\n",
       "      <td>rent</td>\n",
       "      <td>skilled</td>\n",
       "      <td>1</td>\n",
       "      <td>23</td>\n",
       "      <td>F</td>\n",
       "      <td>Married</td>\n",
       "      <td>1</td>\n",
       "      <td>4</td>\n",
       "      <td>none</td>\n",
       "    </tr>\n",
       "    <tr>\n",
       "      <th>3</th>\n",
       "      <td>222</td>\n",
       "      <td>12000</td>\n",
       "      <td>12</td>\n",
       "      <td>Tuition</td>\n",
       "      <td>4</td>\n",
       "      <td>None</td>\n",
       "      <td>good</td>\n",
       "      <td>732</td>\n",
       "      <td>-25.35</td>\n",
       "      <td>0.0</td>\n",
       "      <td>...</td>\n",
       "      <td>Investments</td>\n",
       "      <td>rent</td>\n",
       "      <td>skilled</td>\n",
       "      <td>3</td>\n",
       "      <td>23</td>\n",
       "      <td>F</td>\n",
       "      <td>Married</td>\n",
       "      <td>1</td>\n",
       "      <td>4</td>\n",
       "      <td>bank</td>\n",
       "    </tr>\n",
       "    <tr>\n",
       "      <th>4</th>\n",
       "      <td>162</td>\n",
       "      <td>10550</td>\n",
       "      <td>18</td>\n",
       "      <td>Vehicle</td>\n",
       "      <td>4</td>\n",
       "      <td>None</td>\n",
       "      <td>good</td>\n",
       "      <td>507</td>\n",
       "      <td>0.00</td>\n",
       "      <td>510.0</td>\n",
       "      <td>...</td>\n",
       "      <td>Investments</td>\n",
       "      <td>own</td>\n",
       "      <td>skilled</td>\n",
       "      <td>1</td>\n",
       "      <td>30</td>\n",
       "      <td>F</td>\n",
       "      <td>Married</td>\n",
       "      <td>1</td>\n",
       "      <td>1</td>\n",
       "      <td>none</td>\n",
       "    </tr>\n",
       "  </tbody>\n",
       "</table>\n",
       "<p>5 rows × 21 columns</p>\n",
       "</div>"
      ],
      "text/plain": [
       "   credit_request_id  credit_amount  credit_duration  purpose  \\\n",
       "0                147           8600                6  Vehicle   \n",
       "1                248          12040                6  Vehicle   \n",
       "2                112           3920               15  Tuition   \n",
       "3                222          12000               12  Tuition   \n",
       "4                162          10550               18  Vehicle   \n",
       "\n",
       "   installment_commitment other_parties credit_standing  credit_score  \\\n",
       "0                       1          None            good           466   \n",
       "1                       4          None            good           202   \n",
       "2                       4          None            good           736   \n",
       "3                       4          None            good           732   \n",
       "4                       4          None            good           507   \n",
       "\n",
       "   checking_balance  savings_balance  ...       assets housing qualification  \\\n",
       "0           -728.12             17.0  ...         None     own       skilled   \n",
       "1              0.00           2443.0  ...         None    rent       skilled   \n",
       "2           4696.00            143.0  ...  Investments    rent       skilled   \n",
       "3            -25.35              0.0  ...  Investments    rent       skilled   \n",
       "4              0.00            510.0  ...  Investments     own       skilled   \n",
       "\n",
       "  job_history  age  sex marital_status num_dependents  residence_since  \\\n",
       "0          15   39    F        Married              1                4   \n",
       "1           1   35    M         Single              1                1   \n",
       "2           1   23    F        Married              1                4   \n",
       "3           3   23    F        Married              1                4   \n",
       "4           1   30    F        Married              1                1   \n",
       "\n",
       "   other_payment_plans  \n",
       "0                 none  \n",
       "1                 bank  \n",
       "2                 none  \n",
       "3                 bank  \n",
       "4                 none  \n",
       "\n",
       "[5 rows x 21 columns]"
      ]
     },
     "execution_count": 12,
     "metadata": {},
     "output_type": "execute_result"
    }
   ],
   "source": [
    "credit_df.toPandas().head()"
   ]
  },
  {
   "cell_type": "code",
   "execution_count": 13,
   "id": "c550638a",
   "metadata": {},
   "outputs": [
    {
     "name": "stdout",
     "output_type": "stream",
     "text": [
      "<class 'pandas.core.frame.DataFrame'>\n",
      "RangeIndex: 2940 entries, 0 to 2939\n",
      "Data columns (total 21 columns):\n",
      " #   Column                  Non-Null Count  Dtype  \n",
      "---  ------                  --------------  -----  \n",
      " 0   credit_request_id       2940 non-null   int64  \n",
      " 1   credit_amount           2940 non-null   int64  \n",
      " 2   credit_duration         2940 non-null   int64  \n",
      " 3   purpose                 2940 non-null   object \n",
      " 4   installment_commitment  2940 non-null   int64  \n",
      " 5   other_parties           271 non-null    object \n",
      " 6   credit_standing         2940 non-null   object \n",
      " 7   credit_score            2940 non-null   int64  \n",
      " 8   checking_balance        2940 non-null   float64\n",
      " 9   savings_balance         2940 non-null   float64\n",
      " 10  existing_credits        2940 non-null   int64  \n",
      " 11  assets                  2489 non-null   object \n",
      " 12  housing                 2940 non-null   object \n",
      " 13  qualification           2940 non-null   object \n",
      " 14  job_history             2940 non-null   int64  \n",
      " 15  age                     2940 non-null   int64  \n",
      " 16  sex                     2940 non-null   object \n",
      " 17  marital_status          2940 non-null   object \n",
      " 18  num_dependents          2940 non-null   int64  \n",
      " 19  residence_since         2940 non-null   int64  \n",
      " 20  other_payment_plans     2940 non-null   object \n",
      "dtypes: float64(2), int64(10), object(9)\n",
      "memory usage: 482.5+ KB\n"
     ]
    }
   ],
   "source": [
    "credit_df.toPandas().info()"
   ]
  },
  {
   "cell_type": "markdown",
   "id": "61582b2b",
   "metadata": {},
   "source": [
    "#### 5.2 CREDIT_REQUEST Table"
   ]
  },
  {
   "cell_type": "markdown",
   "id": "91f6e37f",
   "metadata": {},
   "source": [
    "After check running the command below, log into your Singdata Lakehouse environment and make sure the table was created. It should have 60 rows."
   ]
  },
  {
   "cell_type": "code",
   "execution_count": 14,
   "id": "752f337f",
   "metadata": {},
   "outputs": [
    {
     "data": {
      "text/plain": [
       "<clickzetta.zettapark.table.Table at 0x7fe50b7556d0>"
      ]
     },
     "execution_count": 14,
     "metadata": {},
     "output_type": "execute_result"
    }
   ],
   "source": [
    "credit_requests = pd.read_csv('data/credit_request.csv')\n",
    "credit_requests.columns = credit_requests.columns.str.lower()\n",
    "session.sql(\"drop table if exists CREDIT_REQUESTS\").collect()\n",
    "session.write_pandas(credit_requests,\"CREDIT_REQUESTS\",auto_create_table='True', quote_identifiers=False)"
   ]
  },
  {
   "cell_type": "code",
   "execution_count": 15,
   "id": "c8fd2b53",
   "metadata": {},
   "outputs": [
    {
     "data": {
      "text/plain": [
       "StructType([StructField('`credit_request_id`', LongType(), nullable=True), StructField('`credit_amount`', LongType(), nullable=True), StructField('`credit_duration`', LongType(), nullable=True), StructField('`purpose`', StringType(), nullable=True), StructField('`installment_commitment`', LongType(), nullable=True), StructField('`other_parties`', StringType(), nullable=True), StructField('`credit_score`', LongType(), nullable=True), StructField('`checking_balance`', DoubleType(), nullable=True), StructField('`savings_balance`', DoubleType(), nullable=True), StructField('`existing_credits`', LongType(), nullable=True), StructField('`assets`', StringType(), nullable=True), StructField('`housing`', StringType(), nullable=True), StructField('`qualification`', StringType(), nullable=True), StructField('`job_history`', LongType(), nullable=True), StructField('`age`', LongType(), nullable=True), StructField('`sex`', StringType(), nullable=True), StructField('`marital_status`', StringType(), nullable=True), StructField('`num_dependents`', LongType(), nullable=True), StructField('`residence_since`', LongType(), nullable=True), StructField('`other_payment_plans`', StringType(), nullable=True)])"
      ]
     },
     "execution_count": 15,
     "metadata": {},
     "output_type": "execute_result"
    }
   ],
   "source": [
    "credit_req_df = session.table(\"CREDIT_REQUESTS\")\n",
    "credit_req_df.schema"
   ]
  },
  {
   "cell_type": "code",
   "execution_count": 16,
   "id": "0c615429",
   "metadata": {},
   "outputs": [
    {
     "data": {
      "text/html": [
       "<div>\n",
       "<style scoped>\n",
       "    .dataframe tbody tr th:only-of-type {\n",
       "        vertical-align: middle;\n",
       "    }\n",
       "\n",
       "    .dataframe tbody tr th {\n",
       "        vertical-align: top;\n",
       "    }\n",
       "\n",
       "    .dataframe thead th {\n",
       "        text-align: right;\n",
       "    }\n",
       "</style>\n",
       "<table border=\"1\" class=\"dataframe\">\n",
       "  <thead>\n",
       "    <tr style=\"text-align: right;\">\n",
       "      <th></th>\n",
       "      <th>credit_request_id</th>\n",
       "      <th>credit_amount</th>\n",
       "      <th>credit_duration</th>\n",
       "      <th>purpose</th>\n",
       "      <th>installment_commitment</th>\n",
       "      <th>other_parties</th>\n",
       "      <th>credit_score</th>\n",
       "      <th>checking_balance</th>\n",
       "      <th>savings_balance</th>\n",
       "      <th>existing_credits</th>\n",
       "      <th>assets</th>\n",
       "      <th>housing</th>\n",
       "      <th>qualification</th>\n",
       "      <th>job_history</th>\n",
       "      <th>age</th>\n",
       "      <th>sex</th>\n",
       "      <th>marital_status</th>\n",
       "      <th>num_dependents</th>\n",
       "      <th>residence_since</th>\n",
       "      <th>other_payment_plans</th>\n",
       "    </tr>\n",
       "  </thead>\n",
       "  <tbody>\n",
       "    <tr>\n",
       "      <th>0</th>\n",
       "      <td>182</td>\n",
       "      <td>44550</td>\n",
       "      <td>36</td>\n",
       "      <td>Business</td>\n",
       "      <td>2</td>\n",
       "      <td>None</td>\n",
       "      <td>656</td>\n",
       "      <td>259.00</td>\n",
       "      <td>628.0</td>\n",
       "      <td>2</td>\n",
       "      <td>Home</td>\n",
       "      <td>own</td>\n",
       "      <td>highly skilled</td>\n",
       "      <td>1</td>\n",
       "      <td>30</td>\n",
       "      <td>M</td>\n",
       "      <td>Divorced</td>\n",
       "      <td>1</td>\n",
       "      <td>2</td>\n",
       "      <td>stores</td>\n",
       "    </tr>\n",
       "    <tr>\n",
       "      <th>1</th>\n",
       "      <td>188</td>\n",
       "      <td>11750</td>\n",
       "      <td>16</td>\n",
       "      <td>Vehicle</td>\n",
       "      <td>2</td>\n",
       "      <td>None</td>\n",
       "      <td>549</td>\n",
       "      <td>1892.00</td>\n",
       "      <td>723.0</td>\n",
       "      <td>3</td>\n",
       "      <td>Vehicle</td>\n",
       "      <td>free</td>\n",
       "      <td>unemployed</td>\n",
       "      <td>0</td>\n",
       "      <td>68</td>\n",
       "      <td>M</td>\n",
       "      <td>Single</td>\n",
       "      <td>1</td>\n",
       "      <td>3</td>\n",
       "      <td>none</td>\n",
       "    </tr>\n",
       "    <tr>\n",
       "      <th>2</th>\n",
       "      <td>122</td>\n",
       "      <td>38680</td>\n",
       "      <td>24</td>\n",
       "      <td>Vehicle</td>\n",
       "      <td>4</td>\n",
       "      <td>None</td>\n",
       "      <td>356</td>\n",
       "      <td>0.00</td>\n",
       "      <td>586.0</td>\n",
       "      <td>2</td>\n",
       "      <td>Vehicle</td>\n",
       "      <td>rent</td>\n",
       "      <td>highly skilled</td>\n",
       "      <td>7</td>\n",
       "      <td>41</td>\n",
       "      <td>F</td>\n",
       "      <td>Married</td>\n",
       "      <td>1</td>\n",
       "      <td>2</td>\n",
       "      <td>none</td>\n",
       "    </tr>\n",
       "    <tr>\n",
       "      <th>3</th>\n",
       "      <td>245</td>\n",
       "      <td>34470</td>\n",
       "      <td>12</td>\n",
       "      <td>Tuition</td>\n",
       "      <td>4</td>\n",
       "      <td>None</td>\n",
       "      <td>749</td>\n",
       "      <td>0.00</td>\n",
       "      <td>8102.0</td>\n",
       "      <td>1</td>\n",
       "      <td>Home</td>\n",
       "      <td>own</td>\n",
       "      <td>unskilled</td>\n",
       "      <td>1</td>\n",
       "      <td>35</td>\n",
       "      <td>F</td>\n",
       "      <td>Married</td>\n",
       "      <td>2</td>\n",
       "      <td>3</td>\n",
       "      <td>none</td>\n",
       "    </tr>\n",
       "    <tr>\n",
       "      <th>4</th>\n",
       "      <td>447</td>\n",
       "      <td>18420</td>\n",
       "      <td>36</td>\n",
       "      <td>Vehicle</td>\n",
       "      <td>4</td>\n",
       "      <td>None</td>\n",
       "      <td>672</td>\n",
       "      <td>-463.77</td>\n",
       "      <td>428.0</td>\n",
       "      <td>1</td>\n",
       "      <td>Vehicle</td>\n",
       "      <td>own</td>\n",
       "      <td>skilled</td>\n",
       "      <td>1</td>\n",
       "      <td>34</td>\n",
       "      <td>F</td>\n",
       "      <td>Married</td>\n",
       "      <td>1</td>\n",
       "      <td>4</td>\n",
       "      <td>none</td>\n",
       "    </tr>\n",
       "  </tbody>\n",
       "</table>\n",
       "</div>"
      ],
      "text/plain": [
       "   credit_request_id  credit_amount  credit_duration   purpose  \\\n",
       "0                182          44550               36  Business   \n",
       "1                188          11750               16   Vehicle   \n",
       "2                122          38680               24   Vehicle   \n",
       "3                245          34470               12   Tuition   \n",
       "4                447          18420               36   Vehicle   \n",
       "\n",
       "   installment_commitment other_parties  credit_score  checking_balance  \\\n",
       "0                       2          None           656            259.00   \n",
       "1                       2          None           549           1892.00   \n",
       "2                       4          None           356              0.00   \n",
       "3                       4          None           749              0.00   \n",
       "4                       4          None           672           -463.77   \n",
       "\n",
       "   savings_balance  existing_credits   assets housing   qualification  \\\n",
       "0            628.0                 2     Home     own  highly skilled   \n",
       "1            723.0                 3  Vehicle    free      unemployed   \n",
       "2            586.0                 2  Vehicle    rent  highly skilled   \n",
       "3           8102.0                 1     Home     own       unskilled   \n",
       "4            428.0                 1  Vehicle     own         skilled   \n",
       "\n",
       "   job_history  age sex marital_status  num_dependents  residence_since  \\\n",
       "0            1   30   M       Divorced               1                2   \n",
       "1            0   68   M         Single               1                3   \n",
       "2            7   41   F        Married               1                2   \n",
       "3            1   35   F        Married               2                3   \n",
       "4            1   34   F        Married               1                4   \n",
       "\n",
       "  other_payment_plans  \n",
       "0              stores  \n",
       "1                none  \n",
       "2                none  \n",
       "3                none  \n",
       "4                none  "
      ]
     },
     "execution_count": 16,
     "metadata": {},
     "output_type": "execute_result"
    }
   ],
   "source": [
    "credit_req_df.toPandas().head()"
   ]
  },
  {
   "cell_type": "code",
   "execution_count": 17,
   "id": "855cbc08",
   "metadata": {},
   "outputs": [
    {
     "name": "stdout",
     "output_type": "stream",
     "text": [
      "<class 'pandas.core.frame.DataFrame'>\n",
      "RangeIndex: 60 entries, 0 to 59\n",
      "Data columns (total 20 columns):\n",
      " #   Column                  Non-Null Count  Dtype  \n",
      "---  ------                  --------------  -----  \n",
      " 0   credit_request_id       60 non-null     int64  \n",
      " 1   credit_amount           60 non-null     int64  \n",
      " 2   credit_duration         60 non-null     int64  \n",
      " 3   purpose                 60 non-null     object \n",
      " 4   installment_commitment  60 non-null     int64  \n",
      " 5   other_parties           8 non-null      object \n",
      " 6   credit_score            60 non-null     int64  \n",
      " 7   checking_balance        60 non-null     float64\n",
      " 8   savings_balance         60 non-null     float64\n",
      " 9   existing_credits        60 non-null     int64  \n",
      " 10  assets                  49 non-null     object \n",
      " 11  housing                 60 non-null     object \n",
      " 12  qualification           60 non-null     object \n",
      " 13  job_history             60 non-null     int64  \n",
      " 14  age                     60 non-null     int64  \n",
      " 15  sex                     60 non-null     object \n",
      " 16  marital_status          60 non-null     object \n",
      " 17  num_dependents          60 non-null     int64  \n",
      " 18  residence_since         60 non-null     int64  \n",
      " 19  other_payment_plans     60 non-null     object \n",
      "dtypes: float64(2), int64(10), object(8)\n",
      "memory usage: 9.5+ KB\n"
     ]
    }
   ],
   "source": [
    "credit_req_df.toPandas().info()"
   ]
  },
  {
   "cell_type": "code",
   "execution_count": null,
   "id": "9cd1b008-0c40-47b4-a113-b01b68847d8d",
   "metadata": {},
   "outputs": [],
   "source": []
  }
 ],
 "metadata": {
  "kernelspec": {
   "display_name": "Python 3 (ipykernel)",
   "language": "python",
   "name": "python3"
  },
  "language_info": {
   "codemirror_mode": {
    "name": "ipython",
    "version": 3
   },
   "file_extension": ".py",
   "mimetype": "text/x-python",
   "name": "python",
   "nbconvert_exporter": "python",
   "pygments_lexer": "ipython3",
   "version": "3.11.9"
  }
 },
 "nbformat": 4,
 "nbformat_minor": 5
}
